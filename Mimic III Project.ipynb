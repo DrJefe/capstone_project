{
 "cells": [
  {
   "cell_type": "markdown",
   "metadata": {},
   "source": [
    "<header> Mimic III v1.4 Investigation </header> "
   ]
  },
  {
   "cell_type": "markdown",
   "metadata": {},
   "source": [
    "### Part 1: Import the data\n",
    "\n",
    "All data has been downloaded from the Mimic-III website:\n",
    "\n",
    "MIMIC-III, a freely accessible critical care database. Johnson AEW, Pollard TJ, Shen L, Lehman L, Feng M, Ghassemi M, Moody B, Szolovits P, Celi LA, and Mark RG. Scientific Data (2016). DOI: 10.1038/sdata.2016.35. Available from: http://www.nature.com/articles/sdata201635\n",
    "\n",
    "Access can be granted via PhysioNetWorks:\n",
    "\n",
    "Goldberger AL, Amaral LAN, Glass L, Hausdorff JM, Ivanov PCh, Mark RG, Mietus JE, Moody GB, Peng C-K, Stanley HE. PhysioBank, PhysioToolkit, and PhysioNet: Components of a New Research Resource for Complex Physiologic Signals. Circulation 101(23):e215-e220 [Circulation Electronic Pages; http://circ.ahajournals.org/content/101/23/e215.full]; 2000 (June 13)."
   ]
  },
  {
   "cell_type": "markdown",
   "metadata": {
    "collapsed": true
   },
   "source": [
    "First we need to import the needed modules.  Let us test psycopg2 which will allow us to access our PSQL database using Python."
   ]
  },
  {
   "cell_type": "code",
   "execution_count": 1,
   "metadata": {
    "collapsed": false
   },
   "outputs": [
    {
     "name": "stdout",
     "output_type": "stream",
     "text": [
      "(3.2788,)\n",
      "Length is  61532\n",
      "\n",
      "Rows: \n",
      "\n",
      "Number of rows with no LOS data 10\n",
      "Average Length of Stay is  4.9179715809\n",
      "{'10+ days': 6771, '2-3 days': 9644, '<1 day': 12311, '3-5 days': 8801, '1-2 days': 16901, '5-10 days': 7094}\n"
     ]
    }
   ],
   "source": [
    "#Import necessary modules\n",
    "\n",
    "import psycopg2\n",
    "import psycopg2.extras\n",
    "import pandas as pd\n",
    "import matplotlib.pyplot as plt\n",
    "import numpy as np\n",
    "import seaborn as sns\n",
    "from sklearn.metrics import roc_auc_score, accuracy_score\n",
    "\n",
    "\n",
    "#Connect to PSQL database\n",
    "try:\n",
    "    conn = psycopg2.connect(dbname=\"mimic\", user=\"postgres\", password=\"Postgres89\")\n",
    "except:\n",
    "    print \"I am unable to connect to the database\"\n",
    "\n",
    "#Create cursor to access tables from database    \n",
    "curr = conn.cursor()\n",
    "try:\n",
    "    curr.execute(\"SELECT LOS from ICUSTAYS\")\n",
    "except:\n",
    "    print \"I cannot SELECT from ADMISSIONS\"\n",
    "\n",
    "#Fetch all rows from table    \n",
    "rows = curr.fetchall()\n",
    "print rows[1]\n",
    "rowcount = curr.rowcount\n",
    "print \"Length is \", rowcount\n",
    "print \"\\nRows: \\n\"\n",
    "\n",
    "#Example creating groups of patients based on length of stay (LOS)\n",
    "none_count =0\n",
    "los_sum = 0.\n",
    "los_groups = {\"<1 day\": 0, \"1-2 days\": 0, \"2-3 days\": 0, \"3-5 days\": 0, \"5-10 days\":0, \"10+ days\": 0}\n",
    "for record in rows:\n",
    "    if record[0] is not None:\n",
    "        los_sum = los_sum + record[0]\n",
    "        if record[0] <= 1.0:\n",
    "            los_groups[\"<1 day\"] = los_groups[\"<1 day\"]+1\n",
    "        elif record[0]<=2.0:\n",
    "            los_groups[\"1-2 days\"] = los_groups[\"1-2 days\"]+1\n",
    "        elif record[0]<=3.0:\n",
    "            los_groups[\"2-3 days\"] = los_groups[\"2-3 days\"]+1\n",
    "        elif record[0]<=5.0:\n",
    "            los_groups[\"3-5 days\"] = los_groups[\"3-5 days\"]+1\n",
    "        elif record[0]<=10.0:\n",
    "            los_groups[\"5-10 days\"] = los_groups[\"5-10 days\"]+1\n",
    "        else:\n",
    "            los_groups[\"10+ days\"] = los_groups[\"10+ days\"]+1\n",
    "        \n",
    "    else:\n",
    "        none_count += 1\n",
    "        \n",
    "        \n",
    "los_average = los_sum/(rowcount-none_count)\n",
    "print \"Number of rows with no LOS data\", none_count\n",
    "print \"Average Length of Stay is \", los_average\n",
    "print los_groups\n",
    "\n",
    "#Close cursor after finished accessing table\n",
    "curr.close()"
   ]
  },
  {
   "cell_type": "code",
   "execution_count": 2,
   "metadata": {
    "collapsed": false
   },
   "outputs": [
    {
     "name": "stdout",
     "output_type": "stream",
     "text": [
      "   subject_id  hadm_id           admittime           dischtime deathtime  \\\n",
      "0          22   165315 2196-04-09 12:26:00 2196-04-10 15:54:00      None   \n",
      "1          23   152223 2153-09-03 07:15:00 2153-09-08 19:10:00      None   \n",
      "2          23   124321 2157-10-18 19:34:00 2157-10-25 14:00:00      None   \n",
      "3          24   161859 2139-06-06 16:14:00 2139-06-09 12:48:00      None   \n",
      "4          25   129635 2160-11-02 02:06:00 2160-11-05 14:55:00      None   \n",
      "\n",
      "  insurance language           religion marital_status ethnicity  \n",
      "0   Private     None       UNOBTAINABLE        MARRIED     WHITE  \n",
      "1  Medicare     None           CATHOLIC        MARRIED     WHITE  \n",
      "2  Medicare     ENGL           CATHOLIC        MARRIED     WHITE  \n",
      "3   Private     None  PROTESTANT QUAKER         SINGLE     WHITE  \n",
      "4   Private     None       UNOBTAINABLE        MARRIED     WHITE  \n",
      "58976\n"
     ]
    }
   ],
   "source": [
    "#Access relevant fields from ADMISSIONS table\n",
    "curr2 = conn.cursor()\n",
    "try:\n",
    "    curr2.execute(\"SELECT SUBJECT_ID, HADM_ID, ADMITTIME, DISCHTIME, DEATHTIME,INSURANCE, LANGUAGE,\"\n",
    "                  \"RELIGION, MARITAL_STATUS, ETHNICITY from ADMISSIONS\")\n",
    "except:\n",
    "    print \"I cannot SELECT from ADMISSIONS\"\n",
    "\n",
    "#Get column names for Pandas DataFrame\n",
    "admcolnames = [desc[0] for desc in curr2.description]    \n",
    "#Create Pandas DataFrame\n",
    "dfadm = pd.DataFrame(curr2.fetchall(), columns=admcolnames)\n",
    "print dfadm.head() #Get data sample\n",
    "print len(dfadm.index)\n",
    "curr2.close()"
   ]
  },
  {
   "cell_type": "code",
   "execution_count": 3,
   "metadata": {
    "collapsed": false
   },
   "outputs": [
    {
     "name": "stdout",
     "output_type": "stream",
     "text": [
      "   subject_id gender        dob        dod  expire_flag\n",
      "0         249      F 2075-03-13        NaT            0\n",
      "1         250      F 2164-12-27 2188-11-22            1\n",
      "2         251      M 2090-03-15        NaT            0\n",
      "3         252      M 2078-03-06        NaT            0\n",
      "4         253      F 2089-11-26        NaT            0\n",
      "46520\n"
     ]
    }
   ],
   "source": [
    "#Access relevant fields from PATIENTS table\n",
    "curr3 = conn.cursor()\n",
    "try:\n",
    "    curr3.execute(\"SELECT SUBJECT_ID, GENDER, DOB, DOD, EXPIRE_FLAG from PATIENTS\")\n",
    "except:\n",
    "    print \"I cannot SELECT from PATIENTS\"\n",
    "\n",
    "#Create PATIENTS DataFrame\n",
    "patcolnames = [desc[0] for desc in curr3.description]\n",
    "dfpat = pd.DataFrame(curr3.fetchall(), columns=patcolnames)\n",
    "print dfpat.head()\n",
    "print len(dfpat.index)\n",
    "curr3.close()\n",
    "#print dfpat['expire_flag'].value_counts(dropna = False)"
   ]
  },
  {
   "cell_type": "markdown",
   "metadata": {},
   "source": [
    "#### Merge the imported data"
   ]
  },
  {
   "cell_type": "code",
   "execution_count": 4,
   "metadata": {
    "collapsed": false
   },
   "outputs": [
    {
     "name": "stdout",
     "output_type": "stream",
     "text": [
      "   subject_id gender        dob        dod  expire_flag  hadm_id  \\\n",
      "0         249      F 2075-03-13        NaT            0   116935   \n",
      "1         249      F 2075-03-13        NaT            0   149546   \n",
      "2         249      F 2075-03-13        NaT            0   158975   \n",
      "3         250      F 2164-12-27 2188-11-22            1   124271   \n",
      "4         251      M 2090-03-15        NaT            0   117937   \n",
      "\n",
      "            admittime           dischtime            deathtime insurance  \\\n",
      "0 2149-12-17 20:41:00 2149-12-31 14:55:00                 None  Medicare   \n",
      "1 2155-02-03 20:16:00 2155-02-14 11:15:00                 None  Medicare   \n",
      "2 2156-04-27 15:33:00 2156-05-14 15:30:00                 None  Medicare   \n",
      "3 2188-11-12 09:22:00 2188-11-22 12:00:00  2188-11-22 12:00:00  Self Pay   \n",
      "4 2110-07-27 06:46:00 2110-07-29 15:23:00                 None   Private   \n",
      "\n",
      "  language       religion marital_status               ethnicity  \n",
      "0     None       CATHOLIC       DIVORCED                   WHITE  \n",
      "1     ENGL       CATHOLIC       DIVORCED                   WHITE  \n",
      "2     ENGL       CATHOLIC       DIVORCED                   WHITE  \n",
      "3     HAIT  NOT SPECIFIED         SINGLE  BLACK/AFRICAN AMERICAN  \n",
      "4     None          OTHER           None   UNKNOWN/NOT SPECIFIED  \n",
      "58976\n"
     ]
    }
   ],
   "source": [
    "#Merge ADMISSIONS and PATIENTS table\n",
    "dfadmpat = dfpat.merge(dfadm, how='inner', on=\"subject_id\")\n",
    "print dfadmpat.head(n=5)\n",
    "print len(dfadmpat.index)\n",
    "#print dfadmpat['expire_flag'].value_counts(dropna = False)\n",
    "#dfadmpat.drop_duplicates('subject_id', keep='last', inplace=True)\n",
    "#print dfadmpat['expire_flag'].value_counts(dropna = False)"
   ]
  },
  {
   "cell_type": "code",
   "execution_count": 5,
   "metadata": {
    "collapsed": false
   },
   "outputs": [
    {
     "name": "stdout",
     "output_type": "stream",
     "text": [
      "61532\n",
      "   subject_id  hadm_id     los\n",
      "0         268   110404  3.2490\n",
      "1         269   106296  3.2788\n",
      "2         270   188028  2.8939\n",
      "3         271   173727  2.0600\n",
      "4         272   164716  1.6202\n",
      "173.0725\n",
      "5.15371058185\n",
      "Q1 is 0.102579150484\n",
      "Q3 is 1.50033150072\n",
      "Data points considered outliers for the feature 'los_scaled':\n"
     ]
    },
    {
     "data": {
      "text/plain": [
       "1033          NaN\n",
       "5918    -8.111728\n",
       "6451          NaN\n",
       "10165         NaN\n",
       "10507         NaN\n",
       "10771   -8.111728\n",
       "13080         NaN\n",
       "13346   -9.210340\n",
       "15156         NaN\n",
       "17759         NaN\n",
       "18442         NaN\n",
       "24081   -8.517193\n",
       "24781   -6.907755\n",
       "27840         NaN\n",
       "28121   -7.130899\n",
       "29117         NaN\n",
       "33110   -7.418581\n",
       "45725   -7.824046\n",
       "48101   -7.824046\n",
       "Name: los_scaled, dtype: float64"
      ]
     },
     "metadata": {},
     "output_type": "display_data"
    },
    {
     "name": "stdout",
     "output_type": "stream",
     "text": [
      "61532\n",
      "0    37341\n",
      "1    24191\n",
      "Name: expire_flag, dtype: int64\n",
      "57786\n",
      "0    35744\n",
      "1    22042\n",
      "Name: expire_flag, dtype: int64\n",
      "46476\n",
      "0    30739\n",
      "1    15737\n",
      "Name: expire_flag, dtype: int64\n"
     ]
    }
   ],
   "source": [
    "from IPython.display import display\n",
    "\n",
    "#Access relevant fields from ICUSTAYS table\n",
    "curr4 = conn.cursor()\n",
    "try:\n",
    "    curr4.execute(\"SELECT SUBJECT_ID, HADM_ID, LOS from ICUSTAYS\")\n",
    "except:\n",
    "    print \"I cannot SELECT from ICUSTAYS\"\n",
    "\n",
    "#Create ICUSTAYS DataFrame    \n",
    "icucolnames = [desc[0] for desc in curr4.description]\n",
    "dficu = pd.DataFrame(curr4.fetchall(), columns=icucolnames)\n",
    "print len(dficu.index)\n",
    "print dficu.head()\n",
    "\n",
    "dficu['los_scaled'] = np.log(dficu.los)\n",
    "\n",
    "print max(dficu['los'])\n",
    "print max(dficu['los_scaled'])\n",
    "\n",
    "#Look for scaled LOS outliers\n",
    "Q1 = np.nanpercentile(dficu['los_scaled'], 25)\n",
    "print 'Q1 is', Q1\n",
    "    \n",
    "Q3 = np.nanpercentile(dficu['los_scaled'], 75)\n",
    "print 'Q3 is', Q3\n",
    "\n",
    "step = 5.0 * (Q3-Q1)\n",
    "print \"Data points considered outliers for the feature '{}':\".format('los_scaled')\n",
    "display(dficu['los_scaled'][~((dficu['los_scaled'] >= Q1 - step) & (dficu['los_scaled'] <= Q3 + step))])\n",
    "\n",
    "#Merge \n",
    "dfmimic = dfadmpat.merge(dficu, how=\"inner\", on=['hadm_id', 'subject_id'])\n",
    "print len(dfmimic.index)\n",
    "print dfmimic['expire_flag'].value_counts(dropna = False)\n",
    "#Drop duplicate data, it can be assumed if there are multiple admissions\n",
    "#of the same patient, they will have survived the earlier admissions.\n",
    "dfmimic.drop_duplicates('hadm_id', inplace=True) #Drop duplicate hospital admission data\n",
    "print len(dfmimic.index)\n",
    "print dfmimic['expire_flag'].value_counts(dropna = False)\n",
    "dfmimic.drop_duplicates('subject_id', keep='last', inplace=True) #Drop duplicate subject data\n",
    "print len(dfmimic.index)\n",
    "print dfmimic['expire_flag'].value_counts(dropna = False)\n",
    "\n",
    "#Name the final DataFrame\n",
    "dfmimic.name = 'dfmimic'\n",
    "\n",
    "curr4.close()"
   ]
  },
  {
   "cell_type": "markdown",
   "metadata": {},
   "source": [
    "Let's get counts by gender ('M' or 'F') and whether they lived or died."
   ]
  },
  {
   "cell_type": "code",
   "execution_count": 6,
   "metadata": {
    "collapsed": false,
    "scrolled": true
   },
   "outputs": [
    {
     "name": "stdout",
     "output_type": "stream",
     "text": [
      "46476\n",
      "    subject_id gender        dob        dod  expire_flag  hadm_id  \\\n",
      "3          249      F 2075-03-13        NaT            0   158975   \n",
      "5          250      F 2164-12-27 2188-11-22            1   124271   \n",
      "6          251      M 2090-03-15        NaT            0   117937   \n",
      "8          252      M 2078-03-06        NaT            0   193470   \n",
      "9          253      F 2089-11-26        NaT            0   176189   \n",
      "10         255      M 2109-08-05        NaT            0   112013   \n",
      "14         256      M 2086-07-31        NaT            0   108811   \n",
      "16         257      F 2031-04-03 2121-07-08            1   179006   \n",
      "17         258      F 2124-09-19        NaT            0   189406   \n",
      "20         261      M 2025-08-04 2102-06-29            1   118523   \n",
      "\n",
      "             admittime           dischtime            deathtime insurance  \\\n",
      "3  2156-04-27 15:33:00 2156-05-14 15:30:00                 None  Medicare   \n",
      "5  2188-11-12 09:22:00 2188-11-22 12:00:00  2188-11-22 12:00:00  Self Pay   \n",
      "6  2110-07-27 06:46:00 2110-07-29 15:23:00                 None   Private   \n",
      "8  2133-08-15 04:23:00 2133-08-19 17:30:00                 None   Private   \n",
      "9  2174-01-21 20:58:00 2174-01-26 16:15:00                 None  Medicare   \n",
      "10 2187-02-12 10:30:00 2187-02-15 10:30:00                 None  Medicare   \n",
      "14 2170-08-16 13:55:00 2170-08-22 18:00:00                 None  Medicare   \n",
      "16 2112-12-20 20:45:00 2112-12-23 17:00:00                 None  Medicare   \n",
      "17 2124-09-19 03:59:00 2124-09-22 15:52:00                 None   Private   \n",
      "20 2101-12-27 01:50:00 2102-01-12 13:39:00                 None  Medicare   \n",
      "\n",
      "   language       religion marital_status               ethnicity      los  \\\n",
      "3      ENGL       CATHOLIC       DIVORCED                   WHITE   2.0233   \n",
      "5      HAIT  NOT SPECIFIED         SINGLE  BLACK/AFRICAN AMERICAN  10.6659   \n",
      "6      None          OTHER           None   UNKNOWN/NOT SPECIFIED   1.6671   \n",
      "8      None   UNOBTAINABLE         SINGLE                   WHITE   2.5708   \n",
      "9      None       CATHOLIC        WIDOWED                   WHITE   1.6861   \n",
      "10     ENGL  NOT SPECIFIED        MARRIED                   WHITE   1.8769   \n",
      "14     ENGL  NOT SPECIFIED        MARRIED                   WHITE   0.0044   \n",
      "16     None       CATHOLIC        WIDOWED                   WHITE   0.8646   \n",
      "17     None  NOT SPECIFIED           None                   ASIAN   1.5231   \n",
      "20     None          OTHER        MARRIED                   WHITE   3.7868   \n",
      "\n",
      "    los_scaled  \n",
      "3     0.704730  \n",
      "5     2.367052  \n",
      "6     0.511086  \n",
      "8     0.944217  \n",
      "9     0.522418  \n",
      "10    0.629621  \n",
      "14   -5.426151  \n",
      "16   -0.145488  \n",
      "17    0.420748  \n",
      "20    1.331521  \n",
      "gender\n",
      "F    7224\n",
      "M    8513\n",
      "Name: expire_flag, dtype: int64\n",
      "gender  expire_flag\n",
      "F       0              13156\n",
      "        1               7224\n",
      "M       0              17583\n",
      "        1               8513\n",
      "Name: expire_flag, dtype: int64\n",
      "15737\n",
      "0    30739\n",
      "1    15737\n",
      "Name: expire_flag, dtype: int64\n"
     ]
    }
   ],
   "source": [
    "print len(dfmimic.index)\n",
    "\n",
    "#Group by gender\n",
    "mimic_by_gender = dfmimic.groupby('gender') #DataFrame grouped by gender\n",
    "print mimic_by_gender.head()\n",
    "print mimic_by_gender['expire_flag'].sum() #Sum of deaths\n",
    "print mimic_by_gender['expire_flag'].value_counts() #Counts of deaths vs no deaths by gender\n",
    "print dfmimic['expire_flag'].sum()\n",
    "print dfmimic['expire_flag'].value_counts(dropna = False)"
   ]
  },
  {
   "cell_type": "markdown",
   "metadata": {},
   "source": [
    "We can see that our table contains data for 30739 patients that survived their stay in the ICU and 15737 patients who died in the ICU.\n",
    "Let's create a benchmark model for the data that will guess all patients survived.  We will use scikit-learn's AUC function to compute the area under the curve.  "
   ]
  },
  {
   "cell_type": "code",
   "execution_count": 7,
   "metadata": {
    "collapsed": false
   },
   "outputs": [
    {
     "name": "stdout",
     "output_type": "stream",
     "text": [
      "0.5\n",
      "1.0\n"
     ]
    }
   ],
   "source": [
    "#Create NumPy array predicted all '1's for patient survival\n",
    "mimic_length = len(dfmimic.index)\n",
    "y_scores = np.ones(mimic_length, dtype=np.int)\n",
    "y_true = dfmimic['expire_flag']\n",
    "print roc_auc_score(y_true, y_scores)\n",
    "print roc_auc_score(y_true, y_true)"
   ]
  },
  {
   "cell_type": "markdown",
   "metadata": {},
   "source": [
    "Now we can find the patient's age on admission by subtracting the patient's date of birth ('dob') from the hospital's admission date ('admittime').  Patient's will be grouped by aging similarly to how the CDC grouped patient's in the National Hospital Discharge Survey 2000-2010: https://www.cdc.gov/nchs/data/databriefs/db118.htm#x2013;2010%3C/a%3E%20"
   ]
  },
  {
   "cell_type": "code",
   "execution_count": 8,
   "metadata": {
    "collapsed": false
   },
   "outputs": [
    {
     "name": "stdout",
     "output_type": "stream",
     "text": [
      "Under 45 years       13620\n",
      "45-64 years          12833\n",
      "75-84 years           8080\n",
      "65-74 years           7678\n",
      "85 years and over     4265\n",
      "Name: age, dtype: int64\n",
      "   subject_id gender        dob        dod  expire_flag  hadm_id  \\\n",
      "3         249      F 2075-03-13        NaT            0   158975   \n",
      "5         250      F 2164-12-27 2188-11-22            1   124271   \n",
      "6         251      M 2090-03-15        NaT            0   117937   \n",
      "8         252      M 2078-03-06        NaT            0   193470   \n",
      "9         253      F 2089-11-26        NaT            0   176189   \n",
      "\n",
      "            admittime           dischtime            deathtime insurance  \\\n",
      "3 2156-04-27 15:33:00 2156-05-14 15:30:00                 None  Medicare   \n",
      "5 2188-11-12 09:22:00 2188-11-22 12:00:00  2188-11-22 12:00:00  Self Pay   \n",
      "6 2110-07-27 06:46:00 2110-07-29 15:23:00                 None   Private   \n",
      "8 2133-08-15 04:23:00 2133-08-19 17:30:00                 None   Private   \n",
      "9 2174-01-21 20:58:00 2174-01-26 16:15:00                 None  Medicare   \n",
      "\n",
      "  language       religion marital_status               ethnicity      los  \\\n",
      "3     ENGL       CATHOLIC       DIVORCED                   WHITE   2.0233   \n",
      "5     HAIT  NOT SPECIFIED         SINGLE  BLACK/AFRICAN AMERICAN  10.6659   \n",
      "6     None          OTHER           None   UNKNOWN/NOT SPECIFIED   1.6671   \n",
      "8     None   UNOBTAINABLE         SINGLE                   WHITE   2.5708   \n",
      "9     None       CATHOLIC        WIDOWED                   WHITE   1.6861   \n",
      "\n",
      "   los_scaled             age  \n",
      "3    0.704730     75-84 years  \n",
      "5    2.367052  Under 45 years  \n",
      "6    0.511086  Under 45 years  \n",
      "8    0.944217     45-64 years  \n",
      "9    0.522418     75-84 years  \n"
     ]
    }
   ],
   "source": [
    "from datetime import timedelta\n",
    "\n",
    "def groupage(admittime, dob):\n",
    "    '''\n",
    "    inputs:\n",
    "        -admittime: A datetime value of when the patient was admitted to the ICU\n",
    "        -dob: A datetime value of the patient's Date of Birth\n",
    "    output:\n",
    "        The group a patient belongs to based on the difference between admittime and dob\n",
    "    '''\n",
    "    age_in_years = (admittime-dob)\n",
    "    #Group ages based on CDC grouping\n",
    "    if age_in_years >= timedelta(85*365.242):\n",
    "        return '85 years and over'\n",
    "    elif age_in_years >= timedelta(75*365.242):\n",
    "        return '75-84 years'\n",
    "    elif age_in_years >= timedelta(65*365.242):\n",
    "        return '65-74 years'\n",
    "    elif age_in_years >= timedelta(45*365.242):\n",
    "        return '45-64 years'\n",
    "    else:\n",
    "        return 'Under 45 years'\n",
    "    \n",
    "\n",
    "dfmimic['age'] = dfmimic.apply(lambda row: groupage(row['admittime'], row['dob']), axis=1)\n",
    "print dfmimic['age'].value_counts()\n",
    "print dfmimic.head()    \n",
    "    \n",
    "    "
   ]
  },
  {
   "cell_type": "markdown",
   "metadata": {},
   "source": [
    "Just as patient's were grouped into different age groups, patients will now be grouped by length of ICU stay based the CDC's National Hospital Discharge Survey 2000-2010: https://www.cdc.gov/nchs/data/databriefs/db118.htm#x2013;2010%3C/a%3E%20"
   ]
  },
  {
   "cell_type": "code",
   "execution_count": 9,
   "metadata": {
    "collapsed": false
   },
   "outputs": [
    {
     "name": "stdout",
     "output_type": "stream",
     "text": [
      "1 day              23078\n",
      "2-3 days           10733\n",
      "10 or more days     5171\n",
      "4-5 days            4039\n",
      "6-7 days            2127\n",
      "8-9 days            1328\n",
      "Name: los, dtype: int64\n"
     ]
    }
   ],
   "source": [
    "def grouplos(los):\n",
    "    '''\n",
    "    inputs:\n",
    "        -los: patient length of stay in ICU\n",
    "    outputs: \n",
    "        Group based on patient length of stay\n",
    "    '''\n",
    "    if los >= 10:\n",
    "        return '10 or more days'\n",
    "    elif los >= 8:\n",
    "        return '8-9 days'\n",
    "    elif los >= 6:\n",
    "        return '6-7 days'\n",
    "    elif los >= 4:\n",
    "        return '4-5 days'\n",
    "    elif los >= 2:\n",
    "        return '2-3 days'\n",
    "    else:\n",
    "        return '1 day'\n",
    "\n",
    "dfmimic['los'] = dfmimic.apply(lambda row: grouplos(row['los']), axis=1)\n",
    "print dfmimic['los'].value_counts()\n",
    "    "
   ]
  },
  {
   "cell_type": "markdown",
   "metadata": {},
   "source": [
    "Now let us create a dataframe with the feature we will want to train our model on"
   ]
  },
  {
   "cell_type": "code",
   "execution_count": 10,
   "metadata": {
    "collapsed": false
   },
   "outputs": [
    {
     "name": "stdout",
     "output_type": "stream",
     "text": [
      "  gender               ethnicity marital_status insurance language  \\\n",
      "3      F                   WHITE       DIVORCED  Medicare     ENGL   \n",
      "5      F  BLACK/AFRICAN AMERICAN         SINGLE  Self Pay     HAIT   \n",
      "6      M   UNKNOWN/NOT SPECIFIED           None   Private     None   \n",
      "8      M                   WHITE         SINGLE   Private     None   \n",
      "9      F                   WHITE        WIDOWED  Medicare     None   \n",
      "\n",
      "        religion  expire_flag              los             age  \n",
      "3       CATHOLIC            0         2-3 days     75-84 years  \n",
      "5  NOT SPECIFIED            1  10 or more days  Under 45 years  \n",
      "6          OTHER            0            1 day  Under 45 years  \n",
      "8   UNOBTAINABLE            0         2-3 days     45-64 years  \n",
      "9       CATHOLIC            0            1 day     75-84 years  \n"
     ]
    }
   ],
   "source": [
    "dffeatures = dfmimic[['gender', 'ethnicity', 'marital_status', 'insurance', 'language', 'religion', 'expire_flag', 'los', 'age']]\n",
    "expire = dfmimic['expire_flag']\n",
    "print dffeatures.head()"
   ]
  },
  {
   "cell_type": "markdown",
   "metadata": {},
   "source": [
    "#### Visualizing the data"
   ]
  },
  {
   "cell_type": "markdown",
   "metadata": {},
   "source": [
    "Visualize the expiration counts based on the features"
   ]
  },
  {
   "cell_type": "code",
   "execution_count": null,
   "metadata": {
    "collapsed": true
   },
   "outputs": [],
   "source": [
    "#!/usr/bin/env python\n",
    "import numpy as np\n",
    "import matplotlib.mlab as mlab\n",
    "import matplotlib.pyplot as plt\n",
    "\n",
    "dfmimic\n",
    "\n",
    "mu, sigma = 100, 15\n",
    "x = mu + sigma*np.random.randn(10000)\n",
    "\n",
    "# the histogram of the data\n",
    "n, bins, patches = plt.hist(x, 50, normed=1, facecolor='green', alpha=0.75)\n",
    "\n",
    "plt.xlabel('Smarts')\n",
    "plt.ylabel('Probability')\n",
    "plt.title(r'$\\mathrm{Histogram\\ of\\ IQ:}\\ \\mu=100,\\ \\sigma=15$')\n",
    "plt.axis([40, 160, 0, 0.03])\n",
    "plt.grid(True)\n",
    "\n",
    "plt.show()"
   ]
  },
  {
   "cell_type": "markdown",
   "metadata": {
    "collapsed": false
   },
   "source": [
    "### Part 2: Building the Benchmark Model\n",
    "First we will start by building a benchmark model using only patient age and length of stay.  We will use only these two features as higher patient age and length of stay are consistently shown to have higher mortality rates."
   ]
  },
  {
   "cell_type": "code",
   "execution_count": 11,
   "metadata": {
    "collapsed": false
   },
   "outputs": [
    {
     "name": "stdout",
     "output_type": "stream",
     "text": [
      "['age_45-64 years', 'age_65-74 years', 'age_75-84 years', 'age_85 years and over', 'age_Under 45 years', 'los_1 day', 'los_10 or more days', 'los_2-3 days', 'los_4-5 days', 'los_6-7 days', 'los_8-9 days']\n"
     ]
    }
   ],
   "source": [
    "#Select raw features\n",
    "benchmark_features_raw = dfmimic[['age', 'los']]\n",
    "#Select target (patient death)\n",
    "expiry = dfmimic['expire_flag']\n",
    "\n",
    "#Use one hot encoding to convert age and LOS groups to dummy variables\n",
    "benchmark_features = pd.get_dummies(benchmark_features_raw)\n",
    "print list(benchmark_features.columns)\n"
   ]
  },
  {
   "cell_type": "markdown",
   "metadata": {},
   "source": [
    "Use sklearn to split the data into test and train data."
   ]
  },
  {
   "cell_type": "code",
   "execution_count": 12,
   "metadata": {
    "collapsed": false
   },
   "outputs": [
    {
     "name": "stdout",
     "output_type": "stream",
     "text": [
      "Training set has 34857 samples.\n",
      "Testing set has 11619 samples.\n"
     ]
    }
   ],
   "source": [
    "from sklearn.model_selection import train_test_split\n",
    "\n",
    "bench_train, bench_test, exp_train, exp_test = train_test_split(benchmark_features, expiry, random_state=42)\n",
    "\n",
    "#Check for correct splitting\n",
    "print \"Training set has {} samples.\".format(bench_train.shape[0])\n",
    "print \"Testing set has {} samples.\".format(bench_test.shape[0])"
   ]
  },
  {
   "cell_type": "markdown",
   "metadata": {},
   "source": [
    "Create a training and predicting function to test different machine learning algorithms"
   ]
  },
  {
   "cell_type": "code",
   "execution_count": 13,
   "metadata": {
    "collapsed": true
   },
   "outputs": [],
   "source": [
    "def train_results(learner, X_train, y_train, X_test, y_test):\n",
    "    '''\n",
    "    inputs:\n",
    "        -learner: type of learning algorithm to be compared\n",
    "        -X_train: features training set\n",
    "        -y_train: expiry training set\n",
    "        -X_test: features test set\n",
    "        -y_test: expiry training set\n",
    "    '''\n",
    "    \n",
    "    results = {}\n",
    "    \n",
    "    #Fit the learner to the training data\n",
    "    learner = learner.fit(X_train, y_train)\n",
    "        \n",
    "    #Get the predictions on the test set,\n",
    "    predictions_test = learner.predict(X_test)\n",
    "        \n",
    "    #Compute accuracy on test set\n",
    "    results['acc_test'] = accuracy_score(y_test, predictions_test)\n",
    "        \n",
    "    #Compute AUC score on the test set\n",
    "    results['auc_test'] = roc_auc_score(y_test, predictions_test)\n",
    "        \n",
    "    # Return the results\n",
    "    return results"
   ]
  },
  {
   "cell_type": "markdown",
   "metadata": {},
   "source": [
    "Use GridSearchCV to optimize classifier models."
   ]
  },
  {
   "cell_type": "code",
   "execution_count": 14,
   "metadata": {
    "collapsed": false
   },
   "outputs": [
    {
     "name": "stdout",
     "output_type": "stream",
     "text": [
      "{'presort': False, 'splitter': 'best', 'max_leaf_nodes': None, 'min_samples_leaf': 1, 'min_samples_split': 2, 'min_weight_fraction_leaf': 0.0, 'criterion': 'gini', 'random_state': 42, 'min_impurity_split': 1e-07, 'max_features': None, 'max_depth': 2, 'class_weight': None}\n",
      "Unoptimized model\n",
      "------\n",
      "Accuracy score on testing data: 0.7313\n",
      "AUC score on testing data: 0.6862\n",
      "\n",
      "Optimized Model\n",
      "------\n",
      "Final accuracy score on the testing data: 0.6990\n",
      "Final AUC score on the testing data: 0.6975\n"
     ]
    }
   ],
   "source": [
    "#Import classifiers to be optimized\n",
    "from sklearn.naive_bayes import GaussianNB\n",
    "from sklearn import tree\n",
    "from sklearn.svm import SVC\n",
    "from sklearn.ensemble import RandomForestClassifier, AdaBoostClassifier\n",
    "from sklearn.model_selection import train_test_split\n",
    "import random\n",
    "\n",
    "#Import 'GridSearchCV', 'make_scorer', and any other necessary libraries\n",
    "from sklearn.model_selection import GridSearchCV\n",
    "from sklearn.metrics import make_scorer\n",
    "\n",
    "#Initialize the classifier\n",
    "def optimize_classifier(clf, parameters, features, expiry):\n",
    "\n",
    "    #Split data\n",
    "    X_train, X_test, y_train, y_test = train_test_split(features, expiry, random_state=random.randint(0,100))\n",
    "\n",
    "    #Make an auc_score scoring object\n",
    "    scorer = make_scorer(roc_auc_score)\n",
    "\n",
    "    #Perform grid search on the classifier using 'scorer' as the scoring method\n",
    "    grid_obj = GridSearchCV(clf, parameters, scoring=scorer)\n",
    "\n",
    "    #Fit the grid search object to the training data and find the optimal parameters\n",
    "    grid_fit = grid_obj.fit(X_train, y_train)\n",
    "\n",
    "    #Get the estimator\n",
    "    best_clf = grid_fit.best_estimator_\n",
    "    print best_clf.get_params()\n",
    "\n",
    "    # Make predictions using the unoptimized and model\n",
    "    predictions = (clf.fit(X_train, y_train)).predict(X_test)\n",
    "    best_predictions = best_clf.predict(X_test)\n",
    "\n",
    "    # Report the before-and-afterscores\n",
    "    print \"Unoptimized model\\n------\"\n",
    "    print \"Accuracy score on testing data: {:.4f}\".format(accuracy_score(y_test, predictions))\n",
    "    print \"AUC score on testing data: {:.4f}\".format(roc_auc_score(y_test, predictions))\n",
    "    print \"\\nOptimized Model\\n------\"\n",
    "    print \"Final accuracy score on the testing data: {:.4f}\".format(accuracy_score(y_test, best_predictions))\n",
    "    print \"Final AUC score on the testing data: {:.4f}\".format(roc_auc_score(y_test, best_predictions))\n",
    "\n",
    "#Optimize DecisionTreeClassifier\n",
    "clf_DTC = tree.DecisionTreeClassifier(random_state = 42)\n",
    "parameters = {'min_samples_split' : [2,5,8,10], 'max_depth' : [None, 2, 4, 6, 10],\n",
    "              'min_samples_leaf' : [1,2,3,4]}\n",
    "\n",
    "optimize_classifier(clf_DTC, parameters, benchmark_features, expiry)"
   ]
  },
  {
   "cell_type": "code",
   "execution_count": 15,
   "metadata": {
    "collapsed": false
   },
   "outputs": [
    {
     "name": "stdout",
     "output_type": "stream",
     "text": [
      "{'n_estimators': 50, 'base_estimator': None, 'random_state': 42, 'learning_rate': 1.0, 'algorithm': 'SAMME.R'}\n",
      "Unoptimized model\n",
      "------\n",
      "Accuracy score on testing data: 0.7329\n",
      "AUC score on testing data: 0.6933\n",
      "\n",
      "Optimized Model\n",
      "------\n",
      "Final accuracy score on the testing data: 0.7329\n",
      "Final AUC score on the testing data: 0.6933\n"
     ]
    }
   ],
   "source": [
    "#Optimize AdaBoostClassifier\n",
    "clf_ABC = AdaBoostClassifier(random_state = 42)\n",
    "parameters = {'learning_rate' : [1., 0.9, 0.8, 0.7, 0.6, 0.5], 'n_estimators' : [50, 75, 100]}\n",
    "\n",
    "optimize_classifier(clf_ABC, parameters, benchmark_features, expiry)"
   ]
  },
  {
   "cell_type": "code",
   "execution_count": 16,
   "metadata": {
    "collapsed": false
   },
   "outputs": [
    {
     "name": "stdout",
     "output_type": "stream",
     "text": [
      "{'warm_start': False, 'oob_score': False, 'n_jobs': 1, 'verbose': 0, 'max_leaf_nodes': None, 'bootstrap': True, 'min_samples_leaf': 1, 'n_estimators': 10, 'min_samples_split': 2, 'min_weight_fraction_leaf': 0.0, 'criterion': 'gini', 'random_state': 42, 'min_impurity_split': 1e-07, 'max_features': 'auto', 'max_depth': None, 'class_weight': None}\n",
      "Unoptimized model\n",
      "------\n",
      "Accuracy score on testing data: 0.7410\n",
      "AUC score on testing data: 0.6925\n",
      "\n",
      "Optimized Model\n",
      "------\n",
      "Final accuracy score on the testing data: 0.7410\n",
      "Final AUC score on the testing data: 0.6925\n"
     ]
    }
   ],
   "source": [
    "#Optimize RandomForestClassifier\n",
    "clf_RFC = RandomForestClassifier(random_state =42)\n",
    "parameters = {'max_depth' : [None, 2, 4, 6, 10],}\n",
    "\n",
    "optimize_classifier(clf_RFC, parameters, benchmark_features, expiry)"
   ]
  },
  {
   "cell_type": "markdown",
   "metadata": {},
   "source": [
    "Create models using features that are included in each ICU admission (gender, insurance).  Add these features to age and LOS."
   ]
  },
  {
   "cell_type": "code",
   "execution_count": 17,
   "metadata": {
    "collapsed": true
   },
   "outputs": [],
   "source": [
    "def classifier_for_features(df, features, trials):\n",
    "    '''\n",
    "    df - The Pandas DataFrame with the data for training and testing\n",
    "    features - A list of column features the classifier will use for training\n",
    "    trials - An integer for the number of random trials the best classifier function will run\n",
    "    '''\n",
    "    \n",
    "    #Preprocess feature data\n",
    "    input_features_raw = df[features]\n",
    "    input_features = pd.get_dummies(input_features_raw)\n",
    "    \n",
    "    #Get target variable\n",
    "    expiry = df['expire_flag']\n",
    "    \n",
    "    #Assign dictionary name to features\n",
    "    features_key = ' '.join(features)\n",
    "    if df.name not in best_classifiers:\n",
    "        best_classifiers[df.name] = {features_key: []}\n",
    "    else:\n",
    "        if features_key not in best_classifiers[df.name]:\n",
    "            best_classifiers[df.name][features_key] = []\n",
    "    \n",
    "    #Add features to list for future data collection\n",
    "    if features not in previous_features:\n",
    "        previous_features.append(features)\n",
    "        \n",
    "    \n",
    "    #Run best_classifier function\n",
    "    best_classifiers[df.name][features_key] = \\\n",
    "    best_classifiers[df.name][features_key] + best_classifier(input_features, expiry, trials, clf_name_list)\n",
    "    print best_classifiers\n",
    "    print previous_features\n",
    "    \n",
    "    "
   ]
  },
  {
   "cell_type": "markdown",
   "metadata": {},
   "source": [
    "Evaluate classifiers:"
   ]
  },
  {
   "cell_type": "code",
   "execution_count": 18,
   "metadata": {
    "collapsed": false
   },
   "outputs": [
    {
     "name": "stdout",
     "output_type": "stream",
     "text": [
      "GaussianNB has highest AUC test score of 0.693113\n",
      "DecisionTreeClassifier has highest accuracy score of 0.733497\n",
      "{'dfmimic': {'age los': ['GaussianNB', 0.69311261002135482]}}\n",
      "[['age', 'los']]\n"
     ]
    }
   ],
   "source": [
    "#Import useful modules\n",
    "\n",
    "import mimic_visuals as vs\n",
    "from time import time\n",
    "\n",
    "#Set up results dictionary for classifiers\n",
    "clf_A = GaussianNB()\n",
    "clf_B = tree.DecisionTreeClassifier(random_state=42)\n",
    "clf_C = RandomForestClassifier(random_state =42)\n",
    "clf_D = AdaBoostClassifier(random_state = 42)\n",
    "#clf_E = SVC(random_state = 42)\n",
    "\n",
    "clf_name_list = []\n",
    "for clf in [clf_A, clf_B, clf_C, clf_D]:\n",
    "    clf_name = clf.__class__.__name__\n",
    "    clf_name_list.append(clf_name)\n",
    "\n",
    "best_classifiers = {} #Dictionary to store best classifiers and AUC scores\n",
    "previous_features = []  #List to store features that have been analyzed\n",
    "    \n",
    "def best_classifier(features, expiry, trials, classifiers):\n",
    "    '''\n",
    "        -features: A dataframe containing the features for training\n",
    "        -expiry: Target variable, binary patient death or survival\n",
    "        -trials:  An integer denoting the number of random iterations\n",
    "        -classifiers:  A list of supervised learning classifiers\n",
    "    '''\n",
    "    \n",
    "    #Run through multiple times using random states\n",
    "    results = {}\n",
    "    for clf_name in classifiers:\n",
    "        results[clf_name] = {}\n",
    "    for trial in range(trials):\n",
    "        state = random.randint(0,429496729)\n",
    "        #print \"Trial {}: Random State is {}\".format(trial+1, state)\n",
    "    \n",
    "        #Create test and train samples\n",
    "        X_train, X_test, y_train, y_test = train_test_split(features, expiry,\n",
    "                                                                   random_state=random.randint(0,429496729))\n",
    "\n",
    "        #  Initialize the models\n",
    "        clf_A = GaussianNB()\n",
    "        clf_B = tree.DecisionTreeClassifier(random_state=state)\n",
    "        clf_C = RandomForestClassifier(random_state =state)\n",
    "        clf_D = AdaBoostClassifier(random_state = state)\n",
    "        #clf_E = SVC(random_state = state)       \n",
    "\n",
    "        # Collect results on the learners\n",
    "        for clf in [clf_A, clf_B, clf_C, clf_D]:\n",
    "            clf_name = clf.__class__.__name__\n",
    "            results[clf_name][trial] = \\\n",
    "            train_results(clf, X_train, y_train, X_test, y_test)\n",
    "\n",
    "    #Find average AUC scores\n",
    "    average_scores = {'accuracy': {}, 'auc': {}}\n",
    "    #print results\n",
    "    for clf in results:\n",
    "        auc_scores = 0\n",
    "        accuracy_scores = 0\n",
    "        for trial in results[clf]:\n",
    "            auc_scores+= results[clf][trial]['auc_test']\n",
    "            accuracy_scores += results[clf][trial]['acc_test']\n",
    "        average_scores['auc'][clf] = auc_scores/trials\n",
    "        average_scores['accuracy'][clf] = accuracy_scores/trials   \n",
    "\n",
    "    # Print final AUC scores\n",
    "    #for clf in results:\n",
    "    #    print \"{} has an average AUC test score of {:.6f}\".format(clf, average_scores['auc'][clf])\n",
    "    #    print \"{} has an average accuracy test score of {:.6f}\".format(clf, average_scores['accuracy'][clf])\n",
    "    #Print classifier with max AUC score\n",
    "    max_auc_clf = max(average_scores['auc'].iterkeys(), key=(lambda key: average_scores['auc'][key]))\n",
    "    print \"{} has highest AUC test score of {:.6f}\".format(max_auc_clf, average_scores['auc'][max_auc_clf])\n",
    "    max_accuracy_clf = max(average_scores['accuracy'].iterkeys(), key=(lambda key: average_scores['accuracy'][key]))\n",
    "    print \"{} has highest accuracy score of {:.6f}\".format(max_accuracy_clf, average_scores['accuracy'][max_accuracy_clf])\n",
    "    #Return highest scores to be stored in dictionary\n",
    "    return [max_auc_clf, average_scores['auc'][max_auc_clf]]\n",
    "      \n",
    "classifier_for_features(dfmimic, ['age', 'los'], 10)"
   ]
  },
  {
   "cell_type": "markdown",
   "metadata": {},
   "source": [
    "From the benchmark model testing, we find that the GaussianNB has the highest AUC score with 0.6980.  With this as the chosen classification model, we can see whether we can improve this score. "
   ]
  },
  {
   "cell_type": "markdown",
   "metadata": {},
   "source": [
    "### Part 3: Building a model including gender and type of insurance\n"
   ]
  },
  {
   "cell_type": "markdown",
   "metadata": {},
   "source": [
    "Create a function that will allow for quicker comparisons among different groups of features"
   ]
  },
  {
   "cell_type": "code",
   "execution_count": 19,
   "metadata": {
    "collapsed": false
   },
   "outputs": [
    {
     "name": "stdout",
     "output_type": "stream",
     "text": [
      "GaussianNB has highest AUC test score of 0.712478\n",
      "AdaBoostClassifier has highest accuracy score of 0.735046\n",
      "{'dfmimic': {'age los': ['GaussianNB', 0.69311261002135482], 'age los gender insurance': ['GaussianNB', 0.71247805218304128]}}\n",
      "[['age', 'los'], ['age', 'los', 'gender', 'insurance']]\n"
     ]
    }
   ],
   "source": [
    "#Select features\n",
    "features_in_all_admissions = ['age', 'los', 'gender', 'insurance']\n",
    "#Find best classifier for features included in all ICU admissions\n",
    "classifier_for_features(dfmimic, features_in_all_admissions, 10)"
   ]
  },
  {
   "cell_type": "markdown",
   "metadata": {},
   "source": [
    "We can see that adding 'gender' and 'insurance' features has improved the AUC score of the model from 0.6990 to 0.7119.  Let us further look into this to see whether adding one feature or the other changes the AUC score."
   ]
  },
  {
   "cell_type": "code",
   "execution_count": 20,
   "metadata": {
    "collapsed": false
   },
   "outputs": [
    {
     "name": "stdout",
     "output_type": "stream",
     "text": [
      "GaussianNB has highest AUC test score of 0.698533\n",
      "AdaBoostClassifier has highest accuracy score of 0.733781\n",
      "{'dfmimic': {'age los gender': ['GaussianNB', 0.69853290323476736], 'age los': ['GaussianNB', 0.69311261002135482], 'age los gender insurance': ['GaussianNB', 0.71247805218304128]}}\n",
      "[['age', 'los'], ['age', 'los', 'gender', 'insurance'], ['age', 'los', 'gender']]\n"
     ]
    }
   ],
   "source": [
    "#Select benchmark features plus gender\n",
    "benchmark_features_gender = ['age', 'los', 'gender']\n",
    "#Find best classifier for features included in all ICU admissions\n",
    "classifier_for_features(dfmimic, benchmark_features_gender, 10)"
   ]
  },
  {
   "cell_type": "markdown",
   "metadata": {},
   "source": [
    "Best AUC score for 'gender' is GaussianNB classifier with AUC score of 0.6964"
   ]
  },
  {
   "cell_type": "code",
   "execution_count": 21,
   "metadata": {
    "collapsed": false
   },
   "outputs": [
    {
     "name": "stdout",
     "output_type": "stream",
     "text": [
      "GaussianNB has highest AUC test score of 0.713758\n",
      "AdaBoostClassifier has highest accuracy score of 0.734237\n",
      "{'dfmimic': {'age los gender': ['GaussianNB', 0.69853290323476736], 'age los': ['GaussianNB', 0.69311261002135482], 'age los insurance': ['GaussianNB', 0.71375759895520674], 'age los gender insurance': ['GaussianNB', 0.71247805218304128]}}\n",
      "[['age', 'los'], ['age', 'los', 'gender', 'insurance'], ['age', 'los', 'gender'], ['age', 'los', 'insurance']]\n"
     ]
    }
   ],
   "source": [
    "#Select benchmark features plus insurance\n",
    "benchmark_features_insurance = ['age', 'los', 'insurance']\n",
    "#Find best classifier for features included in all ICU admissions\n",
    "classifier_for_features(dfmimic, benchmark_features_insurance, 10)"
   ]
  },
  {
   "cell_type": "markdown",
   "metadata": {},
   "source": [
    "Best AUC score for 'insurance' is GaussianNB with 0.7128.  This is slightly better than both 'insurance' and 'gender' features added.  "
   ]
  },
  {
   "cell_type": "markdown",
   "metadata": {},
   "source": [
    "### Part 4: Adding optional features to the model\n",
    "\n",
    "Let us now look at the data with the optional features ('ethnicity', 'marital_status', 'religion', and 'language' added.  For these optional features we will be using the cleaned groups dataframe with rows containing 'NaN', 'UNKOWN', and 'UNABLE TO OBTAIN' values removed."
   ]
  },
  {
   "cell_type": "markdown",
   "metadata": {},
   "source": [
    "First let's create a function to allow us to compare how classifiers using the baseline features with the cleaned up DataFrame compare to classifiers using the optional features"
   ]
  },
  {
   "cell_type": "code",
   "execution_count": 22,
   "metadata": {
    "collapsed": true
   },
   "outputs": [],
   "source": [
    "def baseline_features(df, previous_features, trials):\n",
    "    '''\n",
    "        -df: The cleaned up DataFrame\n",
    "        -previous_features: A list containing lists of feature names\n",
    "        -trials: Number of randomized trials to run to find average AUC score\n",
    "    '''\n",
    "    \n",
    "    for i in range(0,4): #Baseline features stored in indices 0-3\n",
    "        classifier_for_features(df, previous_features[i], trials)"
   ]
  },
  {
   "cell_type": "markdown",
   "metadata": {},
   "source": [
    "For ethnicity we will only look at the four ethnicities (white, black, hispanic, asian) contained within this study: https://www.ncbi.nlm.nih.gov/pmc/articles/PMC2569791/.  This will help reduce the amount of features in the model without removing too many data points."
   ]
  },
  {
   "cell_type": "code",
   "execution_count": 23,
   "metadata": {
    "collapsed": false
   },
   "outputs": [
    {
     "name": "stdout",
     "output_type": "stream",
     "text": [
      "GaussianNB has highest AUC test score of 0.700394\n",
      "DecisionTreeClassifier has highest accuracy score of 0.732585\n",
      "{'df_ethnicity': {'age los': ['GaussianNB', 0.70039398256631213]}, 'dfmimic': {'age los gender': ['GaussianNB', 0.69853290323476736], 'age los': ['GaussianNB', 0.69311261002135482], 'age los insurance': ['GaussianNB', 0.71375759895520674], 'age los gender insurance': ['GaussianNB', 0.71247805218304128]}}\n",
      "[['age', 'los'], ['age', 'los', 'gender', 'insurance'], ['age', 'los', 'gender'], ['age', 'los', 'insurance']]\n",
      "GaussianNB has highest AUC test score of 0.712921\n",
      "AdaBoostClassifier has highest accuracy score of 0.734956\n",
      "{'df_ethnicity': {'age los': ['GaussianNB', 0.70039398256631213], 'age los gender insurance': ['GaussianNB', 0.71292094617912949]}, 'dfmimic': {'age los gender': ['GaussianNB', 0.69853290323476736], 'age los': ['GaussianNB', 0.69311261002135482], 'age los insurance': ['GaussianNB', 0.71375759895520674], 'age los gender insurance': ['GaussianNB', 0.71247805218304128]}}\n",
      "[['age', 'los'], ['age', 'los', 'gender', 'insurance'], ['age', 'los', 'gender'], ['age', 'los', 'insurance']]\n",
      "GaussianNB has highest AUC test score of 0.698135\n",
      "AdaBoostClassifier has highest accuracy score of 0.732397\n",
      "{'df_ethnicity': {'age los gender': ['GaussianNB', 0.6981347594656413], 'age los': ['GaussianNB', 0.70039398256631213], 'age los gender insurance': ['GaussianNB', 0.71292094617912949]}, 'dfmimic': {'age los gender': ['GaussianNB', 0.69853290323476736], 'age los': ['GaussianNB', 0.69311261002135482], 'age los insurance': ['GaussianNB', 0.71375759895520674], 'age los gender insurance': ['GaussianNB', 0.71247805218304128]}}\n",
      "[['age', 'los'], ['age', 'los', 'gender', 'insurance'], ['age', 'los', 'gender'], ['age', 'los', 'insurance']]\n",
      "GaussianNB has highest AUC test score of 0.712335\n",
      "AdaBoostClassifier has highest accuracy score of 0.734078\n",
      "{'df_ethnicity': {'age los gender': ['GaussianNB', 0.6981347594656413], 'age los': ['GaussianNB', 0.70039398256631213], 'age los insurance': ['GaussianNB', 0.71233467028557929], 'age los gender insurance': ['GaussianNB', 0.71292094617912949]}, 'dfmimic': {'age los gender': ['GaussianNB', 0.69853290323476736], 'age los': ['GaussianNB', 0.69311261002135482], 'age los insurance': ['GaussianNB', 0.71375759895520674], 'age los gender insurance': ['GaussianNB', 0.71247805218304128]}}\n",
      "[['age', 'los'], ['age', 'los', 'gender', 'insurance'], ['age', 'los', 'gender'], ['age', 'los', 'insurance']]\n",
      "GaussianNB has highest AUC test score of 0.703606\n",
      "AdaBoostClassifier has highest accuracy score of 0.730987\n",
      "{'df_ethnicity': {'age los gender': ['GaussianNB', 0.6981347594656413], 'age los insurance gender ethnicity': ['GaussianNB', 0.70360573617704403], 'age los': ['GaussianNB', 0.70039398256631213], 'age los insurance': ['GaussianNB', 0.71233467028557929], 'age los gender insurance': ['GaussianNB', 0.71292094617912949]}, 'dfmimic': {'age los gender': ['GaussianNB', 0.69853290323476736], 'age los': ['GaussianNB', 0.69311261002135482], 'age los insurance': ['GaussianNB', 0.71375759895520674], 'age los gender insurance': ['GaussianNB', 0.71247805218304128]}}\n",
      "[['age', 'los'], ['age', 'los', 'gender', 'insurance'], ['age', 'los', 'gender'], ['age', 'los', 'insurance'], ['age', 'los', 'insurance', 'gender', 'ethnicity']]\n"
     ]
    }
   ],
   "source": [
    "#Ethnicity\n",
    "#Clean up ethnicity DataFrame\n",
    "df_ethnicity = dfmimic[['age', 'gender', 'los', 'insurance', 'ethnicity', 'expire_flag', 'subject_id']]\n",
    "jnma_ethnicity = ['WHITE', 'BLACK/AFRICAN AMERICAN', 'HISPANIC OR LATINO', 'ASIAN']\n",
    "df_ethnicity = df_ethnicity[df_ethnicity['ethnicity'].isin(jnma_ethnicity)]\n",
    "#Name df_ethnicity\n",
    "df_ethnicity.name = 'df_ethnicity'\n",
    "\n",
    "#Get baseline features data\n",
    "baseline_features(df_ethnicity, previous_features, 10)    \n",
    "\n",
    "#Use 'ethnicity' with 'age', 'los', 'gender', and 'insurance'\n",
    "all_features_ethnicity = ['age', 'los', 'insurance', 'gender', 'ethnicity']\n",
    "\n",
    "classifier_for_features(df_ethnicity, all_features_ethnicity, 10)"
   ]
  },
  {
   "cell_type": "markdown",
   "metadata": {},
   "source": [
    "Best AUC score for 'ethnicity' is GaussianNB with 0.7025  "
   ]
  },
  {
   "cell_type": "code",
   "execution_count": 24,
   "metadata": {
    "collapsed": false
   },
   "outputs": [
    {
     "name": "stdout",
     "output_type": "stream",
     "text": [
      "DecisionTreeClassifier has highest AUC test score of 0.658095\n",
      "DecisionTreeClassifier has highest accuracy score of 0.682830\n",
      "{'df_ethnicity': {'age los gender': ['GaussianNB', 0.6981347594656413], 'age los insurance gender ethnicity': ['GaussianNB', 0.70360573617704403], 'age los': ['GaussianNB', 0.70039398256631213], 'age los insurance': ['GaussianNB', 0.71233467028557929], 'age los gender insurance': ['GaussianNB', 0.71292094617912949]}, 'df_marital_status': {'age los': ['DecisionTreeClassifier', 0.65809535308067124]}, 'dfmimic': {'age los gender': ['GaussianNB', 0.69853290323476736], 'age los': ['GaussianNB', 0.69311261002135482], 'age los insurance': ['GaussianNB', 0.71375759895520674], 'age los gender insurance': ['GaussianNB', 0.71247805218304128]}}\n",
      "[['age', 'los'], ['age', 'los', 'gender', 'insurance'], ['age', 'los', 'gender'], ['age', 'los', 'insurance'], ['age', 'los', 'insurance', 'gender', 'ethnicity']]\n",
      "GaussianNB has highest AUC test score of 0.664228\n",
      "AdaBoostClassifier has highest accuracy score of 0.685488\n",
      "{'df_ethnicity': {'age los gender': ['GaussianNB', 0.6981347594656413], 'age los insurance gender ethnicity': ['GaussianNB', 0.70360573617704403], 'age los': ['GaussianNB', 0.70039398256631213], 'age los insurance': ['GaussianNB', 0.71233467028557929], 'age los gender insurance': ['GaussianNB', 0.71292094617912949]}, 'df_marital_status': {'age los': ['DecisionTreeClassifier', 0.65809535308067124], 'age los gender insurance': ['GaussianNB', 0.66422800929601422]}, 'dfmimic': {'age los gender': ['GaussianNB', 0.69853290323476736], 'age los': ['GaussianNB', 0.69311261002135482], 'age los insurance': ['GaussianNB', 0.71375759895520674], 'age los gender insurance': ['GaussianNB', 0.71247805218304128]}}\n",
      "[['age', 'los'], ['age', 'los', 'gender', 'insurance'], ['age', 'los', 'gender'], ['age', 'los', 'insurance'], ['age', 'los', 'insurance', 'gender', 'ethnicity']]\n",
      "GaussianNB has highest AUC test score of 0.655752\n",
      "RandomForestClassifier has highest accuracy score of 0.682830\n",
      "{'df_ethnicity': {'age los gender': ['GaussianNB', 0.6981347594656413], 'age los insurance gender ethnicity': ['GaussianNB', 0.70360573617704403], 'age los': ['GaussianNB', 0.70039398256631213], 'age los insurance': ['GaussianNB', 0.71233467028557929], 'age los gender insurance': ['GaussianNB', 0.71292094617912949]}, 'df_marital_status': {'age los gender': ['GaussianNB', 0.65575191361767082], 'age los': ['DecisionTreeClassifier', 0.65809535308067124], 'age los gender insurance': ['GaussianNB', 0.66422800929601422]}, 'dfmimic': {'age los gender': ['GaussianNB', 0.69853290323476736], 'age los': ['GaussianNB', 0.69311261002135482], 'age los insurance': ['GaussianNB', 0.71375759895520674], 'age los gender insurance': ['GaussianNB', 0.71247805218304128]}}\n",
      "[['age', 'los'], ['age', 'los', 'gender', 'insurance'], ['age', 'los', 'gender'], ['age', 'los', 'insurance'], ['age', 'los', 'insurance', 'gender', 'ethnicity']]\n",
      "RandomForestClassifier has highest AUC test score of 0.663320\n",
      "AdaBoostClassifier has highest accuracy score of 0.684544\n",
      "{'df_ethnicity': {'age los gender': ['GaussianNB', 0.6981347594656413], 'age los insurance gender ethnicity': ['GaussianNB', 0.70360573617704403], 'age los': ['GaussianNB', 0.70039398256631213], 'age los insurance': ['GaussianNB', 0.71233467028557929], 'age los gender insurance': ['GaussianNB', 0.71292094617912949]}, 'df_marital_status': {'age los gender': ['GaussianNB', 0.65575191361767082], 'age los': ['DecisionTreeClassifier', 0.65809535308067124], 'age los insurance': ['RandomForestClassifier', 0.66332018372879131], 'age los gender insurance': ['GaussianNB', 0.66422800929601422]}, 'dfmimic': {'age los gender': ['GaussianNB', 0.69853290323476736], 'age los': ['GaussianNB', 0.69311261002135482], 'age los insurance': ['GaussianNB', 0.71375759895520674], 'age los gender insurance': ['GaussianNB', 0.71247805218304128]}}\n",
      "[['age', 'los'], ['age', 'los', 'gender', 'insurance'], ['age', 'los', 'gender'], ['age', 'los', 'insurance'], ['age', 'los', 'insurance', 'gender', 'ethnicity']]\n",
      "GaussianNB has highest AUC test score of 0.662330\n",
      "AdaBoostClassifier has highest accuracy score of 0.685005\n",
      "{'df_ethnicity': {'age los gender': ['GaussianNB', 0.6981347594656413], 'age los insurance gender ethnicity': ['GaussianNB', 0.70360573617704403], 'age los': ['GaussianNB', 0.70039398256631213], 'age los insurance': ['GaussianNB', 0.71233467028557929], 'age los gender insurance': ['GaussianNB', 0.71292094617912949]}, 'df_marital_status': {'age los gender': ['GaussianNB', 0.65575191361767082], 'age los insurance gender marital_status': ['GaussianNB', 0.66233010169165329], 'age los': ['DecisionTreeClassifier', 0.65809535308067124], 'age los insurance': ['RandomForestClassifier', 0.66332018372879131], 'age los gender insurance': ['GaussianNB', 0.66422800929601422]}, 'dfmimic': {'age los gender': ['GaussianNB', 0.69853290323476736], 'age los': ['GaussianNB', 0.69311261002135482], 'age los insurance': ['GaussianNB', 0.71375759895520674], 'age los gender insurance': ['GaussianNB', 0.71247805218304128]}}\n",
      "[['age', 'los'], ['age', 'los', 'gender', 'insurance'], ['age', 'los', 'gender'], ['age', 'los', 'insurance'], ['age', 'los', 'insurance', 'gender', 'ethnicity'], ['age', 'los', 'insurance', 'gender', 'marital_status']]\n"
     ]
    }
   ],
   "source": [
    "#Marital Status\n",
    "#Clean up marital status DataFrame\n",
    "df_marital_status = dfmimic[['age', 'gender', 'los', 'insurance', 'marital_status', 'expire_flag', 'subject_id']]\n",
    "df_marital_status = df_marital_status.dropna()\n",
    "df_marital_status = df_marital_status[df_marital_status.marital_status != 'UNKNOWN (DEFAULT)']\n",
    "#Name df_marital_status\n",
    "df_marital_status.name = 'df_marital_status'\n",
    "\n",
    "#Get baseline features data\n",
    "baseline_features(df_marital_status, previous_features, 10)   \n",
    "\n",
    "#Use 'marital_status' with 'age', 'los', 'gender', and 'insurance'\n",
    "all_features_marital_status = ['age', 'los', 'insurance', 'gender', 'marital_status']\n",
    "\n",
    "classifier_for_features(df_marital_status, all_features_marital_status, 10)"
   ]
  },
  {
   "cell_type": "markdown",
   "metadata": {},
   "source": [
    "Best AUC score for 'marital_status' is AdaBoostClassifier with 0.6585"
   ]
  },
  {
   "cell_type": "code",
   "execution_count": 25,
   "metadata": {
    "collapsed": false
   },
   "outputs": [
    {
     "name": "stdout",
     "output_type": "stream",
     "text": [
      "ENGL    21733\n",
      "SPAN      800\n",
      "RUSS      531\n",
      "PTUN      522\n",
      "CANT      320\n",
      "PORT      274\n",
      "CAPE      201\n",
      "MAND      135\n",
      "HAIT      106\n",
      "ITAL       80\n",
      "VIET       69\n",
      "GREE       55\n",
      "ARAB       28\n",
      "PERS       24\n",
      "POLI       23\n",
      "HIND       23\n",
      "CAMB       22\n",
      "AMER       22\n",
      "KORE       20\n",
      "ALBA       15\n",
      "FREN       13\n",
      "THAI        9\n",
      "*ARM        8\n",
      "*BEN        7\n",
      "LAOT        6\n",
      "ETHI        6\n",
      "SOMA        6\n",
      "*URD        4\n",
      "*GUJ        4\n",
      "*CDI        4\n",
      "        ...  \n",
      "*HUN        2\n",
      "** T        1\n",
      "*YOR        1\n",
      "*TAM        1\n",
      "*LIT        1\n",
      "*DEA        1\n",
      "BENG        1\n",
      "*PER        1\n",
      "*TOY        1\n",
      "*MOR        1\n",
      "*KHM        1\n",
      "*CAN        1\n",
      "*BOS        1\n",
      "*PHI        1\n",
      "*FIL        1\n",
      "*FUL        1\n",
      "*NEP        1\n",
      "* BE        1\n",
      "*SPA        1\n",
      "*ROM        1\n",
      "*ARA        1\n",
      "GERM        1\n",
      "**SH        1\n",
      "*RUS        1\n",
      "*CRE        1\n",
      "SERB        1\n",
      "*MAN        1\n",
      "*PUN        1\n",
      "* FU        1\n",
      "*FAR        1\n",
      "Name: language, dtype: int64\n",
      "GaussianNB has highest AUC test score of 0.635913\n",
      "AdaBoostClassifier has highest accuracy score of 0.713224\n",
      "{'df_ethnicity': {'age los gender': ['GaussianNB', 0.6981347594656413], 'age los insurance gender ethnicity': ['GaussianNB', 0.70360573617704403], 'age los': ['GaussianNB', 0.70039398256631213], 'age los insurance': ['GaussianNB', 0.71233467028557929], 'age los gender insurance': ['GaussianNB', 0.71292094617912949]}, 'df_language': {'age los': ['GaussianNB', 0.63591278647581895]}, 'df_marital_status': {'age los gender': ['GaussianNB', 0.65575191361767082], 'age los insurance gender marital_status': ['GaussianNB', 0.66233010169165329], 'age los': ['DecisionTreeClassifier', 0.65809535308067124], 'age los insurance': ['RandomForestClassifier', 0.66332018372879131], 'age los gender insurance': ['GaussianNB', 0.66422800929601422]}, 'dfmimic': {'age los gender': ['GaussianNB', 0.69853290323476736], 'age los': ['GaussianNB', 0.69311261002135482], 'age los insurance': ['GaussianNB', 0.71375759895520674], 'age los gender insurance': ['GaussianNB', 0.71247805218304128]}}\n",
      "[['age', 'los'], ['age', 'los', 'gender', 'insurance'], ['age', 'los', 'gender'], ['age', 'los', 'insurance'], ['age', 'los', 'insurance', 'gender', 'ethnicity'], ['age', 'los', 'insurance', 'gender', 'marital_status']]\n",
      "GaussianNB has highest AUC test score of 0.649205\n",
      "AdaBoostClassifier has highest accuracy score of 0.713367\n",
      "{'df_ethnicity': {'age los gender': ['GaussianNB', 0.6981347594656413], 'age los insurance gender ethnicity': ['GaussianNB', 0.70360573617704403], 'age los': ['GaussianNB', 0.70039398256631213], 'age los insurance': ['GaussianNB', 0.71233467028557929], 'age los gender insurance': ['GaussianNB', 0.71292094617912949]}, 'df_language': {'age los': ['GaussianNB', 0.63591278647581895], 'age los gender insurance': ['GaussianNB', 0.6492045397647348]}, 'df_marital_status': {'age los gender': ['GaussianNB', 0.65575191361767082], 'age los insurance gender marital_status': ['GaussianNB', 0.66233010169165329], 'age los': ['DecisionTreeClassifier', 0.65809535308067124], 'age los insurance': ['RandomForestClassifier', 0.66332018372879131], 'age los gender insurance': ['GaussianNB', 0.66422800929601422]}, 'dfmimic': {'age los gender': ['GaussianNB', 0.69853290323476736], 'age los': ['GaussianNB', 0.69311261002135482], 'age los insurance': ['GaussianNB', 0.71375759895520674], 'age los gender insurance': ['GaussianNB', 0.71247805218304128]}}\n",
      "[['age', 'los'], ['age', 'los', 'gender', 'insurance'], ['age', 'los', 'gender'], ['age', 'los', 'insurance'], ['age', 'los', 'insurance', 'gender', 'ethnicity'], ['age', 'los', 'insurance', 'gender', 'marital_status']]\n",
      "GaussianNB has highest AUC test score of 0.627455\n",
      "AdaBoostClassifier has highest accuracy score of 0.710535\n",
      "{'df_ethnicity': {'age los gender': ['GaussianNB', 0.6981347594656413], 'age los insurance gender ethnicity': ['GaussianNB', 0.70360573617704403], 'age los': ['GaussianNB', 0.70039398256631213], 'age los insurance': ['GaussianNB', 0.71233467028557929], 'age los gender insurance': ['GaussianNB', 0.71292094617912949]}, 'df_language': {'age los gender': ['GaussianNB', 0.62745489212729932], 'age los': ['GaussianNB', 0.63591278647581895], 'age los gender insurance': ['GaussianNB', 0.6492045397647348]}, 'df_marital_status': {'age los gender': ['GaussianNB', 0.65575191361767082], 'age los insurance gender marital_status': ['GaussianNB', 0.66233010169165329], 'age los': ['DecisionTreeClassifier', 0.65809535308067124], 'age los insurance': ['RandomForestClassifier', 0.66332018372879131], 'age los gender insurance': ['GaussianNB', 0.66422800929601422]}, 'dfmimic': {'age los gender': ['GaussianNB', 0.69853290323476736], 'age los': ['GaussianNB', 0.69311261002135482], 'age los insurance': ['GaussianNB', 0.71375759895520674], 'age los gender insurance': ['GaussianNB', 0.71247805218304128]}}\n",
      "[['age', 'los'], ['age', 'los', 'gender', 'insurance'], ['age', 'los', 'gender'], ['age', 'los', 'insurance'], ['age', 'los', 'insurance', 'gender', 'ethnicity'], ['age', 'los', 'insurance', 'gender', 'marital_status']]\n",
      "GaussianNB has highest AUC test score of 0.656375\n",
      "AdaBoostClassifier has highest accuracy score of 0.715102\n",
      "{'df_ethnicity': {'age los gender': ['GaussianNB', 0.6981347594656413], 'age los insurance gender ethnicity': ['GaussianNB', 0.70360573617704403], 'age los': ['GaussianNB', 0.70039398256631213], 'age los insurance': ['GaussianNB', 0.71233467028557929], 'age los gender insurance': ['GaussianNB', 0.71292094617912949]}, 'df_language': {'age los gender': ['GaussianNB', 0.62745489212729932], 'age los': ['GaussianNB', 0.63591278647581895], 'age los insurance': ['GaussianNB', 0.6563752152360961], 'age los gender insurance': ['GaussianNB', 0.6492045397647348]}, 'df_marital_status': {'age los gender': ['GaussianNB', 0.65575191361767082], 'age los insurance gender marital_status': ['GaussianNB', 0.66233010169165329], 'age los': ['DecisionTreeClassifier', 0.65809535308067124], 'age los insurance': ['RandomForestClassifier', 0.66332018372879131], 'age los gender insurance': ['GaussianNB', 0.66422800929601422]}, 'dfmimic': {'age los gender': ['GaussianNB', 0.69853290323476736], 'age los': ['GaussianNB', 0.69311261002135482], 'age los insurance': ['GaussianNB', 0.71375759895520674], 'age los gender insurance': ['GaussianNB', 0.71247805218304128]}}\n",
      "[['age', 'los'], ['age', 'los', 'gender', 'insurance'], ['age', 'los', 'gender'], ['age', 'los', 'insurance'], ['age', 'los', 'insurance', 'gender', 'ethnicity'], ['age', 'los', 'insurance', 'gender', 'marital_status']]\n",
      "AdaBoostClassifier has highest AUC test score of 0.614039\n",
      "AdaBoostClassifier has highest accuracy score of 0.713908\n",
      "{'df_ethnicity': {'age los gender': ['GaussianNB', 0.6981347594656413], 'age los insurance gender ethnicity': ['GaussianNB', 0.70360573617704403], 'age los': ['GaussianNB', 0.70039398256631213], 'age los insurance': ['GaussianNB', 0.71233467028557929], 'age los gender insurance': ['GaussianNB', 0.71292094617912949]}, 'df_language': {'age los gender': ['GaussianNB', 0.62745489212729932], 'age los insurance gender language': ['AdaBoostClassifier', 0.61403931196770689], 'age los': ['GaussianNB', 0.63591278647581895], 'age los insurance': ['GaussianNB', 0.6563752152360961], 'age los gender insurance': ['GaussianNB', 0.6492045397647348]}, 'df_marital_status': {'age los gender': ['GaussianNB', 0.65575191361767082], 'age los insurance gender marital_status': ['GaussianNB', 0.66233010169165329], 'age los': ['DecisionTreeClassifier', 0.65809535308067124], 'age los insurance': ['RandomForestClassifier', 0.66332018372879131], 'age los gender insurance': ['GaussianNB', 0.66422800929601422]}, 'dfmimic': {'age los gender': ['GaussianNB', 0.69853290323476736], 'age los': ['GaussianNB', 0.69311261002135482], 'age los insurance': ['GaussianNB', 0.71375759895520674], 'age los gender insurance': ['GaussianNB', 0.71247805218304128]}}\n",
      "[['age', 'los'], ['age', 'los', 'gender', 'insurance'], ['age', 'los', 'gender'], ['age', 'los', 'insurance'], ['age', 'los', 'insurance', 'gender', 'ethnicity'], ['age', 'los', 'insurance', 'gender', 'marital_status'], ['age', 'los', 'insurance', 'gender', 'language']]\n"
     ]
    }
   ],
   "source": [
    "#Language\n",
    "#Clean up language DataFrame\n",
    "df_language = dfmimic[['age', 'gender', 'los', 'insurance', 'language', 'expire_flag', 'subject_id']]\n",
    "df_language = df_language.dropna()\n",
    "#Adjust language for to use only top 5 spoken languages\n",
    "print df_language['language'].value_counts()\n",
    "top_5 = ['ENGL', 'SPAN', 'RUSS', 'PTUN', 'CANT']\n",
    "df_language_5 = df_language[df_language['language'].isin(top_5)]\n",
    "#Name df_language\n",
    "df_language.name = 'df_language'\n",
    "\n",
    "#Get baseline features data\n",
    "baseline_features(df_language, previous_features, 10)   \n",
    "\n",
    "#Use 'language' with 'age', 'los', 'gender', and 'insurance'\n",
    "all_features_language = ['age', 'los', 'insurance', 'gender', 'language']\n",
    "\n",
    "classifier_for_features(df_language, all_features_language, 10)"
   ]
  },
  {
   "cell_type": "code",
   "execution_count": 26,
   "metadata": {
    "collapsed": false
   },
   "outputs": [
    {
     "name": "stdout",
     "output_type": "stream",
     "text": [
      "GaussianNB has highest AUC test score of 0.688989\n",
      "AdaBoostClassifier has highest accuracy score of 0.719944\n",
      "{'df_ethnicity': {'age los gender': ['GaussianNB', 0.6981347594656413], 'age los insurance gender ethnicity': ['GaussianNB', 0.70360573617704403], 'age los': ['GaussianNB', 0.70039398256631213], 'age los insurance': ['GaussianNB', 0.71233467028557929], 'age los gender insurance': ['GaussianNB', 0.71292094617912949]}, 'df_language': {'age los gender': ['GaussianNB', 0.62745489212729932], 'age los insurance gender language': ['AdaBoostClassifier', 0.61403931196770689], 'age los': ['GaussianNB', 0.63591278647581895], 'age los insurance': ['GaussianNB', 0.6563752152360961], 'age los gender insurance': ['GaussianNB', 0.6492045397647348]}, 'df_marital_status': {'age los gender': ['GaussianNB', 0.65575191361767082], 'age los insurance gender marital_status': ['GaussianNB', 0.66233010169165329], 'age los': ['DecisionTreeClassifier', 0.65809535308067124], 'age los insurance': ['RandomForestClassifier', 0.66332018372879131], 'age los gender insurance': ['GaussianNB', 0.66422800929601422]}, 'dfmimic': {'age los gender': ['GaussianNB', 0.69853290323476736], 'age los': ['GaussianNB', 0.69311261002135482], 'age los insurance': ['GaussianNB', 0.71375759895520674], 'age los gender insurance': ['GaussianNB', 0.71247805218304128]}, 'df_religion': {'age los': ['GaussianNB', 0.68898929166608325]}}\n",
      "[['age', 'los'], ['age', 'los', 'gender', 'insurance'], ['age', 'los', 'gender'], ['age', 'los', 'insurance'], ['age', 'los', 'insurance', 'gender', 'ethnicity'], ['age', 'los', 'insurance', 'gender', 'marital_status'], ['age', 'los', 'insurance', 'gender', 'language']]\n",
      "GaussianNB has highest AUC test score of 0.697114\n",
      "AdaBoostClassifier has highest accuracy score of 0.720413\n",
      "{'df_ethnicity': {'age los gender': ['GaussianNB', 0.6981347594656413], 'age los insurance gender ethnicity': ['GaussianNB', 0.70360573617704403], 'age los': ['GaussianNB', 0.70039398256631213], 'age los insurance': ['GaussianNB', 0.71233467028557929], 'age los gender insurance': ['GaussianNB', 0.71292094617912949]}, 'df_language': {'age los gender': ['GaussianNB', 0.62745489212729932], 'age los insurance gender language': ['AdaBoostClassifier', 0.61403931196770689], 'age los': ['GaussianNB', 0.63591278647581895], 'age los insurance': ['GaussianNB', 0.6563752152360961], 'age los gender insurance': ['GaussianNB', 0.6492045397647348]}, 'df_marital_status': {'age los gender': ['GaussianNB', 0.65575191361767082], 'age los insurance gender marital_status': ['GaussianNB', 0.66233010169165329], 'age los': ['DecisionTreeClassifier', 0.65809535308067124], 'age los insurance': ['RandomForestClassifier', 0.66332018372879131], 'age los gender insurance': ['GaussianNB', 0.66422800929601422]}, 'dfmimic': {'age los gender': ['GaussianNB', 0.69853290323476736], 'age los': ['GaussianNB', 0.69311261002135482], 'age los insurance': ['GaussianNB', 0.71375759895520674], 'age los gender insurance': ['GaussianNB', 0.71247805218304128]}, 'df_religion': {'age los': ['GaussianNB', 0.68898929166608325], 'age los gender insurance': ['GaussianNB', 0.69711434883606971]}}\n",
      "[['age', 'los'], ['age', 'los', 'gender', 'insurance'], ['age', 'los', 'gender'], ['age', 'los', 'insurance'], ['age', 'los', 'insurance', 'gender', 'ethnicity'], ['age', 'los', 'insurance', 'gender', 'marital_status'], ['age', 'los', 'insurance', 'gender', 'language']]\n",
      "GaussianNB has highest AUC test score of 0.688273\n",
      "AdaBoostClassifier has highest accuracy score of 0.717985\n",
      "{'df_ethnicity': {'age los gender': ['GaussianNB', 0.6981347594656413], 'age los insurance gender ethnicity': ['GaussianNB', 0.70360573617704403], 'age los': ['GaussianNB', 0.70039398256631213], 'age los insurance': ['GaussianNB', 0.71233467028557929], 'age los gender insurance': ['GaussianNB', 0.71292094617912949]}, 'df_language': {'age los gender': ['GaussianNB', 0.62745489212729932], 'age los insurance gender language': ['AdaBoostClassifier', 0.61403931196770689], 'age los': ['GaussianNB', 0.63591278647581895], 'age los insurance': ['GaussianNB', 0.6563752152360961], 'age los gender insurance': ['GaussianNB', 0.6492045397647348]}, 'df_marital_status': {'age los gender': ['GaussianNB', 0.65575191361767082], 'age los insurance gender marital_status': ['GaussianNB', 0.66233010169165329], 'age los': ['DecisionTreeClassifier', 0.65809535308067124], 'age los insurance': ['RandomForestClassifier', 0.66332018372879131], 'age los gender insurance': ['GaussianNB', 0.66422800929601422]}, 'dfmimic': {'age los gender': ['GaussianNB', 0.69853290323476736], 'age los': ['GaussianNB', 0.69311261002135482], 'age los insurance': ['GaussianNB', 0.71375759895520674], 'age los gender insurance': ['GaussianNB', 0.71247805218304128]}, 'df_religion': {'age los gender': ['GaussianNB', 0.68827304990711569], 'age los': ['GaussianNB', 0.68898929166608325], 'age los gender insurance': ['GaussianNB', 0.69711434883606971]}}\n",
      "[['age', 'los'], ['age', 'los', 'gender', 'insurance'], ['age', 'los', 'gender'], ['age', 'los', 'insurance'], ['age', 'los', 'insurance', 'gender', 'ethnicity'], ['age', 'los', 'insurance', 'gender', 'marital_status'], ['age', 'los', 'insurance', 'gender', 'language']]\n",
      "GaussianNB has highest AUC test score of 0.699209\n",
      "DecisionTreeClassifier has highest accuracy score of 0.719423\n",
      "{'df_ethnicity': {'age los gender': ['GaussianNB', 0.6981347594656413], 'age los insurance gender ethnicity': ['GaussianNB', 0.70360573617704403], 'age los': ['GaussianNB', 0.70039398256631213], 'age los insurance': ['GaussianNB', 0.71233467028557929], 'age los gender insurance': ['GaussianNB', 0.71292094617912949]}, 'df_language': {'age los gender': ['GaussianNB', 0.62745489212729932], 'age los insurance gender language': ['AdaBoostClassifier', 0.61403931196770689], 'age los': ['GaussianNB', 0.63591278647581895], 'age los insurance': ['GaussianNB', 0.6563752152360961], 'age los gender insurance': ['GaussianNB', 0.6492045397647348]}, 'df_marital_status': {'age los gender': ['GaussianNB', 0.65575191361767082], 'age los insurance gender marital_status': ['GaussianNB', 0.66233010169165329], 'age los': ['DecisionTreeClassifier', 0.65809535308067124], 'age los insurance': ['RandomForestClassifier', 0.66332018372879131], 'age los gender insurance': ['GaussianNB', 0.66422800929601422]}, 'dfmimic': {'age los gender': ['GaussianNB', 0.69853290323476736], 'age los': ['GaussianNB', 0.69311261002135482], 'age los insurance': ['GaussianNB', 0.71375759895520674], 'age los gender insurance': ['GaussianNB', 0.71247805218304128]}, 'df_religion': {'age los gender': ['GaussianNB', 0.68827304990711569], 'age los': ['GaussianNB', 0.68898929166608325], 'age los insurance': ['GaussianNB', 0.69920928118020764], 'age los gender insurance': ['GaussianNB', 0.69711434883606971]}}\n",
      "[['age', 'los'], ['age', 'los', 'gender', 'insurance'], ['age', 'los', 'gender'], ['age', 'los', 'insurance'], ['age', 'los', 'insurance', 'gender', 'ethnicity'], ['age', 'los', 'insurance', 'gender', 'marital_status'], ['age', 'los', 'insurance', 'gender', 'language']]\n",
      "GaussianNB has highest AUC test score of 0.693276\n",
      "AdaBoostClassifier has highest accuracy score of 0.723487\n",
      "{'df_ethnicity': {'age los gender': ['GaussianNB', 0.6981347594656413], 'age los insurance gender ethnicity': ['GaussianNB', 0.70360573617704403], 'age los': ['GaussianNB', 0.70039398256631213], 'age los insurance': ['GaussianNB', 0.71233467028557929], 'age los gender insurance': ['GaussianNB', 0.71292094617912949]}, 'df_language': {'age los gender': ['GaussianNB', 0.62745489212729932], 'age los insurance gender language': ['AdaBoostClassifier', 0.61403931196770689], 'age los': ['GaussianNB', 0.63591278647581895], 'age los insurance': ['GaussianNB', 0.6563752152360961], 'age los gender insurance': ['GaussianNB', 0.6492045397647348]}, 'df_marital_status': {'age los gender': ['GaussianNB', 0.65575191361767082], 'age los insurance gender marital_status': ['GaussianNB', 0.66233010169165329], 'age los': ['DecisionTreeClassifier', 0.65809535308067124], 'age los insurance': ['RandomForestClassifier', 0.66332018372879131], 'age los gender insurance': ['GaussianNB', 0.66422800929601422]}, 'dfmimic': {'age los gender': ['GaussianNB', 0.69853290323476736], 'age los': ['GaussianNB', 0.69311261002135482], 'age los insurance': ['GaussianNB', 0.71375759895520674], 'age los gender insurance': ['GaussianNB', 0.71247805218304128]}, 'df_religion': {'age los gender': ['GaussianNB', 0.68827304990711569], 'age los insurance gender religion': ['GaussianNB', 0.69327556161510151], 'age los': ['GaussianNB', 0.68898929166608325], 'age los insurance': ['GaussianNB', 0.69920928118020764], 'age los gender insurance': ['GaussianNB', 0.69711434883606971]}}\n",
      "[['age', 'los'], ['age', 'los', 'gender', 'insurance'], ['age', 'los', 'gender'], ['age', 'los', 'insurance'], ['age', 'los', 'insurance', 'gender', 'ethnicity'], ['age', 'los', 'insurance', 'gender', 'marital_status'], ['age', 'los', 'insurance', 'gender', 'language'], ['age', 'los', 'insurance', 'gender', 'religion']]\n"
     ]
    }
   ],
   "source": [
    "#Religion\n",
    "#Clean up religion DataFrame\n",
    "df_religion = dfmimic[['age', 'gender', 'los', 'insurance', 'religion', 'expire_flag', 'subject_id']]\n",
    "df_religion = df_religion.dropna()\n",
    "#Keep religions that have value counts >= 10\n",
    "religion_counts = df_religion['religion'].value_counts()\n",
    "df_religion = df_religion[df_religion['religion'].isin(religion_counts[religion_counts >= 10].index)]\n",
    "df_religion = df_religion[df_religion.religion != 'UNOBTAINABLE']\n",
    "#Name df_religion\n",
    "df_religion.name = 'df_religion'\n",
    "\n",
    "#Get baseline features data\n",
    "baseline_features(df_religion, previous_features, 10)   \n",
    "\n",
    "#Use 'religion' with 'age', 'los', 'gender', and 'insurance'\n",
    "all_features_religion = ['age', 'los', 'insurance', 'gender', 'religion']\n",
    "\n",
    "classifier_for_features(df_religion, all_features_religion, 10)"
   ]
  },
  {
   "cell_type": "markdown",
   "metadata": {},
   "source": [
    "Best score is AdaBoostClassifier with AUC score of 0.6763"
   ]
  },
  {
   "cell_type": "markdown",
   "metadata": {},
   "source": [
    "### Part 5: Merging optional features\n",
    "#### 2 optional features"
   ]
  },
  {
   "cell_type": "code",
   "execution_count": 40,
   "metadata": {
    "collapsed": false
   },
   "outputs": [
    {
     "name": "stdout",
     "output_type": "stream",
     "text": [
      "38298\n",
      "36412\n",
      "30615\n",
      "['age', 'gender', 'los', 'insurance', 'ethnicity', 'expire_flag', 'subject_id', 'marital_status']\n",
      "DecisionTreeClassifier has highest AUC test score of 0.655269\n",
      "DecisionTreeClassifier has highest accuracy score of 0.679370\n",
      "{'df_ems': {'age los': ['DecisionTreeClassifier', 0.65526927292470594]}, 'df_language': {'age los gender': ['GaussianNB', 0.62745489212729932], 'age los insurance gender language': ['AdaBoostClassifier', 0.61403931196770689], 'age los': ['GaussianNB', 0.63591278647581895], 'age los insurance': ['GaussianNB', 0.6563752152360961], 'age los gender insurance': ['GaussianNB', 0.6492045397647348]}, 'df_marital_status': {'age los gender': ['GaussianNB', 0.65575191361767082], 'age los insurance gender marital_status': ['GaussianNB', 0.66233010169165329], 'age los': ['DecisionTreeClassifier', 0.65809535308067124], 'age los insurance': ['RandomForestClassifier', 0.66332018372879131], 'age los gender insurance': ['GaussianNB', 0.66422800929601422]}, 'df_ethnicity': {'age los gender': ['GaussianNB', 0.6981347594656413], 'age los insurance gender ethnicity': ['GaussianNB', 0.70360573617704403], 'age los': ['GaussianNB', 0.70039398256631213], 'age los insurance': ['GaussianNB', 0.71233467028557929], 'age los gender insurance': ['GaussianNB', 0.71292094617912949]}, 'df_religion': {'age los gender': ['GaussianNB', 0.68827304990711569], 'age los insurance gender religion': ['GaussianNB', 0.69327556161510151], 'age los': ['GaussianNB', 0.68898929166608325], 'age los insurance': ['GaussianNB', 0.69920928118020764], 'age los gender insurance': ['GaussianNB', 0.69711434883606971]}, 'dfmimic': {'age los gender': ['GaussianNB', 0.69853290323476736], 'age los': ['GaussianNB', 0.69311261002135482], 'age los insurance': ['GaussianNB', 0.71375759895520674], 'age los gender insurance': ['GaussianNB', 0.71247805218304128]}}\n",
      "[['age', 'los'], ['age', 'los', 'gender', 'insurance'], ['age', 'los', 'gender'], ['age', 'los', 'insurance'], ['age', 'los', 'insurance', 'gender', 'ethnicity'], ['age', 'los', 'insurance', 'gender', 'marital_status'], ['age', 'los', 'insurance', 'gender', 'language'], ['age', 'los', 'insurance', 'gender', 'religion']]\n",
      "GaussianNB has highest AUC test score of 0.660839\n",
      "AdaBoostClassifier has highest accuracy score of 0.682218\n",
      "{'df_ems': {'age los': ['DecisionTreeClassifier', 0.65526927292470594], 'age los gender insurance': ['GaussianNB', 0.66083920623453296]}, 'df_language': {'age los gender': ['GaussianNB', 0.62745489212729932], 'age los insurance gender language': ['AdaBoostClassifier', 0.61403931196770689], 'age los': ['GaussianNB', 0.63591278647581895], 'age los insurance': ['GaussianNB', 0.6563752152360961], 'age los gender insurance': ['GaussianNB', 0.6492045397647348]}, 'df_marital_status': {'age los gender': ['GaussianNB', 0.65575191361767082], 'age los insurance gender marital_status': ['GaussianNB', 0.66233010169165329], 'age los': ['DecisionTreeClassifier', 0.65809535308067124], 'age los insurance': ['RandomForestClassifier', 0.66332018372879131], 'age los gender insurance': ['GaussianNB', 0.66422800929601422]}, 'df_ethnicity': {'age los gender': ['GaussianNB', 0.6981347594656413], 'age los insurance gender ethnicity': ['GaussianNB', 0.70360573617704403], 'age los': ['GaussianNB', 0.70039398256631213], 'age los insurance': ['GaussianNB', 0.71233467028557929], 'age los gender insurance': ['GaussianNB', 0.71292094617912949]}, 'df_religion': {'age los gender': ['GaussianNB', 0.68827304990711569], 'age los insurance gender religion': ['GaussianNB', 0.69327556161510151], 'age los': ['GaussianNB', 0.68898929166608325], 'age los insurance': ['GaussianNB', 0.69920928118020764], 'age los gender insurance': ['GaussianNB', 0.69711434883606971]}, 'dfmimic': {'age los gender': ['GaussianNB', 0.69853290323476736], 'age los': ['GaussianNB', 0.69311261002135482], 'age los insurance': ['GaussianNB', 0.71375759895520674], 'age los gender insurance': ['GaussianNB', 0.71247805218304128]}}\n",
      "[['age', 'los'], ['age', 'los', 'gender', 'insurance'], ['age', 'los', 'gender'], ['age', 'los', 'insurance'], ['age', 'los', 'insurance', 'gender', 'ethnicity'], ['age', 'los', 'insurance', 'gender', 'marital_status'], ['age', 'los', 'insurance', 'gender', 'language'], ['age', 'los', 'insurance', 'gender', 'religion']]\n",
      "GaussianNB has highest AUC test score of 0.651872\n",
      "AdaBoostClassifier has highest accuracy score of 0.675542\n",
      "{'df_ems': {'age los gender': ['GaussianNB', 0.65187170219060875], 'age los': ['DecisionTreeClassifier', 0.65526927292470594], 'age los gender insurance': ['GaussianNB', 0.66083920623453296]}, 'df_language': {'age los gender': ['GaussianNB', 0.62745489212729932], 'age los insurance gender language': ['AdaBoostClassifier', 0.61403931196770689], 'age los': ['GaussianNB', 0.63591278647581895], 'age los insurance': ['GaussianNB', 0.6563752152360961], 'age los gender insurance': ['GaussianNB', 0.6492045397647348]}, 'df_marital_status': {'age los gender': ['GaussianNB', 0.65575191361767082], 'age los insurance gender marital_status': ['GaussianNB', 0.66233010169165329], 'age los': ['DecisionTreeClassifier', 0.65809535308067124], 'age los insurance': ['RandomForestClassifier', 0.66332018372879131], 'age los gender insurance': ['GaussianNB', 0.66422800929601422]}, 'df_ethnicity': {'age los gender': ['GaussianNB', 0.6981347594656413], 'age los insurance gender ethnicity': ['GaussianNB', 0.70360573617704403], 'age los': ['GaussianNB', 0.70039398256631213], 'age los insurance': ['GaussianNB', 0.71233467028557929], 'age los gender insurance': ['GaussianNB', 0.71292094617912949]}, 'df_religion': {'age los gender': ['GaussianNB', 0.68827304990711569], 'age los insurance gender religion': ['GaussianNB', 0.69327556161510151], 'age los': ['GaussianNB', 0.68898929166608325], 'age los insurance': ['GaussianNB', 0.69920928118020764], 'age los gender insurance': ['GaussianNB', 0.69711434883606971]}, 'dfmimic': {'age los gender': ['GaussianNB', 0.69853290323476736], 'age los': ['GaussianNB', 0.69311261002135482], 'age los insurance': ['GaussianNB', 0.71375759895520674], 'age los gender insurance': ['GaussianNB', 0.71247805218304128]}}\n",
      "[['age', 'los'], ['age', 'los', 'gender', 'insurance'], ['age', 'los', 'gender'], ['age', 'los', 'insurance'], ['age', 'los', 'insurance', 'gender', 'ethnicity'], ['age', 'los', 'insurance', 'gender', 'marital_status'], ['age', 'los', 'insurance', 'gender', 'language'], ['age', 'los', 'insurance', 'gender', 'religion']]\n",
      "RandomForestClassifier has highest AUC test score of 0.658961\n",
      "DecisionTreeClassifier has highest accuracy score of 0.679449\n",
      "{'df_ems': {'age los gender': ['GaussianNB', 0.65187170219060875], 'age los': ['DecisionTreeClassifier', 0.65526927292470594], 'age los insurance': ['RandomForestClassifier', 0.65896081716838117], 'age los gender insurance': ['GaussianNB', 0.66083920623453296]}, 'df_language': {'age los gender': ['GaussianNB', 0.62745489212729932], 'age los insurance gender language': ['AdaBoostClassifier', 0.61403931196770689], 'age los': ['GaussianNB', 0.63591278647581895], 'age los insurance': ['GaussianNB', 0.6563752152360961], 'age los gender insurance': ['GaussianNB', 0.6492045397647348]}, 'df_marital_status': {'age los gender': ['GaussianNB', 0.65575191361767082], 'age los insurance gender marital_status': ['GaussianNB', 0.66233010169165329], 'age los': ['DecisionTreeClassifier', 0.65809535308067124], 'age los insurance': ['RandomForestClassifier', 0.66332018372879131], 'age los gender insurance': ['GaussianNB', 0.66422800929601422]}, 'df_ethnicity': {'age los gender': ['GaussianNB', 0.6981347594656413], 'age los insurance gender ethnicity': ['GaussianNB', 0.70360573617704403], 'age los': ['GaussianNB', 0.70039398256631213], 'age los insurance': ['GaussianNB', 0.71233467028557929], 'age los gender insurance': ['GaussianNB', 0.71292094617912949]}, 'df_religion': {'age los gender': ['GaussianNB', 0.68827304990711569], 'age los insurance gender religion': ['GaussianNB', 0.69327556161510151], 'age los': ['GaussianNB', 0.68898929166608325], 'age los insurance': ['GaussianNB', 0.69920928118020764], 'age los gender insurance': ['GaussianNB', 0.69711434883606971]}, 'dfmimic': {'age los gender': ['GaussianNB', 0.69853290323476736], 'age los': ['GaussianNB', 0.69311261002135482], 'age los insurance': ['GaussianNB', 0.71375759895520674], 'age los gender insurance': ['GaussianNB', 0.71247805218304128]}}\n",
      "[['age', 'los'], ['age', 'los', 'gender', 'insurance'], ['age', 'los', 'gender'], ['age', 'los', 'insurance'], ['age', 'los', 'insurance', 'gender', 'ethnicity'], ['age', 'los', 'insurance', 'gender', 'marital_status'], ['age', 'los', 'insurance', 'gender', 'language'], ['age', 'los', 'insurance', 'gender', 'religion']]\n",
      "AdaBoostClassifier has highest AUC test score of 0.653983\n",
      "AdaBoostClassifier has highest accuracy score of 0.684779\n",
      "{'df_ems': {'age los gender': ['GaussianNB', 0.65187170219060875], 'age los': ['DecisionTreeClassifier', 0.65526927292470594], 'age los insurance': ['RandomForestClassifier', 0.65896081716838117], 'age los gender insurance': ['GaussianNB', 0.66083920623453296], 'age los insurance gender ethnicity marital_status': ['AdaBoostClassifier', 0.65398278676214694]}, 'df_language': {'age los gender': ['GaussianNB', 0.62745489212729932], 'age los insurance gender language': ['AdaBoostClassifier', 0.61403931196770689], 'age los': ['GaussianNB', 0.63591278647581895], 'age los insurance': ['GaussianNB', 0.6563752152360961], 'age los gender insurance': ['GaussianNB', 0.6492045397647348]}, 'df_marital_status': {'age los gender': ['GaussianNB', 0.65575191361767082], 'age los insurance gender marital_status': ['GaussianNB', 0.66233010169165329], 'age los': ['DecisionTreeClassifier', 0.65809535308067124], 'age los insurance': ['RandomForestClassifier', 0.66332018372879131], 'age los gender insurance': ['GaussianNB', 0.66422800929601422]}, 'df_ethnicity': {'age los gender': ['GaussianNB', 0.6981347594656413], 'age los insurance gender ethnicity': ['GaussianNB', 0.70360573617704403], 'age los': ['GaussianNB', 0.70039398256631213], 'age los insurance': ['GaussianNB', 0.71233467028557929], 'age los gender insurance': ['GaussianNB', 0.71292094617912949]}, 'df_religion': {'age los gender': ['GaussianNB', 0.68827304990711569], 'age los insurance gender religion': ['GaussianNB', 0.69327556161510151], 'age los': ['GaussianNB', 0.68898929166608325], 'age los insurance': ['GaussianNB', 0.69920928118020764], 'age los gender insurance': ['GaussianNB', 0.69711434883606971]}, 'dfmimic': {'age los gender': ['GaussianNB', 0.69853290323476736], 'age los': ['GaussianNB', 0.69311261002135482], 'age los insurance': ['GaussianNB', 0.71375759895520674], 'age los gender insurance': ['GaussianNB', 0.71247805218304128]}}\n",
      "[['age', 'los'], ['age', 'los', 'gender', 'insurance'], ['age', 'los', 'gender'], ['age', 'los', 'insurance'], ['age', 'los', 'insurance', 'gender', 'ethnicity'], ['age', 'los', 'insurance', 'gender', 'marital_status'], ['age', 'los', 'insurance', 'gender', 'language'], ['age', 'los', 'insurance', 'gender', 'religion'], ['age', 'los', 'insurance', 'gender', 'ethnicity', 'marital_status']]\n"
     ]
    }
   ],
   "source": [
    "#Merge ethnicity and marital status\n",
    "df_ems = df_ethnicity.merge(df_marital_status, how='inner',\n",
    "                                           on = ['subject_id', 'age', 'gender', 'los', 'insurance', 'expire_flag'])\n",
    "df_ems.name = 'df_ems'\n",
    "print len(df_ethnicity.index)\n",
    "print len(df_marital_status.index)\n",
    "print len(df_ems.index)\n",
    "print list(df_ems.columns)\n",
    "\n",
    "#Get baseline features data\n",
    "baseline_features(df_ems, previous_features, 10)   \n",
    "\n",
    "#Find best classifier with 'age' 'los' 'insurance' 'ethnicity' 'marital_status and 'gender' features\n",
    "ems_features = ['age', 'los', 'insurance', 'gender', 'ethnicity', 'marital_status']\n",
    "\n",
    "classifier_for_features(df_ems, ems_features, 10)"
   ]
  },
  {
   "cell_type": "code",
   "execution_count": 41,
   "metadata": {
    "collapsed": false
   },
   "outputs": [
    {
     "name": "stdout",
     "output_type": "stream",
     "text": [
      "32956\n",
      "GaussianNB has highest AUC test score of 0.686305\n",
      "AdaBoostClassifier has highest accuracy score of 0.717490\n",
      "{'df_er': {'age los': ['GaussianNB', 0.68630457774518216]}, 'df_ems': {'age los gender': ['GaussianNB', 0.65187170219060875], 'age los': ['DecisionTreeClassifier', 0.65526927292470594], 'age los insurance': ['RandomForestClassifier', 0.65896081716838117], 'age los gender insurance': ['GaussianNB', 0.66083920623453296], 'age los insurance gender ethnicity marital_status': ['AdaBoostClassifier', 0.65398278676214694]}, 'df_language': {'age los gender': ['GaussianNB', 0.62745489212729932], 'age los insurance gender language': ['AdaBoostClassifier', 0.61403931196770689], 'age los': ['GaussianNB', 0.63591278647581895], 'age los insurance': ['GaussianNB', 0.6563752152360961], 'age los gender insurance': ['GaussianNB', 0.6492045397647348]}, 'df_marital_status': {'age los gender': ['GaussianNB', 0.65575191361767082], 'age los insurance gender marital_status': ['GaussianNB', 0.66233010169165329], 'age los': ['DecisionTreeClassifier', 0.65809535308067124], 'age los insurance': ['RandomForestClassifier', 0.66332018372879131], 'age los gender insurance': ['GaussianNB', 0.66422800929601422]}, 'df_ethnicity': {'age los gender': ['GaussianNB', 0.6981347594656413], 'age los insurance gender ethnicity': ['GaussianNB', 0.70360573617704403], 'age los': ['GaussianNB', 0.70039398256631213], 'age los insurance': ['GaussianNB', 0.71233467028557929], 'age los gender insurance': ['GaussianNB', 0.71292094617912949]}, 'df_religion': {'age los gender': ['GaussianNB', 0.68827304990711569], 'age los insurance gender religion': ['GaussianNB', 0.69327556161510151], 'age los': ['GaussianNB', 0.68898929166608325], 'age los insurance': ['GaussianNB', 0.69920928118020764], 'age los gender insurance': ['GaussianNB', 0.69711434883606971]}, 'dfmimic': {'age los gender': ['GaussianNB', 0.69853290323476736], 'age los': ['GaussianNB', 0.69311261002135482], 'age los insurance': ['GaussianNB', 0.71375759895520674], 'age los gender insurance': ['GaussianNB', 0.71247805218304128]}}\n",
      "[['age', 'los'], ['age', 'los', 'gender', 'insurance'], ['age', 'los', 'gender'], ['age', 'los', 'insurance'], ['age', 'los', 'insurance', 'gender', 'ethnicity'], ['age', 'los', 'insurance', 'gender', 'marital_status'], ['age', 'los', 'insurance', 'gender', 'language'], ['age', 'los', 'insurance', 'gender', 'religion'], ['age', 'los', 'insurance', 'gender', 'ethnicity', 'marital_status']]\n",
      "GaussianNB has highest AUC test score of 0.696906\n",
      "RandomForestClassifier has highest accuracy score of 0.719274\n",
      "{'df_er': {'age los': ['GaussianNB', 0.68630457774518216], 'age los gender insurance': ['GaussianNB', 0.6969062866496214]}, 'df_ems': {'age los gender': ['GaussianNB', 0.65187170219060875], 'age los': ['DecisionTreeClassifier', 0.65526927292470594], 'age los insurance': ['RandomForestClassifier', 0.65896081716838117], 'age los gender insurance': ['GaussianNB', 0.66083920623453296], 'age los insurance gender ethnicity marital_status': ['AdaBoostClassifier', 0.65398278676214694]}, 'df_language': {'age los gender': ['GaussianNB', 0.62745489212729932], 'age los insurance gender language': ['AdaBoostClassifier', 0.61403931196770689], 'age los': ['GaussianNB', 0.63591278647581895], 'age los insurance': ['GaussianNB', 0.6563752152360961], 'age los gender insurance': ['GaussianNB', 0.6492045397647348]}, 'df_marital_status': {'age los gender': ['GaussianNB', 0.65575191361767082], 'age los insurance gender marital_status': ['GaussianNB', 0.66233010169165329], 'age los': ['DecisionTreeClassifier', 0.65809535308067124], 'age los insurance': ['RandomForestClassifier', 0.66332018372879131], 'age los gender insurance': ['GaussianNB', 0.66422800929601422]}, 'df_ethnicity': {'age los gender': ['GaussianNB', 0.6981347594656413], 'age los insurance gender ethnicity': ['GaussianNB', 0.70360573617704403], 'age los': ['GaussianNB', 0.70039398256631213], 'age los insurance': ['GaussianNB', 0.71233467028557929], 'age los gender insurance': ['GaussianNB', 0.71292094617912949]}, 'df_religion': {'age los gender': ['GaussianNB', 0.68827304990711569], 'age los insurance gender religion': ['GaussianNB', 0.69327556161510151], 'age los': ['GaussianNB', 0.68898929166608325], 'age los insurance': ['GaussianNB', 0.69920928118020764], 'age los gender insurance': ['GaussianNB', 0.69711434883606971]}, 'dfmimic': {'age los gender': ['GaussianNB', 0.69853290323476736], 'age los': ['GaussianNB', 0.69311261002135482], 'age los insurance': ['GaussianNB', 0.71375759895520674], 'age los gender insurance': ['GaussianNB', 0.71247805218304128]}}\n",
      "[['age', 'los'], ['age', 'los', 'gender', 'insurance'], ['age', 'los', 'gender'], ['age', 'los', 'insurance'], ['age', 'los', 'insurance', 'gender', 'ethnicity'], ['age', 'los', 'insurance', 'gender', 'marital_status'], ['age', 'los', 'insurance', 'gender', 'language'], ['age', 'los', 'insurance', 'gender', 'religion'], ['age', 'los', 'insurance', 'gender', 'ethnicity', 'marital_status']]\n",
      "GaussianNB has highest AUC test score of 0.684462\n",
      "AdaBoostClassifier has highest accuracy score of 0.719250\n",
      "{'df_er': {'age los gender': ['GaussianNB', 0.68446185148811478], 'age los': ['GaussianNB', 0.68630457774518216], 'age los gender insurance': ['GaussianNB', 0.6969062866496214]}, 'df_ems': {'age los gender': ['GaussianNB', 0.65187170219060875], 'age los': ['DecisionTreeClassifier', 0.65526927292470594], 'age los insurance': ['RandomForestClassifier', 0.65896081716838117], 'age los gender insurance': ['GaussianNB', 0.66083920623453296], 'age los insurance gender ethnicity marital_status': ['AdaBoostClassifier', 0.65398278676214694]}, 'df_language': {'age los gender': ['GaussianNB', 0.62745489212729932], 'age los insurance gender language': ['AdaBoostClassifier', 0.61403931196770689], 'age los': ['GaussianNB', 0.63591278647581895], 'age los insurance': ['GaussianNB', 0.6563752152360961], 'age los gender insurance': ['GaussianNB', 0.6492045397647348]}, 'df_marital_status': {'age los gender': ['GaussianNB', 0.65575191361767082], 'age los insurance gender marital_status': ['GaussianNB', 0.66233010169165329], 'age los': ['DecisionTreeClassifier', 0.65809535308067124], 'age los insurance': ['RandomForestClassifier', 0.66332018372879131], 'age los gender insurance': ['GaussianNB', 0.66422800929601422]}, 'df_ethnicity': {'age los gender': ['GaussianNB', 0.6981347594656413], 'age los insurance gender ethnicity': ['GaussianNB', 0.70360573617704403], 'age los': ['GaussianNB', 0.70039398256631213], 'age los insurance': ['GaussianNB', 0.71233467028557929], 'age los gender insurance': ['GaussianNB', 0.71292094617912949]}, 'df_religion': {'age los gender': ['GaussianNB', 0.68827304990711569], 'age los insurance gender religion': ['GaussianNB', 0.69327556161510151], 'age los': ['GaussianNB', 0.68898929166608325], 'age los insurance': ['GaussianNB', 0.69920928118020764], 'age los gender insurance': ['GaussianNB', 0.69711434883606971]}, 'dfmimic': {'age los gender': ['GaussianNB', 0.69853290323476736], 'age los': ['GaussianNB', 0.69311261002135482], 'age los insurance': ['GaussianNB', 0.71375759895520674], 'age los gender insurance': ['GaussianNB', 0.71247805218304128]}}\n",
      "[['age', 'los'], ['age', 'los', 'gender', 'insurance'], ['age', 'los', 'gender'], ['age', 'los', 'insurance'], ['age', 'los', 'insurance', 'gender', 'ethnicity'], ['age', 'los', 'insurance', 'gender', 'marital_status'], ['age', 'los', 'insurance', 'gender', 'language'], ['age', 'los', 'insurance', 'gender', 'religion'], ['age', 'los', 'insurance', 'gender', 'ethnicity', 'marital_status']]\n",
      "GaussianNB has highest AUC test score of 0.695716\n",
      "RandomForestClassifier has highest accuracy score of 0.717636\n",
      "{'df_er': {'age los gender': ['GaussianNB', 0.68446185148811478], 'age los': ['GaussianNB', 0.68630457774518216], 'age los insurance': ['GaussianNB', 0.6957159393066028], 'age los gender insurance': ['GaussianNB', 0.6969062866496214]}, 'df_ems': {'age los gender': ['GaussianNB', 0.65187170219060875], 'age los': ['DecisionTreeClassifier', 0.65526927292470594], 'age los insurance': ['RandomForestClassifier', 0.65896081716838117], 'age los gender insurance': ['GaussianNB', 0.66083920623453296], 'age los insurance gender ethnicity marital_status': ['AdaBoostClassifier', 0.65398278676214694]}, 'df_language': {'age los gender': ['GaussianNB', 0.62745489212729932], 'age los insurance gender language': ['AdaBoostClassifier', 0.61403931196770689], 'age los': ['GaussianNB', 0.63591278647581895], 'age los insurance': ['GaussianNB', 0.6563752152360961], 'age los gender insurance': ['GaussianNB', 0.6492045397647348]}, 'df_marital_status': {'age los gender': ['GaussianNB', 0.65575191361767082], 'age los insurance gender marital_status': ['GaussianNB', 0.66233010169165329], 'age los': ['DecisionTreeClassifier', 0.65809535308067124], 'age los insurance': ['RandomForestClassifier', 0.66332018372879131], 'age los gender insurance': ['GaussianNB', 0.66422800929601422]}, 'df_ethnicity': {'age los gender': ['GaussianNB', 0.6981347594656413], 'age los insurance gender ethnicity': ['GaussianNB', 0.70360573617704403], 'age los': ['GaussianNB', 0.70039398256631213], 'age los insurance': ['GaussianNB', 0.71233467028557929], 'age los gender insurance': ['GaussianNB', 0.71292094617912949]}, 'df_religion': {'age los gender': ['GaussianNB', 0.68827304990711569], 'age los insurance gender religion': ['GaussianNB', 0.69327556161510151], 'age los': ['GaussianNB', 0.68898929166608325], 'age los insurance': ['GaussianNB', 0.69920928118020764], 'age los gender insurance': ['GaussianNB', 0.69711434883606971]}, 'dfmimic': {'age los gender': ['GaussianNB', 0.69853290323476736], 'age los': ['GaussianNB', 0.69311261002135482], 'age los insurance': ['GaussianNB', 0.71375759895520674], 'age los gender insurance': ['GaussianNB', 0.71247805218304128]}}\n",
      "[['age', 'los'], ['age', 'los', 'gender', 'insurance'], ['age', 'los', 'gender'], ['age', 'los', 'insurance'], ['age', 'los', 'insurance', 'gender', 'ethnicity'], ['age', 'los', 'insurance', 'gender', 'marital_status'], ['age', 'los', 'insurance', 'gender', 'language'], ['age', 'los', 'insurance', 'gender', 'religion'], ['age', 'los', 'insurance', 'gender', 'ethnicity', 'marital_status']]\n",
      "GaussianNB has highest AUC test score of 0.678105\n",
      "AdaBoostClassifier has highest accuracy score of 0.721568\n",
      "{'df_er': {'age los gender': ['GaussianNB', 0.68446185148811478], 'age los': ['GaussianNB', 0.68630457774518216], 'age los insurance': ['GaussianNB', 0.6957159393066028], 'age los gender insurance': ['GaussianNB', 0.6969062866496214], 'age los insurance gender ethnicity religion': ['GaussianNB', 0.67810511613938407]}, 'df_ems': {'age los gender': ['GaussianNB', 0.65187170219060875], 'age los': ['DecisionTreeClassifier', 0.65526927292470594], 'age los insurance': ['RandomForestClassifier', 0.65896081716838117], 'age los gender insurance': ['GaussianNB', 0.66083920623453296], 'age los insurance gender ethnicity marital_status': ['AdaBoostClassifier', 0.65398278676214694]}, 'df_language': {'age los gender': ['GaussianNB', 0.62745489212729932], 'age los insurance gender language': ['AdaBoostClassifier', 0.61403931196770689], 'age los': ['GaussianNB', 0.63591278647581895], 'age los insurance': ['GaussianNB', 0.6563752152360961], 'age los gender insurance': ['GaussianNB', 0.6492045397647348]}, 'df_marital_status': {'age los gender': ['GaussianNB', 0.65575191361767082], 'age los insurance gender marital_status': ['GaussianNB', 0.66233010169165329], 'age los': ['DecisionTreeClassifier', 0.65809535308067124], 'age los insurance': ['RandomForestClassifier', 0.66332018372879131], 'age los gender insurance': ['GaussianNB', 0.66422800929601422]}, 'df_ethnicity': {'age los gender': ['GaussianNB', 0.6981347594656413], 'age los insurance gender ethnicity': ['GaussianNB', 0.70360573617704403], 'age los': ['GaussianNB', 0.70039398256631213], 'age los insurance': ['GaussianNB', 0.71233467028557929], 'age los gender insurance': ['GaussianNB', 0.71292094617912949]}, 'df_religion': {'age los gender': ['GaussianNB', 0.68827304990711569], 'age los insurance gender religion': ['GaussianNB', 0.69327556161510151], 'age los': ['GaussianNB', 0.68898929166608325], 'age los insurance': ['GaussianNB', 0.69920928118020764], 'age los gender insurance': ['GaussianNB', 0.69711434883606971]}, 'dfmimic': {'age los gender': ['GaussianNB', 0.69853290323476736], 'age los': ['GaussianNB', 0.69311261002135482], 'age los insurance': ['GaussianNB', 0.71375759895520674], 'age los gender insurance': ['GaussianNB', 0.71247805218304128]}}\n",
      "[['age', 'los'], ['age', 'los', 'gender', 'insurance'], ['age', 'los', 'gender'], ['age', 'los', 'insurance'], ['age', 'los', 'insurance', 'gender', 'ethnicity'], ['age', 'los', 'insurance', 'gender', 'marital_status'], ['age', 'los', 'insurance', 'gender', 'language'], ['age', 'los', 'insurance', 'gender', 'religion'], ['age', 'los', 'insurance', 'gender', 'ethnicity', 'marital_status'], ['age', 'los', 'insurance', 'gender', 'ethnicity', 'religion']]\n"
     ]
    }
   ],
   "source": [
    "#Merge ethnicity and religion\n",
    "df_er = df_ethnicity.merge(df_religion, how='inner',\n",
    "                                           on = ['age', 'gender', 'los', 'insurance', 'expire_flag', 'subject_id'])\n",
    "df_er.name = 'df_er'\n",
    "print len(df_er.index)\n",
    "\n",
    "#Get baseline features data\n",
    "baseline_features(df_er, previous_features, 10)   \n",
    "\n",
    "#Find best classifier with 'age' 'los' 'insurance' 'ethnicity' 'religion' and 'gender' features\n",
    "er_features = ['age', 'los', 'insurance', 'gender', 'ethnicity', 'religion']\n",
    "\n",
    "classifier_for_features(df_er, er_features, 10)"
   ]
  },
  {
   "cell_type": "code",
   "execution_count": 42,
   "metadata": {
    "collapsed": false
   },
   "outputs": [
    {
     "name": "stdout",
     "output_type": "stream",
     "text": [
      "21358\n",
      "GaussianNB has highest AUC test score of 0.634833\n",
      "AdaBoostClassifier has highest accuracy score of 0.707734\n",
      "{'df_er': {'age los gender': ['GaussianNB', 0.68446185148811478], 'age los': ['GaussianNB', 0.68630457774518216], 'age los insurance': ['GaussianNB', 0.6957159393066028], 'age los gender insurance': ['GaussianNB', 0.6969062866496214], 'age los insurance gender ethnicity religion': ['GaussianNB', 0.67810511613938407]}, 'df_ems': {'age los gender': ['GaussianNB', 0.65187170219060875], 'age los': ['DecisionTreeClassifier', 0.65526927292470594], 'age los insurance': ['RandomForestClassifier', 0.65896081716838117], 'age los gender insurance': ['GaussianNB', 0.66083920623453296], 'age los insurance gender ethnicity marital_status': ['AdaBoostClassifier', 0.65398278676214694]}, 'df_language': {'age los gender': ['GaussianNB', 0.62745489212729932], 'age los insurance gender language': ['AdaBoostClassifier', 0.61403931196770689], 'age los': ['GaussianNB', 0.63591278647581895], 'age los insurance': ['GaussianNB', 0.6563752152360961], 'age los gender insurance': ['GaussianNB', 0.6492045397647348]}, 'df_marital_status': {'age los gender': ['GaussianNB', 0.65575191361767082], 'age los insurance gender marital_status': ['GaussianNB', 0.66233010169165329], 'age los': ['DecisionTreeClassifier', 0.65809535308067124], 'age los insurance': ['RandomForestClassifier', 0.66332018372879131], 'age los gender insurance': ['GaussianNB', 0.66422800929601422]}, 'df_ethnicity': {'age los gender': ['GaussianNB', 0.6981347594656413], 'age los insurance gender ethnicity': ['GaussianNB', 0.70360573617704403], 'age los': ['GaussianNB', 0.70039398256631213], 'age los insurance': ['GaussianNB', 0.71233467028557929], 'age los gender insurance': ['GaussianNB', 0.71292094617912949]}, 'df_religion': {'age los gender': ['GaussianNB', 0.68827304990711569], 'age los insurance gender religion': ['GaussianNB', 0.69327556161510151], 'age los': ['GaussianNB', 0.68898929166608325], 'age los insurance': ['GaussianNB', 0.69920928118020764], 'age los gender insurance': ['GaussianNB', 0.69711434883606971]}, 'df_el': {'age los': ['GaussianNB', 0.63483342163790479]}, 'dfmimic': {'age los gender': ['GaussianNB', 0.69853290323476736], 'age los': ['GaussianNB', 0.69311261002135482], 'age los insurance': ['GaussianNB', 0.71375759895520674], 'age los gender insurance': ['GaussianNB', 0.71247805218304128]}}\n",
      "[['age', 'los'], ['age', 'los', 'gender', 'insurance'], ['age', 'los', 'gender'], ['age', 'los', 'insurance'], ['age', 'los', 'insurance', 'gender', 'ethnicity'], ['age', 'los', 'insurance', 'gender', 'marital_status'], ['age', 'los', 'insurance', 'gender', 'language'], ['age', 'los', 'insurance', 'gender', 'religion'], ['age', 'los', 'insurance', 'gender', 'ethnicity', 'marital_status'], ['age', 'los', 'insurance', 'gender', 'ethnicity', 'religion']]\n",
      "GaussianNB has highest AUC test score of 0.652000\n",
      "AdaBoostClassifier has highest accuracy score of 0.710449\n",
      "{'df_er': {'age los gender': ['GaussianNB', 0.68446185148811478], 'age los': ['GaussianNB', 0.68630457774518216], 'age los insurance': ['GaussianNB', 0.6957159393066028], 'age los gender insurance': ['GaussianNB', 0.6969062866496214], 'age los insurance gender ethnicity religion': ['GaussianNB', 0.67810511613938407]}, 'df_ems': {'age los gender': ['GaussianNB', 0.65187170219060875], 'age los': ['DecisionTreeClassifier', 0.65526927292470594], 'age los insurance': ['RandomForestClassifier', 0.65896081716838117], 'age los gender insurance': ['GaussianNB', 0.66083920623453296], 'age los insurance gender ethnicity marital_status': ['AdaBoostClassifier', 0.65398278676214694]}, 'df_language': {'age los gender': ['GaussianNB', 0.62745489212729932], 'age los insurance gender language': ['AdaBoostClassifier', 0.61403931196770689], 'age los': ['GaussianNB', 0.63591278647581895], 'age los insurance': ['GaussianNB', 0.6563752152360961], 'age los gender insurance': ['GaussianNB', 0.6492045397647348]}, 'df_marital_status': {'age los gender': ['GaussianNB', 0.65575191361767082], 'age los insurance gender marital_status': ['GaussianNB', 0.66233010169165329], 'age los': ['DecisionTreeClassifier', 0.65809535308067124], 'age los insurance': ['RandomForestClassifier', 0.66332018372879131], 'age los gender insurance': ['GaussianNB', 0.66422800929601422]}, 'df_ethnicity': {'age los gender': ['GaussianNB', 0.6981347594656413], 'age los insurance gender ethnicity': ['GaussianNB', 0.70360573617704403], 'age los': ['GaussianNB', 0.70039398256631213], 'age los insurance': ['GaussianNB', 0.71233467028557929], 'age los gender insurance': ['GaussianNB', 0.71292094617912949]}, 'df_religion': {'age los gender': ['GaussianNB', 0.68827304990711569], 'age los insurance gender religion': ['GaussianNB', 0.69327556161510151], 'age los': ['GaussianNB', 0.68898929166608325], 'age los insurance': ['GaussianNB', 0.69920928118020764], 'age los gender insurance': ['GaussianNB', 0.69711434883606971]}, 'df_el': {'age los': ['GaussianNB', 0.63483342163790479], 'age los gender insurance': ['GaussianNB', 0.65199955359076256]}, 'dfmimic': {'age los gender': ['GaussianNB', 0.69853290323476736], 'age los': ['GaussianNB', 0.69311261002135482], 'age los insurance': ['GaussianNB', 0.71375759895520674], 'age los gender insurance': ['GaussianNB', 0.71247805218304128]}}\n",
      "[['age', 'los'], ['age', 'los', 'gender', 'insurance'], ['age', 'los', 'gender'], ['age', 'los', 'insurance'], ['age', 'los', 'insurance', 'gender', 'ethnicity'], ['age', 'los', 'insurance', 'gender', 'marital_status'], ['age', 'los', 'insurance', 'gender', 'language'], ['age', 'los', 'insurance', 'gender', 'religion'], ['age', 'los', 'insurance', 'gender', 'ethnicity', 'marital_status'], ['age', 'los', 'insurance', 'gender', 'ethnicity', 'religion']]\n",
      "GaussianNB has highest AUC test score of 0.633075\n",
      "AdaBoostClassifier has highest accuracy score of 0.707978\n",
      "{'df_er': {'age los gender': ['GaussianNB', 0.68446185148811478], 'age los': ['GaussianNB', 0.68630457774518216], 'age los insurance': ['GaussianNB', 0.6957159393066028], 'age los gender insurance': ['GaussianNB', 0.6969062866496214], 'age los insurance gender ethnicity religion': ['GaussianNB', 0.67810511613938407]}, 'df_ems': {'age los gender': ['GaussianNB', 0.65187170219060875], 'age los': ['DecisionTreeClassifier', 0.65526927292470594], 'age los insurance': ['RandomForestClassifier', 0.65896081716838117], 'age los gender insurance': ['GaussianNB', 0.66083920623453296], 'age los insurance gender ethnicity marital_status': ['AdaBoostClassifier', 0.65398278676214694]}, 'df_language': {'age los gender': ['GaussianNB', 0.62745489212729932], 'age los insurance gender language': ['AdaBoostClassifier', 0.61403931196770689], 'age los': ['GaussianNB', 0.63591278647581895], 'age los insurance': ['GaussianNB', 0.6563752152360961], 'age los gender insurance': ['GaussianNB', 0.6492045397647348]}, 'df_marital_status': {'age los gender': ['GaussianNB', 0.65575191361767082], 'age los insurance gender marital_status': ['GaussianNB', 0.66233010169165329], 'age los': ['DecisionTreeClassifier', 0.65809535308067124], 'age los insurance': ['RandomForestClassifier', 0.66332018372879131], 'age los gender insurance': ['GaussianNB', 0.66422800929601422]}, 'df_ethnicity': {'age los gender': ['GaussianNB', 0.6981347594656413], 'age los insurance gender ethnicity': ['GaussianNB', 0.70360573617704403], 'age los': ['GaussianNB', 0.70039398256631213], 'age los insurance': ['GaussianNB', 0.71233467028557929], 'age los gender insurance': ['GaussianNB', 0.71292094617912949]}, 'df_religion': {'age los gender': ['GaussianNB', 0.68827304990711569], 'age los insurance gender religion': ['GaussianNB', 0.69327556161510151], 'age los': ['GaussianNB', 0.68898929166608325], 'age los insurance': ['GaussianNB', 0.69920928118020764], 'age los gender insurance': ['GaussianNB', 0.69711434883606971]}, 'df_el': {'age los gender': ['GaussianNB', 0.63307474010023246], 'age los': ['GaussianNB', 0.63483342163790479], 'age los gender insurance': ['GaussianNB', 0.65199955359076256]}, 'dfmimic': {'age los gender': ['GaussianNB', 0.69853290323476736], 'age los': ['GaussianNB', 0.69311261002135482], 'age los insurance': ['GaussianNB', 0.71375759895520674], 'age los gender insurance': ['GaussianNB', 0.71247805218304128]}}\n",
      "[['age', 'los'], ['age', 'los', 'gender', 'insurance'], ['age', 'los', 'gender'], ['age', 'los', 'insurance'], ['age', 'los', 'insurance', 'gender', 'ethnicity'], ['age', 'los', 'insurance', 'gender', 'marital_status'], ['age', 'los', 'insurance', 'gender', 'language'], ['age', 'los', 'insurance', 'gender', 'religion'], ['age', 'los', 'insurance', 'gender', 'ethnicity', 'marital_status'], ['age', 'los', 'insurance', 'gender', 'ethnicity', 'religion']]\n",
      "GaussianNB has highest AUC test score of 0.653921\n",
      "AdaBoostClassifier has highest accuracy score of 0.708165\n",
      "{'df_er': {'age los gender': ['GaussianNB', 0.68446185148811478], 'age los': ['GaussianNB', 0.68630457774518216], 'age los insurance': ['GaussianNB', 0.6957159393066028], 'age los gender insurance': ['GaussianNB', 0.6969062866496214], 'age los insurance gender ethnicity religion': ['GaussianNB', 0.67810511613938407]}, 'df_ems': {'age los gender': ['GaussianNB', 0.65187170219060875], 'age los': ['DecisionTreeClassifier', 0.65526927292470594], 'age los insurance': ['RandomForestClassifier', 0.65896081716838117], 'age los gender insurance': ['GaussianNB', 0.66083920623453296], 'age los insurance gender ethnicity marital_status': ['AdaBoostClassifier', 0.65398278676214694]}, 'df_language': {'age los gender': ['GaussianNB', 0.62745489212729932], 'age los insurance gender language': ['AdaBoostClassifier', 0.61403931196770689], 'age los': ['GaussianNB', 0.63591278647581895], 'age los insurance': ['GaussianNB', 0.6563752152360961], 'age los gender insurance': ['GaussianNB', 0.6492045397647348]}, 'df_marital_status': {'age los gender': ['GaussianNB', 0.65575191361767082], 'age los insurance gender marital_status': ['GaussianNB', 0.66233010169165329], 'age los': ['DecisionTreeClassifier', 0.65809535308067124], 'age los insurance': ['RandomForestClassifier', 0.66332018372879131], 'age los gender insurance': ['GaussianNB', 0.66422800929601422]}, 'df_ethnicity': {'age los gender': ['GaussianNB', 0.6981347594656413], 'age los insurance gender ethnicity': ['GaussianNB', 0.70360573617704403], 'age los': ['GaussianNB', 0.70039398256631213], 'age los insurance': ['GaussianNB', 0.71233467028557929], 'age los gender insurance': ['GaussianNB', 0.71292094617912949]}, 'df_religion': {'age los gender': ['GaussianNB', 0.68827304990711569], 'age los insurance gender religion': ['GaussianNB', 0.69327556161510151], 'age los': ['GaussianNB', 0.68898929166608325], 'age los insurance': ['GaussianNB', 0.69920928118020764], 'age los gender insurance': ['GaussianNB', 0.69711434883606971]}, 'df_el': {'age los gender': ['GaussianNB', 0.63307474010023246], 'age los': ['GaussianNB', 0.63483342163790479], 'age los insurance': ['GaussianNB', 0.65392141109072033], 'age los gender insurance': ['GaussianNB', 0.65199955359076256]}, 'dfmimic': {'age los gender': ['GaussianNB', 0.69853290323476736], 'age los': ['GaussianNB', 0.69311261002135482], 'age los insurance': ['GaussianNB', 0.71375759895520674], 'age los gender insurance': ['GaussianNB', 0.71247805218304128]}}\n",
      "[['age', 'los'], ['age', 'los', 'gender', 'insurance'], ['age', 'los', 'gender'], ['age', 'los', 'insurance'], ['age', 'los', 'insurance', 'gender', 'ethnicity'], ['age', 'los', 'insurance', 'gender', 'marital_status'], ['age', 'los', 'insurance', 'gender', 'language'], ['age', 'los', 'insurance', 'gender', 'religion'], ['age', 'los', 'insurance', 'gender', 'ethnicity', 'marital_status'], ['age', 'los', 'insurance', 'gender', 'ethnicity', 'religion']]\n",
      "AdaBoostClassifier has highest AUC test score of 0.617872\n",
      "AdaBoostClassifier has highest accuracy score of 0.711199\n",
      "{'df_er': {'age los gender': ['GaussianNB', 0.68446185148811478], 'age los': ['GaussianNB', 0.68630457774518216], 'age los insurance': ['GaussianNB', 0.6957159393066028], 'age los gender insurance': ['GaussianNB', 0.6969062866496214], 'age los insurance gender ethnicity religion': ['GaussianNB', 0.67810511613938407]}, 'df_ems': {'age los gender': ['GaussianNB', 0.65187170219060875], 'age los': ['DecisionTreeClassifier', 0.65526927292470594], 'age los insurance': ['RandomForestClassifier', 0.65896081716838117], 'age los gender insurance': ['GaussianNB', 0.66083920623453296], 'age los insurance gender ethnicity marital_status': ['AdaBoostClassifier', 0.65398278676214694]}, 'df_language': {'age los gender': ['GaussianNB', 0.62745489212729932], 'age los insurance gender language': ['AdaBoostClassifier', 0.61403931196770689], 'age los': ['GaussianNB', 0.63591278647581895], 'age los insurance': ['GaussianNB', 0.6563752152360961], 'age los gender insurance': ['GaussianNB', 0.6492045397647348]}, 'df_marital_status': {'age los gender': ['GaussianNB', 0.65575191361767082], 'age los insurance gender marital_status': ['GaussianNB', 0.66233010169165329], 'age los': ['DecisionTreeClassifier', 0.65809535308067124], 'age los insurance': ['RandomForestClassifier', 0.66332018372879131], 'age los gender insurance': ['GaussianNB', 0.66422800929601422]}, 'df_ethnicity': {'age los gender': ['GaussianNB', 0.6981347594656413], 'age los insurance gender ethnicity': ['GaussianNB', 0.70360573617704403], 'age los': ['GaussianNB', 0.70039398256631213], 'age los insurance': ['GaussianNB', 0.71233467028557929], 'age los gender insurance': ['GaussianNB', 0.71292094617912949]}, 'df_religion': {'age los gender': ['GaussianNB', 0.68827304990711569], 'age los insurance gender religion': ['GaussianNB', 0.69327556161510151], 'age los': ['GaussianNB', 0.68898929166608325], 'age los insurance': ['GaussianNB', 0.69920928118020764], 'age los gender insurance': ['GaussianNB', 0.69711434883606971]}, 'df_el': {'age los gender': ['GaussianNB', 0.63307474010023246], 'age los insurance gender ethnicity language': ['AdaBoostClassifier', 0.61787228123012417], 'age los': ['GaussianNB', 0.63483342163790479], 'age los insurance': ['GaussianNB', 0.65392141109072033], 'age los gender insurance': ['GaussianNB', 0.65199955359076256]}, 'dfmimic': {'age los gender': ['GaussianNB', 0.69853290323476736], 'age los': ['GaussianNB', 0.69311261002135482], 'age los insurance': ['GaussianNB', 0.71375759895520674], 'age los gender insurance': ['GaussianNB', 0.71247805218304128]}}\n",
      "[['age', 'los'], ['age', 'los', 'gender', 'insurance'], ['age', 'los', 'gender'], ['age', 'los', 'insurance'], ['age', 'los', 'insurance', 'gender', 'ethnicity'], ['age', 'los', 'insurance', 'gender', 'marital_status'], ['age', 'los', 'insurance', 'gender', 'language'], ['age', 'los', 'insurance', 'gender', 'religion'], ['age', 'los', 'insurance', 'gender', 'ethnicity', 'marital_status'], ['age', 'los', 'insurance', 'gender', 'ethnicity', 'religion'], ['age', 'los', 'insurance', 'gender', 'ethnicity', 'language']]\n"
     ]
    }
   ],
   "source": [
    "#Merge ethnicity and language\n",
    "df_el = df_ethnicity.merge(df_language, how='inner',\n",
    "                                           on = ['age', 'gender', 'los', 'insurance', 'expire_flag', 'subject_id'])\n",
    "df_el.name = 'df_el'\n",
    "print len(df_el.index)\n",
    "\n",
    "#Get baseline features data\n",
    "baseline_features(df_el, previous_features, 10)   \n",
    "\n",
    "#Find best classifier with 'age' 'los' 'insurance' 'ethnicity' 'language' and 'gender' features\n",
    "el_features = ['age', 'los', 'insurance', 'gender', 'ethnicity', 'language']\n",
    "\n",
    "classifier_for_features(df_el, el_features, 10)"
   ]
  },
  {
   "cell_type": "code",
   "execution_count": 43,
   "metadata": {
    "collapsed": false
   },
   "outputs": [
    {
     "name": "stdout",
     "output_type": "stream",
     "text": [
      "32489\n",
      "RandomForestClassifier has highest AUC test score of 0.642205\n",
      "AdaBoostClassifier has highest accuracy score of 0.680007\n",
      "{'df_er': {'age los gender': ['GaussianNB', 0.68446185148811478], 'age los': ['GaussianNB', 0.68630457774518216], 'age los insurance': ['GaussianNB', 0.6957159393066028], 'age los gender insurance': ['GaussianNB', 0.6969062866496214], 'age los insurance gender ethnicity religion': ['GaussianNB', 0.67810511613938407]}, 'df_ems': {'age los gender': ['GaussianNB', 0.65187170219060875], 'age los': ['DecisionTreeClassifier', 0.65526927292470594], 'age los insurance': ['RandomForestClassifier', 0.65896081716838117], 'age los gender insurance': ['GaussianNB', 0.66083920623453296], 'age los insurance gender ethnicity marital_status': ['AdaBoostClassifier', 0.65398278676214694]}, 'df_language': {'age los gender': ['GaussianNB', 0.62745489212729932], 'age los insurance gender language': ['AdaBoostClassifier', 0.61403931196770689], 'age los': ['GaussianNB', 0.63591278647581895], 'age los insurance': ['GaussianNB', 0.6563752152360961], 'age los gender insurance': ['GaussianNB', 0.6492045397647348]}, 'df_marital_status': {'age los gender': ['GaussianNB', 0.65575191361767082], 'age los insurance gender marital_status': ['GaussianNB', 0.66233010169165329], 'age los': ['DecisionTreeClassifier', 0.65809535308067124], 'age los insurance': ['RandomForestClassifier', 0.66332018372879131], 'age los gender insurance': ['GaussianNB', 0.66422800929601422]}, 'df_ethnicity': {'age los gender': ['GaussianNB', 0.6981347594656413], 'age los insurance gender ethnicity': ['GaussianNB', 0.70360573617704403], 'age los': ['GaussianNB', 0.70039398256631213], 'age los insurance': ['GaussianNB', 0.71233467028557929], 'age los gender insurance': ['GaussianNB', 0.71292094617912949]}, 'df_religion': {'age los gender': ['GaussianNB', 0.68827304990711569], 'age los insurance gender religion': ['GaussianNB', 0.69327556161510151], 'age los': ['GaussianNB', 0.68898929166608325], 'age los insurance': ['GaussianNB', 0.69920928118020764], 'age los gender insurance': ['GaussianNB', 0.69711434883606971]}, 'df_el': {'age los gender': ['GaussianNB', 0.63307474010023246], 'age los insurance gender ethnicity language': ['AdaBoostClassifier', 0.61787228123012417], 'age los': ['GaussianNB', 0.63483342163790479], 'age los insurance': ['GaussianNB', 0.65392141109072033], 'age los gender insurance': ['GaussianNB', 0.65199955359076256]}, 'dfmimic': {'age los gender': ['GaussianNB', 0.69853290323476736], 'age los': ['GaussianNB', 0.69311261002135482], 'age los insurance': ['GaussianNB', 0.71375759895520674], 'age los gender insurance': ['GaussianNB', 0.71247805218304128]}, 'df_msr': {'age los': ['RandomForestClassifier', 0.64220493623027763]}}\n",
      "[['age', 'los'], ['age', 'los', 'gender', 'insurance'], ['age', 'los', 'gender'], ['age', 'los', 'insurance'], ['age', 'los', 'insurance', 'gender', 'ethnicity'], ['age', 'los', 'insurance', 'gender', 'marital_status'], ['age', 'los', 'insurance', 'gender', 'language'], ['age', 'los', 'insurance', 'gender', 'religion'], ['age', 'los', 'insurance', 'gender', 'ethnicity', 'marital_status'], ['age', 'los', 'insurance', 'gender', 'ethnicity', 'religion'], ['age', 'los', 'insurance', 'gender', 'ethnicity', 'language']]\n",
      "GaussianNB has highest AUC test score of 0.661010\n",
      "AdaBoostClassifier has highest accuracy score of 0.681817\n",
      "{'df_er': {'age los gender': ['GaussianNB', 0.68446185148811478], 'age los': ['GaussianNB', 0.68630457774518216], 'age los insurance': ['GaussianNB', 0.6957159393066028], 'age los gender insurance': ['GaussianNB', 0.6969062866496214], 'age los insurance gender ethnicity religion': ['GaussianNB', 0.67810511613938407]}, 'df_ems': {'age los gender': ['GaussianNB', 0.65187170219060875], 'age los': ['DecisionTreeClassifier', 0.65526927292470594], 'age los insurance': ['RandomForestClassifier', 0.65896081716838117], 'age los gender insurance': ['GaussianNB', 0.66083920623453296], 'age los insurance gender ethnicity marital_status': ['AdaBoostClassifier', 0.65398278676214694]}, 'df_language': {'age los gender': ['GaussianNB', 0.62745489212729932], 'age los insurance gender language': ['AdaBoostClassifier', 0.61403931196770689], 'age los': ['GaussianNB', 0.63591278647581895], 'age los insurance': ['GaussianNB', 0.6563752152360961], 'age los gender insurance': ['GaussianNB', 0.6492045397647348]}, 'df_marital_status': {'age los gender': ['GaussianNB', 0.65575191361767082], 'age los insurance gender marital_status': ['GaussianNB', 0.66233010169165329], 'age los': ['DecisionTreeClassifier', 0.65809535308067124], 'age los insurance': ['RandomForestClassifier', 0.66332018372879131], 'age los gender insurance': ['GaussianNB', 0.66422800929601422]}, 'df_ethnicity': {'age los gender': ['GaussianNB', 0.6981347594656413], 'age los insurance gender ethnicity': ['GaussianNB', 0.70360573617704403], 'age los': ['GaussianNB', 0.70039398256631213], 'age los insurance': ['GaussianNB', 0.71233467028557929], 'age los gender insurance': ['GaussianNB', 0.71292094617912949]}, 'df_religion': {'age los gender': ['GaussianNB', 0.68827304990711569], 'age los insurance gender religion': ['GaussianNB', 0.69327556161510151], 'age los': ['GaussianNB', 0.68898929166608325], 'age los insurance': ['GaussianNB', 0.69920928118020764], 'age los gender insurance': ['GaussianNB', 0.69711434883606971]}, 'df_el': {'age los gender': ['GaussianNB', 0.63307474010023246], 'age los insurance gender ethnicity language': ['AdaBoostClassifier', 0.61787228123012417], 'age los': ['GaussianNB', 0.63483342163790479], 'age los insurance': ['GaussianNB', 0.65392141109072033], 'age los gender insurance': ['GaussianNB', 0.65199955359076256]}, 'dfmimic': {'age los gender': ['GaussianNB', 0.69853290323476736], 'age los': ['GaussianNB', 0.69311261002135482], 'age los insurance': ['GaussianNB', 0.71375759895520674], 'age los gender insurance': ['GaussianNB', 0.71247805218304128]}, 'df_msr': {'age los': ['RandomForestClassifier', 0.64220493623027763], 'age los gender insurance': ['GaussianNB', 0.66101026664135276]}}\n",
      "[['age', 'los'], ['age', 'los', 'gender', 'insurance'], ['age', 'los', 'gender'], ['age', 'los', 'insurance'], ['age', 'los', 'insurance', 'gender', 'ethnicity'], ['age', 'los', 'insurance', 'gender', 'marital_status'], ['age', 'los', 'insurance', 'gender', 'language'], ['age', 'los', 'insurance', 'gender', 'religion'], ['age', 'los', 'insurance', 'gender', 'ethnicity', 'marital_status'], ['age', 'los', 'insurance', 'gender', 'ethnicity', 'religion'], ['age', 'los', 'insurance', 'gender', 'ethnicity', 'language']]\n",
      "GaussianNB has highest AUC test score of 0.645207\n",
      "AdaBoostClassifier has highest accuracy score of 0.679220\n",
      "{'df_er': {'age los gender': ['GaussianNB', 0.68446185148811478], 'age los': ['GaussianNB', 0.68630457774518216], 'age los insurance': ['GaussianNB', 0.6957159393066028], 'age los gender insurance': ['GaussianNB', 0.6969062866496214], 'age los insurance gender ethnicity religion': ['GaussianNB', 0.67810511613938407]}, 'df_ems': {'age los gender': ['GaussianNB', 0.65187170219060875], 'age los': ['DecisionTreeClassifier', 0.65526927292470594], 'age los insurance': ['RandomForestClassifier', 0.65896081716838117], 'age los gender insurance': ['GaussianNB', 0.66083920623453296], 'age los insurance gender ethnicity marital_status': ['AdaBoostClassifier', 0.65398278676214694]}, 'df_language': {'age los gender': ['GaussianNB', 0.62745489212729932], 'age los insurance gender language': ['AdaBoostClassifier', 0.61403931196770689], 'age los': ['GaussianNB', 0.63591278647581895], 'age los insurance': ['GaussianNB', 0.6563752152360961], 'age los gender insurance': ['GaussianNB', 0.6492045397647348]}, 'df_marital_status': {'age los gender': ['GaussianNB', 0.65575191361767082], 'age los insurance gender marital_status': ['GaussianNB', 0.66233010169165329], 'age los': ['DecisionTreeClassifier', 0.65809535308067124], 'age los insurance': ['RandomForestClassifier', 0.66332018372879131], 'age los gender insurance': ['GaussianNB', 0.66422800929601422]}, 'df_ethnicity': {'age los gender': ['GaussianNB', 0.6981347594656413], 'age los insurance gender ethnicity': ['GaussianNB', 0.70360573617704403], 'age los': ['GaussianNB', 0.70039398256631213], 'age los insurance': ['GaussianNB', 0.71233467028557929], 'age los gender insurance': ['GaussianNB', 0.71292094617912949]}, 'df_religion': {'age los gender': ['GaussianNB', 0.68827304990711569], 'age los insurance gender religion': ['GaussianNB', 0.69327556161510151], 'age los': ['GaussianNB', 0.68898929166608325], 'age los insurance': ['GaussianNB', 0.69920928118020764], 'age los gender insurance': ['GaussianNB', 0.69711434883606971]}, 'df_el': {'age los gender': ['GaussianNB', 0.63307474010023246], 'age los insurance gender ethnicity language': ['AdaBoostClassifier', 0.61787228123012417], 'age los': ['GaussianNB', 0.63483342163790479], 'age los insurance': ['GaussianNB', 0.65392141109072033], 'age los gender insurance': ['GaussianNB', 0.65199955359076256]}, 'dfmimic': {'age los gender': ['GaussianNB', 0.69853290323476736], 'age los': ['GaussianNB', 0.69311261002135482], 'age los insurance': ['GaussianNB', 0.71375759895520674], 'age los gender insurance': ['GaussianNB', 0.71247805218304128]}, 'df_msr': {'age los gender': ['GaussianNB', 0.64520727845699422], 'age los': ['RandomForestClassifier', 0.64220493623027763], 'age los gender insurance': ['GaussianNB', 0.66101026664135276]}}\n",
      "[['age', 'los'], ['age', 'los', 'gender', 'insurance'], ['age', 'los', 'gender'], ['age', 'los', 'insurance'], ['age', 'los', 'insurance', 'gender', 'ethnicity'], ['age', 'los', 'insurance', 'gender', 'marital_status'], ['age', 'los', 'insurance', 'gender', 'language'], ['age', 'los', 'insurance', 'gender', 'religion'], ['age', 'los', 'insurance', 'gender', 'ethnicity', 'marital_status'], ['age', 'los', 'insurance', 'gender', 'ethnicity', 'religion'], ['age', 'los', 'insurance', 'gender', 'ethnicity', 'language']]\n",
      "GaussianNB has highest AUC test score of 0.660141\n",
      "AdaBoostClassifier has highest accuracy score of 0.680291\n",
      "{'df_er': {'age los gender': ['GaussianNB', 0.68446185148811478], 'age los': ['GaussianNB', 0.68630457774518216], 'age los insurance': ['GaussianNB', 0.6957159393066028], 'age los gender insurance': ['GaussianNB', 0.6969062866496214], 'age los insurance gender ethnicity religion': ['GaussianNB', 0.67810511613938407]}, 'df_ems': {'age los gender': ['GaussianNB', 0.65187170219060875], 'age los': ['DecisionTreeClassifier', 0.65526927292470594], 'age los insurance': ['RandomForestClassifier', 0.65896081716838117], 'age los gender insurance': ['GaussianNB', 0.66083920623453296], 'age los insurance gender ethnicity marital_status': ['AdaBoostClassifier', 0.65398278676214694]}, 'df_language': {'age los gender': ['GaussianNB', 0.62745489212729932], 'age los insurance gender language': ['AdaBoostClassifier', 0.61403931196770689], 'age los': ['GaussianNB', 0.63591278647581895], 'age los insurance': ['GaussianNB', 0.6563752152360961], 'age los gender insurance': ['GaussianNB', 0.6492045397647348]}, 'df_marital_status': {'age los gender': ['GaussianNB', 0.65575191361767082], 'age los insurance gender marital_status': ['GaussianNB', 0.66233010169165329], 'age los': ['DecisionTreeClassifier', 0.65809535308067124], 'age los insurance': ['RandomForestClassifier', 0.66332018372879131], 'age los gender insurance': ['GaussianNB', 0.66422800929601422]}, 'df_ethnicity': {'age los gender': ['GaussianNB', 0.6981347594656413], 'age los insurance gender ethnicity': ['GaussianNB', 0.70360573617704403], 'age los': ['GaussianNB', 0.70039398256631213], 'age los insurance': ['GaussianNB', 0.71233467028557929], 'age los gender insurance': ['GaussianNB', 0.71292094617912949]}, 'df_religion': {'age los gender': ['GaussianNB', 0.68827304990711569], 'age los insurance gender religion': ['GaussianNB', 0.69327556161510151], 'age los': ['GaussianNB', 0.68898929166608325], 'age los insurance': ['GaussianNB', 0.69920928118020764], 'age los gender insurance': ['GaussianNB', 0.69711434883606971]}, 'df_el': {'age los gender': ['GaussianNB', 0.63307474010023246], 'age los insurance gender ethnicity language': ['AdaBoostClassifier', 0.61787228123012417], 'age los': ['GaussianNB', 0.63483342163790479], 'age los insurance': ['GaussianNB', 0.65392141109072033], 'age los gender insurance': ['GaussianNB', 0.65199955359076256]}, 'dfmimic': {'age los gender': ['GaussianNB', 0.69853290323476736], 'age los': ['GaussianNB', 0.69311261002135482], 'age los insurance': ['GaussianNB', 0.71375759895520674], 'age los gender insurance': ['GaussianNB', 0.71247805218304128]}, 'df_msr': {'age los gender': ['GaussianNB', 0.64520727845699422], 'age los': ['RandomForestClassifier', 0.64220493623027763], 'age los insurance': ['GaussianNB', 0.66014067665530329], 'age los gender insurance': ['GaussianNB', 0.66101026664135276]}}\n",
      "[['age', 'los'], ['age', 'los', 'gender', 'insurance'], ['age', 'los', 'gender'], ['age', 'los', 'insurance'], ['age', 'los', 'insurance', 'gender', 'ethnicity'], ['age', 'los', 'insurance', 'gender', 'marital_status'], ['age', 'los', 'insurance', 'gender', 'language'], ['age', 'los', 'insurance', 'gender', 'religion'], ['age', 'los', 'insurance', 'gender', 'ethnicity', 'marital_status'], ['age', 'los', 'insurance', 'gender', 'ethnicity', 'religion'], ['age', 'los', 'insurance', 'gender', 'ethnicity', 'language']]\n",
      "GaussianNB has highest AUC test score of 0.653111\n",
      "AdaBoostClassifier has highest accuracy score of 0.681645\n",
      "{'df_er': {'age los gender': ['GaussianNB', 0.68446185148811478], 'age los': ['GaussianNB', 0.68630457774518216], 'age los insurance': ['GaussianNB', 0.6957159393066028], 'age los gender insurance': ['GaussianNB', 0.6969062866496214], 'age los insurance gender ethnicity religion': ['GaussianNB', 0.67810511613938407]}, 'df_ems': {'age los gender': ['GaussianNB', 0.65187170219060875], 'age los': ['DecisionTreeClassifier', 0.65526927292470594], 'age los insurance': ['RandomForestClassifier', 0.65896081716838117], 'age los gender insurance': ['GaussianNB', 0.66083920623453296], 'age los insurance gender ethnicity marital_status': ['AdaBoostClassifier', 0.65398278676214694]}, 'df_language': {'age los gender': ['GaussianNB', 0.62745489212729932], 'age los insurance gender language': ['AdaBoostClassifier', 0.61403931196770689], 'age los': ['GaussianNB', 0.63591278647581895], 'age los insurance': ['GaussianNB', 0.6563752152360961], 'age los gender insurance': ['GaussianNB', 0.6492045397647348]}, 'df_marital_status': {'age los gender': ['GaussianNB', 0.65575191361767082], 'age los insurance gender marital_status': ['GaussianNB', 0.66233010169165329], 'age los': ['DecisionTreeClassifier', 0.65809535308067124], 'age los insurance': ['RandomForestClassifier', 0.66332018372879131], 'age los gender insurance': ['GaussianNB', 0.66422800929601422]}, 'df_ethnicity': {'age los gender': ['GaussianNB', 0.6981347594656413], 'age los insurance gender ethnicity': ['GaussianNB', 0.70360573617704403], 'age los': ['GaussianNB', 0.70039398256631213], 'age los insurance': ['GaussianNB', 0.71233467028557929], 'age los gender insurance': ['GaussianNB', 0.71292094617912949]}, 'df_religion': {'age los gender': ['GaussianNB', 0.68827304990711569], 'age los insurance gender religion': ['GaussianNB', 0.69327556161510151], 'age los': ['GaussianNB', 0.68898929166608325], 'age los insurance': ['GaussianNB', 0.69920928118020764], 'age los gender insurance': ['GaussianNB', 0.69711434883606971]}, 'df_el': {'age los gender': ['GaussianNB', 0.63307474010023246], 'age los insurance gender ethnicity language': ['AdaBoostClassifier', 0.61787228123012417], 'age los': ['GaussianNB', 0.63483342163790479], 'age los insurance': ['GaussianNB', 0.65392141109072033], 'age los gender insurance': ['GaussianNB', 0.65199955359076256]}, 'dfmimic': {'age los gender': ['GaussianNB', 0.69853290323476736], 'age los': ['GaussianNB', 0.69311261002135482], 'age los insurance': ['GaussianNB', 0.71375759895520674], 'age los gender insurance': ['GaussianNB', 0.71247805218304128]}, 'df_msr': {'age los gender': ['GaussianNB', 0.64520727845699422], 'age los insurance gender marital_status religion': ['GaussianNB', 0.65311078248626075], 'age los': ['RandomForestClassifier', 0.64220493623027763], 'age los insurance': ['GaussianNB', 0.66014067665530329], 'age los gender insurance': ['GaussianNB', 0.66101026664135276]}}\n",
      "[['age', 'los'], ['age', 'los', 'gender', 'insurance'], ['age', 'los', 'gender'], ['age', 'los', 'insurance'], ['age', 'los', 'insurance', 'gender', 'ethnicity'], ['age', 'los', 'insurance', 'gender', 'marital_status'], ['age', 'los', 'insurance', 'gender', 'language'], ['age', 'los', 'insurance', 'gender', 'religion'], ['age', 'los', 'insurance', 'gender', 'ethnicity', 'marital_status'], ['age', 'los', 'insurance', 'gender', 'ethnicity', 'religion'], ['age', 'los', 'insurance', 'gender', 'ethnicity', 'language'], ['age', 'los', 'insurance', 'gender', 'marital_status', 'religion']]\n"
     ]
    }
   ],
   "source": [
    "#Merge marital_status and religion\n",
    "df_msr = df_marital_status.merge(df_religion, how='inner',\n",
    "                                           on = ['age', 'gender', 'los', 'insurance', 'expire_flag', 'subject_id'])\n",
    "df_msr.name = 'df_msr'\n",
    "print len(df_msr.index)\n",
    "\n",
    "#Get baseline features data\n",
    "baseline_features(df_msr, previous_features, 10)   \n",
    "\n",
    "#Find best classifier with 'age' 'los' 'insurance' 'religion' 'marital_status' and 'gender' features\n",
    "msr_features = ['age', 'los', 'insurance', 'gender', 'marital_status', 'religion']\n",
    "\n",
    "classifier_for_features(df_msr, msr_features, 10)"
   ]
  },
  {
   "cell_type": "code",
   "execution_count": 45,
   "metadata": {
    "collapsed": false
   },
   "outputs": [
    {
     "name": "stdout",
     "output_type": "stream",
     "text": [
      "23859\n",
      "GaussianNB has highest AUC test score of 0.623955\n",
      "AdaBoostClassifier has highest accuracy score of 0.711769\n",
      "{'df_msl': {'age los': ['GaussianNB', 0.62395481882304282]}, 'df_er': {'age los gender': ['GaussianNB', 0.68446185148811478], 'age los': ['GaussianNB', 0.68630457774518216], 'age los insurance': ['GaussianNB', 0.6957159393066028], 'age los gender insurance': ['GaussianNB', 0.6969062866496214], 'age los insurance gender ethnicity religion': ['GaussianNB', 0.67810511613938407]}, 'df_ems': {'age los gender': ['GaussianNB', 0.65187170219060875], 'age los': ['DecisionTreeClassifier', 0.65526927292470594], 'age los insurance': ['RandomForestClassifier', 0.65896081716838117], 'age los gender insurance': ['GaussianNB', 0.66083920623453296], 'age los insurance gender ethnicity marital_status': ['AdaBoostClassifier', 0.65398278676214694]}, 'df_language': {'age los gender': ['GaussianNB', 0.62745489212729932], 'age los insurance gender language': ['AdaBoostClassifier', 0.61403931196770689], 'age los': ['GaussianNB', 0.63591278647581895], 'age los insurance': ['GaussianNB', 0.6563752152360961], 'age los gender insurance': ['GaussianNB', 0.6492045397647348]}, 'df_marital_status': {'age los gender': ['GaussianNB', 0.65575191361767082], 'age los insurance gender marital_status': ['GaussianNB', 0.66233010169165329], 'age los': ['DecisionTreeClassifier', 0.65809535308067124], 'age los insurance': ['RandomForestClassifier', 0.66332018372879131], 'age los gender insurance': ['GaussianNB', 0.66422800929601422]}, 'df_ethnicity': {'age los gender': ['GaussianNB', 0.6981347594656413], 'age los insurance gender ethnicity': ['GaussianNB', 0.70360573617704403], 'age los': ['GaussianNB', 0.70039398256631213], 'age los insurance': ['GaussianNB', 0.71233467028557929], 'age los gender insurance': ['GaussianNB', 0.71292094617912949]}, 'df_religion': {'age los gender': ['GaussianNB', 0.68827304990711569], 'age los insurance gender religion': ['GaussianNB', 0.69327556161510151], 'age los': ['GaussianNB', 0.68898929166608325], 'age los insurance': ['GaussianNB', 0.69920928118020764], 'age los gender insurance': ['GaussianNB', 0.69711434883606971]}, 'df_el': {'age los gender': ['GaussianNB', 0.63307474010023246], 'age los insurance gender ethnicity language': ['AdaBoostClassifier', 0.61787228123012417], 'age los': ['GaussianNB', 0.63483342163790479], 'age los insurance': ['GaussianNB', 0.65392141109072033], 'age los gender insurance': ['GaussianNB', 0.65199955359076256]}, 'dfmimic': {'age los gender': ['GaussianNB', 0.69853290323476736], 'age los': ['GaussianNB', 0.69311261002135482], 'age los insurance': ['GaussianNB', 0.71375759895520674], 'age los gender insurance': ['GaussianNB', 0.71247805218304128]}, 'df_msr': {'age los gender': ['GaussianNB', 0.64520727845699422], 'age los insurance gender marital_status religion': ['GaussianNB', 0.65311078248626075], 'age los': ['RandomForestClassifier', 0.64220493623027763], 'age los insurance': ['GaussianNB', 0.66014067665530329], 'age los gender insurance': ['GaussianNB', 0.66101026664135276]}}\n",
      "[['age', 'los'], ['age', 'los', 'gender', 'insurance'], ['age', 'los', 'gender'], ['age', 'los', 'insurance'], ['age', 'los', 'insurance', 'gender', 'ethnicity'], ['age', 'los', 'insurance', 'gender', 'marital_status'], ['age', 'los', 'insurance', 'gender', 'language'], ['age', 'los', 'insurance', 'gender', 'religion'], ['age', 'los', 'insurance', 'gender', 'ethnicity', 'marital_status'], ['age', 'los', 'insurance', 'gender', 'ethnicity', 'religion'], ['age', 'los', 'insurance', 'gender', 'ethnicity', 'language'], ['age', 'los', 'insurance', 'gender', 'marital_status', 'religion']]\n",
      "GaussianNB has highest AUC test score of 0.654043\n",
      "AdaBoostClassifier has highest accuracy score of 0.712540\n",
      "{'df_msl': {'age los': ['GaussianNB', 0.62395481882304282], 'age los gender insurance': ['GaussianNB', 0.65404314060948221]}, 'df_er': {'age los gender': ['GaussianNB', 0.68446185148811478], 'age los': ['GaussianNB', 0.68630457774518216], 'age los insurance': ['GaussianNB', 0.6957159393066028], 'age los gender insurance': ['GaussianNB', 0.6969062866496214], 'age los insurance gender ethnicity religion': ['GaussianNB', 0.67810511613938407]}, 'df_ems': {'age los gender': ['GaussianNB', 0.65187170219060875], 'age los': ['DecisionTreeClassifier', 0.65526927292470594], 'age los insurance': ['RandomForestClassifier', 0.65896081716838117], 'age los gender insurance': ['GaussianNB', 0.66083920623453296], 'age los insurance gender ethnicity marital_status': ['AdaBoostClassifier', 0.65398278676214694]}, 'df_language': {'age los gender': ['GaussianNB', 0.62745489212729932], 'age los insurance gender language': ['AdaBoostClassifier', 0.61403931196770689], 'age los': ['GaussianNB', 0.63591278647581895], 'age los insurance': ['GaussianNB', 0.6563752152360961], 'age los gender insurance': ['GaussianNB', 0.6492045397647348]}, 'df_marital_status': {'age los gender': ['GaussianNB', 0.65575191361767082], 'age los insurance gender marital_status': ['GaussianNB', 0.66233010169165329], 'age los': ['DecisionTreeClassifier', 0.65809535308067124], 'age los insurance': ['RandomForestClassifier', 0.66332018372879131], 'age los gender insurance': ['GaussianNB', 0.66422800929601422]}, 'df_ethnicity': {'age los gender': ['GaussianNB', 0.6981347594656413], 'age los insurance gender ethnicity': ['GaussianNB', 0.70360573617704403], 'age los': ['GaussianNB', 0.70039398256631213], 'age los insurance': ['GaussianNB', 0.71233467028557929], 'age los gender insurance': ['GaussianNB', 0.71292094617912949]}, 'df_religion': {'age los gender': ['GaussianNB', 0.68827304990711569], 'age los insurance gender religion': ['GaussianNB', 0.69327556161510151], 'age los': ['GaussianNB', 0.68898929166608325], 'age los insurance': ['GaussianNB', 0.69920928118020764], 'age los gender insurance': ['GaussianNB', 0.69711434883606971]}, 'df_el': {'age los gender': ['GaussianNB', 0.63307474010023246], 'age los insurance gender ethnicity language': ['AdaBoostClassifier', 0.61787228123012417], 'age los': ['GaussianNB', 0.63483342163790479], 'age los insurance': ['GaussianNB', 0.65392141109072033], 'age los gender insurance': ['GaussianNB', 0.65199955359076256]}, 'dfmimic': {'age los gender': ['GaussianNB', 0.69853290323476736], 'age los': ['GaussianNB', 0.69311261002135482], 'age los insurance': ['GaussianNB', 0.71375759895520674], 'age los gender insurance': ['GaussianNB', 0.71247805218304128]}, 'df_msr': {'age los gender': ['GaussianNB', 0.64520727845699422], 'age los insurance gender marital_status religion': ['GaussianNB', 0.65311078248626075], 'age los': ['RandomForestClassifier', 0.64220493623027763], 'age los insurance': ['GaussianNB', 0.66014067665530329], 'age los gender insurance': ['GaussianNB', 0.66101026664135276]}}\n",
      "[['age', 'los'], ['age', 'los', 'gender', 'insurance'], ['age', 'los', 'gender'], ['age', 'los', 'insurance'], ['age', 'los', 'insurance', 'gender', 'ethnicity'], ['age', 'los', 'insurance', 'gender', 'marital_status'], ['age', 'los', 'insurance', 'gender', 'language'], ['age', 'los', 'insurance', 'gender', 'religion'], ['age', 'los', 'insurance', 'gender', 'ethnicity', 'marital_status'], ['age', 'los', 'insurance', 'gender', 'ethnicity', 'religion'], ['age', 'los', 'insurance', 'gender', 'ethnicity', 'language'], ['age', 'los', 'insurance', 'gender', 'marital_status', 'religion']]\n",
      "GaussianNB has highest AUC test score of 0.621455\n",
      "AdaBoostClassifier has highest accuracy score of 0.713060\n",
      "{'df_msl': {'age los gender': ['GaussianNB', 0.62145495374603998], 'age los': ['GaussianNB', 0.62395481882304282], 'age los gender insurance': ['GaussianNB', 0.65404314060948221]}, 'df_er': {'age los gender': ['GaussianNB', 0.68446185148811478], 'age los': ['GaussianNB', 0.68630457774518216], 'age los insurance': ['GaussianNB', 0.6957159393066028], 'age los gender insurance': ['GaussianNB', 0.6969062866496214], 'age los insurance gender ethnicity religion': ['GaussianNB', 0.67810511613938407]}, 'df_ems': {'age los gender': ['GaussianNB', 0.65187170219060875], 'age los': ['DecisionTreeClassifier', 0.65526927292470594], 'age los insurance': ['RandomForestClassifier', 0.65896081716838117], 'age los gender insurance': ['GaussianNB', 0.66083920623453296], 'age los insurance gender ethnicity marital_status': ['AdaBoostClassifier', 0.65398278676214694]}, 'df_language': {'age los gender': ['GaussianNB', 0.62745489212729932], 'age los insurance gender language': ['AdaBoostClassifier', 0.61403931196770689], 'age los': ['GaussianNB', 0.63591278647581895], 'age los insurance': ['GaussianNB', 0.6563752152360961], 'age los gender insurance': ['GaussianNB', 0.6492045397647348]}, 'df_marital_status': {'age los gender': ['GaussianNB', 0.65575191361767082], 'age los insurance gender marital_status': ['GaussianNB', 0.66233010169165329], 'age los': ['DecisionTreeClassifier', 0.65809535308067124], 'age los insurance': ['RandomForestClassifier', 0.66332018372879131], 'age los gender insurance': ['GaussianNB', 0.66422800929601422]}, 'df_ethnicity': {'age los gender': ['GaussianNB', 0.6981347594656413], 'age los insurance gender ethnicity': ['GaussianNB', 0.70360573617704403], 'age los': ['GaussianNB', 0.70039398256631213], 'age los insurance': ['GaussianNB', 0.71233467028557929], 'age los gender insurance': ['GaussianNB', 0.71292094617912949]}, 'df_religion': {'age los gender': ['GaussianNB', 0.68827304990711569], 'age los insurance gender religion': ['GaussianNB', 0.69327556161510151], 'age los': ['GaussianNB', 0.68898929166608325], 'age los insurance': ['GaussianNB', 0.69920928118020764], 'age los gender insurance': ['GaussianNB', 0.69711434883606971]}, 'df_el': {'age los gender': ['GaussianNB', 0.63307474010023246], 'age los insurance gender ethnicity language': ['AdaBoostClassifier', 0.61787228123012417], 'age los': ['GaussianNB', 0.63483342163790479], 'age los insurance': ['GaussianNB', 0.65392141109072033], 'age los gender insurance': ['GaussianNB', 0.65199955359076256]}, 'dfmimic': {'age los gender': ['GaussianNB', 0.69853290323476736], 'age los': ['GaussianNB', 0.69311261002135482], 'age los insurance': ['GaussianNB', 0.71375759895520674], 'age los gender insurance': ['GaussianNB', 0.71247805218304128]}, 'df_msr': {'age los gender': ['GaussianNB', 0.64520727845699422], 'age los insurance gender marital_status religion': ['GaussianNB', 0.65311078248626075], 'age los': ['RandomForestClassifier', 0.64220493623027763], 'age los insurance': ['GaussianNB', 0.66014067665530329], 'age los gender insurance': ['GaussianNB', 0.66101026664135276]}}\n",
      "[['age', 'los'], ['age', 'los', 'gender', 'insurance'], ['age', 'los', 'gender'], ['age', 'los', 'insurance'], ['age', 'los', 'insurance', 'gender', 'ethnicity'], ['age', 'los', 'insurance', 'gender', 'marital_status'], ['age', 'los', 'insurance', 'gender', 'language'], ['age', 'los', 'insurance', 'gender', 'religion'], ['age', 'los', 'insurance', 'gender', 'ethnicity', 'marital_status'], ['age', 'los', 'insurance', 'gender', 'ethnicity', 'religion'], ['age', 'los', 'insurance', 'gender', 'ethnicity', 'language'], ['age', 'los', 'insurance', 'gender', 'marital_status', 'religion']]\n",
      "GaussianNB has highest AUC test score of 0.655985\n",
      "AdaBoostClassifier has highest accuracy score of 0.714300\n",
      "{'df_msl': {'age los gender': ['GaussianNB', 0.62145495374603998], 'age los': ['GaussianNB', 0.62395481882304282], 'age los insurance': ['GaussianNB', 0.6559854679987579], 'age los gender insurance': ['GaussianNB', 0.65404314060948221]}, 'df_er': {'age los gender': ['GaussianNB', 0.68446185148811478], 'age los': ['GaussianNB', 0.68630457774518216], 'age los insurance': ['GaussianNB', 0.6957159393066028], 'age los gender insurance': ['GaussianNB', 0.6969062866496214], 'age los insurance gender ethnicity religion': ['GaussianNB', 0.67810511613938407]}, 'df_ems': {'age los gender': ['GaussianNB', 0.65187170219060875], 'age los': ['DecisionTreeClassifier', 0.65526927292470594], 'age los insurance': ['RandomForestClassifier', 0.65896081716838117], 'age los gender insurance': ['GaussianNB', 0.66083920623453296], 'age los insurance gender ethnicity marital_status': ['AdaBoostClassifier', 0.65398278676214694]}, 'df_language': {'age los gender': ['GaussianNB', 0.62745489212729932], 'age los insurance gender language': ['AdaBoostClassifier', 0.61403931196770689], 'age los': ['GaussianNB', 0.63591278647581895], 'age los insurance': ['GaussianNB', 0.6563752152360961], 'age los gender insurance': ['GaussianNB', 0.6492045397647348]}, 'df_marital_status': {'age los gender': ['GaussianNB', 0.65575191361767082], 'age los insurance gender marital_status': ['GaussianNB', 0.66233010169165329], 'age los': ['DecisionTreeClassifier', 0.65809535308067124], 'age los insurance': ['RandomForestClassifier', 0.66332018372879131], 'age los gender insurance': ['GaussianNB', 0.66422800929601422]}, 'df_ethnicity': {'age los gender': ['GaussianNB', 0.6981347594656413], 'age los insurance gender ethnicity': ['GaussianNB', 0.70360573617704403], 'age los': ['GaussianNB', 0.70039398256631213], 'age los insurance': ['GaussianNB', 0.71233467028557929], 'age los gender insurance': ['GaussianNB', 0.71292094617912949]}, 'df_religion': {'age los gender': ['GaussianNB', 0.68827304990711569], 'age los insurance gender religion': ['GaussianNB', 0.69327556161510151], 'age los': ['GaussianNB', 0.68898929166608325], 'age los insurance': ['GaussianNB', 0.69920928118020764], 'age los gender insurance': ['GaussianNB', 0.69711434883606971]}, 'df_el': {'age los gender': ['GaussianNB', 0.63307474010023246], 'age los insurance gender ethnicity language': ['AdaBoostClassifier', 0.61787228123012417], 'age los': ['GaussianNB', 0.63483342163790479], 'age los insurance': ['GaussianNB', 0.65392141109072033], 'age los gender insurance': ['GaussianNB', 0.65199955359076256]}, 'dfmimic': {'age los gender': ['GaussianNB', 0.69853290323476736], 'age los': ['GaussianNB', 0.69311261002135482], 'age los insurance': ['GaussianNB', 0.71375759895520674], 'age los gender insurance': ['GaussianNB', 0.71247805218304128]}, 'df_msr': {'age los gender': ['GaussianNB', 0.64520727845699422], 'age los insurance gender marital_status religion': ['GaussianNB', 0.65311078248626075], 'age los': ['RandomForestClassifier', 0.64220493623027763], 'age los insurance': ['GaussianNB', 0.66014067665530329], 'age los gender insurance': ['GaussianNB', 0.66101026664135276]}}\n",
      "[['age', 'los'], ['age', 'los', 'gender', 'insurance'], ['age', 'los', 'gender'], ['age', 'los', 'insurance'], ['age', 'los', 'insurance', 'gender', 'ethnicity'], ['age', 'los', 'insurance', 'gender', 'marital_status'], ['age', 'los', 'insurance', 'gender', 'language'], ['age', 'los', 'insurance', 'gender', 'religion'], ['age', 'los', 'insurance', 'gender', 'ethnicity', 'marital_status'], ['age', 'los', 'insurance', 'gender', 'ethnicity', 'religion'], ['age', 'los', 'insurance', 'gender', 'ethnicity', 'language'], ['age', 'los', 'insurance', 'gender', 'marital_status', 'religion']]\n",
      "AdaBoostClassifier has highest AUC test score of 0.611698\n",
      "AdaBoostClassifier has highest accuracy score of 0.716044\n",
      "{'df_msl': {'age los gender': ['GaussianNB', 0.62145495374603998], 'age los': ['GaussianNB', 0.62395481882304282], 'age los insurance': ['GaussianNB', 0.6559854679987579], 'age los gender insurance': ['GaussianNB', 0.65404314060948221], 'age los insurance gender marital_status language': ['AdaBoostClassifier', 0.61169805375786357]}, 'df_er': {'age los gender': ['GaussianNB', 0.68446185148811478], 'age los': ['GaussianNB', 0.68630457774518216], 'age los insurance': ['GaussianNB', 0.6957159393066028], 'age los gender insurance': ['GaussianNB', 0.6969062866496214], 'age los insurance gender ethnicity religion': ['GaussianNB', 0.67810511613938407]}, 'df_ems': {'age los gender': ['GaussianNB', 0.65187170219060875], 'age los': ['DecisionTreeClassifier', 0.65526927292470594], 'age los insurance': ['RandomForestClassifier', 0.65896081716838117], 'age los gender insurance': ['GaussianNB', 0.66083920623453296], 'age los insurance gender ethnicity marital_status': ['AdaBoostClassifier', 0.65398278676214694]}, 'df_language': {'age los gender': ['GaussianNB', 0.62745489212729932], 'age los insurance gender language': ['AdaBoostClassifier', 0.61403931196770689], 'age los': ['GaussianNB', 0.63591278647581895], 'age los insurance': ['GaussianNB', 0.6563752152360961], 'age los gender insurance': ['GaussianNB', 0.6492045397647348]}, 'df_marital_status': {'age los gender': ['GaussianNB', 0.65575191361767082], 'age los insurance gender marital_status': ['GaussianNB', 0.66233010169165329], 'age los': ['DecisionTreeClassifier', 0.65809535308067124], 'age los insurance': ['RandomForestClassifier', 0.66332018372879131], 'age los gender insurance': ['GaussianNB', 0.66422800929601422]}, 'df_ethnicity': {'age los gender': ['GaussianNB', 0.6981347594656413], 'age los insurance gender ethnicity': ['GaussianNB', 0.70360573617704403], 'age los': ['GaussianNB', 0.70039398256631213], 'age los insurance': ['GaussianNB', 0.71233467028557929], 'age los gender insurance': ['GaussianNB', 0.71292094617912949]}, 'df_religion': {'age los gender': ['GaussianNB', 0.68827304990711569], 'age los insurance gender religion': ['GaussianNB', 0.69327556161510151], 'age los': ['GaussianNB', 0.68898929166608325], 'age los insurance': ['GaussianNB', 0.69920928118020764], 'age los gender insurance': ['GaussianNB', 0.69711434883606971]}, 'df_el': {'age los gender': ['GaussianNB', 0.63307474010023246], 'age los insurance gender ethnicity language': ['AdaBoostClassifier', 0.61787228123012417], 'age los': ['GaussianNB', 0.63483342163790479], 'age los insurance': ['GaussianNB', 0.65392141109072033], 'age los gender insurance': ['GaussianNB', 0.65199955359076256]}, 'dfmimic': {'age los gender': ['GaussianNB', 0.69853290323476736], 'age los': ['GaussianNB', 0.69311261002135482], 'age los insurance': ['GaussianNB', 0.71375759895520674], 'age los gender insurance': ['GaussianNB', 0.71247805218304128]}, 'df_msr': {'age los gender': ['GaussianNB', 0.64520727845699422], 'age los insurance gender marital_status religion': ['GaussianNB', 0.65311078248626075], 'age los': ['RandomForestClassifier', 0.64220493623027763], 'age los insurance': ['GaussianNB', 0.66014067665530329], 'age los gender insurance': ['GaussianNB', 0.66101026664135276]}}\n",
      "[['age', 'los'], ['age', 'los', 'gender', 'insurance'], ['age', 'los', 'gender'], ['age', 'los', 'insurance'], ['age', 'los', 'insurance', 'gender', 'ethnicity'], ['age', 'los', 'insurance', 'gender', 'marital_status'], ['age', 'los', 'insurance', 'gender', 'language'], ['age', 'los', 'insurance', 'gender', 'religion'], ['age', 'los', 'insurance', 'gender', 'ethnicity', 'marital_status'], ['age', 'los', 'insurance', 'gender', 'ethnicity', 'religion'], ['age', 'los', 'insurance', 'gender', 'ethnicity', 'language'], ['age', 'los', 'insurance', 'gender', 'marital_status', 'religion'], ['age', 'los', 'insurance', 'gender', 'marital_status', 'language']]\n"
     ]
    }
   ],
   "source": [
    "#Merge marital_status and language\n",
    "df_msl = df_marital_status.merge(df_language, how='inner',\n",
    "                                           on = ['age', 'gender', 'los', 'insurance', 'expire_flag', 'subject_id'])\n",
    "df_msl.name = 'df_msl'\n",
    "print len(df_msl.index)\n",
    "\n",
    "\n",
    "\n",
    "#Get baseline features data\n",
    "baseline_features(df_msl, previous_features, 10)   \n",
    "\n",
    "#Find best classifier with 'age' 'los' 'insurance' 'language' 'marital_status' and 'gender' features\n",
    "msl_features = ['age', 'los', 'insurance', 'gender', 'marital_status', 'language']\n",
    "\n",
    "classifier_for_features(df_msl, msl_features, 10)"
   ]
  },
  {
   "cell_type": "code",
   "execution_count": 47,
   "metadata": {
    "collapsed": false
   },
   "outputs": [
    {
     "name": "stdout",
     "output_type": "stream",
     "text": [
      "32489\n",
      "GaussianNB has highest AUC test score of 0.623808\n",
      "AdaBoostClassifier has highest accuracy score of 0.713751\n",
      "{'df_msl': {'age los gender': ['GaussianNB', 0.62145495374603998], 'age los': ['GaussianNB', 0.62395481882304282], 'age los insurance': ['GaussianNB', 0.6559854679987579], 'age los gender insurance': ['GaussianNB', 0.65404314060948221], 'age los insurance gender marital_status language': ['AdaBoostClassifier', 0.61169805375786357]}, 'df_er': {'age los gender': ['GaussianNB', 0.68446185148811478], 'age los': ['GaussianNB', 0.68630457774518216], 'age los insurance': ['GaussianNB', 0.6957159393066028], 'age los gender insurance': ['GaussianNB', 0.6969062866496214], 'age los insurance gender ethnicity religion': ['GaussianNB', 0.67810511613938407]}, 'df_ems': {'age los gender': ['GaussianNB', 0.65187170219060875], 'age los': ['DecisionTreeClassifier', 0.65526927292470594], 'age los insurance': ['RandomForestClassifier', 0.65896081716838117], 'age los gender insurance': ['GaussianNB', 0.66083920623453296], 'age los insurance gender ethnicity marital_status': ['AdaBoostClassifier', 0.65398278676214694]}, 'df_language': {'age los gender': ['GaussianNB', 0.62745489212729932], 'age los insurance gender language': ['AdaBoostClassifier', 0.61403931196770689], 'age los': ['GaussianNB', 0.63591278647581895], 'age los insurance': ['GaussianNB', 0.6563752152360961], 'age los gender insurance': ['GaussianNB', 0.6492045397647348]}, 'df_marital_status': {'age los gender': ['GaussianNB', 0.65575191361767082], 'age los insurance gender marital_status': ['GaussianNB', 0.66233010169165329], 'age los': ['DecisionTreeClassifier', 0.65809535308067124], 'age los insurance': ['RandomForestClassifier', 0.66332018372879131], 'age los gender insurance': ['GaussianNB', 0.66422800929601422]}, 'df_ethnicity': {'age los gender': ['GaussianNB', 0.6981347594656413], 'age los insurance gender ethnicity': ['GaussianNB', 0.70360573617704403], 'age los': ['GaussianNB', 0.70039398256631213], 'age los insurance': ['GaussianNB', 0.71233467028557929], 'age los gender insurance': ['GaussianNB', 0.71292094617912949]}, 'df_religion': {'age los gender': ['GaussianNB', 0.68827304990711569], 'age los insurance gender religion': ['GaussianNB', 0.69327556161510151], 'age los': ['GaussianNB', 0.68898929166608325], 'age los insurance': ['GaussianNB', 0.69920928118020764], 'age los gender insurance': ['GaussianNB', 0.69711434883606971]}, 'df_rl': {'age los gender': ['GaussianNB', 0.6272028993827552], 'age los': ['GaussianNB', 0.62422095827725332, 'GaussianNB', 0.62380819241340923], 'age los insurance': ['GaussianNB', 0.65381826499813145], 'age los gender insurance': ['GaussianNB', 0.65392827150829602]}, 'df_el': {'age los gender': ['GaussianNB', 0.63307474010023246], 'age los insurance gender ethnicity language': ['AdaBoostClassifier', 0.61787228123012417], 'age los': ['GaussianNB', 0.63483342163790479], 'age los insurance': ['GaussianNB', 0.65392141109072033], 'age los gender insurance': ['GaussianNB', 0.65199955359076256]}, 'dfmimic': {'age los gender': ['GaussianNB', 0.69853290323476736], 'age los': ['GaussianNB', 0.69311261002135482], 'age los insurance': ['GaussianNB', 0.71375759895520674], 'age los gender insurance': ['GaussianNB', 0.71247805218304128]}, 'df_msr': {'age los gender': ['GaussianNB', 0.64520727845699422], 'age los insurance gender marital_status religion': ['GaussianNB', 0.65311078248626075], 'age los': ['RandomForestClassifier', 0.64220493623027763], 'age los insurance': ['GaussianNB', 0.66014067665530329], 'age los gender insurance': ['GaussianNB', 0.66101026664135276]}}\n",
      "[['age', 'los'], ['age', 'los', 'gender', 'insurance'], ['age', 'los', 'gender'], ['age', 'los', 'insurance'], ['age', 'los', 'insurance', 'gender', 'ethnicity'], ['age', 'los', 'insurance', 'gender', 'marital_status'], ['age', 'los', 'insurance', 'gender', 'language'], ['age', 'los', 'insurance', 'gender', 'religion'], ['age', 'los', 'insurance', 'gender', 'ethnicity', 'marital_status'], ['age', 'los', 'insurance', 'gender', 'ethnicity', 'religion'], ['age', 'los', 'insurance', 'gender', 'ethnicity', 'language'], ['age', 'los', 'insurance', 'gender', 'marital_status', 'religion'], ['age', 'los', 'insurance', 'gender', 'marital_status', 'language']]\n",
      "GaussianNB has highest AUC test score of 0.653057\n",
      "AdaBoostClassifier has highest accuracy score of 0.715033\n",
      "{'df_msl': {'age los gender': ['GaussianNB', 0.62145495374603998], 'age los': ['GaussianNB', 0.62395481882304282], 'age los insurance': ['GaussianNB', 0.6559854679987579], 'age los gender insurance': ['GaussianNB', 0.65404314060948221], 'age los insurance gender marital_status language': ['AdaBoostClassifier', 0.61169805375786357]}, 'df_er': {'age los gender': ['GaussianNB', 0.68446185148811478], 'age los': ['GaussianNB', 0.68630457774518216], 'age los insurance': ['GaussianNB', 0.6957159393066028], 'age los gender insurance': ['GaussianNB', 0.6969062866496214], 'age los insurance gender ethnicity religion': ['GaussianNB', 0.67810511613938407]}, 'df_ems': {'age los gender': ['GaussianNB', 0.65187170219060875], 'age los': ['DecisionTreeClassifier', 0.65526927292470594], 'age los insurance': ['RandomForestClassifier', 0.65896081716838117], 'age los gender insurance': ['GaussianNB', 0.66083920623453296], 'age los insurance gender ethnicity marital_status': ['AdaBoostClassifier', 0.65398278676214694]}, 'df_language': {'age los gender': ['GaussianNB', 0.62745489212729932], 'age los insurance gender language': ['AdaBoostClassifier', 0.61403931196770689], 'age los': ['GaussianNB', 0.63591278647581895], 'age los insurance': ['GaussianNB', 0.6563752152360961], 'age los gender insurance': ['GaussianNB', 0.6492045397647348]}, 'df_marital_status': {'age los gender': ['GaussianNB', 0.65575191361767082], 'age los insurance gender marital_status': ['GaussianNB', 0.66233010169165329], 'age los': ['DecisionTreeClassifier', 0.65809535308067124], 'age los insurance': ['RandomForestClassifier', 0.66332018372879131], 'age los gender insurance': ['GaussianNB', 0.66422800929601422]}, 'df_ethnicity': {'age los gender': ['GaussianNB', 0.6981347594656413], 'age los insurance gender ethnicity': ['GaussianNB', 0.70360573617704403], 'age los': ['GaussianNB', 0.70039398256631213], 'age los insurance': ['GaussianNB', 0.71233467028557929], 'age los gender insurance': ['GaussianNB', 0.71292094617912949]}, 'df_religion': {'age los gender': ['GaussianNB', 0.68827304990711569], 'age los insurance gender religion': ['GaussianNB', 0.69327556161510151], 'age los': ['GaussianNB', 0.68898929166608325], 'age los insurance': ['GaussianNB', 0.69920928118020764], 'age los gender insurance': ['GaussianNB', 0.69711434883606971]}, 'df_rl': {'age los gender': ['GaussianNB', 0.6272028993827552], 'age los': ['GaussianNB', 0.62422095827725332, 'GaussianNB', 0.62380819241340923], 'age los insurance': ['GaussianNB', 0.65381826499813145], 'age los gender insurance': ['GaussianNB', 0.65392827150829602, 'GaussianNB', 0.65305683507720613]}, 'df_el': {'age los gender': ['GaussianNB', 0.63307474010023246], 'age los insurance gender ethnicity language': ['AdaBoostClassifier', 0.61787228123012417], 'age los': ['GaussianNB', 0.63483342163790479], 'age los insurance': ['GaussianNB', 0.65392141109072033], 'age los gender insurance': ['GaussianNB', 0.65199955359076256]}, 'dfmimic': {'age los gender': ['GaussianNB', 0.69853290323476736], 'age los': ['GaussianNB', 0.69311261002135482], 'age los insurance': ['GaussianNB', 0.71375759895520674], 'age los gender insurance': ['GaussianNB', 0.71247805218304128]}, 'df_msr': {'age los gender': ['GaussianNB', 0.64520727845699422], 'age los insurance gender marital_status religion': ['GaussianNB', 0.65311078248626075], 'age los': ['RandomForestClassifier', 0.64220493623027763], 'age los insurance': ['GaussianNB', 0.66014067665530329], 'age los gender insurance': ['GaussianNB', 0.66101026664135276]}}\n",
      "[['age', 'los'], ['age', 'los', 'gender', 'insurance'], ['age', 'los', 'gender'], ['age', 'los', 'insurance'], ['age', 'los', 'insurance', 'gender', 'ethnicity'], ['age', 'los', 'insurance', 'gender', 'marital_status'], ['age', 'los', 'insurance', 'gender', 'language'], ['age', 'los', 'insurance', 'gender', 'religion'], ['age', 'los', 'insurance', 'gender', 'ethnicity', 'marital_status'], ['age', 'los', 'insurance', 'gender', 'ethnicity', 'religion'], ['age', 'los', 'insurance', 'gender', 'ethnicity', 'language'], ['age', 'los', 'insurance', 'gender', 'marital_status', 'religion'], ['age', 'los', 'insurance', 'gender', 'marital_status', 'language']]\n",
      "GaussianNB has highest AUC test score of 0.627378\n",
      "AdaBoostClassifier has highest accuracy score of 0.717492\n",
      "{'df_msl': {'age los gender': ['GaussianNB', 0.62145495374603998], 'age los': ['GaussianNB', 0.62395481882304282], 'age los insurance': ['GaussianNB', 0.6559854679987579], 'age los gender insurance': ['GaussianNB', 0.65404314060948221], 'age los insurance gender marital_status language': ['AdaBoostClassifier', 0.61169805375786357]}, 'df_er': {'age los gender': ['GaussianNB', 0.68446185148811478], 'age los': ['GaussianNB', 0.68630457774518216], 'age los insurance': ['GaussianNB', 0.6957159393066028], 'age los gender insurance': ['GaussianNB', 0.6969062866496214], 'age los insurance gender ethnicity religion': ['GaussianNB', 0.67810511613938407]}, 'df_ems': {'age los gender': ['GaussianNB', 0.65187170219060875], 'age los': ['DecisionTreeClassifier', 0.65526927292470594], 'age los insurance': ['RandomForestClassifier', 0.65896081716838117], 'age los gender insurance': ['GaussianNB', 0.66083920623453296], 'age los insurance gender ethnicity marital_status': ['AdaBoostClassifier', 0.65398278676214694]}, 'df_language': {'age los gender': ['GaussianNB', 0.62745489212729932], 'age los insurance gender language': ['AdaBoostClassifier', 0.61403931196770689], 'age los': ['GaussianNB', 0.63591278647581895], 'age los insurance': ['GaussianNB', 0.6563752152360961], 'age los gender insurance': ['GaussianNB', 0.6492045397647348]}, 'df_marital_status': {'age los gender': ['GaussianNB', 0.65575191361767082], 'age los insurance gender marital_status': ['GaussianNB', 0.66233010169165329], 'age los': ['DecisionTreeClassifier', 0.65809535308067124], 'age los insurance': ['RandomForestClassifier', 0.66332018372879131], 'age los gender insurance': ['GaussianNB', 0.66422800929601422]}, 'df_ethnicity': {'age los gender': ['GaussianNB', 0.6981347594656413], 'age los insurance gender ethnicity': ['GaussianNB', 0.70360573617704403], 'age los': ['GaussianNB', 0.70039398256631213], 'age los insurance': ['GaussianNB', 0.71233467028557929], 'age los gender insurance': ['GaussianNB', 0.71292094617912949]}, 'df_religion': {'age los gender': ['GaussianNB', 0.68827304990711569], 'age los insurance gender religion': ['GaussianNB', 0.69327556161510151], 'age los': ['GaussianNB', 0.68898929166608325], 'age los insurance': ['GaussianNB', 0.69920928118020764], 'age los gender insurance': ['GaussianNB', 0.69711434883606971]}, 'df_rl': {'age los gender': ['GaussianNB', 0.6272028993827552, 'GaussianNB', 0.62737839779008453], 'age los': ['GaussianNB', 0.62422095827725332, 'GaussianNB', 0.62380819241340923], 'age los insurance': ['GaussianNB', 0.65381826499813145], 'age los gender insurance': ['GaussianNB', 0.65392827150829602, 'GaussianNB', 0.65305683507720613]}, 'df_el': {'age los gender': ['GaussianNB', 0.63307474010023246], 'age los insurance gender ethnicity language': ['AdaBoostClassifier', 0.61787228123012417], 'age los': ['GaussianNB', 0.63483342163790479], 'age los insurance': ['GaussianNB', 0.65392141109072033], 'age los gender insurance': ['GaussianNB', 0.65199955359076256]}, 'dfmimic': {'age los gender': ['GaussianNB', 0.69853290323476736], 'age los': ['GaussianNB', 0.69311261002135482], 'age los insurance': ['GaussianNB', 0.71375759895520674], 'age los gender insurance': ['GaussianNB', 0.71247805218304128]}, 'df_msr': {'age los gender': ['GaussianNB', 0.64520727845699422], 'age los insurance gender marital_status religion': ['GaussianNB', 0.65311078248626075], 'age los': ['RandomForestClassifier', 0.64220493623027763], 'age los insurance': ['GaussianNB', 0.66014067665530329], 'age los gender insurance': ['GaussianNB', 0.66101026664135276]}}\n",
      "[['age', 'los'], ['age', 'los', 'gender', 'insurance'], ['age', 'los', 'gender'], ['age', 'los', 'insurance'], ['age', 'los', 'insurance', 'gender', 'ethnicity'], ['age', 'los', 'insurance', 'gender', 'marital_status'], ['age', 'los', 'insurance', 'gender', 'language'], ['age', 'los', 'insurance', 'gender', 'religion'], ['age', 'los', 'insurance', 'gender', 'ethnicity', 'marital_status'], ['age', 'los', 'insurance', 'gender', 'ethnicity', 'religion'], ['age', 'los', 'insurance', 'gender', 'ethnicity', 'language'], ['age', 'los', 'insurance', 'gender', 'marital_status', 'religion'], ['age', 'los', 'insurance', 'gender', 'marital_status', 'language']]\n",
      "GaussianNB has highest AUC test score of 0.650702\n",
      "AdaBoostClassifier has highest accuracy score of 0.713945\n",
      "{'df_msl': {'age los gender': ['GaussianNB', 0.62145495374603998], 'age los': ['GaussianNB', 0.62395481882304282], 'age los insurance': ['GaussianNB', 0.6559854679987579], 'age los gender insurance': ['GaussianNB', 0.65404314060948221], 'age los insurance gender marital_status language': ['AdaBoostClassifier', 0.61169805375786357]}, 'df_er': {'age los gender': ['GaussianNB', 0.68446185148811478], 'age los': ['GaussianNB', 0.68630457774518216], 'age los insurance': ['GaussianNB', 0.6957159393066028], 'age los gender insurance': ['GaussianNB', 0.6969062866496214], 'age los insurance gender ethnicity religion': ['GaussianNB', 0.67810511613938407]}, 'df_ems': {'age los gender': ['GaussianNB', 0.65187170219060875], 'age los': ['DecisionTreeClassifier', 0.65526927292470594], 'age los insurance': ['RandomForestClassifier', 0.65896081716838117], 'age los gender insurance': ['GaussianNB', 0.66083920623453296], 'age los insurance gender ethnicity marital_status': ['AdaBoostClassifier', 0.65398278676214694]}, 'df_language': {'age los gender': ['GaussianNB', 0.62745489212729932], 'age los insurance gender language': ['AdaBoostClassifier', 0.61403931196770689], 'age los': ['GaussianNB', 0.63591278647581895], 'age los insurance': ['GaussianNB', 0.6563752152360961], 'age los gender insurance': ['GaussianNB', 0.6492045397647348]}, 'df_marital_status': {'age los gender': ['GaussianNB', 0.65575191361767082], 'age los insurance gender marital_status': ['GaussianNB', 0.66233010169165329], 'age los': ['DecisionTreeClassifier', 0.65809535308067124], 'age los insurance': ['RandomForestClassifier', 0.66332018372879131], 'age los gender insurance': ['GaussianNB', 0.66422800929601422]}, 'df_ethnicity': {'age los gender': ['GaussianNB', 0.6981347594656413], 'age los insurance gender ethnicity': ['GaussianNB', 0.70360573617704403], 'age los': ['GaussianNB', 0.70039398256631213], 'age los insurance': ['GaussianNB', 0.71233467028557929], 'age los gender insurance': ['GaussianNB', 0.71292094617912949]}, 'df_religion': {'age los gender': ['GaussianNB', 0.68827304990711569], 'age los insurance gender religion': ['GaussianNB', 0.69327556161510151], 'age los': ['GaussianNB', 0.68898929166608325], 'age los insurance': ['GaussianNB', 0.69920928118020764], 'age los gender insurance': ['GaussianNB', 0.69711434883606971]}, 'df_rl': {'age los gender': ['GaussianNB', 0.6272028993827552, 'GaussianNB', 0.62737839779008453], 'age los': ['GaussianNB', 0.62422095827725332, 'GaussianNB', 0.62380819241340923], 'age los insurance': ['GaussianNB', 0.65381826499813145, 'GaussianNB', 0.65070187895416454], 'age los gender insurance': ['GaussianNB', 0.65392827150829602, 'GaussianNB', 0.65305683507720613]}, 'df_el': {'age los gender': ['GaussianNB', 0.63307474010023246], 'age los insurance gender ethnicity language': ['AdaBoostClassifier', 0.61787228123012417], 'age los': ['GaussianNB', 0.63483342163790479], 'age los insurance': ['GaussianNB', 0.65392141109072033], 'age los gender insurance': ['GaussianNB', 0.65199955359076256]}, 'dfmimic': {'age los gender': ['GaussianNB', 0.69853290323476736], 'age los': ['GaussianNB', 0.69311261002135482], 'age los insurance': ['GaussianNB', 0.71375759895520674], 'age los gender insurance': ['GaussianNB', 0.71247805218304128]}, 'df_msr': {'age los gender': ['GaussianNB', 0.64520727845699422], 'age los insurance gender marital_status religion': ['GaussianNB', 0.65311078248626075], 'age los': ['RandomForestClassifier', 0.64220493623027763], 'age los insurance': ['GaussianNB', 0.66014067665530329], 'age los gender insurance': ['GaussianNB', 0.66101026664135276]}}\n",
      "[['age', 'los'], ['age', 'los', 'gender', 'insurance'], ['age', 'los', 'gender'], ['age', 'los', 'insurance'], ['age', 'los', 'insurance', 'gender', 'ethnicity'], ['age', 'los', 'insurance', 'gender', 'marital_status'], ['age', 'los', 'insurance', 'gender', 'language'], ['age', 'los', 'insurance', 'gender', 'religion'], ['age', 'los', 'insurance', 'gender', 'ethnicity', 'marital_status'], ['age', 'los', 'insurance', 'gender', 'ethnicity', 'religion'], ['age', 'los', 'insurance', 'gender', 'ethnicity', 'language'], ['age', 'los', 'insurance', 'gender', 'marital_status', 'religion'], ['age', 'los', 'insurance', 'gender', 'marital_status', 'language']]\n",
      "AdaBoostClassifier has highest AUC test score of 0.610713\n",
      "AdaBoostClassifier has highest accuracy score of 0.714823\n",
      "{'df_msl': {'age los gender': ['GaussianNB', 0.62145495374603998], 'age los': ['GaussianNB', 0.62395481882304282], 'age los insurance': ['GaussianNB', 0.6559854679987579], 'age los gender insurance': ['GaussianNB', 0.65404314060948221], 'age los insurance gender marital_status language': ['AdaBoostClassifier', 0.61169805375786357]}, 'df_er': {'age los gender': ['GaussianNB', 0.68446185148811478], 'age los': ['GaussianNB', 0.68630457774518216], 'age los insurance': ['GaussianNB', 0.6957159393066028], 'age los gender insurance': ['GaussianNB', 0.6969062866496214], 'age los insurance gender ethnicity religion': ['GaussianNB', 0.67810511613938407]}, 'df_ems': {'age los gender': ['GaussianNB', 0.65187170219060875], 'age los': ['DecisionTreeClassifier', 0.65526927292470594], 'age los insurance': ['RandomForestClassifier', 0.65896081716838117], 'age los gender insurance': ['GaussianNB', 0.66083920623453296], 'age los insurance gender ethnicity marital_status': ['AdaBoostClassifier', 0.65398278676214694]}, 'df_language': {'age los gender': ['GaussianNB', 0.62745489212729932], 'age los insurance gender language': ['AdaBoostClassifier', 0.61403931196770689], 'age los': ['GaussianNB', 0.63591278647581895], 'age los insurance': ['GaussianNB', 0.6563752152360961], 'age los gender insurance': ['GaussianNB', 0.6492045397647348]}, 'df_marital_status': {'age los gender': ['GaussianNB', 0.65575191361767082], 'age los insurance gender marital_status': ['GaussianNB', 0.66233010169165329], 'age los': ['DecisionTreeClassifier', 0.65809535308067124], 'age los insurance': ['RandomForestClassifier', 0.66332018372879131], 'age los gender insurance': ['GaussianNB', 0.66422800929601422]}, 'df_ethnicity': {'age los gender': ['GaussianNB', 0.6981347594656413], 'age los insurance gender ethnicity': ['GaussianNB', 0.70360573617704403], 'age los': ['GaussianNB', 0.70039398256631213], 'age los insurance': ['GaussianNB', 0.71233467028557929], 'age los gender insurance': ['GaussianNB', 0.71292094617912949]}, 'df_religion': {'age los gender': ['GaussianNB', 0.68827304990711569], 'age los insurance gender religion': ['GaussianNB', 0.69327556161510151], 'age los': ['GaussianNB', 0.68898929166608325], 'age los insurance': ['GaussianNB', 0.69920928118020764], 'age los gender insurance': ['GaussianNB', 0.69711434883606971]}, 'df_rl': {'age los gender': ['GaussianNB', 0.6272028993827552, 'GaussianNB', 0.62737839779008453], 'age los insurance gender religion language': ['AdaBoostClassifier', 0.61071332991638183], 'age los': ['GaussianNB', 0.62422095827725332, 'GaussianNB', 0.62380819241340923], 'age los insurance': ['GaussianNB', 0.65381826499813145, 'GaussianNB', 0.65070187895416454], 'age los gender insurance': ['GaussianNB', 0.65392827150829602, 'GaussianNB', 0.65305683507720613]}, 'df_el': {'age los gender': ['GaussianNB', 0.63307474010023246], 'age los insurance gender ethnicity language': ['AdaBoostClassifier', 0.61787228123012417], 'age los': ['GaussianNB', 0.63483342163790479], 'age los insurance': ['GaussianNB', 0.65392141109072033], 'age los gender insurance': ['GaussianNB', 0.65199955359076256]}, 'dfmimic': {'age los gender': ['GaussianNB', 0.69853290323476736], 'age los': ['GaussianNB', 0.69311261002135482], 'age los insurance': ['GaussianNB', 0.71375759895520674], 'age los gender insurance': ['GaussianNB', 0.71247805218304128]}, 'df_msr': {'age los gender': ['GaussianNB', 0.64520727845699422], 'age los insurance gender marital_status religion': ['GaussianNB', 0.65311078248626075], 'age los': ['RandomForestClassifier', 0.64220493623027763], 'age los insurance': ['GaussianNB', 0.66014067665530329], 'age los gender insurance': ['GaussianNB', 0.66101026664135276]}}\n",
      "[['age', 'los'], ['age', 'los', 'gender', 'insurance'], ['age', 'los', 'gender'], ['age', 'los', 'insurance'], ['age', 'los', 'insurance', 'gender', 'ethnicity'], ['age', 'los', 'insurance', 'gender', 'marital_status'], ['age', 'los', 'insurance', 'gender', 'language'], ['age', 'los', 'insurance', 'gender', 'religion'], ['age', 'los', 'insurance', 'gender', 'ethnicity', 'marital_status'], ['age', 'los', 'insurance', 'gender', 'ethnicity', 'religion'], ['age', 'los', 'insurance', 'gender', 'ethnicity', 'language'], ['age', 'los', 'insurance', 'gender', 'marital_status', 'religion'], ['age', 'los', 'insurance', 'gender', 'marital_status', 'language'], ['age', 'los', 'insurance', 'gender', 'religion', 'language']]\n"
     ]
    }
   ],
   "source": [
    "#Merge religion and language\n",
    "df_rl = df_religion.merge(df_language, how='inner',\n",
    "                                           on = ['age', 'gender', 'los', 'insurance', 'expire_flag', 'subject_id'])\n",
    "df_rl.name = 'df_rl'\n",
    "print len(df_msr.index)\n",
    "\n",
    "#Get baseline features data\n",
    "baseline_features(df_rl, previous_features, 10)   \n",
    "\n",
    "#Find best classifier with 'age' 'los' 'insurance' 'language' 'religion' and 'gender' features\n",
    "rl_features = ['age', 'los', 'insurance', 'gender', 'religion', 'language']\n",
    "\n",
    "classifier_for_features(df_rl, rl_features, 10)"
   ]
  },
  {
   "cell_type": "markdown",
   "metadata": {},
   "source": [
    "#### Merge 3 optional features"
   ]
  },
  {
   "cell_type": "code",
   "execution_count": 49,
   "metadata": {
    "collapsed": false
   },
   "outputs": [
    {
     "name": "stdout",
     "output_type": "stream",
     "text": [
      "27970\n",
      "GaussianNB has highest AUC test score of 0.640517\n",
      "AdaBoostClassifier has highest accuracy score of 0.678350\n",
      "{'df_msl': {'age los gender': ['GaussianNB', 0.62145495374603998], 'age los': ['GaussianNB', 0.62395481882304282], 'age los insurance': ['GaussianNB', 0.6559854679987579], 'age los gender insurance': ['GaussianNB', 0.65404314060948221], 'age los insurance gender marital_status language': ['AdaBoostClassifier', 0.61169805375786357]}, 'df_er': {'age los gender': ['GaussianNB', 0.68446185148811478], 'age los': ['GaussianNB', 0.68630457774518216], 'age los insurance': ['GaussianNB', 0.6957159393066028], 'age los gender insurance': ['GaussianNB', 0.6969062866496214], 'age los insurance gender ethnicity religion': ['GaussianNB', 0.67810511613938407]}, 'df_ems': {'age los gender': ['GaussianNB', 0.65187170219060875], 'age los': ['DecisionTreeClassifier', 0.65526927292470594], 'age los insurance': ['RandomForestClassifier', 0.65896081716838117], 'age los gender insurance': ['GaussianNB', 0.66083920623453296], 'age los insurance gender ethnicity marital_status': ['AdaBoostClassifier', 0.65398278676214694]}, 'df_language': {'age los gender': ['GaussianNB', 0.62745489212729932], 'age los insurance gender language': ['AdaBoostClassifier', 0.61403931196770689], 'age los': ['GaussianNB', 0.63591278647581895], 'age los insurance': ['GaussianNB', 0.6563752152360961], 'age los gender insurance': ['GaussianNB', 0.6492045397647348]}, 'df_marital_status': {'age los gender': ['GaussianNB', 0.65575191361767082], 'age los insurance gender marital_status': ['GaussianNB', 0.66233010169165329], 'age los': ['DecisionTreeClassifier', 0.65809535308067124], 'age los insurance': ['RandomForestClassifier', 0.66332018372879131], 'age los gender insurance': ['GaussianNB', 0.66422800929601422]}, 'df_ethnicity': {'age los gender': ['GaussianNB', 0.6981347594656413], 'age los insurance gender ethnicity': ['GaussianNB', 0.70360573617704403], 'age los': ['GaussianNB', 0.70039398256631213], 'age los insurance': ['GaussianNB', 0.71233467028557929], 'age los gender insurance': ['GaussianNB', 0.71292094617912949]}, 'df_erms': {'age los gender': ['GaussianNB', 0.64671462424902948], 'age los': ['GaussianNB', 0.63985861280292489, 'GaussianNB', 0.64051712002426864], 'age los insurance': ['GaussianNB', 0.65515800712942152], 'age los gender insurance': ['GaussianNB', 0.65577641137101106]}, 'df_religion': {'age los gender': ['GaussianNB', 0.68827304990711569], 'age los insurance gender religion': ['GaussianNB', 0.69327556161510151], 'age los': ['GaussianNB', 0.68898929166608325], 'age los insurance': ['GaussianNB', 0.69920928118020764], 'age los gender insurance': ['GaussianNB', 0.69711434883606971]}, 'df_rl': {'age los gender': ['GaussianNB', 0.6272028993827552, 'GaussianNB', 0.62737839779008453], 'age los insurance gender religion language': ['AdaBoostClassifier', 0.61071332991638183], 'age los': ['GaussianNB', 0.62422095827725332, 'GaussianNB', 0.62380819241340923], 'age los insurance': ['GaussianNB', 0.65381826499813145, 'GaussianNB', 0.65070187895416454], 'age los gender insurance': ['GaussianNB', 0.65392827150829602, 'GaussianNB', 0.65305683507720613]}, 'df_el': {'age los gender': ['GaussianNB', 0.63307474010023246], 'age los insurance gender ethnicity language': ['AdaBoostClassifier', 0.61787228123012417], 'age los': ['GaussianNB', 0.63483342163790479], 'age los insurance': ['GaussianNB', 0.65392141109072033], 'age los gender insurance': ['GaussianNB', 0.65199955359076256]}, 'dfmimic': {'age los gender': ['GaussianNB', 0.69853290323476736], 'age los': ['GaussianNB', 0.69311261002135482], 'age los insurance': ['GaussianNB', 0.71375759895520674], 'age los gender insurance': ['GaussianNB', 0.71247805218304128]}, 'df_msr': {'age los gender': ['GaussianNB', 0.64520727845699422], 'age los insurance gender marital_status religion': ['GaussianNB', 0.65311078248626075], 'age los': ['RandomForestClassifier', 0.64220493623027763], 'age los insurance': ['GaussianNB', 0.66014067665530329], 'age los gender insurance': ['GaussianNB', 0.66101026664135276]}}\n",
      "[['age', 'los'], ['age', 'los', 'gender', 'insurance'], ['age', 'los', 'gender'], ['age', 'los', 'insurance'], ['age', 'los', 'insurance', 'gender', 'ethnicity'], ['age', 'los', 'insurance', 'gender', 'marital_status'], ['age', 'los', 'insurance', 'gender', 'language'], ['age', 'los', 'insurance', 'gender', 'religion'], ['age', 'los', 'insurance', 'gender', 'ethnicity', 'marital_status'], ['age', 'los', 'insurance', 'gender', 'ethnicity', 'religion'], ['age', 'los', 'insurance', 'gender', 'ethnicity', 'language'], ['age', 'los', 'insurance', 'gender', 'marital_status', 'religion'], ['age', 'los', 'insurance', 'gender', 'marital_status', 'language'], ['age', 'los', 'insurance', 'gender', 'religion', 'language']]\n",
      "GaussianNB has highest AUC test score of 0.654621\n",
      "AdaBoostClassifier has highest accuracy score of 0.678478\n",
      "{'df_msl': {'age los gender': ['GaussianNB', 0.62145495374603998], 'age los': ['GaussianNB', 0.62395481882304282], 'age los insurance': ['GaussianNB', 0.6559854679987579], 'age los gender insurance': ['GaussianNB', 0.65404314060948221], 'age los insurance gender marital_status language': ['AdaBoostClassifier', 0.61169805375786357]}, 'df_er': {'age los gender': ['GaussianNB', 0.68446185148811478], 'age los': ['GaussianNB', 0.68630457774518216], 'age los insurance': ['GaussianNB', 0.6957159393066028], 'age los gender insurance': ['GaussianNB', 0.6969062866496214], 'age los insurance gender ethnicity religion': ['GaussianNB', 0.67810511613938407]}, 'df_ems': {'age los gender': ['GaussianNB', 0.65187170219060875], 'age los': ['DecisionTreeClassifier', 0.65526927292470594], 'age los insurance': ['RandomForestClassifier', 0.65896081716838117], 'age los gender insurance': ['GaussianNB', 0.66083920623453296], 'age los insurance gender ethnicity marital_status': ['AdaBoostClassifier', 0.65398278676214694]}, 'df_language': {'age los gender': ['GaussianNB', 0.62745489212729932], 'age los insurance gender language': ['AdaBoostClassifier', 0.61403931196770689], 'age los': ['GaussianNB', 0.63591278647581895], 'age los insurance': ['GaussianNB', 0.6563752152360961], 'age los gender insurance': ['GaussianNB', 0.6492045397647348]}, 'df_marital_status': {'age los gender': ['GaussianNB', 0.65575191361767082], 'age los insurance gender marital_status': ['GaussianNB', 0.66233010169165329], 'age los': ['DecisionTreeClassifier', 0.65809535308067124], 'age los insurance': ['RandomForestClassifier', 0.66332018372879131], 'age los gender insurance': ['GaussianNB', 0.66422800929601422]}, 'df_ethnicity': {'age los gender': ['GaussianNB', 0.6981347594656413], 'age los insurance gender ethnicity': ['GaussianNB', 0.70360573617704403], 'age los': ['GaussianNB', 0.70039398256631213], 'age los insurance': ['GaussianNB', 0.71233467028557929], 'age los gender insurance': ['GaussianNB', 0.71292094617912949]}, 'df_erms': {'age los gender': ['GaussianNB', 0.64671462424902948], 'age los': ['GaussianNB', 0.63985861280292489, 'GaussianNB', 0.64051712002426864], 'age los insurance': ['GaussianNB', 0.65515800712942152], 'age los gender insurance': ['GaussianNB', 0.65577641137101106, 'GaussianNB', 0.65462050423552998]}, 'df_religion': {'age los gender': ['GaussianNB', 0.68827304990711569], 'age los insurance gender religion': ['GaussianNB', 0.69327556161510151], 'age los': ['GaussianNB', 0.68898929166608325], 'age los insurance': ['GaussianNB', 0.69920928118020764], 'age los gender insurance': ['GaussianNB', 0.69711434883606971]}, 'df_rl': {'age los gender': ['GaussianNB', 0.6272028993827552, 'GaussianNB', 0.62737839779008453], 'age los insurance gender religion language': ['AdaBoostClassifier', 0.61071332991638183], 'age los': ['GaussianNB', 0.62422095827725332, 'GaussianNB', 0.62380819241340923], 'age los insurance': ['GaussianNB', 0.65381826499813145, 'GaussianNB', 0.65070187895416454], 'age los gender insurance': ['GaussianNB', 0.65392827150829602, 'GaussianNB', 0.65305683507720613]}, 'df_el': {'age los gender': ['GaussianNB', 0.63307474010023246], 'age los insurance gender ethnicity language': ['AdaBoostClassifier', 0.61787228123012417], 'age los': ['GaussianNB', 0.63483342163790479], 'age los insurance': ['GaussianNB', 0.65392141109072033], 'age los gender insurance': ['GaussianNB', 0.65199955359076256]}, 'dfmimic': {'age los gender': ['GaussianNB', 0.69853290323476736], 'age los': ['GaussianNB', 0.69311261002135482], 'age los insurance': ['GaussianNB', 0.71375759895520674], 'age los gender insurance': ['GaussianNB', 0.71247805218304128]}, 'df_msr': {'age los gender': ['GaussianNB', 0.64520727845699422], 'age los insurance gender marital_status religion': ['GaussianNB', 0.65311078248626075], 'age los': ['RandomForestClassifier', 0.64220493623027763], 'age los insurance': ['GaussianNB', 0.66014067665530329], 'age los gender insurance': ['GaussianNB', 0.66101026664135276]}}\n",
      "[['age', 'los'], ['age', 'los', 'gender', 'insurance'], ['age', 'los', 'gender'], ['age', 'los', 'insurance'], ['age', 'los', 'insurance', 'gender', 'ethnicity'], ['age', 'los', 'insurance', 'gender', 'marital_status'], ['age', 'los', 'insurance', 'gender', 'language'], ['age', 'los', 'insurance', 'gender', 'religion'], ['age', 'los', 'insurance', 'gender', 'ethnicity', 'marital_status'], ['age', 'los', 'insurance', 'gender', 'ethnicity', 'religion'], ['age', 'los', 'insurance', 'gender', 'ethnicity', 'language'], ['age', 'los', 'insurance', 'gender', 'marital_status', 'religion'], ['age', 'los', 'insurance', 'gender', 'marital_status', 'language'], ['age', 'los', 'insurance', 'gender', 'religion', 'language']]\n",
      "GaussianNB has highest AUC test score of 0.645920\n",
      "AdaBoostClassifier has highest accuracy score of 0.679379\n",
      "{'df_msl': {'age los gender': ['GaussianNB', 0.62145495374603998], 'age los': ['GaussianNB', 0.62395481882304282], 'age los insurance': ['GaussianNB', 0.6559854679987579], 'age los gender insurance': ['GaussianNB', 0.65404314060948221], 'age los insurance gender marital_status language': ['AdaBoostClassifier', 0.61169805375786357]}, 'df_er': {'age los gender': ['GaussianNB', 0.68446185148811478], 'age los': ['GaussianNB', 0.68630457774518216], 'age los insurance': ['GaussianNB', 0.6957159393066028], 'age los gender insurance': ['GaussianNB', 0.6969062866496214], 'age los insurance gender ethnicity religion': ['GaussianNB', 0.67810511613938407]}, 'df_ems': {'age los gender': ['GaussianNB', 0.65187170219060875], 'age los': ['DecisionTreeClassifier', 0.65526927292470594], 'age los insurance': ['RandomForestClassifier', 0.65896081716838117], 'age los gender insurance': ['GaussianNB', 0.66083920623453296], 'age los insurance gender ethnicity marital_status': ['AdaBoostClassifier', 0.65398278676214694]}, 'df_language': {'age los gender': ['GaussianNB', 0.62745489212729932], 'age los insurance gender language': ['AdaBoostClassifier', 0.61403931196770689], 'age los': ['GaussianNB', 0.63591278647581895], 'age los insurance': ['GaussianNB', 0.6563752152360961], 'age los gender insurance': ['GaussianNB', 0.6492045397647348]}, 'df_marital_status': {'age los gender': ['GaussianNB', 0.65575191361767082], 'age los insurance gender marital_status': ['GaussianNB', 0.66233010169165329], 'age los': ['DecisionTreeClassifier', 0.65809535308067124], 'age los insurance': ['RandomForestClassifier', 0.66332018372879131], 'age los gender insurance': ['GaussianNB', 0.66422800929601422]}, 'df_ethnicity': {'age los gender': ['GaussianNB', 0.6981347594656413], 'age los insurance gender ethnicity': ['GaussianNB', 0.70360573617704403], 'age los': ['GaussianNB', 0.70039398256631213], 'age los insurance': ['GaussianNB', 0.71233467028557929], 'age los gender insurance': ['GaussianNB', 0.71292094617912949]}, 'df_erms': {'age los gender': ['GaussianNB', 0.64671462424902948, 'GaussianNB', 0.6459199899744783], 'age los': ['GaussianNB', 0.63985861280292489, 'GaussianNB', 0.64051712002426864], 'age los insurance': ['GaussianNB', 0.65515800712942152], 'age los gender insurance': ['GaussianNB', 0.65577641137101106, 'GaussianNB', 0.65462050423552998]}, 'df_religion': {'age los gender': ['GaussianNB', 0.68827304990711569], 'age los insurance gender religion': ['GaussianNB', 0.69327556161510151], 'age los': ['GaussianNB', 0.68898929166608325], 'age los insurance': ['GaussianNB', 0.69920928118020764], 'age los gender insurance': ['GaussianNB', 0.69711434883606971]}, 'df_rl': {'age los gender': ['GaussianNB', 0.6272028993827552, 'GaussianNB', 0.62737839779008453], 'age los insurance gender religion language': ['AdaBoostClassifier', 0.61071332991638183], 'age los': ['GaussianNB', 0.62422095827725332, 'GaussianNB', 0.62380819241340923], 'age los insurance': ['GaussianNB', 0.65381826499813145, 'GaussianNB', 0.65070187895416454], 'age los gender insurance': ['GaussianNB', 0.65392827150829602, 'GaussianNB', 0.65305683507720613]}, 'df_el': {'age los gender': ['GaussianNB', 0.63307474010023246], 'age los insurance gender ethnicity language': ['AdaBoostClassifier', 0.61787228123012417], 'age los': ['GaussianNB', 0.63483342163790479], 'age los insurance': ['GaussianNB', 0.65392141109072033], 'age los gender insurance': ['GaussianNB', 0.65199955359076256]}, 'dfmimic': {'age los gender': ['GaussianNB', 0.69853290323476736], 'age los': ['GaussianNB', 0.69311261002135482], 'age los insurance': ['GaussianNB', 0.71375759895520674], 'age los gender insurance': ['GaussianNB', 0.71247805218304128]}, 'df_msr': {'age los gender': ['GaussianNB', 0.64520727845699422], 'age los insurance gender marital_status religion': ['GaussianNB', 0.65311078248626075], 'age los': ['RandomForestClassifier', 0.64220493623027763], 'age los insurance': ['GaussianNB', 0.66014067665530329], 'age los gender insurance': ['GaussianNB', 0.66101026664135276]}}\n",
      "[['age', 'los'], ['age', 'los', 'gender', 'insurance'], ['age', 'los', 'gender'], ['age', 'los', 'insurance'], ['age', 'los', 'insurance', 'gender', 'ethnicity'], ['age', 'los', 'insurance', 'gender', 'marital_status'], ['age', 'los', 'insurance', 'gender', 'language'], ['age', 'los', 'insurance', 'gender', 'religion'], ['age', 'los', 'insurance', 'gender', 'ethnicity', 'marital_status'], ['age', 'los', 'insurance', 'gender', 'ethnicity', 'religion'], ['age', 'los', 'insurance', 'gender', 'ethnicity', 'language'], ['age', 'los', 'insurance', 'gender', 'marital_status', 'religion'], ['age', 'los', 'insurance', 'gender', 'marital_status', 'language'], ['age', 'los', 'insurance', 'gender', 'religion', 'language']]\n",
      "GaussianNB has highest AUC test score of 0.656538\n",
      "AdaBoostClassifier has highest accuracy score of 0.677392\n",
      "{'df_msl': {'age los gender': ['GaussianNB', 0.62145495374603998], 'age los': ['GaussianNB', 0.62395481882304282], 'age los insurance': ['GaussianNB', 0.6559854679987579], 'age los gender insurance': ['GaussianNB', 0.65404314060948221], 'age los insurance gender marital_status language': ['AdaBoostClassifier', 0.61169805375786357]}, 'df_er': {'age los gender': ['GaussianNB', 0.68446185148811478], 'age los': ['GaussianNB', 0.68630457774518216], 'age los insurance': ['GaussianNB', 0.6957159393066028], 'age los gender insurance': ['GaussianNB', 0.6969062866496214], 'age los insurance gender ethnicity religion': ['GaussianNB', 0.67810511613938407]}, 'df_ems': {'age los gender': ['GaussianNB', 0.65187170219060875], 'age los': ['DecisionTreeClassifier', 0.65526927292470594], 'age los insurance': ['RandomForestClassifier', 0.65896081716838117], 'age los gender insurance': ['GaussianNB', 0.66083920623453296], 'age los insurance gender ethnicity marital_status': ['AdaBoostClassifier', 0.65398278676214694]}, 'df_language': {'age los gender': ['GaussianNB', 0.62745489212729932], 'age los insurance gender language': ['AdaBoostClassifier', 0.61403931196770689], 'age los': ['GaussianNB', 0.63591278647581895], 'age los insurance': ['GaussianNB', 0.6563752152360961], 'age los gender insurance': ['GaussianNB', 0.6492045397647348]}, 'df_marital_status': {'age los gender': ['GaussianNB', 0.65575191361767082], 'age los insurance gender marital_status': ['GaussianNB', 0.66233010169165329], 'age los': ['DecisionTreeClassifier', 0.65809535308067124], 'age los insurance': ['RandomForestClassifier', 0.66332018372879131], 'age los gender insurance': ['GaussianNB', 0.66422800929601422]}, 'df_ethnicity': {'age los gender': ['GaussianNB', 0.6981347594656413], 'age los insurance gender ethnicity': ['GaussianNB', 0.70360573617704403], 'age los': ['GaussianNB', 0.70039398256631213], 'age los insurance': ['GaussianNB', 0.71233467028557929], 'age los gender insurance': ['GaussianNB', 0.71292094617912949]}, 'df_erms': {'age los gender': ['GaussianNB', 0.64671462424902948, 'GaussianNB', 0.6459199899744783], 'age los': ['GaussianNB', 0.63985861280292489, 'GaussianNB', 0.64051712002426864], 'age los insurance': ['GaussianNB', 0.65515800712942152, 'GaussianNB', 0.65653755074236364], 'age los gender insurance': ['GaussianNB', 0.65577641137101106, 'GaussianNB', 0.65462050423552998]}, 'df_religion': {'age los gender': ['GaussianNB', 0.68827304990711569], 'age los insurance gender religion': ['GaussianNB', 0.69327556161510151], 'age los': ['GaussianNB', 0.68898929166608325], 'age los insurance': ['GaussianNB', 0.69920928118020764], 'age los gender insurance': ['GaussianNB', 0.69711434883606971]}, 'df_rl': {'age los gender': ['GaussianNB', 0.6272028993827552, 'GaussianNB', 0.62737839779008453], 'age los insurance gender religion language': ['AdaBoostClassifier', 0.61071332991638183], 'age los': ['GaussianNB', 0.62422095827725332, 'GaussianNB', 0.62380819241340923], 'age los insurance': ['GaussianNB', 0.65381826499813145, 'GaussianNB', 0.65070187895416454], 'age los gender insurance': ['GaussianNB', 0.65392827150829602, 'GaussianNB', 0.65305683507720613]}, 'df_el': {'age los gender': ['GaussianNB', 0.63307474010023246], 'age los insurance gender ethnicity language': ['AdaBoostClassifier', 0.61787228123012417], 'age los': ['GaussianNB', 0.63483342163790479], 'age los insurance': ['GaussianNB', 0.65392141109072033], 'age los gender insurance': ['GaussianNB', 0.65199955359076256]}, 'dfmimic': {'age los gender': ['GaussianNB', 0.69853290323476736], 'age los': ['GaussianNB', 0.69311261002135482], 'age los insurance': ['GaussianNB', 0.71375759895520674], 'age los gender insurance': ['GaussianNB', 0.71247805218304128]}, 'df_msr': {'age los gender': ['GaussianNB', 0.64520727845699422], 'age los insurance gender marital_status religion': ['GaussianNB', 0.65311078248626075], 'age los': ['RandomForestClassifier', 0.64220493623027763], 'age los insurance': ['GaussianNB', 0.66014067665530329], 'age los gender insurance': ['GaussianNB', 0.66101026664135276]}}\n",
      "[['age', 'los'], ['age', 'los', 'gender', 'insurance'], ['age', 'los', 'gender'], ['age', 'los', 'insurance'], ['age', 'los', 'insurance', 'gender', 'ethnicity'], ['age', 'los', 'insurance', 'gender', 'marital_status'], ['age', 'los', 'insurance', 'gender', 'language'], ['age', 'los', 'insurance', 'gender', 'religion'], ['age', 'los', 'insurance', 'gender', 'ethnicity', 'marital_status'], ['age', 'los', 'insurance', 'gender', 'ethnicity', 'religion'], ['age', 'los', 'insurance', 'gender', 'ethnicity', 'language'], ['age', 'los', 'insurance', 'gender', 'marital_status', 'religion'], ['age', 'los', 'insurance', 'gender', 'marital_status', 'language'], ['age', 'los', 'insurance', 'gender', 'religion', 'language']]\n",
      "AdaBoostClassifier has highest AUC test score of 0.650439\n",
      "AdaBoostClassifier has highest accuracy score of 0.680981\n",
      "{'df_msl': {'age los gender': ['GaussianNB', 0.62145495374603998], 'age los': ['GaussianNB', 0.62395481882304282], 'age los insurance': ['GaussianNB', 0.6559854679987579], 'age los gender insurance': ['GaussianNB', 0.65404314060948221], 'age los insurance gender marital_status language': ['AdaBoostClassifier', 0.61169805375786357]}, 'df_er': {'age los gender': ['GaussianNB', 0.68446185148811478], 'age los': ['GaussianNB', 0.68630457774518216], 'age los insurance': ['GaussianNB', 0.6957159393066028], 'age los gender insurance': ['GaussianNB', 0.6969062866496214], 'age los insurance gender ethnicity religion': ['GaussianNB', 0.67810511613938407]}, 'df_ems': {'age los gender': ['GaussianNB', 0.65187170219060875], 'age los': ['DecisionTreeClassifier', 0.65526927292470594], 'age los insurance': ['RandomForestClassifier', 0.65896081716838117], 'age los gender insurance': ['GaussianNB', 0.66083920623453296], 'age los insurance gender ethnicity marital_status': ['AdaBoostClassifier', 0.65398278676214694]}, 'df_language': {'age los gender': ['GaussianNB', 0.62745489212729932], 'age los insurance gender language': ['AdaBoostClassifier', 0.61403931196770689], 'age los': ['GaussianNB', 0.63591278647581895], 'age los insurance': ['GaussianNB', 0.6563752152360961], 'age los gender insurance': ['GaussianNB', 0.6492045397647348]}, 'df_marital_status': {'age los gender': ['GaussianNB', 0.65575191361767082], 'age los insurance gender marital_status': ['GaussianNB', 0.66233010169165329], 'age los': ['DecisionTreeClassifier', 0.65809535308067124], 'age los insurance': ['RandomForestClassifier', 0.66332018372879131], 'age los gender insurance': ['GaussianNB', 0.66422800929601422]}, 'df_ethnicity': {'age los gender': ['GaussianNB', 0.6981347594656413], 'age los insurance gender ethnicity': ['GaussianNB', 0.70360573617704403], 'age los': ['GaussianNB', 0.70039398256631213], 'age los insurance': ['GaussianNB', 0.71233467028557929], 'age los gender insurance': ['GaussianNB', 0.71292094617912949]}, 'df_erms': {'age los gender': ['GaussianNB', 0.64671462424902948, 'GaussianNB', 0.6459199899744783], 'age los': ['GaussianNB', 0.63985861280292489, 'GaussianNB', 0.64051712002426864], 'age los insurance': ['GaussianNB', 0.65515800712942152, 'GaussianNB', 0.65653755074236364], 'age los gender insurance': ['GaussianNB', 0.65577641137101106, 'GaussianNB', 0.65462050423552998], 'age los insurance gender religion ethnicity marital_status': ['AdaBoostClassifier', 0.65043942683406464]}, 'df_religion': {'age los gender': ['GaussianNB', 0.68827304990711569], 'age los insurance gender religion': ['GaussianNB', 0.69327556161510151], 'age los': ['GaussianNB', 0.68898929166608325], 'age los insurance': ['GaussianNB', 0.69920928118020764], 'age los gender insurance': ['GaussianNB', 0.69711434883606971]}, 'df_rl': {'age los gender': ['GaussianNB', 0.6272028993827552, 'GaussianNB', 0.62737839779008453], 'age los insurance gender religion language': ['AdaBoostClassifier', 0.61071332991638183], 'age los': ['GaussianNB', 0.62422095827725332, 'GaussianNB', 0.62380819241340923], 'age los insurance': ['GaussianNB', 0.65381826499813145, 'GaussianNB', 0.65070187895416454], 'age los gender insurance': ['GaussianNB', 0.65392827150829602, 'GaussianNB', 0.65305683507720613]}, 'df_el': {'age los gender': ['GaussianNB', 0.63307474010023246], 'age los insurance gender ethnicity language': ['AdaBoostClassifier', 0.61787228123012417], 'age los': ['GaussianNB', 0.63483342163790479], 'age los insurance': ['GaussianNB', 0.65392141109072033], 'age los gender insurance': ['GaussianNB', 0.65199955359076256]}, 'dfmimic': {'age los gender': ['GaussianNB', 0.69853290323476736], 'age los': ['GaussianNB', 0.69311261002135482], 'age los insurance': ['GaussianNB', 0.71375759895520674], 'age los gender insurance': ['GaussianNB', 0.71247805218304128]}, 'df_msr': {'age los gender': ['GaussianNB', 0.64520727845699422], 'age los insurance gender marital_status religion': ['GaussianNB', 0.65311078248626075], 'age los': ['RandomForestClassifier', 0.64220493623027763], 'age los insurance': ['GaussianNB', 0.66014067665530329], 'age los gender insurance': ['GaussianNB', 0.66101026664135276]}}\n",
      "[['age', 'los'], ['age', 'los', 'gender', 'insurance'], ['age', 'los', 'gender'], ['age', 'los', 'insurance'], ['age', 'los', 'insurance', 'gender', 'ethnicity'], ['age', 'los', 'insurance', 'gender', 'marital_status'], ['age', 'los', 'insurance', 'gender', 'language'], ['age', 'los', 'insurance', 'gender', 'religion'], ['age', 'los', 'insurance', 'gender', 'ethnicity', 'marital_status'], ['age', 'los', 'insurance', 'gender', 'ethnicity', 'religion'], ['age', 'los', 'insurance', 'gender', 'ethnicity', 'language'], ['age', 'los', 'insurance', 'gender', 'marital_status', 'religion'], ['age', 'los', 'insurance', 'gender', 'marital_status', 'language'], ['age', 'los', 'insurance', 'gender', 'religion', 'language'], ['age', 'los', 'insurance', 'gender', 'religion', 'ethnicity', 'marital_status']]\n"
     ]
    }
   ],
   "source": [
    "#Merge ethnicity, religion, and marital status\n",
    "df_erms = df_ems.merge(df_er, how='inner',\n",
    "                        on = ['age', 'gender', 'los', 'insurance', 'expire_flag', 'ethnicity', 'subject_id'])\n",
    "df_erms.name = 'df_erms'\n",
    "print len(df_erms.index)\n",
    "\n",
    "#Get baseline features data\n",
    "baseline_features(df_erms, previous_features, 10)   \n",
    "\n",
    "#Find best classifier with 'age' 'los' 'insurance' 'ethnicity' \n",
    "# 'religion' 'marital_status' and 'gender' features\n",
    "erms_features = ['age', 'los', 'insurance', 'gender', 'religion', 'ethnicity', 'marital_status']\n",
    "\n",
    "classifier_for_features(df_erms, erms_features, 10)"
   ]
  },
  {
   "cell_type": "code",
   "execution_count": 50,
   "metadata": {
    "collapsed": false
   },
   "outputs": [
    {
     "name": "stdout",
     "output_type": "stream",
     "text": [
      "20818\n",
      "GaussianNB has highest AUC test score of 0.628252\n",
      "AdaBoostClassifier has highest accuracy score of 0.705744\n",
      "{'df_msl': {'age los gender': ['GaussianNB', 0.62145495374603998], 'age los': ['GaussianNB', 0.62395481882304282], 'age los insurance': ['GaussianNB', 0.6559854679987579], 'age los gender insurance': ['GaussianNB', 0.65404314060948221], 'age los insurance gender marital_status language': ['AdaBoostClassifier', 0.61169805375786357]}, 'df_er': {'age los gender': ['GaussianNB', 0.68446185148811478], 'age los': ['GaussianNB', 0.68630457774518216], 'age los insurance': ['GaussianNB', 0.6957159393066028], 'age los gender insurance': ['GaussianNB', 0.6969062866496214], 'age los insurance gender ethnicity religion': ['GaussianNB', 0.67810511613938407]}, 'df_ems': {'age los gender': ['GaussianNB', 0.65187170219060875], 'age los': ['DecisionTreeClassifier', 0.65526927292470594], 'age los insurance': ['RandomForestClassifier', 0.65896081716838117], 'age los gender insurance': ['GaussianNB', 0.66083920623453296], 'age los insurance gender ethnicity marital_status': ['AdaBoostClassifier', 0.65398278676214694]}, 'df_language': {'age los gender': ['GaussianNB', 0.62745489212729932], 'age los insurance gender language': ['AdaBoostClassifier', 0.61403931196770689], 'age los': ['GaussianNB', 0.63591278647581895], 'age los insurance': ['GaussianNB', 0.6563752152360961], 'age los gender insurance': ['GaussianNB', 0.6492045397647348]}, 'df_marital_status': {'age los gender': ['GaussianNB', 0.65575191361767082], 'age los insurance gender marital_status': ['GaussianNB', 0.66233010169165329], 'age los': ['DecisionTreeClassifier', 0.65809535308067124], 'age los insurance': ['RandomForestClassifier', 0.66332018372879131], 'age los gender insurance': ['GaussianNB', 0.66422800929601422]}, 'df_ethnicity': {'age los gender': ['GaussianNB', 0.6981347594656413], 'age los insurance gender ethnicity': ['GaussianNB', 0.70360573617704403], 'age los': ['GaussianNB', 0.70039398256631213], 'age los insurance': ['GaussianNB', 0.71233467028557929], 'age los gender insurance': ['GaussianNB', 0.71292094617912949]}, 'df_elms': {'age los': ['GaussianNB', 0.62825248925839128]}, 'df_erms': {'age los gender': ['GaussianNB', 0.64671462424902948, 'GaussianNB', 0.6459199899744783], 'age los': ['GaussianNB', 0.63985861280292489, 'GaussianNB', 0.64051712002426864], 'age los insurance': ['GaussianNB', 0.65515800712942152, 'GaussianNB', 0.65653755074236364], 'age los gender insurance': ['GaussianNB', 0.65577641137101106, 'GaussianNB', 0.65462050423552998], 'age los insurance gender religion ethnicity marital_status': ['AdaBoostClassifier', 0.65043942683406464]}, 'df_religion': {'age los gender': ['GaussianNB', 0.68827304990711569], 'age los insurance gender religion': ['GaussianNB', 0.69327556161510151], 'age los': ['GaussianNB', 0.68898929166608325], 'age los insurance': ['GaussianNB', 0.69920928118020764], 'age los gender insurance': ['GaussianNB', 0.69711434883606971]}, 'df_rl': {'age los gender': ['GaussianNB', 0.6272028993827552, 'GaussianNB', 0.62737839779008453], 'age los insurance gender religion language': ['AdaBoostClassifier', 0.61071332991638183], 'age los': ['GaussianNB', 0.62422095827725332, 'GaussianNB', 0.62380819241340923], 'age los insurance': ['GaussianNB', 0.65381826499813145, 'GaussianNB', 0.65070187895416454], 'age los gender insurance': ['GaussianNB', 0.65392827150829602, 'GaussianNB', 0.65305683507720613]}, 'df_el': {'age los gender': ['GaussianNB', 0.63307474010023246], 'age los insurance gender ethnicity language': ['AdaBoostClassifier', 0.61787228123012417], 'age los': ['GaussianNB', 0.63483342163790479], 'age los insurance': ['GaussianNB', 0.65392141109072033], 'age los gender insurance': ['GaussianNB', 0.65199955359076256]}, 'dfmimic': {'age los gender': ['GaussianNB', 0.69853290323476736], 'age los': ['GaussianNB', 0.69311261002135482], 'age los insurance': ['GaussianNB', 0.71375759895520674], 'age los gender insurance': ['GaussianNB', 0.71247805218304128]}, 'df_msr': {'age los gender': ['GaussianNB', 0.64520727845699422], 'age los insurance gender marital_status religion': ['GaussianNB', 0.65311078248626075], 'age los': ['RandomForestClassifier', 0.64220493623027763], 'age los insurance': ['GaussianNB', 0.66014067665530329], 'age los gender insurance': ['GaussianNB', 0.66101026664135276]}}\n",
      "[['age', 'los'], ['age', 'los', 'gender', 'insurance'], ['age', 'los', 'gender'], ['age', 'los', 'insurance'], ['age', 'los', 'insurance', 'gender', 'ethnicity'], ['age', 'los', 'insurance', 'gender', 'marital_status'], ['age', 'los', 'insurance', 'gender', 'language'], ['age', 'los', 'insurance', 'gender', 'religion'], ['age', 'los', 'insurance', 'gender', 'ethnicity', 'marital_status'], ['age', 'los', 'insurance', 'gender', 'ethnicity', 'religion'], ['age', 'los', 'insurance', 'gender', 'ethnicity', 'language'], ['age', 'los', 'insurance', 'gender', 'marital_status', 'religion'], ['age', 'los', 'insurance', 'gender', 'marital_status', 'language'], ['age', 'los', 'insurance', 'gender', 'religion', 'language'], ['age', 'los', 'insurance', 'gender', 'religion', 'ethnicity', 'marital_status']]\n",
      "GaussianNB has highest AUC test score of 0.648945\n",
      "AdaBoostClassifier has highest accuracy score of 0.706378\n",
      "{'df_msl': {'age los gender': ['GaussianNB', 0.62145495374603998], 'age los': ['GaussianNB', 0.62395481882304282], 'age los insurance': ['GaussianNB', 0.6559854679987579], 'age los gender insurance': ['GaussianNB', 0.65404314060948221], 'age los insurance gender marital_status language': ['AdaBoostClassifier', 0.61169805375786357]}, 'df_er': {'age los gender': ['GaussianNB', 0.68446185148811478], 'age los': ['GaussianNB', 0.68630457774518216], 'age los insurance': ['GaussianNB', 0.6957159393066028], 'age los gender insurance': ['GaussianNB', 0.6969062866496214], 'age los insurance gender ethnicity religion': ['GaussianNB', 0.67810511613938407]}, 'df_ems': {'age los gender': ['GaussianNB', 0.65187170219060875], 'age los': ['DecisionTreeClassifier', 0.65526927292470594], 'age los insurance': ['RandomForestClassifier', 0.65896081716838117], 'age los gender insurance': ['GaussianNB', 0.66083920623453296], 'age los insurance gender ethnicity marital_status': ['AdaBoostClassifier', 0.65398278676214694]}, 'df_language': {'age los gender': ['GaussianNB', 0.62745489212729932], 'age los insurance gender language': ['AdaBoostClassifier', 0.61403931196770689], 'age los': ['GaussianNB', 0.63591278647581895], 'age los insurance': ['GaussianNB', 0.6563752152360961], 'age los gender insurance': ['GaussianNB', 0.6492045397647348]}, 'df_marital_status': {'age los gender': ['GaussianNB', 0.65575191361767082], 'age los insurance gender marital_status': ['GaussianNB', 0.66233010169165329], 'age los': ['DecisionTreeClassifier', 0.65809535308067124], 'age los insurance': ['RandomForestClassifier', 0.66332018372879131], 'age los gender insurance': ['GaussianNB', 0.66422800929601422]}, 'df_ethnicity': {'age los gender': ['GaussianNB', 0.6981347594656413], 'age los insurance gender ethnicity': ['GaussianNB', 0.70360573617704403], 'age los': ['GaussianNB', 0.70039398256631213], 'age los insurance': ['GaussianNB', 0.71233467028557929], 'age los gender insurance': ['GaussianNB', 0.71292094617912949]}, 'df_elms': {'age los': ['GaussianNB', 0.62825248925839128], 'age los gender insurance': ['GaussianNB', 0.64894544596021864]}, 'df_erms': {'age los gender': ['GaussianNB', 0.64671462424902948, 'GaussianNB', 0.6459199899744783], 'age los': ['GaussianNB', 0.63985861280292489, 'GaussianNB', 0.64051712002426864], 'age los insurance': ['GaussianNB', 0.65515800712942152, 'GaussianNB', 0.65653755074236364], 'age los gender insurance': ['GaussianNB', 0.65577641137101106, 'GaussianNB', 0.65462050423552998], 'age los insurance gender religion ethnicity marital_status': ['AdaBoostClassifier', 0.65043942683406464]}, 'df_religion': {'age los gender': ['GaussianNB', 0.68827304990711569], 'age los insurance gender religion': ['GaussianNB', 0.69327556161510151], 'age los': ['GaussianNB', 0.68898929166608325], 'age los insurance': ['GaussianNB', 0.69920928118020764], 'age los gender insurance': ['GaussianNB', 0.69711434883606971]}, 'df_rl': {'age los gender': ['GaussianNB', 0.6272028993827552, 'GaussianNB', 0.62737839779008453], 'age los insurance gender religion language': ['AdaBoostClassifier', 0.61071332991638183], 'age los': ['GaussianNB', 0.62422095827725332, 'GaussianNB', 0.62380819241340923], 'age los insurance': ['GaussianNB', 0.65381826499813145, 'GaussianNB', 0.65070187895416454], 'age los gender insurance': ['GaussianNB', 0.65392827150829602, 'GaussianNB', 0.65305683507720613]}, 'df_el': {'age los gender': ['GaussianNB', 0.63307474010023246], 'age los insurance gender ethnicity language': ['AdaBoostClassifier', 0.61787228123012417], 'age los': ['GaussianNB', 0.63483342163790479], 'age los insurance': ['GaussianNB', 0.65392141109072033], 'age los gender insurance': ['GaussianNB', 0.65199955359076256]}, 'dfmimic': {'age los gender': ['GaussianNB', 0.69853290323476736], 'age los': ['GaussianNB', 0.69311261002135482], 'age los insurance': ['GaussianNB', 0.71375759895520674], 'age los gender insurance': ['GaussianNB', 0.71247805218304128]}, 'df_msr': {'age los gender': ['GaussianNB', 0.64520727845699422], 'age los insurance gender marital_status religion': ['GaussianNB', 0.65311078248626075], 'age los': ['RandomForestClassifier', 0.64220493623027763], 'age los insurance': ['GaussianNB', 0.66014067665530329], 'age los gender insurance': ['GaussianNB', 0.66101026664135276]}}\n",
      "[['age', 'los'], ['age', 'los', 'gender', 'insurance'], ['age', 'los', 'gender'], ['age', 'los', 'insurance'], ['age', 'los', 'insurance', 'gender', 'ethnicity'], ['age', 'los', 'insurance', 'gender', 'marital_status'], ['age', 'los', 'insurance', 'gender', 'language'], ['age', 'los', 'insurance', 'gender', 'religion'], ['age', 'los', 'insurance', 'gender', 'ethnicity', 'marital_status'], ['age', 'los', 'insurance', 'gender', 'ethnicity', 'religion'], ['age', 'los', 'insurance', 'gender', 'ethnicity', 'language'], ['age', 'los', 'insurance', 'gender', 'marital_status', 'religion'], ['age', 'los', 'insurance', 'gender', 'marital_status', 'language'], ['age', 'los', 'insurance', 'gender', 'religion', 'language'], ['age', 'los', 'insurance', 'gender', 'religion', 'ethnicity', 'marital_status']]\n",
      "GaussianNB has highest AUC test score of 0.629847\n",
      "AdaBoostClassifier has highest accuracy score of 0.707915\n",
      "{'df_msl': {'age los gender': ['GaussianNB', 0.62145495374603998], 'age los': ['GaussianNB', 0.62395481882304282], 'age los insurance': ['GaussianNB', 0.6559854679987579], 'age los gender insurance': ['GaussianNB', 0.65404314060948221], 'age los insurance gender marital_status language': ['AdaBoostClassifier', 0.61169805375786357]}, 'df_er': {'age los gender': ['GaussianNB', 0.68446185148811478], 'age los': ['GaussianNB', 0.68630457774518216], 'age los insurance': ['GaussianNB', 0.6957159393066028], 'age los gender insurance': ['GaussianNB', 0.6969062866496214], 'age los insurance gender ethnicity religion': ['GaussianNB', 0.67810511613938407]}, 'df_ems': {'age los gender': ['GaussianNB', 0.65187170219060875], 'age los': ['DecisionTreeClassifier', 0.65526927292470594], 'age los insurance': ['RandomForestClassifier', 0.65896081716838117], 'age los gender insurance': ['GaussianNB', 0.66083920623453296], 'age los insurance gender ethnicity marital_status': ['AdaBoostClassifier', 0.65398278676214694]}, 'df_language': {'age los gender': ['GaussianNB', 0.62745489212729932], 'age los insurance gender language': ['AdaBoostClassifier', 0.61403931196770689], 'age los': ['GaussianNB', 0.63591278647581895], 'age los insurance': ['GaussianNB', 0.6563752152360961], 'age los gender insurance': ['GaussianNB', 0.6492045397647348]}, 'df_marital_status': {'age los gender': ['GaussianNB', 0.65575191361767082], 'age los insurance gender marital_status': ['GaussianNB', 0.66233010169165329], 'age los': ['DecisionTreeClassifier', 0.65809535308067124], 'age los insurance': ['RandomForestClassifier', 0.66332018372879131], 'age los gender insurance': ['GaussianNB', 0.66422800929601422]}, 'df_ethnicity': {'age los gender': ['GaussianNB', 0.6981347594656413], 'age los insurance gender ethnicity': ['GaussianNB', 0.70360573617704403], 'age los': ['GaussianNB', 0.70039398256631213], 'age los insurance': ['GaussianNB', 0.71233467028557929], 'age los gender insurance': ['GaussianNB', 0.71292094617912949]}, 'df_elms': {'age los gender': ['GaussianNB', 0.62984731439679331], 'age los': ['GaussianNB', 0.62825248925839128], 'age los gender insurance': ['GaussianNB', 0.64894544596021864]}, 'df_erms': {'age los gender': ['GaussianNB', 0.64671462424902948, 'GaussianNB', 0.6459199899744783], 'age los': ['GaussianNB', 0.63985861280292489, 'GaussianNB', 0.64051712002426864], 'age los insurance': ['GaussianNB', 0.65515800712942152, 'GaussianNB', 0.65653755074236364], 'age los gender insurance': ['GaussianNB', 0.65577641137101106, 'GaussianNB', 0.65462050423552998], 'age los insurance gender religion ethnicity marital_status': ['AdaBoostClassifier', 0.65043942683406464]}, 'df_religion': {'age los gender': ['GaussianNB', 0.68827304990711569], 'age los insurance gender religion': ['GaussianNB', 0.69327556161510151], 'age los': ['GaussianNB', 0.68898929166608325], 'age los insurance': ['GaussianNB', 0.69920928118020764], 'age los gender insurance': ['GaussianNB', 0.69711434883606971]}, 'df_rl': {'age los gender': ['GaussianNB', 0.6272028993827552, 'GaussianNB', 0.62737839779008453], 'age los insurance gender religion language': ['AdaBoostClassifier', 0.61071332991638183], 'age los': ['GaussianNB', 0.62422095827725332, 'GaussianNB', 0.62380819241340923], 'age los insurance': ['GaussianNB', 0.65381826499813145, 'GaussianNB', 0.65070187895416454], 'age los gender insurance': ['GaussianNB', 0.65392827150829602, 'GaussianNB', 0.65305683507720613]}, 'df_el': {'age los gender': ['GaussianNB', 0.63307474010023246], 'age los insurance gender ethnicity language': ['AdaBoostClassifier', 0.61787228123012417], 'age los': ['GaussianNB', 0.63483342163790479], 'age los insurance': ['GaussianNB', 0.65392141109072033], 'age los gender insurance': ['GaussianNB', 0.65199955359076256]}, 'dfmimic': {'age los gender': ['GaussianNB', 0.69853290323476736], 'age los': ['GaussianNB', 0.69311261002135482], 'age los insurance': ['GaussianNB', 0.71375759895520674], 'age los gender insurance': ['GaussianNB', 0.71247805218304128]}, 'df_msr': {'age los gender': ['GaussianNB', 0.64520727845699422], 'age los insurance gender marital_status religion': ['GaussianNB', 0.65311078248626075], 'age los': ['RandomForestClassifier', 0.64220493623027763], 'age los insurance': ['GaussianNB', 0.66014067665530329], 'age los gender insurance': ['GaussianNB', 0.66101026664135276]}}\n",
      "[['age', 'los'], ['age', 'los', 'gender', 'insurance'], ['age', 'los', 'gender'], ['age', 'los', 'insurance'], ['age', 'los', 'insurance', 'gender', 'ethnicity'], ['age', 'los', 'insurance', 'gender', 'marital_status'], ['age', 'los', 'insurance', 'gender', 'language'], ['age', 'los', 'insurance', 'gender', 'religion'], ['age', 'los', 'insurance', 'gender', 'ethnicity', 'marital_status'], ['age', 'los', 'insurance', 'gender', 'ethnicity', 'religion'], ['age', 'los', 'insurance', 'gender', 'ethnicity', 'language'], ['age', 'los', 'insurance', 'gender', 'marital_status', 'religion'], ['age', 'los', 'insurance', 'gender', 'marital_status', 'language'], ['age', 'los', 'insurance', 'gender', 'religion', 'language'], ['age', 'los', 'insurance', 'gender', 'religion', 'ethnicity', 'marital_status']]\n",
      "GaussianNB has highest AUC test score of 0.646971\n",
      "AdaBoostClassifier has highest accuracy score of 0.706916\n",
      "{'df_msl': {'age los gender': ['GaussianNB', 0.62145495374603998], 'age los': ['GaussianNB', 0.62395481882304282], 'age los insurance': ['GaussianNB', 0.6559854679987579], 'age los gender insurance': ['GaussianNB', 0.65404314060948221], 'age los insurance gender marital_status language': ['AdaBoostClassifier', 0.61169805375786357]}, 'df_er': {'age los gender': ['GaussianNB', 0.68446185148811478], 'age los': ['GaussianNB', 0.68630457774518216], 'age los insurance': ['GaussianNB', 0.6957159393066028], 'age los gender insurance': ['GaussianNB', 0.6969062866496214], 'age los insurance gender ethnicity religion': ['GaussianNB', 0.67810511613938407]}, 'df_ems': {'age los gender': ['GaussianNB', 0.65187170219060875], 'age los': ['DecisionTreeClassifier', 0.65526927292470594], 'age los insurance': ['RandomForestClassifier', 0.65896081716838117], 'age los gender insurance': ['GaussianNB', 0.66083920623453296], 'age los insurance gender ethnicity marital_status': ['AdaBoostClassifier', 0.65398278676214694]}, 'df_language': {'age los gender': ['GaussianNB', 0.62745489212729932], 'age los insurance gender language': ['AdaBoostClassifier', 0.61403931196770689], 'age los': ['GaussianNB', 0.63591278647581895], 'age los insurance': ['GaussianNB', 0.6563752152360961], 'age los gender insurance': ['GaussianNB', 0.6492045397647348]}, 'df_marital_status': {'age los gender': ['GaussianNB', 0.65575191361767082], 'age los insurance gender marital_status': ['GaussianNB', 0.66233010169165329], 'age los': ['DecisionTreeClassifier', 0.65809535308067124], 'age los insurance': ['RandomForestClassifier', 0.66332018372879131], 'age los gender insurance': ['GaussianNB', 0.66422800929601422]}, 'df_ethnicity': {'age los gender': ['GaussianNB', 0.6981347594656413], 'age los insurance gender ethnicity': ['GaussianNB', 0.70360573617704403], 'age los': ['GaussianNB', 0.70039398256631213], 'age los insurance': ['GaussianNB', 0.71233467028557929], 'age los gender insurance': ['GaussianNB', 0.71292094617912949]}, 'df_elms': {'age los gender': ['GaussianNB', 0.62984731439679331], 'age los': ['GaussianNB', 0.62825248925839128], 'age los insurance': ['GaussianNB', 0.6469711297860673], 'age los gender insurance': ['GaussianNB', 0.64894544596021864]}, 'df_erms': {'age los gender': ['GaussianNB', 0.64671462424902948, 'GaussianNB', 0.6459199899744783], 'age los': ['GaussianNB', 0.63985861280292489, 'GaussianNB', 0.64051712002426864], 'age los insurance': ['GaussianNB', 0.65515800712942152, 'GaussianNB', 0.65653755074236364], 'age los gender insurance': ['GaussianNB', 0.65577641137101106, 'GaussianNB', 0.65462050423552998], 'age los insurance gender religion ethnicity marital_status': ['AdaBoostClassifier', 0.65043942683406464]}, 'df_religion': {'age los gender': ['GaussianNB', 0.68827304990711569], 'age los insurance gender religion': ['GaussianNB', 0.69327556161510151], 'age los': ['GaussianNB', 0.68898929166608325], 'age los insurance': ['GaussianNB', 0.69920928118020764], 'age los gender insurance': ['GaussianNB', 0.69711434883606971]}, 'df_rl': {'age los gender': ['GaussianNB', 0.6272028993827552, 'GaussianNB', 0.62737839779008453], 'age los insurance gender religion language': ['AdaBoostClassifier', 0.61071332991638183], 'age los': ['GaussianNB', 0.62422095827725332, 'GaussianNB', 0.62380819241340923], 'age los insurance': ['GaussianNB', 0.65381826499813145, 'GaussianNB', 0.65070187895416454], 'age los gender insurance': ['GaussianNB', 0.65392827150829602, 'GaussianNB', 0.65305683507720613]}, 'df_el': {'age los gender': ['GaussianNB', 0.63307474010023246], 'age los insurance gender ethnicity language': ['AdaBoostClassifier', 0.61787228123012417], 'age los': ['GaussianNB', 0.63483342163790479], 'age los insurance': ['GaussianNB', 0.65392141109072033], 'age los gender insurance': ['GaussianNB', 0.65199955359076256]}, 'dfmimic': {'age los gender': ['GaussianNB', 0.69853290323476736], 'age los': ['GaussianNB', 0.69311261002135482], 'age los insurance': ['GaussianNB', 0.71375759895520674], 'age los gender insurance': ['GaussianNB', 0.71247805218304128]}, 'df_msr': {'age los gender': ['GaussianNB', 0.64520727845699422], 'age los insurance gender marital_status religion': ['GaussianNB', 0.65311078248626075], 'age los': ['RandomForestClassifier', 0.64220493623027763], 'age los insurance': ['GaussianNB', 0.66014067665530329], 'age los gender insurance': ['GaussianNB', 0.66101026664135276]}}\n",
      "[['age', 'los'], ['age', 'los', 'gender', 'insurance'], ['age', 'los', 'gender'], ['age', 'los', 'insurance'], ['age', 'los', 'insurance', 'gender', 'ethnicity'], ['age', 'los', 'insurance', 'gender', 'marital_status'], ['age', 'los', 'insurance', 'gender', 'language'], ['age', 'los', 'insurance', 'gender', 'religion'], ['age', 'los', 'insurance', 'gender', 'ethnicity', 'marital_status'], ['age', 'los', 'insurance', 'gender', 'ethnicity', 'religion'], ['age', 'los', 'insurance', 'gender', 'ethnicity', 'language'], ['age', 'los', 'insurance', 'gender', 'marital_status', 'religion'], ['age', 'los', 'insurance', 'gender', 'marital_status', 'language'], ['age', 'los', 'insurance', 'gender', 'religion', 'language'], ['age', 'los', 'insurance', 'gender', 'religion', 'ethnicity', 'marital_status']]\n",
      "AdaBoostClassifier has highest AUC test score of 0.612918\n",
      "AdaBoostClassifier has highest accuracy score of 0.709472\n",
      "{'df_msl': {'age los gender': ['GaussianNB', 0.62145495374603998], 'age los': ['GaussianNB', 0.62395481882304282], 'age los insurance': ['GaussianNB', 0.6559854679987579], 'age los gender insurance': ['GaussianNB', 0.65404314060948221], 'age los insurance gender marital_status language': ['AdaBoostClassifier', 0.61169805375786357]}, 'df_er': {'age los gender': ['GaussianNB', 0.68446185148811478], 'age los': ['GaussianNB', 0.68630457774518216], 'age los insurance': ['GaussianNB', 0.6957159393066028], 'age los gender insurance': ['GaussianNB', 0.6969062866496214], 'age los insurance gender ethnicity religion': ['GaussianNB', 0.67810511613938407]}, 'df_ems': {'age los gender': ['GaussianNB', 0.65187170219060875], 'age los': ['DecisionTreeClassifier', 0.65526927292470594], 'age los insurance': ['RandomForestClassifier', 0.65896081716838117], 'age los gender insurance': ['GaussianNB', 0.66083920623453296], 'age los insurance gender ethnicity marital_status': ['AdaBoostClassifier', 0.65398278676214694]}, 'df_language': {'age los gender': ['GaussianNB', 0.62745489212729932], 'age los insurance gender language': ['AdaBoostClassifier', 0.61403931196770689], 'age los': ['GaussianNB', 0.63591278647581895], 'age los insurance': ['GaussianNB', 0.6563752152360961], 'age los gender insurance': ['GaussianNB', 0.6492045397647348]}, 'df_marital_status': {'age los gender': ['GaussianNB', 0.65575191361767082], 'age los insurance gender marital_status': ['GaussianNB', 0.66233010169165329], 'age los': ['DecisionTreeClassifier', 0.65809535308067124], 'age los insurance': ['RandomForestClassifier', 0.66332018372879131], 'age los gender insurance': ['GaussianNB', 0.66422800929601422]}, 'df_ethnicity': {'age los gender': ['GaussianNB', 0.6981347594656413], 'age los insurance gender ethnicity': ['GaussianNB', 0.70360573617704403], 'age los': ['GaussianNB', 0.70039398256631213], 'age los insurance': ['GaussianNB', 0.71233467028557929], 'age los gender insurance': ['GaussianNB', 0.71292094617912949]}, 'df_elms': {'age los gender': ['GaussianNB', 0.62984731439679331], 'age los insurance gender ethnicity language marital_status': ['AdaBoostClassifier', 0.61291776991951019], 'age los': ['GaussianNB', 0.62825248925839128], 'age los insurance': ['GaussianNB', 0.6469711297860673], 'age los gender insurance': ['GaussianNB', 0.64894544596021864]}, 'df_erms': {'age los gender': ['GaussianNB', 0.64671462424902948, 'GaussianNB', 0.6459199899744783], 'age los': ['GaussianNB', 0.63985861280292489, 'GaussianNB', 0.64051712002426864], 'age los insurance': ['GaussianNB', 0.65515800712942152, 'GaussianNB', 0.65653755074236364], 'age los gender insurance': ['GaussianNB', 0.65577641137101106, 'GaussianNB', 0.65462050423552998], 'age los insurance gender religion ethnicity marital_status': ['AdaBoostClassifier', 0.65043942683406464]}, 'df_religion': {'age los gender': ['GaussianNB', 0.68827304990711569], 'age los insurance gender religion': ['GaussianNB', 0.69327556161510151], 'age los': ['GaussianNB', 0.68898929166608325], 'age los insurance': ['GaussianNB', 0.69920928118020764], 'age los gender insurance': ['GaussianNB', 0.69711434883606971]}, 'df_rl': {'age los gender': ['GaussianNB', 0.6272028993827552, 'GaussianNB', 0.62737839779008453], 'age los insurance gender religion language': ['AdaBoostClassifier', 0.61071332991638183], 'age los': ['GaussianNB', 0.62422095827725332, 'GaussianNB', 0.62380819241340923], 'age los insurance': ['GaussianNB', 0.65381826499813145, 'GaussianNB', 0.65070187895416454], 'age los gender insurance': ['GaussianNB', 0.65392827150829602, 'GaussianNB', 0.65305683507720613]}, 'df_el': {'age los gender': ['GaussianNB', 0.63307474010023246], 'age los insurance gender ethnicity language': ['AdaBoostClassifier', 0.61787228123012417], 'age los': ['GaussianNB', 0.63483342163790479], 'age los insurance': ['GaussianNB', 0.65392141109072033], 'age los gender insurance': ['GaussianNB', 0.65199955359076256]}, 'dfmimic': {'age los gender': ['GaussianNB', 0.69853290323476736], 'age los': ['GaussianNB', 0.69311261002135482], 'age los insurance': ['GaussianNB', 0.71375759895520674], 'age los gender insurance': ['GaussianNB', 0.71247805218304128]}, 'df_msr': {'age los gender': ['GaussianNB', 0.64520727845699422], 'age los insurance gender marital_status religion': ['GaussianNB', 0.65311078248626075], 'age los': ['RandomForestClassifier', 0.64220493623027763], 'age los insurance': ['GaussianNB', 0.66014067665530329], 'age los gender insurance': ['GaussianNB', 0.66101026664135276]}}\n",
      "[['age', 'los'], ['age', 'los', 'gender', 'insurance'], ['age', 'los', 'gender'], ['age', 'los', 'insurance'], ['age', 'los', 'insurance', 'gender', 'ethnicity'], ['age', 'los', 'insurance', 'gender', 'marital_status'], ['age', 'los', 'insurance', 'gender', 'language'], ['age', 'los', 'insurance', 'gender', 'religion'], ['age', 'los', 'insurance', 'gender', 'ethnicity', 'marital_status'], ['age', 'los', 'insurance', 'gender', 'ethnicity', 'religion'], ['age', 'los', 'insurance', 'gender', 'ethnicity', 'language'], ['age', 'los', 'insurance', 'gender', 'marital_status', 'religion'], ['age', 'los', 'insurance', 'gender', 'marital_status', 'language'], ['age', 'los', 'insurance', 'gender', 'religion', 'language'], ['age', 'los', 'insurance', 'gender', 'religion', 'ethnicity', 'marital_status'], ['age', 'los', 'insurance', 'gender', 'ethnicity', 'language', 'marital_status']]\n"
     ]
    }
   ],
   "source": [
    "#Merge ethnicity, language, and marital status\n",
    "df_elms = df_ems.merge(df_el, how='inner',\n",
    "                        on = ['age', 'gender', 'los', 'insurance', 'expire_flag', 'ethnicity', 'subject_id'])\n",
    "df_elms.name = 'df_elms'\n",
    "print len(df_elms.index)\n",
    "\n",
    "#Get baseline features data\n",
    "baseline_features(df_elms, previous_features, 10)   \n",
    "\n",
    "#Find best classifier with 'age' 'los' 'insurance' 'language' \n",
    "# 'ethnicity' 'marital_status' and 'gender' features\n",
    "elms_features = ['age', 'los', 'insurance', 'gender', 'ethnicity', 'language', 'marital_status']\n",
    "\n",
    "classifier_for_features(df_elms, elms_features, 10)"
   ]
  },
  {
   "cell_type": "code",
   "execution_count": 51,
   "metadata": {
    "collapsed": false
   },
   "outputs": [
    {
     "name": "stdout",
     "output_type": "stream",
     "text": [
      "22176\n",
      "GaussianNB has highest AUC test score of 0.626313\n",
      "AdaBoostClassifier has highest accuracy score of 0.716144\n",
      "{'df_msrl': {'age los': ['GaussianNB', 0.62631286877437364]}, 'df_msl': {'age los gender': ['GaussianNB', 0.62145495374603998], 'age los': ['GaussianNB', 0.62395481882304282], 'age los insurance': ['GaussianNB', 0.6559854679987579], 'age los gender insurance': ['GaussianNB', 0.65404314060948221], 'age los insurance gender marital_status language': ['AdaBoostClassifier', 0.61169805375786357]}, 'df_er': {'age los gender': ['GaussianNB', 0.68446185148811478], 'age los': ['GaussianNB', 0.68630457774518216], 'age los insurance': ['GaussianNB', 0.6957159393066028], 'age los gender insurance': ['GaussianNB', 0.6969062866496214], 'age los insurance gender ethnicity religion': ['GaussianNB', 0.67810511613938407]}, 'df_ems': {'age los gender': ['GaussianNB', 0.65187170219060875], 'age los': ['DecisionTreeClassifier', 0.65526927292470594], 'age los insurance': ['RandomForestClassifier', 0.65896081716838117], 'age los gender insurance': ['GaussianNB', 0.66083920623453296], 'age los insurance gender ethnicity marital_status': ['AdaBoostClassifier', 0.65398278676214694]}, 'df_language': {'age los gender': ['GaussianNB', 0.62745489212729932], 'age los insurance gender language': ['AdaBoostClassifier', 0.61403931196770689], 'age los': ['GaussianNB', 0.63591278647581895], 'age los insurance': ['GaussianNB', 0.6563752152360961], 'age los gender insurance': ['GaussianNB', 0.6492045397647348]}, 'df_marital_status': {'age los gender': ['GaussianNB', 0.65575191361767082], 'age los insurance gender marital_status': ['GaussianNB', 0.66233010169165329], 'age los': ['DecisionTreeClassifier', 0.65809535308067124], 'age los insurance': ['RandomForestClassifier', 0.66332018372879131], 'age los gender insurance': ['GaussianNB', 0.66422800929601422]}, 'df_ethnicity': {'age los gender': ['GaussianNB', 0.6981347594656413], 'age los insurance gender ethnicity': ['GaussianNB', 0.70360573617704403], 'age los': ['GaussianNB', 0.70039398256631213], 'age los insurance': ['GaussianNB', 0.71233467028557929], 'age los gender insurance': ['GaussianNB', 0.71292094617912949]}, 'df_elms': {'age los gender': ['GaussianNB', 0.62984731439679331], 'age los insurance gender ethnicity language marital_status': ['AdaBoostClassifier', 0.61291776991951019], 'age los': ['GaussianNB', 0.62825248925839128], 'age los insurance': ['GaussianNB', 0.6469711297860673], 'age los gender insurance': ['GaussianNB', 0.64894544596021864]}, 'df_erms': {'age los gender': ['GaussianNB', 0.64671462424902948, 'GaussianNB', 0.6459199899744783], 'age los': ['GaussianNB', 0.63985861280292489, 'GaussianNB', 0.64051712002426864], 'age los insurance': ['GaussianNB', 0.65515800712942152, 'GaussianNB', 0.65653755074236364], 'age los gender insurance': ['GaussianNB', 0.65577641137101106, 'GaussianNB', 0.65462050423552998], 'age los insurance gender religion ethnicity marital_status': ['AdaBoostClassifier', 0.65043942683406464]}, 'df_religion': {'age los gender': ['GaussianNB', 0.68827304990711569], 'age los insurance gender religion': ['GaussianNB', 0.69327556161510151], 'age los': ['GaussianNB', 0.68898929166608325], 'age los insurance': ['GaussianNB', 0.69920928118020764], 'age los gender insurance': ['GaussianNB', 0.69711434883606971]}, 'df_rl': {'age los gender': ['GaussianNB', 0.6272028993827552, 'GaussianNB', 0.62737839779008453], 'age los insurance gender religion language': ['AdaBoostClassifier', 0.61071332991638183], 'age los': ['GaussianNB', 0.62422095827725332, 'GaussianNB', 0.62380819241340923], 'age los insurance': ['GaussianNB', 0.65381826499813145, 'GaussianNB', 0.65070187895416454], 'age los gender insurance': ['GaussianNB', 0.65392827150829602, 'GaussianNB', 0.65305683507720613]}, 'df_el': {'age los gender': ['GaussianNB', 0.63307474010023246], 'age los insurance gender ethnicity language': ['AdaBoostClassifier', 0.61787228123012417], 'age los': ['GaussianNB', 0.63483342163790479], 'age los insurance': ['GaussianNB', 0.65392141109072033], 'age los gender insurance': ['GaussianNB', 0.65199955359076256]}, 'dfmimic': {'age los gender': ['GaussianNB', 0.69853290323476736], 'age los': ['GaussianNB', 0.69311261002135482], 'age los insurance': ['GaussianNB', 0.71375759895520674], 'age los gender insurance': ['GaussianNB', 0.71247805218304128]}, 'df_msr': {'age los gender': ['GaussianNB', 0.64520727845699422], 'age los insurance gender marital_status religion': ['GaussianNB', 0.65311078248626075], 'age los': ['RandomForestClassifier', 0.64220493623027763], 'age los insurance': ['GaussianNB', 0.66014067665530329], 'age los gender insurance': ['GaussianNB', 0.66101026664135276]}}\n",
      "[['age', 'los'], ['age', 'los', 'gender', 'insurance'], ['age', 'los', 'gender'], ['age', 'los', 'insurance'], ['age', 'los', 'insurance', 'gender', 'ethnicity'], ['age', 'los', 'insurance', 'gender', 'marital_status'], ['age', 'los', 'insurance', 'gender', 'language'], ['age', 'los', 'insurance', 'gender', 'religion'], ['age', 'los', 'insurance', 'gender', 'ethnicity', 'marital_status'], ['age', 'los', 'insurance', 'gender', 'ethnicity', 'religion'], ['age', 'los', 'insurance', 'gender', 'ethnicity', 'language'], ['age', 'los', 'insurance', 'gender', 'marital_status', 'religion'], ['age', 'los', 'insurance', 'gender', 'marital_status', 'language'], ['age', 'los', 'insurance', 'gender', 'religion', 'language'], ['age', 'los', 'insurance', 'gender', 'religion', 'ethnicity', 'marital_status'], ['age', 'los', 'insurance', 'gender', 'ethnicity', 'language', 'marital_status']]\n",
      "GaussianNB has highest AUC test score of 0.648787\n",
      "AdaBoostClassifier has highest accuracy score of 0.715278\n",
      "{'df_msrl': {'age los': ['GaussianNB', 0.62631286877437364], 'age los gender insurance': ['GaussianNB', 0.64878731322527372]}, 'df_msl': {'age los gender': ['GaussianNB', 0.62145495374603998], 'age los': ['GaussianNB', 0.62395481882304282], 'age los insurance': ['GaussianNB', 0.6559854679987579], 'age los gender insurance': ['GaussianNB', 0.65404314060948221], 'age los insurance gender marital_status language': ['AdaBoostClassifier', 0.61169805375786357]}, 'df_er': {'age los gender': ['GaussianNB', 0.68446185148811478], 'age los': ['GaussianNB', 0.68630457774518216], 'age los insurance': ['GaussianNB', 0.6957159393066028], 'age los gender insurance': ['GaussianNB', 0.6969062866496214], 'age los insurance gender ethnicity religion': ['GaussianNB', 0.67810511613938407]}, 'df_ems': {'age los gender': ['GaussianNB', 0.65187170219060875], 'age los': ['DecisionTreeClassifier', 0.65526927292470594], 'age los insurance': ['RandomForestClassifier', 0.65896081716838117], 'age los gender insurance': ['GaussianNB', 0.66083920623453296], 'age los insurance gender ethnicity marital_status': ['AdaBoostClassifier', 0.65398278676214694]}, 'df_language': {'age los gender': ['GaussianNB', 0.62745489212729932], 'age los insurance gender language': ['AdaBoostClassifier', 0.61403931196770689], 'age los': ['GaussianNB', 0.63591278647581895], 'age los insurance': ['GaussianNB', 0.6563752152360961], 'age los gender insurance': ['GaussianNB', 0.6492045397647348]}, 'df_marital_status': {'age los gender': ['GaussianNB', 0.65575191361767082], 'age los insurance gender marital_status': ['GaussianNB', 0.66233010169165329], 'age los': ['DecisionTreeClassifier', 0.65809535308067124], 'age los insurance': ['RandomForestClassifier', 0.66332018372879131], 'age los gender insurance': ['GaussianNB', 0.66422800929601422]}, 'df_ethnicity': {'age los gender': ['GaussianNB', 0.6981347594656413], 'age los insurance gender ethnicity': ['GaussianNB', 0.70360573617704403], 'age los': ['GaussianNB', 0.70039398256631213], 'age los insurance': ['GaussianNB', 0.71233467028557929], 'age los gender insurance': ['GaussianNB', 0.71292094617912949]}, 'df_elms': {'age los gender': ['GaussianNB', 0.62984731439679331], 'age los insurance gender ethnicity language marital_status': ['AdaBoostClassifier', 0.61291776991951019], 'age los': ['GaussianNB', 0.62825248925839128], 'age los insurance': ['GaussianNB', 0.6469711297860673], 'age los gender insurance': ['GaussianNB', 0.64894544596021864]}, 'df_erms': {'age los gender': ['GaussianNB', 0.64671462424902948, 'GaussianNB', 0.6459199899744783], 'age los': ['GaussianNB', 0.63985861280292489, 'GaussianNB', 0.64051712002426864], 'age los insurance': ['GaussianNB', 0.65515800712942152, 'GaussianNB', 0.65653755074236364], 'age los gender insurance': ['GaussianNB', 0.65577641137101106, 'GaussianNB', 0.65462050423552998], 'age los insurance gender religion ethnicity marital_status': ['AdaBoostClassifier', 0.65043942683406464]}, 'df_religion': {'age los gender': ['GaussianNB', 0.68827304990711569], 'age los insurance gender religion': ['GaussianNB', 0.69327556161510151], 'age los': ['GaussianNB', 0.68898929166608325], 'age los insurance': ['GaussianNB', 0.69920928118020764], 'age los gender insurance': ['GaussianNB', 0.69711434883606971]}, 'df_rl': {'age los gender': ['GaussianNB', 0.6272028993827552, 'GaussianNB', 0.62737839779008453], 'age los insurance gender religion language': ['AdaBoostClassifier', 0.61071332991638183], 'age los': ['GaussianNB', 0.62422095827725332, 'GaussianNB', 0.62380819241340923], 'age los insurance': ['GaussianNB', 0.65381826499813145, 'GaussianNB', 0.65070187895416454], 'age los gender insurance': ['GaussianNB', 0.65392827150829602, 'GaussianNB', 0.65305683507720613]}, 'df_el': {'age los gender': ['GaussianNB', 0.63307474010023246], 'age los insurance gender ethnicity language': ['AdaBoostClassifier', 0.61787228123012417], 'age los': ['GaussianNB', 0.63483342163790479], 'age los insurance': ['GaussianNB', 0.65392141109072033], 'age los gender insurance': ['GaussianNB', 0.65199955359076256]}, 'dfmimic': {'age los gender': ['GaussianNB', 0.69853290323476736], 'age los': ['GaussianNB', 0.69311261002135482], 'age los insurance': ['GaussianNB', 0.71375759895520674], 'age los gender insurance': ['GaussianNB', 0.71247805218304128]}, 'df_msr': {'age los gender': ['GaussianNB', 0.64520727845699422], 'age los insurance gender marital_status religion': ['GaussianNB', 0.65311078248626075], 'age los': ['RandomForestClassifier', 0.64220493623027763], 'age los insurance': ['GaussianNB', 0.66014067665530329], 'age los gender insurance': ['GaussianNB', 0.66101026664135276]}}\n",
      "[['age', 'los'], ['age', 'los', 'gender', 'insurance'], ['age', 'los', 'gender'], ['age', 'los', 'insurance'], ['age', 'los', 'insurance', 'gender', 'ethnicity'], ['age', 'los', 'insurance', 'gender', 'marital_status'], ['age', 'los', 'insurance', 'gender', 'language'], ['age', 'los', 'insurance', 'gender', 'religion'], ['age', 'los', 'insurance', 'gender', 'ethnicity', 'marital_status'], ['age', 'los', 'insurance', 'gender', 'ethnicity', 'religion'], ['age', 'los', 'insurance', 'gender', 'ethnicity', 'language'], ['age', 'los', 'insurance', 'gender', 'marital_status', 'religion'], ['age', 'los', 'insurance', 'gender', 'marital_status', 'language'], ['age', 'los', 'insurance', 'gender', 'religion', 'language'], ['age', 'los', 'insurance', 'gender', 'religion', 'ethnicity', 'marital_status'], ['age', 'los', 'insurance', 'gender', 'ethnicity', 'language', 'marital_status']]\n",
      "GaussianNB has highest AUC test score of 0.623640\n",
      "AdaBoostClassifier has highest accuracy score of 0.715693\n",
      "{'df_msrl': {'age los gender': ['GaussianNB', 0.62364048744119616], 'age los': ['GaussianNB', 0.62631286877437364], 'age los gender insurance': ['GaussianNB', 0.64878731322527372]}, 'df_msl': {'age los gender': ['GaussianNB', 0.62145495374603998], 'age los': ['GaussianNB', 0.62395481882304282], 'age los insurance': ['GaussianNB', 0.6559854679987579], 'age los gender insurance': ['GaussianNB', 0.65404314060948221], 'age los insurance gender marital_status language': ['AdaBoostClassifier', 0.61169805375786357]}, 'df_er': {'age los gender': ['GaussianNB', 0.68446185148811478], 'age los': ['GaussianNB', 0.68630457774518216], 'age los insurance': ['GaussianNB', 0.6957159393066028], 'age los gender insurance': ['GaussianNB', 0.6969062866496214], 'age los insurance gender ethnicity religion': ['GaussianNB', 0.67810511613938407]}, 'df_ems': {'age los gender': ['GaussianNB', 0.65187170219060875], 'age los': ['DecisionTreeClassifier', 0.65526927292470594], 'age los insurance': ['RandomForestClassifier', 0.65896081716838117], 'age los gender insurance': ['GaussianNB', 0.66083920623453296], 'age los insurance gender ethnicity marital_status': ['AdaBoostClassifier', 0.65398278676214694]}, 'df_language': {'age los gender': ['GaussianNB', 0.62745489212729932], 'age los insurance gender language': ['AdaBoostClassifier', 0.61403931196770689], 'age los': ['GaussianNB', 0.63591278647581895], 'age los insurance': ['GaussianNB', 0.6563752152360961], 'age los gender insurance': ['GaussianNB', 0.6492045397647348]}, 'df_marital_status': {'age los gender': ['GaussianNB', 0.65575191361767082], 'age los insurance gender marital_status': ['GaussianNB', 0.66233010169165329], 'age los': ['DecisionTreeClassifier', 0.65809535308067124], 'age los insurance': ['RandomForestClassifier', 0.66332018372879131], 'age los gender insurance': ['GaussianNB', 0.66422800929601422]}, 'df_ethnicity': {'age los gender': ['GaussianNB', 0.6981347594656413], 'age los insurance gender ethnicity': ['GaussianNB', 0.70360573617704403], 'age los': ['GaussianNB', 0.70039398256631213], 'age los insurance': ['GaussianNB', 0.71233467028557929], 'age los gender insurance': ['GaussianNB', 0.71292094617912949]}, 'df_elms': {'age los gender': ['GaussianNB', 0.62984731439679331], 'age los insurance gender ethnicity language marital_status': ['AdaBoostClassifier', 0.61291776991951019], 'age los': ['GaussianNB', 0.62825248925839128], 'age los insurance': ['GaussianNB', 0.6469711297860673], 'age los gender insurance': ['GaussianNB', 0.64894544596021864]}, 'df_erms': {'age los gender': ['GaussianNB', 0.64671462424902948, 'GaussianNB', 0.6459199899744783], 'age los': ['GaussianNB', 0.63985861280292489, 'GaussianNB', 0.64051712002426864], 'age los insurance': ['GaussianNB', 0.65515800712942152, 'GaussianNB', 0.65653755074236364], 'age los gender insurance': ['GaussianNB', 0.65577641137101106, 'GaussianNB', 0.65462050423552998], 'age los insurance gender religion ethnicity marital_status': ['AdaBoostClassifier', 0.65043942683406464]}, 'df_religion': {'age los gender': ['GaussianNB', 0.68827304990711569], 'age los insurance gender religion': ['GaussianNB', 0.69327556161510151], 'age los': ['GaussianNB', 0.68898929166608325], 'age los insurance': ['GaussianNB', 0.69920928118020764], 'age los gender insurance': ['GaussianNB', 0.69711434883606971]}, 'df_rl': {'age los gender': ['GaussianNB', 0.6272028993827552, 'GaussianNB', 0.62737839779008453], 'age los insurance gender religion language': ['AdaBoostClassifier', 0.61071332991638183], 'age los': ['GaussianNB', 0.62422095827725332, 'GaussianNB', 0.62380819241340923], 'age los insurance': ['GaussianNB', 0.65381826499813145, 'GaussianNB', 0.65070187895416454], 'age los gender insurance': ['GaussianNB', 0.65392827150829602, 'GaussianNB', 0.65305683507720613]}, 'df_el': {'age los gender': ['GaussianNB', 0.63307474010023246], 'age los insurance gender ethnicity language': ['AdaBoostClassifier', 0.61787228123012417], 'age los': ['GaussianNB', 0.63483342163790479], 'age los insurance': ['GaussianNB', 0.65392141109072033], 'age los gender insurance': ['GaussianNB', 0.65199955359076256]}, 'dfmimic': {'age los gender': ['GaussianNB', 0.69853290323476736], 'age los': ['GaussianNB', 0.69311261002135482], 'age los insurance': ['GaussianNB', 0.71375759895520674], 'age los gender insurance': ['GaussianNB', 0.71247805218304128]}, 'df_msr': {'age los gender': ['GaussianNB', 0.64520727845699422], 'age los insurance gender marital_status religion': ['GaussianNB', 0.65311078248626075], 'age los': ['RandomForestClassifier', 0.64220493623027763], 'age los insurance': ['GaussianNB', 0.66014067665530329], 'age los gender insurance': ['GaussianNB', 0.66101026664135276]}}\n",
      "[['age', 'los'], ['age', 'los', 'gender', 'insurance'], ['age', 'los', 'gender'], ['age', 'los', 'insurance'], ['age', 'los', 'insurance', 'gender', 'ethnicity'], ['age', 'los', 'insurance', 'gender', 'marital_status'], ['age', 'los', 'insurance', 'gender', 'language'], ['age', 'los', 'insurance', 'gender', 'religion'], ['age', 'los', 'insurance', 'gender', 'ethnicity', 'marital_status'], ['age', 'los', 'insurance', 'gender', 'ethnicity', 'religion'], ['age', 'los', 'insurance', 'gender', 'ethnicity', 'language'], ['age', 'los', 'insurance', 'gender', 'marital_status', 'religion'], ['age', 'los', 'insurance', 'gender', 'marital_status', 'language'], ['age', 'los', 'insurance', 'gender', 'religion', 'language'], ['age', 'los', 'insurance', 'gender', 'religion', 'ethnicity', 'marital_status'], ['age', 'los', 'insurance', 'gender', 'ethnicity', 'language', 'marital_status']]\n",
      "GaussianNB has highest AUC test score of 0.651737\n",
      "AdaBoostClassifier has highest accuracy score of 0.717605\n",
      "{'df_msrl': {'age los gender': ['GaussianNB', 0.62364048744119616], 'age los': ['GaussianNB', 0.62631286877437364], 'age los insurance': ['GaussianNB', 0.65173727032337159], 'age los gender insurance': ['GaussianNB', 0.64878731322527372]}, 'df_msl': {'age los gender': ['GaussianNB', 0.62145495374603998], 'age los': ['GaussianNB', 0.62395481882304282], 'age los insurance': ['GaussianNB', 0.6559854679987579], 'age los gender insurance': ['GaussianNB', 0.65404314060948221], 'age los insurance gender marital_status language': ['AdaBoostClassifier', 0.61169805375786357]}, 'df_er': {'age los gender': ['GaussianNB', 0.68446185148811478], 'age los': ['GaussianNB', 0.68630457774518216], 'age los insurance': ['GaussianNB', 0.6957159393066028], 'age los gender insurance': ['GaussianNB', 0.6969062866496214], 'age los insurance gender ethnicity religion': ['GaussianNB', 0.67810511613938407]}, 'df_ems': {'age los gender': ['GaussianNB', 0.65187170219060875], 'age los': ['DecisionTreeClassifier', 0.65526927292470594], 'age los insurance': ['RandomForestClassifier', 0.65896081716838117], 'age los gender insurance': ['GaussianNB', 0.66083920623453296], 'age los insurance gender ethnicity marital_status': ['AdaBoostClassifier', 0.65398278676214694]}, 'df_language': {'age los gender': ['GaussianNB', 0.62745489212729932], 'age los insurance gender language': ['AdaBoostClassifier', 0.61403931196770689], 'age los': ['GaussianNB', 0.63591278647581895], 'age los insurance': ['GaussianNB', 0.6563752152360961], 'age los gender insurance': ['GaussianNB', 0.6492045397647348]}, 'df_marital_status': {'age los gender': ['GaussianNB', 0.65575191361767082], 'age los insurance gender marital_status': ['GaussianNB', 0.66233010169165329], 'age los': ['DecisionTreeClassifier', 0.65809535308067124], 'age los insurance': ['RandomForestClassifier', 0.66332018372879131], 'age los gender insurance': ['GaussianNB', 0.66422800929601422]}, 'df_ethnicity': {'age los gender': ['GaussianNB', 0.6981347594656413], 'age los insurance gender ethnicity': ['GaussianNB', 0.70360573617704403], 'age los': ['GaussianNB', 0.70039398256631213], 'age los insurance': ['GaussianNB', 0.71233467028557929], 'age los gender insurance': ['GaussianNB', 0.71292094617912949]}, 'df_elms': {'age los gender': ['GaussianNB', 0.62984731439679331], 'age los insurance gender ethnicity language marital_status': ['AdaBoostClassifier', 0.61291776991951019], 'age los': ['GaussianNB', 0.62825248925839128], 'age los insurance': ['GaussianNB', 0.6469711297860673], 'age los gender insurance': ['GaussianNB', 0.64894544596021864]}, 'df_erms': {'age los gender': ['GaussianNB', 0.64671462424902948, 'GaussianNB', 0.6459199899744783], 'age los': ['GaussianNB', 0.63985861280292489, 'GaussianNB', 0.64051712002426864], 'age los insurance': ['GaussianNB', 0.65515800712942152, 'GaussianNB', 0.65653755074236364], 'age los gender insurance': ['GaussianNB', 0.65577641137101106, 'GaussianNB', 0.65462050423552998], 'age los insurance gender religion ethnicity marital_status': ['AdaBoostClassifier', 0.65043942683406464]}, 'df_religion': {'age los gender': ['GaussianNB', 0.68827304990711569], 'age los insurance gender religion': ['GaussianNB', 0.69327556161510151], 'age los': ['GaussianNB', 0.68898929166608325], 'age los insurance': ['GaussianNB', 0.69920928118020764], 'age los gender insurance': ['GaussianNB', 0.69711434883606971]}, 'df_rl': {'age los gender': ['GaussianNB', 0.6272028993827552, 'GaussianNB', 0.62737839779008453], 'age los insurance gender religion language': ['AdaBoostClassifier', 0.61071332991638183], 'age los': ['GaussianNB', 0.62422095827725332, 'GaussianNB', 0.62380819241340923], 'age los insurance': ['GaussianNB', 0.65381826499813145, 'GaussianNB', 0.65070187895416454], 'age los gender insurance': ['GaussianNB', 0.65392827150829602, 'GaussianNB', 0.65305683507720613]}, 'df_el': {'age los gender': ['GaussianNB', 0.63307474010023246], 'age los insurance gender ethnicity language': ['AdaBoostClassifier', 0.61787228123012417], 'age los': ['GaussianNB', 0.63483342163790479], 'age los insurance': ['GaussianNB', 0.65392141109072033], 'age los gender insurance': ['GaussianNB', 0.65199955359076256]}, 'dfmimic': {'age los gender': ['GaussianNB', 0.69853290323476736], 'age los': ['GaussianNB', 0.69311261002135482], 'age los insurance': ['GaussianNB', 0.71375759895520674], 'age los gender insurance': ['GaussianNB', 0.71247805218304128]}, 'df_msr': {'age los gender': ['GaussianNB', 0.64520727845699422], 'age los insurance gender marital_status religion': ['GaussianNB', 0.65311078248626075], 'age los': ['RandomForestClassifier', 0.64220493623027763], 'age los insurance': ['GaussianNB', 0.66014067665530329], 'age los gender insurance': ['GaussianNB', 0.66101026664135276]}}\n",
      "[['age', 'los'], ['age', 'los', 'gender', 'insurance'], ['age', 'los', 'gender'], ['age', 'los', 'insurance'], ['age', 'los', 'insurance', 'gender', 'ethnicity'], ['age', 'los', 'insurance', 'gender', 'marital_status'], ['age', 'los', 'insurance', 'gender', 'language'], ['age', 'los', 'insurance', 'gender', 'religion'], ['age', 'los', 'insurance', 'gender', 'ethnicity', 'marital_status'], ['age', 'los', 'insurance', 'gender', 'ethnicity', 'religion'], ['age', 'los', 'insurance', 'gender', 'ethnicity', 'language'], ['age', 'los', 'insurance', 'gender', 'marital_status', 'religion'], ['age', 'los', 'insurance', 'gender', 'marital_status', 'language'], ['age', 'los', 'insurance', 'gender', 'religion', 'language'], ['age', 'los', 'insurance', 'gender', 'religion', 'ethnicity', 'marital_status'], ['age', 'los', 'insurance', 'gender', 'ethnicity', 'language', 'marital_status']]\n",
      "AdaBoostClassifier has highest AUC test score of 0.605101\n",
      "AdaBoostClassifier has highest accuracy score of 0.714592\n",
      "{'df_msrl': {'age los gender': ['GaussianNB', 0.62364048744119616], 'age los': ['GaussianNB', 0.62631286877437364], 'age los insurance': ['GaussianNB', 0.65173727032337159], 'age los gender insurance': ['GaussianNB', 0.64878731322527372], 'age los insurance gender religion language marital_status': ['AdaBoostClassifier', 0.60510148010431197]}, 'df_msl': {'age los gender': ['GaussianNB', 0.62145495374603998], 'age los': ['GaussianNB', 0.62395481882304282], 'age los insurance': ['GaussianNB', 0.6559854679987579], 'age los gender insurance': ['GaussianNB', 0.65404314060948221], 'age los insurance gender marital_status language': ['AdaBoostClassifier', 0.61169805375786357]}, 'df_er': {'age los gender': ['GaussianNB', 0.68446185148811478], 'age los': ['GaussianNB', 0.68630457774518216], 'age los insurance': ['GaussianNB', 0.6957159393066028], 'age los gender insurance': ['GaussianNB', 0.6969062866496214], 'age los insurance gender ethnicity religion': ['GaussianNB', 0.67810511613938407]}, 'df_ems': {'age los gender': ['GaussianNB', 0.65187170219060875], 'age los': ['DecisionTreeClassifier', 0.65526927292470594], 'age los insurance': ['RandomForestClassifier', 0.65896081716838117], 'age los gender insurance': ['GaussianNB', 0.66083920623453296], 'age los insurance gender ethnicity marital_status': ['AdaBoostClassifier', 0.65398278676214694]}, 'df_language': {'age los gender': ['GaussianNB', 0.62745489212729932], 'age los insurance gender language': ['AdaBoostClassifier', 0.61403931196770689], 'age los': ['GaussianNB', 0.63591278647581895], 'age los insurance': ['GaussianNB', 0.6563752152360961], 'age los gender insurance': ['GaussianNB', 0.6492045397647348]}, 'df_marital_status': {'age los gender': ['GaussianNB', 0.65575191361767082], 'age los insurance gender marital_status': ['GaussianNB', 0.66233010169165329], 'age los': ['DecisionTreeClassifier', 0.65809535308067124], 'age los insurance': ['RandomForestClassifier', 0.66332018372879131], 'age los gender insurance': ['GaussianNB', 0.66422800929601422]}, 'df_ethnicity': {'age los gender': ['GaussianNB', 0.6981347594656413], 'age los insurance gender ethnicity': ['GaussianNB', 0.70360573617704403], 'age los': ['GaussianNB', 0.70039398256631213], 'age los insurance': ['GaussianNB', 0.71233467028557929], 'age los gender insurance': ['GaussianNB', 0.71292094617912949]}, 'df_elms': {'age los gender': ['GaussianNB', 0.62984731439679331], 'age los insurance gender ethnicity language marital_status': ['AdaBoostClassifier', 0.61291776991951019], 'age los': ['GaussianNB', 0.62825248925839128], 'age los insurance': ['GaussianNB', 0.6469711297860673], 'age los gender insurance': ['GaussianNB', 0.64894544596021864]}, 'df_erms': {'age los gender': ['GaussianNB', 0.64671462424902948, 'GaussianNB', 0.6459199899744783], 'age los': ['GaussianNB', 0.63985861280292489, 'GaussianNB', 0.64051712002426864], 'age los insurance': ['GaussianNB', 0.65515800712942152, 'GaussianNB', 0.65653755074236364], 'age los gender insurance': ['GaussianNB', 0.65577641137101106, 'GaussianNB', 0.65462050423552998], 'age los insurance gender religion ethnicity marital_status': ['AdaBoostClassifier', 0.65043942683406464]}, 'df_religion': {'age los gender': ['GaussianNB', 0.68827304990711569], 'age los insurance gender religion': ['GaussianNB', 0.69327556161510151], 'age los': ['GaussianNB', 0.68898929166608325], 'age los insurance': ['GaussianNB', 0.69920928118020764], 'age los gender insurance': ['GaussianNB', 0.69711434883606971]}, 'df_rl': {'age los gender': ['GaussianNB', 0.6272028993827552, 'GaussianNB', 0.62737839779008453], 'age los insurance gender religion language': ['AdaBoostClassifier', 0.61071332991638183], 'age los': ['GaussianNB', 0.62422095827725332, 'GaussianNB', 0.62380819241340923], 'age los insurance': ['GaussianNB', 0.65381826499813145, 'GaussianNB', 0.65070187895416454], 'age los gender insurance': ['GaussianNB', 0.65392827150829602, 'GaussianNB', 0.65305683507720613]}, 'df_el': {'age los gender': ['GaussianNB', 0.63307474010023246], 'age los insurance gender ethnicity language': ['AdaBoostClassifier', 0.61787228123012417], 'age los': ['GaussianNB', 0.63483342163790479], 'age los insurance': ['GaussianNB', 0.65392141109072033], 'age los gender insurance': ['GaussianNB', 0.65199955359076256]}, 'dfmimic': {'age los gender': ['GaussianNB', 0.69853290323476736], 'age los': ['GaussianNB', 0.69311261002135482], 'age los insurance': ['GaussianNB', 0.71375759895520674], 'age los gender insurance': ['GaussianNB', 0.71247805218304128]}, 'df_msr': {'age los gender': ['GaussianNB', 0.64520727845699422], 'age los insurance gender marital_status religion': ['GaussianNB', 0.65311078248626075], 'age los': ['RandomForestClassifier', 0.64220493623027763], 'age los insurance': ['GaussianNB', 0.66014067665530329], 'age los gender insurance': ['GaussianNB', 0.66101026664135276]}}\n",
      "[['age', 'los'], ['age', 'los', 'gender', 'insurance'], ['age', 'los', 'gender'], ['age', 'los', 'insurance'], ['age', 'los', 'insurance', 'gender', 'ethnicity'], ['age', 'los', 'insurance', 'gender', 'marital_status'], ['age', 'los', 'insurance', 'gender', 'language'], ['age', 'los', 'insurance', 'gender', 'religion'], ['age', 'los', 'insurance', 'gender', 'ethnicity', 'marital_status'], ['age', 'los', 'insurance', 'gender', 'ethnicity', 'religion'], ['age', 'los', 'insurance', 'gender', 'ethnicity', 'language'], ['age', 'los', 'insurance', 'gender', 'marital_status', 'religion'], ['age', 'los', 'insurance', 'gender', 'marital_status', 'language'], ['age', 'los', 'insurance', 'gender', 'religion', 'language'], ['age', 'los', 'insurance', 'gender', 'religion', 'ethnicity', 'marital_status'], ['age', 'los', 'insurance', 'gender', 'ethnicity', 'language', 'marital_status'], ['age', 'los', 'insurance', 'gender', 'religion', 'language', 'marital_status']]\n"
     ]
    }
   ],
   "source": [
    "#Merge religion, language, and marital status\n",
    "df_msrl = df_msl.merge(df_msr, how='inner',\n",
    "                        on = ['age', 'gender', 'los', 'insurance', 'expire_flag', 'marital_status', 'subject_id'])\n",
    "df_msrl.name = 'df_msrl'\n",
    "print len(df_msrl.index)\n",
    "\n",
    "#Get baseline features data\n",
    "baseline_features(df_msrl, previous_features, 10)   \n",
    "\n",
    "#Find best classifier with 'age' 'los' 'insurance' 'language' \n",
    "# 'religion' 'marital_status' and 'gender' features\n",
    "msrl_features = ['age', 'los', 'insurance', 'gender', 'religion', 'language', 'marital_status']\n",
    "\n",
    "classifier_for_features(df_msrl, msrl_features, 10)"
   ]
  },
  {
   "cell_type": "markdown",
   "metadata": {},
   "source": [
    "#### All features combined"
   ]
  },
  {
   "cell_type": "code",
   "execution_count": 52,
   "metadata": {
    "collapsed": false
   },
   "outputs": [
    {
     "name": "stdout",
     "output_type": "stream",
     "text": [
      "GaussianNB has highest AUC test score of 0.621242\n",
      "AdaBoostClassifier has highest accuracy score of 0.708196\n",
      "{'df_msrl': {'age los gender': ['GaussianNB', 0.62364048744119616], 'age los': ['GaussianNB', 0.62631286877437364], 'age los insurance': ['GaussianNB', 0.65173727032337159], 'age los gender insurance': ['GaussianNB', 0.64878731322527372], 'age los insurance gender religion language marital_status': ['AdaBoostClassifier', 0.60510148010431197]}, 'df_msl': {'age los gender': ['GaussianNB', 0.62145495374603998], 'age los': ['GaussianNB', 0.62395481882304282], 'age los insurance': ['GaussianNB', 0.6559854679987579], 'age los gender insurance': ['GaussianNB', 0.65404314060948221], 'age los insurance gender marital_status language': ['AdaBoostClassifier', 0.61169805375786357]}, 'df_er': {'age los gender': ['GaussianNB', 0.68446185148811478], 'age los': ['GaussianNB', 0.68630457774518216], 'age los insurance': ['GaussianNB', 0.6957159393066028], 'age los gender insurance': ['GaussianNB', 0.6969062866496214], 'age los insurance gender ethnicity religion': ['GaussianNB', 0.67810511613938407]}, 'df_ems': {'age los gender': ['GaussianNB', 0.65187170219060875], 'age los': ['DecisionTreeClassifier', 0.65526927292470594], 'age los insurance': ['RandomForestClassifier', 0.65896081716838117], 'age los gender insurance': ['GaussianNB', 0.66083920623453296], 'age los insurance gender ethnicity marital_status': ['AdaBoostClassifier', 0.65398278676214694]}, 'df_emsrl': {'age los': ['GaussianNB', 0.6212419741232903]}, 'df_language': {'age los gender': ['GaussianNB', 0.62745489212729932], 'age los insurance gender language': ['AdaBoostClassifier', 0.61403931196770689], 'age los': ['GaussianNB', 0.63591278647581895], 'age los insurance': ['GaussianNB', 0.6563752152360961], 'age los gender insurance': ['GaussianNB', 0.6492045397647348]}, 'df_marital_status': {'age los gender': ['GaussianNB', 0.65575191361767082], 'age los insurance gender marital_status': ['GaussianNB', 0.66233010169165329], 'age los': ['DecisionTreeClassifier', 0.65809535308067124], 'age los insurance': ['RandomForestClassifier', 0.66332018372879131], 'age los gender insurance': ['GaussianNB', 0.66422800929601422]}, 'df_ethnicity': {'age los gender': ['GaussianNB', 0.6981347594656413], 'age los insurance gender ethnicity': ['GaussianNB', 0.70360573617704403], 'age los': ['GaussianNB', 0.70039398256631213], 'age los insurance': ['GaussianNB', 0.71233467028557929], 'age los gender insurance': ['GaussianNB', 0.71292094617912949]}, 'df_elms': {'age los gender': ['GaussianNB', 0.62984731439679331], 'age los insurance gender ethnicity language marital_status': ['AdaBoostClassifier', 0.61291776991951019], 'age los': ['GaussianNB', 0.62825248925839128], 'age los insurance': ['GaussianNB', 0.6469711297860673], 'age los gender insurance': ['GaussianNB', 0.64894544596021864]}, 'df_erms': {'age los gender': ['GaussianNB', 0.64671462424902948, 'GaussianNB', 0.6459199899744783], 'age los': ['GaussianNB', 0.63985861280292489, 'GaussianNB', 0.64051712002426864], 'age los insurance': ['GaussianNB', 0.65515800712942152, 'GaussianNB', 0.65653755074236364], 'age los gender insurance': ['GaussianNB', 0.65577641137101106, 'GaussianNB', 0.65462050423552998], 'age los insurance gender religion ethnicity marital_status': ['AdaBoostClassifier', 0.65043942683406464]}, 'df_religion': {'age los gender': ['GaussianNB', 0.68827304990711569], 'age los insurance gender religion': ['GaussianNB', 0.69327556161510151], 'age los': ['GaussianNB', 0.68898929166608325], 'age los insurance': ['GaussianNB', 0.69920928118020764], 'age los gender insurance': ['GaussianNB', 0.69711434883606971]}, 'df_rl': {'age los gender': ['GaussianNB', 0.6272028993827552, 'GaussianNB', 0.62737839779008453], 'age los insurance gender religion language': ['AdaBoostClassifier', 0.61071332991638183], 'age los': ['GaussianNB', 0.62422095827725332, 'GaussianNB', 0.62380819241340923], 'age los insurance': ['GaussianNB', 0.65381826499813145, 'GaussianNB', 0.65070187895416454], 'age los gender insurance': ['GaussianNB', 0.65392827150829602, 'GaussianNB', 0.65305683507720613]}, 'df_el': {'age los gender': ['GaussianNB', 0.63307474010023246], 'age los insurance gender ethnicity language': ['AdaBoostClassifier', 0.61787228123012417], 'age los': ['GaussianNB', 0.63483342163790479], 'age los insurance': ['GaussianNB', 0.65392141109072033], 'age los gender insurance': ['GaussianNB', 0.65199955359076256]}, 'dfmimic': {'age los gender': ['GaussianNB', 0.69853290323476736], 'age los': ['GaussianNB', 0.69311261002135482], 'age los insurance': ['GaussianNB', 0.71375759895520674], 'age los gender insurance': ['GaussianNB', 0.71247805218304128]}, 'df_msr': {'age los gender': ['GaussianNB', 0.64520727845699422], 'age los insurance gender marital_status religion': ['GaussianNB', 0.65311078248626075], 'age los': ['RandomForestClassifier', 0.64220493623027763], 'age los insurance': ['GaussianNB', 0.66014067665530329], 'age los gender insurance': ['GaussianNB', 0.66101026664135276]}}\n",
      "[['age', 'los'], ['age', 'los', 'gender', 'insurance'], ['age', 'los', 'gender'], ['age', 'los', 'insurance'], ['age', 'los', 'insurance', 'gender', 'ethnicity'], ['age', 'los', 'insurance', 'gender', 'marital_status'], ['age', 'los', 'insurance', 'gender', 'language'], ['age', 'los', 'insurance', 'gender', 'religion'], ['age', 'los', 'insurance', 'gender', 'ethnicity', 'marital_status'], ['age', 'los', 'insurance', 'gender', 'ethnicity', 'religion'], ['age', 'los', 'insurance', 'gender', 'ethnicity', 'language'], ['age', 'los', 'insurance', 'gender', 'marital_status', 'religion'], ['age', 'los', 'insurance', 'gender', 'marital_status', 'language'], ['age', 'los', 'insurance', 'gender', 'religion', 'language'], ['age', 'los', 'insurance', 'gender', 'religion', 'ethnicity', 'marital_status'], ['age', 'los', 'insurance', 'gender', 'ethnicity', 'language', 'marital_status'], ['age', 'los', 'insurance', 'gender', 'religion', 'language', 'marital_status']]\n",
      "GaussianNB has highest AUC test score of 0.646796\n",
      "AdaBoostClassifier has highest accuracy score of 0.706565\n",
      "{'df_msrl': {'age los gender': ['GaussianNB', 0.62364048744119616], 'age los': ['GaussianNB', 0.62631286877437364], 'age los insurance': ['GaussianNB', 0.65173727032337159], 'age los gender insurance': ['GaussianNB', 0.64878731322527372], 'age los insurance gender religion language marital_status': ['AdaBoostClassifier', 0.60510148010431197]}, 'df_msl': {'age los gender': ['GaussianNB', 0.62145495374603998], 'age los': ['GaussianNB', 0.62395481882304282], 'age los insurance': ['GaussianNB', 0.6559854679987579], 'age los gender insurance': ['GaussianNB', 0.65404314060948221], 'age los insurance gender marital_status language': ['AdaBoostClassifier', 0.61169805375786357]}, 'df_er': {'age los gender': ['GaussianNB', 0.68446185148811478], 'age los': ['GaussianNB', 0.68630457774518216], 'age los insurance': ['GaussianNB', 0.6957159393066028], 'age los gender insurance': ['GaussianNB', 0.6969062866496214], 'age los insurance gender ethnicity religion': ['GaussianNB', 0.67810511613938407]}, 'df_ems': {'age los gender': ['GaussianNB', 0.65187170219060875], 'age los': ['DecisionTreeClassifier', 0.65526927292470594], 'age los insurance': ['RandomForestClassifier', 0.65896081716838117], 'age los gender insurance': ['GaussianNB', 0.66083920623453296], 'age los insurance gender ethnicity marital_status': ['AdaBoostClassifier', 0.65398278676214694]}, 'df_emsrl': {'age los': ['GaussianNB', 0.6212419741232903], 'age los gender insurance': ['GaussianNB', 0.64679578919892011]}, 'df_language': {'age los gender': ['GaussianNB', 0.62745489212729932], 'age los insurance gender language': ['AdaBoostClassifier', 0.61403931196770689], 'age los': ['GaussianNB', 0.63591278647581895], 'age los insurance': ['GaussianNB', 0.6563752152360961], 'age los gender insurance': ['GaussianNB', 0.6492045397647348]}, 'df_marital_status': {'age los gender': ['GaussianNB', 0.65575191361767082], 'age los insurance gender marital_status': ['GaussianNB', 0.66233010169165329], 'age los': ['DecisionTreeClassifier', 0.65809535308067124], 'age los insurance': ['RandomForestClassifier', 0.66332018372879131], 'age los gender insurance': ['GaussianNB', 0.66422800929601422]}, 'df_ethnicity': {'age los gender': ['GaussianNB', 0.6981347594656413], 'age los insurance gender ethnicity': ['GaussianNB', 0.70360573617704403], 'age los': ['GaussianNB', 0.70039398256631213], 'age los insurance': ['GaussianNB', 0.71233467028557929], 'age los gender insurance': ['GaussianNB', 0.71292094617912949]}, 'df_elms': {'age los gender': ['GaussianNB', 0.62984731439679331], 'age los insurance gender ethnicity language marital_status': ['AdaBoostClassifier', 0.61291776991951019], 'age los': ['GaussianNB', 0.62825248925839128], 'age los insurance': ['GaussianNB', 0.6469711297860673], 'age los gender insurance': ['GaussianNB', 0.64894544596021864]}, 'df_erms': {'age los gender': ['GaussianNB', 0.64671462424902948, 'GaussianNB', 0.6459199899744783], 'age los': ['GaussianNB', 0.63985861280292489, 'GaussianNB', 0.64051712002426864], 'age los insurance': ['GaussianNB', 0.65515800712942152, 'GaussianNB', 0.65653755074236364], 'age los gender insurance': ['GaussianNB', 0.65577641137101106, 'GaussianNB', 0.65462050423552998], 'age los insurance gender religion ethnicity marital_status': ['AdaBoostClassifier', 0.65043942683406464]}, 'df_religion': {'age los gender': ['GaussianNB', 0.68827304990711569], 'age los insurance gender religion': ['GaussianNB', 0.69327556161510151], 'age los': ['GaussianNB', 0.68898929166608325], 'age los insurance': ['GaussianNB', 0.69920928118020764], 'age los gender insurance': ['GaussianNB', 0.69711434883606971]}, 'df_rl': {'age los gender': ['GaussianNB', 0.6272028993827552, 'GaussianNB', 0.62737839779008453], 'age los insurance gender religion language': ['AdaBoostClassifier', 0.61071332991638183], 'age los': ['GaussianNB', 0.62422095827725332, 'GaussianNB', 0.62380819241340923], 'age los insurance': ['GaussianNB', 0.65381826499813145, 'GaussianNB', 0.65070187895416454], 'age los gender insurance': ['GaussianNB', 0.65392827150829602, 'GaussianNB', 0.65305683507720613]}, 'df_el': {'age los gender': ['GaussianNB', 0.63307474010023246], 'age los insurance gender ethnicity language': ['AdaBoostClassifier', 0.61787228123012417], 'age los': ['GaussianNB', 0.63483342163790479], 'age los insurance': ['GaussianNB', 0.65392141109072033], 'age los gender insurance': ['GaussianNB', 0.65199955359076256]}, 'dfmimic': {'age los gender': ['GaussianNB', 0.69853290323476736], 'age los': ['GaussianNB', 0.69311261002135482], 'age los insurance': ['GaussianNB', 0.71375759895520674], 'age los gender insurance': ['GaussianNB', 0.71247805218304128]}, 'df_msr': {'age los gender': ['GaussianNB', 0.64520727845699422], 'age los insurance gender marital_status religion': ['GaussianNB', 0.65311078248626075], 'age los': ['RandomForestClassifier', 0.64220493623027763], 'age los insurance': ['GaussianNB', 0.66014067665530329], 'age los gender insurance': ['GaussianNB', 0.66101026664135276]}}\n",
      "[['age', 'los'], ['age', 'los', 'gender', 'insurance'], ['age', 'los', 'gender'], ['age', 'los', 'insurance'], ['age', 'los', 'insurance', 'gender', 'ethnicity'], ['age', 'los', 'insurance', 'gender', 'marital_status'], ['age', 'los', 'insurance', 'gender', 'language'], ['age', 'los', 'insurance', 'gender', 'religion'], ['age', 'los', 'insurance', 'gender', 'ethnicity', 'marital_status'], ['age', 'los', 'insurance', 'gender', 'ethnicity', 'religion'], ['age', 'los', 'insurance', 'gender', 'ethnicity', 'language'], ['age', 'los', 'insurance', 'gender', 'marital_status', 'religion'], ['age', 'los', 'insurance', 'gender', 'marital_status', 'language'], ['age', 'los', 'insurance', 'gender', 'religion', 'language'], ['age', 'los', 'insurance', 'gender', 'religion', 'ethnicity', 'marital_status'], ['age', 'los', 'insurance', 'gender', 'ethnicity', 'language', 'marital_status'], ['age', 'los', 'insurance', 'gender', 'religion', 'language', 'marital_status']]\n",
      "GaussianNB has highest AUC test score of 0.625469\n",
      "AdaBoostClassifier has highest accuracy score of 0.713517\n",
      "{'df_msrl': {'age los gender': ['GaussianNB', 0.62364048744119616], 'age los': ['GaussianNB', 0.62631286877437364], 'age los insurance': ['GaussianNB', 0.65173727032337159], 'age los gender insurance': ['GaussianNB', 0.64878731322527372], 'age los insurance gender religion language marital_status': ['AdaBoostClassifier', 0.60510148010431197]}, 'df_msl': {'age los gender': ['GaussianNB', 0.62145495374603998], 'age los': ['GaussianNB', 0.62395481882304282], 'age los insurance': ['GaussianNB', 0.6559854679987579], 'age los gender insurance': ['GaussianNB', 0.65404314060948221], 'age los insurance gender marital_status language': ['AdaBoostClassifier', 0.61169805375786357]}, 'df_er': {'age los gender': ['GaussianNB', 0.68446185148811478], 'age los': ['GaussianNB', 0.68630457774518216], 'age los insurance': ['GaussianNB', 0.6957159393066028], 'age los gender insurance': ['GaussianNB', 0.6969062866496214], 'age los insurance gender ethnicity religion': ['GaussianNB', 0.67810511613938407]}, 'df_ems': {'age los gender': ['GaussianNB', 0.65187170219060875], 'age los': ['DecisionTreeClassifier', 0.65526927292470594], 'age los insurance': ['RandomForestClassifier', 0.65896081716838117], 'age los gender insurance': ['GaussianNB', 0.66083920623453296], 'age los insurance gender ethnicity marital_status': ['AdaBoostClassifier', 0.65398278676214694]}, 'df_emsrl': {'age los gender': ['GaussianNB', 0.62546877454037886], 'age los': ['GaussianNB', 0.6212419741232903], 'age los gender insurance': ['GaussianNB', 0.64679578919892011]}, 'df_language': {'age los gender': ['GaussianNB', 0.62745489212729932], 'age los insurance gender language': ['AdaBoostClassifier', 0.61403931196770689], 'age los': ['GaussianNB', 0.63591278647581895], 'age los insurance': ['GaussianNB', 0.6563752152360961], 'age los gender insurance': ['GaussianNB', 0.6492045397647348]}, 'df_marital_status': {'age los gender': ['GaussianNB', 0.65575191361767082], 'age los insurance gender marital_status': ['GaussianNB', 0.66233010169165329], 'age los': ['DecisionTreeClassifier', 0.65809535308067124], 'age los insurance': ['RandomForestClassifier', 0.66332018372879131], 'age los gender insurance': ['GaussianNB', 0.66422800929601422]}, 'df_ethnicity': {'age los gender': ['GaussianNB', 0.6981347594656413], 'age los insurance gender ethnicity': ['GaussianNB', 0.70360573617704403], 'age los': ['GaussianNB', 0.70039398256631213], 'age los insurance': ['GaussianNB', 0.71233467028557929], 'age los gender insurance': ['GaussianNB', 0.71292094617912949]}, 'df_elms': {'age los gender': ['GaussianNB', 0.62984731439679331], 'age los insurance gender ethnicity language marital_status': ['AdaBoostClassifier', 0.61291776991951019], 'age los': ['GaussianNB', 0.62825248925839128], 'age los insurance': ['GaussianNB', 0.6469711297860673], 'age los gender insurance': ['GaussianNB', 0.64894544596021864]}, 'df_erms': {'age los gender': ['GaussianNB', 0.64671462424902948, 'GaussianNB', 0.6459199899744783], 'age los': ['GaussianNB', 0.63985861280292489, 'GaussianNB', 0.64051712002426864], 'age los insurance': ['GaussianNB', 0.65515800712942152, 'GaussianNB', 0.65653755074236364], 'age los gender insurance': ['GaussianNB', 0.65577641137101106, 'GaussianNB', 0.65462050423552998], 'age los insurance gender religion ethnicity marital_status': ['AdaBoostClassifier', 0.65043942683406464]}, 'df_religion': {'age los gender': ['GaussianNB', 0.68827304990711569], 'age los insurance gender religion': ['GaussianNB', 0.69327556161510151], 'age los': ['GaussianNB', 0.68898929166608325], 'age los insurance': ['GaussianNB', 0.69920928118020764], 'age los gender insurance': ['GaussianNB', 0.69711434883606971]}, 'df_rl': {'age los gender': ['GaussianNB', 0.6272028993827552, 'GaussianNB', 0.62737839779008453], 'age los insurance gender religion language': ['AdaBoostClassifier', 0.61071332991638183], 'age los': ['GaussianNB', 0.62422095827725332, 'GaussianNB', 0.62380819241340923], 'age los insurance': ['GaussianNB', 0.65381826499813145, 'GaussianNB', 0.65070187895416454], 'age los gender insurance': ['GaussianNB', 0.65392827150829602, 'GaussianNB', 0.65305683507720613]}, 'df_el': {'age los gender': ['GaussianNB', 0.63307474010023246], 'age los insurance gender ethnicity language': ['AdaBoostClassifier', 0.61787228123012417], 'age los': ['GaussianNB', 0.63483342163790479], 'age los insurance': ['GaussianNB', 0.65392141109072033], 'age los gender insurance': ['GaussianNB', 0.65199955359076256]}, 'dfmimic': {'age los gender': ['GaussianNB', 0.69853290323476736], 'age los': ['GaussianNB', 0.69311261002135482], 'age los insurance': ['GaussianNB', 0.71375759895520674], 'age los gender insurance': ['GaussianNB', 0.71247805218304128]}, 'df_msr': {'age los gender': ['GaussianNB', 0.64520727845699422], 'age los insurance gender marital_status religion': ['GaussianNB', 0.65311078248626075], 'age los': ['RandomForestClassifier', 0.64220493623027763], 'age los insurance': ['GaussianNB', 0.66014067665530329], 'age los gender insurance': ['GaussianNB', 0.66101026664135276]}}\n",
      "[['age', 'los'], ['age', 'los', 'gender', 'insurance'], ['age', 'los', 'gender'], ['age', 'los', 'insurance'], ['age', 'los', 'insurance', 'gender', 'ethnicity'], ['age', 'los', 'insurance', 'gender', 'marital_status'], ['age', 'los', 'insurance', 'gender', 'language'], ['age', 'los', 'insurance', 'gender', 'religion'], ['age', 'los', 'insurance', 'gender', 'ethnicity', 'marital_status'], ['age', 'los', 'insurance', 'gender', 'ethnicity', 'religion'], ['age', 'los', 'insurance', 'gender', 'ethnicity', 'language'], ['age', 'los', 'insurance', 'gender', 'marital_status', 'religion'], ['age', 'los', 'insurance', 'gender', 'marital_status', 'language'], ['age', 'los', 'insurance', 'gender', 'religion', 'language'], ['age', 'los', 'insurance', 'gender', 'religion', 'ethnicity', 'marital_status'], ['age', 'los', 'insurance', 'gender', 'ethnicity', 'language', 'marital_status'], ['age', 'los', 'insurance', 'gender', 'religion', 'language', 'marital_status']]\n",
      "GaussianNB has highest AUC test score of 0.647108\n",
      "AdaBoostClassifier has highest accuracy score of 0.709113\n",
      "{'df_msrl': {'age los gender': ['GaussianNB', 0.62364048744119616], 'age los': ['GaussianNB', 0.62631286877437364], 'age los insurance': ['GaussianNB', 0.65173727032337159], 'age los gender insurance': ['GaussianNB', 0.64878731322527372], 'age los insurance gender religion language marital_status': ['AdaBoostClassifier', 0.60510148010431197]}, 'df_msl': {'age los gender': ['GaussianNB', 0.62145495374603998], 'age los': ['GaussianNB', 0.62395481882304282], 'age los insurance': ['GaussianNB', 0.6559854679987579], 'age los gender insurance': ['GaussianNB', 0.65404314060948221], 'age los insurance gender marital_status language': ['AdaBoostClassifier', 0.61169805375786357]}, 'df_er': {'age los gender': ['GaussianNB', 0.68446185148811478], 'age los': ['GaussianNB', 0.68630457774518216], 'age los insurance': ['GaussianNB', 0.6957159393066028], 'age los gender insurance': ['GaussianNB', 0.6969062866496214], 'age los insurance gender ethnicity religion': ['GaussianNB', 0.67810511613938407]}, 'df_ems': {'age los gender': ['GaussianNB', 0.65187170219060875], 'age los': ['DecisionTreeClassifier', 0.65526927292470594], 'age los insurance': ['RandomForestClassifier', 0.65896081716838117], 'age los gender insurance': ['GaussianNB', 0.66083920623453296], 'age los insurance gender ethnicity marital_status': ['AdaBoostClassifier', 0.65398278676214694]}, 'df_emsrl': {'age los gender': ['GaussianNB', 0.62546877454037886], 'age los': ['GaussianNB', 0.6212419741232903], 'age los insurance': ['GaussianNB', 0.64710804936590305], 'age los gender insurance': ['GaussianNB', 0.64679578919892011]}, 'df_language': {'age los gender': ['GaussianNB', 0.62745489212729932], 'age los insurance gender language': ['AdaBoostClassifier', 0.61403931196770689], 'age los': ['GaussianNB', 0.63591278647581895], 'age los insurance': ['GaussianNB', 0.6563752152360961], 'age los gender insurance': ['GaussianNB', 0.6492045397647348]}, 'df_marital_status': {'age los gender': ['GaussianNB', 0.65575191361767082], 'age los insurance gender marital_status': ['GaussianNB', 0.66233010169165329], 'age los': ['DecisionTreeClassifier', 0.65809535308067124], 'age los insurance': ['RandomForestClassifier', 0.66332018372879131], 'age los gender insurance': ['GaussianNB', 0.66422800929601422]}, 'df_ethnicity': {'age los gender': ['GaussianNB', 0.6981347594656413], 'age los insurance gender ethnicity': ['GaussianNB', 0.70360573617704403], 'age los': ['GaussianNB', 0.70039398256631213], 'age los insurance': ['GaussianNB', 0.71233467028557929], 'age los gender insurance': ['GaussianNB', 0.71292094617912949]}, 'df_elms': {'age los gender': ['GaussianNB', 0.62984731439679331], 'age los insurance gender ethnicity language marital_status': ['AdaBoostClassifier', 0.61291776991951019], 'age los': ['GaussianNB', 0.62825248925839128], 'age los insurance': ['GaussianNB', 0.6469711297860673], 'age los gender insurance': ['GaussianNB', 0.64894544596021864]}, 'df_erms': {'age los gender': ['GaussianNB', 0.64671462424902948, 'GaussianNB', 0.6459199899744783], 'age los': ['GaussianNB', 0.63985861280292489, 'GaussianNB', 0.64051712002426864], 'age los insurance': ['GaussianNB', 0.65515800712942152, 'GaussianNB', 0.65653755074236364], 'age los gender insurance': ['GaussianNB', 0.65577641137101106, 'GaussianNB', 0.65462050423552998], 'age los insurance gender religion ethnicity marital_status': ['AdaBoostClassifier', 0.65043942683406464]}, 'df_religion': {'age los gender': ['GaussianNB', 0.68827304990711569], 'age los insurance gender religion': ['GaussianNB', 0.69327556161510151], 'age los': ['GaussianNB', 0.68898929166608325], 'age los insurance': ['GaussianNB', 0.69920928118020764], 'age los gender insurance': ['GaussianNB', 0.69711434883606971]}, 'df_rl': {'age los gender': ['GaussianNB', 0.6272028993827552, 'GaussianNB', 0.62737839779008453], 'age los insurance gender religion language': ['AdaBoostClassifier', 0.61071332991638183], 'age los': ['GaussianNB', 0.62422095827725332, 'GaussianNB', 0.62380819241340923], 'age los insurance': ['GaussianNB', 0.65381826499813145, 'GaussianNB', 0.65070187895416454], 'age los gender insurance': ['GaussianNB', 0.65392827150829602, 'GaussianNB', 0.65305683507720613]}, 'df_el': {'age los gender': ['GaussianNB', 0.63307474010023246], 'age los insurance gender ethnicity language': ['AdaBoostClassifier', 0.61787228123012417], 'age los': ['GaussianNB', 0.63483342163790479], 'age los insurance': ['GaussianNB', 0.65392141109072033], 'age los gender insurance': ['GaussianNB', 0.65199955359076256]}, 'dfmimic': {'age los gender': ['GaussianNB', 0.69853290323476736], 'age los': ['GaussianNB', 0.69311261002135482], 'age los insurance': ['GaussianNB', 0.71375759895520674], 'age los gender insurance': ['GaussianNB', 0.71247805218304128]}, 'df_msr': {'age los gender': ['GaussianNB', 0.64520727845699422], 'age los insurance gender marital_status religion': ['GaussianNB', 0.65311078248626075], 'age los': ['RandomForestClassifier', 0.64220493623027763], 'age los insurance': ['GaussianNB', 0.66014067665530329], 'age los gender insurance': ['GaussianNB', 0.66101026664135276]}}\n",
      "[['age', 'los'], ['age', 'los', 'gender', 'insurance'], ['age', 'los', 'gender'], ['age', 'los', 'insurance'], ['age', 'los', 'insurance', 'gender', 'ethnicity'], ['age', 'los', 'insurance', 'gender', 'marital_status'], ['age', 'los', 'insurance', 'gender', 'language'], ['age', 'los', 'insurance', 'gender', 'religion'], ['age', 'los', 'insurance', 'gender', 'ethnicity', 'marital_status'], ['age', 'los', 'insurance', 'gender', 'ethnicity', 'religion'], ['age', 'los', 'insurance', 'gender', 'ethnicity', 'language'], ['age', 'los', 'insurance', 'gender', 'marital_status', 'religion'], ['age', 'los', 'insurance', 'gender', 'marital_status', 'language'], ['age', 'los', 'insurance', 'gender', 'religion', 'language'], ['age', 'los', 'insurance', 'gender', 'religion', 'ethnicity', 'marital_status'], ['age', 'los', 'insurance', 'gender', 'ethnicity', 'language', 'marital_status'], ['age', 'los', 'insurance', 'gender', 'religion', 'language', 'marital_status']]\n",
      "GaussianNB has highest AUC test score of 0.641438\n",
      "AdaBoostClassifier has highest accuracy score of 0.710398\n",
      "{'df_msrl': {'age los gender': ['GaussianNB', 0.62364048744119616], 'age los': ['GaussianNB', 0.62631286877437364], 'age los insurance': ['GaussianNB', 0.65173727032337159], 'age los gender insurance': ['GaussianNB', 0.64878731322527372], 'age los insurance gender religion language marital_status': ['AdaBoostClassifier', 0.60510148010431197]}, 'df_msl': {'age los gender': ['GaussianNB', 0.62145495374603998], 'age los': ['GaussianNB', 0.62395481882304282], 'age los insurance': ['GaussianNB', 0.6559854679987579], 'age los gender insurance': ['GaussianNB', 0.65404314060948221], 'age los insurance gender marital_status language': ['AdaBoostClassifier', 0.61169805375786357]}, 'df_er': {'age los gender': ['GaussianNB', 0.68446185148811478], 'age los': ['GaussianNB', 0.68630457774518216], 'age los insurance': ['GaussianNB', 0.6957159393066028], 'age los gender insurance': ['GaussianNB', 0.6969062866496214], 'age los insurance gender ethnicity religion': ['GaussianNB', 0.67810511613938407]}, 'df_ems': {'age los gender': ['GaussianNB', 0.65187170219060875], 'age los': ['DecisionTreeClassifier', 0.65526927292470594], 'age los insurance': ['RandomForestClassifier', 0.65896081716838117], 'age los gender insurance': ['GaussianNB', 0.66083920623453296], 'age los insurance gender ethnicity marital_status': ['AdaBoostClassifier', 0.65398278676214694]}, 'df_emsrl': {'age los gender': ['GaussianNB', 0.62546877454037886], 'age los insurance gender ethnicity': ['GaussianNB', 0.64143797224097754], 'age los': ['GaussianNB', 0.6212419741232903], 'age los insurance': ['GaussianNB', 0.64710804936590305], 'age los gender insurance': ['GaussianNB', 0.64679578919892011]}, 'df_language': {'age los gender': ['GaussianNB', 0.62745489212729932], 'age los insurance gender language': ['AdaBoostClassifier', 0.61403931196770689], 'age los': ['GaussianNB', 0.63591278647581895], 'age los insurance': ['GaussianNB', 0.6563752152360961], 'age los gender insurance': ['GaussianNB', 0.6492045397647348]}, 'df_marital_status': {'age los gender': ['GaussianNB', 0.65575191361767082], 'age los insurance gender marital_status': ['GaussianNB', 0.66233010169165329], 'age los': ['DecisionTreeClassifier', 0.65809535308067124], 'age los insurance': ['RandomForestClassifier', 0.66332018372879131], 'age los gender insurance': ['GaussianNB', 0.66422800929601422]}, 'df_ethnicity': {'age los gender': ['GaussianNB', 0.6981347594656413], 'age los insurance gender ethnicity': ['GaussianNB', 0.70360573617704403], 'age los': ['GaussianNB', 0.70039398256631213], 'age los insurance': ['GaussianNB', 0.71233467028557929], 'age los gender insurance': ['GaussianNB', 0.71292094617912949]}, 'df_elms': {'age los gender': ['GaussianNB', 0.62984731439679331], 'age los insurance gender ethnicity language marital_status': ['AdaBoostClassifier', 0.61291776991951019], 'age los': ['GaussianNB', 0.62825248925839128], 'age los insurance': ['GaussianNB', 0.6469711297860673], 'age los gender insurance': ['GaussianNB', 0.64894544596021864]}, 'df_erms': {'age los gender': ['GaussianNB', 0.64671462424902948, 'GaussianNB', 0.6459199899744783], 'age los': ['GaussianNB', 0.63985861280292489, 'GaussianNB', 0.64051712002426864], 'age los insurance': ['GaussianNB', 0.65515800712942152, 'GaussianNB', 0.65653755074236364], 'age los gender insurance': ['GaussianNB', 0.65577641137101106, 'GaussianNB', 0.65462050423552998], 'age los insurance gender religion ethnicity marital_status': ['AdaBoostClassifier', 0.65043942683406464]}, 'df_religion': {'age los gender': ['GaussianNB', 0.68827304990711569], 'age los insurance gender religion': ['GaussianNB', 0.69327556161510151], 'age los': ['GaussianNB', 0.68898929166608325], 'age los insurance': ['GaussianNB', 0.69920928118020764], 'age los gender insurance': ['GaussianNB', 0.69711434883606971]}, 'df_rl': {'age los gender': ['GaussianNB', 0.6272028993827552, 'GaussianNB', 0.62737839779008453], 'age los insurance gender religion language': ['AdaBoostClassifier', 0.61071332991638183], 'age los': ['GaussianNB', 0.62422095827725332, 'GaussianNB', 0.62380819241340923], 'age los insurance': ['GaussianNB', 0.65381826499813145, 'GaussianNB', 0.65070187895416454], 'age los gender insurance': ['GaussianNB', 0.65392827150829602, 'GaussianNB', 0.65305683507720613]}, 'df_el': {'age los gender': ['GaussianNB', 0.63307474010023246], 'age los insurance gender ethnicity language': ['AdaBoostClassifier', 0.61787228123012417], 'age los': ['GaussianNB', 0.63483342163790479], 'age los insurance': ['GaussianNB', 0.65392141109072033], 'age los gender insurance': ['GaussianNB', 0.65199955359076256]}, 'dfmimic': {'age los gender': ['GaussianNB', 0.69853290323476736], 'age los': ['GaussianNB', 0.69311261002135482], 'age los insurance': ['GaussianNB', 0.71375759895520674], 'age los gender insurance': ['GaussianNB', 0.71247805218304128]}, 'df_msr': {'age los gender': ['GaussianNB', 0.64520727845699422], 'age los insurance gender marital_status religion': ['GaussianNB', 0.65311078248626075], 'age los': ['RandomForestClassifier', 0.64220493623027763], 'age los insurance': ['GaussianNB', 0.66014067665530329], 'age los gender insurance': ['GaussianNB', 0.66101026664135276]}}\n",
      "[['age', 'los'], ['age', 'los', 'gender', 'insurance'], ['age', 'los', 'gender'], ['age', 'los', 'insurance'], ['age', 'los', 'insurance', 'gender', 'ethnicity'], ['age', 'los', 'insurance', 'gender', 'marital_status'], ['age', 'los', 'insurance', 'gender', 'language'], ['age', 'los', 'insurance', 'gender', 'religion'], ['age', 'los', 'insurance', 'gender', 'ethnicity', 'marital_status'], ['age', 'los', 'insurance', 'gender', 'ethnicity', 'religion'], ['age', 'los', 'insurance', 'gender', 'ethnicity', 'language'], ['age', 'los', 'insurance', 'gender', 'marital_status', 'religion'], ['age', 'los', 'insurance', 'gender', 'marital_status', 'language'], ['age', 'los', 'insurance', 'gender', 'religion', 'language'], ['age', 'los', 'insurance', 'gender', 'religion', 'ethnicity', 'marital_status'], ['age', 'los', 'insurance', 'gender', 'ethnicity', 'language', 'marital_status'], ['age', 'los', 'insurance', 'gender', 'religion', 'language', 'marital_status']]\n",
      "GaussianNB has highest AUC test score of 0.639748\n",
      "AdaBoostClassifier has highest accuracy score of 0.708848\n",
      "{'df_msrl': {'age los gender': ['GaussianNB', 0.62364048744119616], 'age los': ['GaussianNB', 0.62631286877437364], 'age los insurance': ['GaussianNB', 0.65173727032337159], 'age los gender insurance': ['GaussianNB', 0.64878731322527372], 'age los insurance gender religion language marital_status': ['AdaBoostClassifier', 0.60510148010431197]}, 'df_msl': {'age los gender': ['GaussianNB', 0.62145495374603998], 'age los': ['GaussianNB', 0.62395481882304282], 'age los insurance': ['GaussianNB', 0.6559854679987579], 'age los gender insurance': ['GaussianNB', 0.65404314060948221], 'age los insurance gender marital_status language': ['AdaBoostClassifier', 0.61169805375786357]}, 'df_er': {'age los gender': ['GaussianNB', 0.68446185148811478], 'age los': ['GaussianNB', 0.68630457774518216], 'age los insurance': ['GaussianNB', 0.6957159393066028], 'age los gender insurance': ['GaussianNB', 0.6969062866496214], 'age los insurance gender ethnicity religion': ['GaussianNB', 0.67810511613938407]}, 'df_ems': {'age los gender': ['GaussianNB', 0.65187170219060875], 'age los': ['DecisionTreeClassifier', 0.65526927292470594], 'age los insurance': ['RandomForestClassifier', 0.65896081716838117], 'age los gender insurance': ['GaussianNB', 0.66083920623453296], 'age los insurance gender ethnicity marital_status': ['AdaBoostClassifier', 0.65398278676214694]}, 'df_emsrl': {'age los gender insurance': ['GaussianNB', 0.64679578919892011], 'age los insurance gender ethnicity': ['GaussianNB', 0.64143797224097754], 'age los gender': ['GaussianNB', 0.62546877454037886], 'age los insurance gender marital_status': ['GaussianNB', 0.63974768732652476], 'age los insurance': ['GaussianNB', 0.64710804936590305], 'age los': ['GaussianNB', 0.6212419741232903]}, 'df_language': {'age los gender': ['GaussianNB', 0.62745489212729932], 'age los insurance gender language': ['AdaBoostClassifier', 0.61403931196770689], 'age los': ['GaussianNB', 0.63591278647581895], 'age los insurance': ['GaussianNB', 0.6563752152360961], 'age los gender insurance': ['GaussianNB', 0.6492045397647348]}, 'df_marital_status': {'age los gender': ['GaussianNB', 0.65575191361767082], 'age los insurance gender marital_status': ['GaussianNB', 0.66233010169165329], 'age los': ['DecisionTreeClassifier', 0.65809535308067124], 'age los insurance': ['RandomForestClassifier', 0.66332018372879131], 'age los gender insurance': ['GaussianNB', 0.66422800929601422]}, 'df_ethnicity': {'age los gender': ['GaussianNB', 0.6981347594656413], 'age los insurance gender ethnicity': ['GaussianNB', 0.70360573617704403], 'age los': ['GaussianNB', 0.70039398256631213], 'age los insurance': ['GaussianNB', 0.71233467028557929], 'age los gender insurance': ['GaussianNB', 0.71292094617912949]}, 'df_elms': {'age los gender': ['GaussianNB', 0.62984731439679331], 'age los insurance gender ethnicity language marital_status': ['AdaBoostClassifier', 0.61291776991951019], 'age los': ['GaussianNB', 0.62825248925839128], 'age los insurance': ['GaussianNB', 0.6469711297860673], 'age los gender insurance': ['GaussianNB', 0.64894544596021864]}, 'df_erms': {'age los gender': ['GaussianNB', 0.64671462424902948, 'GaussianNB', 0.6459199899744783], 'age los': ['GaussianNB', 0.63985861280292489, 'GaussianNB', 0.64051712002426864], 'age los insurance': ['GaussianNB', 0.65515800712942152, 'GaussianNB', 0.65653755074236364], 'age los gender insurance': ['GaussianNB', 0.65577641137101106, 'GaussianNB', 0.65462050423552998], 'age los insurance gender religion ethnicity marital_status': ['AdaBoostClassifier', 0.65043942683406464]}, 'df_religion': {'age los gender': ['GaussianNB', 0.68827304990711569], 'age los insurance gender religion': ['GaussianNB', 0.69327556161510151], 'age los': ['GaussianNB', 0.68898929166608325], 'age los insurance': ['GaussianNB', 0.69920928118020764], 'age los gender insurance': ['GaussianNB', 0.69711434883606971]}, 'df_rl': {'age los gender': ['GaussianNB', 0.6272028993827552, 'GaussianNB', 0.62737839779008453], 'age los insurance gender religion language': ['AdaBoostClassifier', 0.61071332991638183], 'age los': ['GaussianNB', 0.62422095827725332, 'GaussianNB', 0.62380819241340923], 'age los insurance': ['GaussianNB', 0.65381826499813145, 'GaussianNB', 0.65070187895416454], 'age los gender insurance': ['GaussianNB', 0.65392827150829602, 'GaussianNB', 0.65305683507720613]}, 'df_el': {'age los gender': ['GaussianNB', 0.63307474010023246], 'age los insurance gender ethnicity language': ['AdaBoostClassifier', 0.61787228123012417], 'age los': ['GaussianNB', 0.63483342163790479], 'age los insurance': ['GaussianNB', 0.65392141109072033], 'age los gender insurance': ['GaussianNB', 0.65199955359076256]}, 'dfmimic': {'age los gender': ['GaussianNB', 0.69853290323476736], 'age los': ['GaussianNB', 0.69311261002135482], 'age los insurance': ['GaussianNB', 0.71375759895520674], 'age los gender insurance': ['GaussianNB', 0.71247805218304128]}, 'df_msr': {'age los gender': ['GaussianNB', 0.64520727845699422], 'age los insurance gender marital_status religion': ['GaussianNB', 0.65311078248626075], 'age los': ['RandomForestClassifier', 0.64220493623027763], 'age los insurance': ['GaussianNB', 0.66014067665530329], 'age los gender insurance': ['GaussianNB', 0.66101026664135276]}}\n",
      "[['age', 'los'], ['age', 'los', 'gender', 'insurance'], ['age', 'los', 'gender'], ['age', 'los', 'insurance'], ['age', 'los', 'insurance', 'gender', 'ethnicity'], ['age', 'los', 'insurance', 'gender', 'marital_status'], ['age', 'los', 'insurance', 'gender', 'language'], ['age', 'los', 'insurance', 'gender', 'religion'], ['age', 'los', 'insurance', 'gender', 'ethnicity', 'marital_status'], ['age', 'los', 'insurance', 'gender', 'ethnicity', 'religion'], ['age', 'los', 'insurance', 'gender', 'ethnicity', 'language'], ['age', 'los', 'insurance', 'gender', 'marital_status', 'religion'], ['age', 'los', 'insurance', 'gender', 'marital_status', 'language'], ['age', 'los', 'insurance', 'gender', 'religion', 'language'], ['age', 'los', 'insurance', 'gender', 'religion', 'ethnicity', 'marital_status'], ['age', 'los', 'insurance', 'gender', 'ethnicity', 'language', 'marital_status'], ['age', 'los', 'insurance', 'gender', 'religion', 'language', 'marital_status']]\n",
      "AdaBoostClassifier has highest AUC test score of 0.613334\n",
      "AdaBoostClassifier has highest accuracy score of 0.710153\n",
      "{'df_msrl': {'age los gender': ['GaussianNB', 0.62364048744119616], 'age los': ['GaussianNB', 0.62631286877437364], 'age los insurance': ['GaussianNB', 0.65173727032337159], 'age los gender insurance': ['GaussianNB', 0.64878731322527372], 'age los insurance gender religion language marital_status': ['AdaBoostClassifier', 0.60510148010431197]}, 'df_msl': {'age los gender': ['GaussianNB', 0.62145495374603998], 'age los': ['GaussianNB', 0.62395481882304282], 'age los insurance': ['GaussianNB', 0.6559854679987579], 'age los gender insurance': ['GaussianNB', 0.65404314060948221], 'age los insurance gender marital_status language': ['AdaBoostClassifier', 0.61169805375786357]}, 'df_er': {'age los gender': ['GaussianNB', 0.68446185148811478], 'age los': ['GaussianNB', 0.68630457774518216], 'age los insurance': ['GaussianNB', 0.6957159393066028], 'age los gender insurance': ['GaussianNB', 0.6969062866496214], 'age los insurance gender ethnicity religion': ['GaussianNB', 0.67810511613938407]}, 'df_ems': {'age los gender': ['GaussianNB', 0.65187170219060875], 'age los': ['DecisionTreeClassifier', 0.65526927292470594], 'age los insurance': ['RandomForestClassifier', 0.65896081716838117], 'age los gender insurance': ['GaussianNB', 0.66083920623453296], 'age los insurance gender ethnicity marital_status': ['AdaBoostClassifier', 0.65398278676214694]}, 'df_emsrl': {'age los gender insurance': ['GaussianNB', 0.64679578919892011], 'age los insurance gender language': ['AdaBoostClassifier', 0.61333397232051678], 'age los insurance gender ethnicity': ['GaussianNB', 0.64143797224097754], 'age los gender': ['GaussianNB', 0.62546877454037886], 'age los insurance gender marital_status': ['GaussianNB', 0.63974768732652476], 'age los insurance': ['GaussianNB', 0.64710804936590305], 'age los': ['GaussianNB', 0.6212419741232903]}, 'df_language': {'age los gender': ['GaussianNB', 0.62745489212729932], 'age los insurance gender language': ['AdaBoostClassifier', 0.61403931196770689], 'age los': ['GaussianNB', 0.63591278647581895], 'age los insurance': ['GaussianNB', 0.6563752152360961], 'age los gender insurance': ['GaussianNB', 0.6492045397647348]}, 'df_marital_status': {'age los gender': ['GaussianNB', 0.65575191361767082], 'age los insurance gender marital_status': ['GaussianNB', 0.66233010169165329], 'age los': ['DecisionTreeClassifier', 0.65809535308067124], 'age los insurance': ['RandomForestClassifier', 0.66332018372879131], 'age los gender insurance': ['GaussianNB', 0.66422800929601422]}, 'df_ethnicity': {'age los gender': ['GaussianNB', 0.6981347594656413], 'age los insurance gender ethnicity': ['GaussianNB', 0.70360573617704403], 'age los': ['GaussianNB', 0.70039398256631213], 'age los insurance': ['GaussianNB', 0.71233467028557929], 'age los gender insurance': ['GaussianNB', 0.71292094617912949]}, 'df_elms': {'age los gender': ['GaussianNB', 0.62984731439679331], 'age los insurance gender ethnicity language marital_status': ['AdaBoostClassifier', 0.61291776991951019], 'age los': ['GaussianNB', 0.62825248925839128], 'age los insurance': ['GaussianNB', 0.6469711297860673], 'age los gender insurance': ['GaussianNB', 0.64894544596021864]}, 'df_erms': {'age los gender': ['GaussianNB', 0.64671462424902948, 'GaussianNB', 0.6459199899744783], 'age los': ['GaussianNB', 0.63985861280292489, 'GaussianNB', 0.64051712002426864], 'age los insurance': ['GaussianNB', 0.65515800712942152, 'GaussianNB', 0.65653755074236364], 'age los gender insurance': ['GaussianNB', 0.65577641137101106, 'GaussianNB', 0.65462050423552998], 'age los insurance gender religion ethnicity marital_status': ['AdaBoostClassifier', 0.65043942683406464]}, 'df_religion': {'age los gender': ['GaussianNB', 0.68827304990711569], 'age los insurance gender religion': ['GaussianNB', 0.69327556161510151], 'age los': ['GaussianNB', 0.68898929166608325], 'age los insurance': ['GaussianNB', 0.69920928118020764], 'age los gender insurance': ['GaussianNB', 0.69711434883606971]}, 'df_rl': {'age los gender': ['GaussianNB', 0.6272028993827552, 'GaussianNB', 0.62737839779008453], 'age los insurance gender religion language': ['AdaBoostClassifier', 0.61071332991638183], 'age los': ['GaussianNB', 0.62422095827725332, 'GaussianNB', 0.62380819241340923], 'age los insurance': ['GaussianNB', 0.65381826499813145, 'GaussianNB', 0.65070187895416454], 'age los gender insurance': ['GaussianNB', 0.65392827150829602, 'GaussianNB', 0.65305683507720613]}, 'df_el': {'age los gender': ['GaussianNB', 0.63307474010023246], 'age los insurance gender ethnicity language': ['AdaBoostClassifier', 0.61787228123012417], 'age los': ['GaussianNB', 0.63483342163790479], 'age los insurance': ['GaussianNB', 0.65392141109072033], 'age los gender insurance': ['GaussianNB', 0.65199955359076256]}, 'dfmimic': {'age los gender': ['GaussianNB', 0.69853290323476736], 'age los': ['GaussianNB', 0.69311261002135482], 'age los insurance': ['GaussianNB', 0.71375759895520674], 'age los gender insurance': ['GaussianNB', 0.71247805218304128]}, 'df_msr': {'age los gender': ['GaussianNB', 0.64520727845699422], 'age los insurance gender marital_status religion': ['GaussianNB', 0.65311078248626075], 'age los': ['RandomForestClassifier', 0.64220493623027763], 'age los insurance': ['GaussianNB', 0.66014067665530329], 'age los gender insurance': ['GaussianNB', 0.66101026664135276]}}\n",
      "[['age', 'los'], ['age', 'los', 'gender', 'insurance'], ['age', 'los', 'gender'], ['age', 'los', 'insurance'], ['age', 'los', 'insurance', 'gender', 'ethnicity'], ['age', 'los', 'insurance', 'gender', 'marital_status'], ['age', 'los', 'insurance', 'gender', 'language'], ['age', 'los', 'insurance', 'gender', 'religion'], ['age', 'los', 'insurance', 'gender', 'ethnicity', 'marital_status'], ['age', 'los', 'insurance', 'gender', 'ethnicity', 'religion'], ['age', 'los', 'insurance', 'gender', 'ethnicity', 'language'], ['age', 'los', 'insurance', 'gender', 'marital_status', 'religion'], ['age', 'los', 'insurance', 'gender', 'marital_status', 'language'], ['age', 'los', 'insurance', 'gender', 'religion', 'language'], ['age', 'los', 'insurance', 'gender', 'religion', 'ethnicity', 'marital_status'], ['age', 'los', 'insurance', 'gender', 'ethnicity', 'language', 'marital_status'], ['age', 'los', 'insurance', 'gender', 'religion', 'language', 'marital_status']]\n",
      "GaussianNB has highest AUC test score of 0.637686\n",
      "AdaBoostClassifier has highest accuracy score of 0.709766\n",
      "{'df_msrl': {'age los gender': ['GaussianNB', 0.62364048744119616], 'age los': ['GaussianNB', 0.62631286877437364], 'age los insurance': ['GaussianNB', 0.65173727032337159], 'age los gender insurance': ['GaussianNB', 0.64878731322527372], 'age los insurance gender religion language marital_status': ['AdaBoostClassifier', 0.60510148010431197]}, 'df_msl': {'age los gender': ['GaussianNB', 0.62145495374603998], 'age los': ['GaussianNB', 0.62395481882304282], 'age los insurance': ['GaussianNB', 0.6559854679987579], 'age los gender insurance': ['GaussianNB', 0.65404314060948221], 'age los insurance gender marital_status language': ['AdaBoostClassifier', 0.61169805375786357]}, 'df_er': {'age los gender': ['GaussianNB', 0.68446185148811478], 'age los': ['GaussianNB', 0.68630457774518216], 'age los insurance': ['GaussianNB', 0.6957159393066028], 'age los gender insurance': ['GaussianNB', 0.6969062866496214], 'age los insurance gender ethnicity religion': ['GaussianNB', 0.67810511613938407]}, 'df_ems': {'age los gender': ['GaussianNB', 0.65187170219060875], 'age los': ['DecisionTreeClassifier', 0.65526927292470594], 'age los insurance': ['RandomForestClassifier', 0.65896081716838117], 'age los gender insurance': ['GaussianNB', 0.66083920623453296], 'age los insurance gender ethnicity marital_status': ['AdaBoostClassifier', 0.65398278676214694]}, 'df_emsrl': {'age los insurance gender religion': ['GaussianNB', 0.63768577868436049], 'age los gender insurance': ['GaussianNB', 0.64679578919892011], 'age los insurance gender language': ['AdaBoostClassifier', 0.61333397232051678], 'age los insurance gender ethnicity': ['GaussianNB', 0.64143797224097754], 'age los gender': ['GaussianNB', 0.62546877454037886], 'age los insurance gender marital_status': ['GaussianNB', 0.63974768732652476], 'age los insurance': ['GaussianNB', 0.64710804936590305], 'age los': ['GaussianNB', 0.6212419741232903]}, 'df_language': {'age los gender': ['GaussianNB', 0.62745489212729932], 'age los insurance gender language': ['AdaBoostClassifier', 0.61403931196770689], 'age los': ['GaussianNB', 0.63591278647581895], 'age los insurance': ['GaussianNB', 0.6563752152360961], 'age los gender insurance': ['GaussianNB', 0.6492045397647348]}, 'df_marital_status': {'age los gender': ['GaussianNB', 0.65575191361767082], 'age los insurance gender marital_status': ['GaussianNB', 0.66233010169165329], 'age los': ['DecisionTreeClassifier', 0.65809535308067124], 'age los insurance': ['RandomForestClassifier', 0.66332018372879131], 'age los gender insurance': ['GaussianNB', 0.66422800929601422]}, 'df_ethnicity': {'age los gender': ['GaussianNB', 0.6981347594656413], 'age los insurance gender ethnicity': ['GaussianNB', 0.70360573617704403], 'age los': ['GaussianNB', 0.70039398256631213], 'age los insurance': ['GaussianNB', 0.71233467028557929], 'age los gender insurance': ['GaussianNB', 0.71292094617912949]}, 'df_elms': {'age los gender': ['GaussianNB', 0.62984731439679331], 'age los insurance gender ethnicity language marital_status': ['AdaBoostClassifier', 0.61291776991951019], 'age los': ['GaussianNB', 0.62825248925839128], 'age los insurance': ['GaussianNB', 0.6469711297860673], 'age los gender insurance': ['GaussianNB', 0.64894544596021864]}, 'df_erms': {'age los gender': ['GaussianNB', 0.64671462424902948, 'GaussianNB', 0.6459199899744783], 'age los': ['GaussianNB', 0.63985861280292489, 'GaussianNB', 0.64051712002426864], 'age los insurance': ['GaussianNB', 0.65515800712942152, 'GaussianNB', 0.65653755074236364], 'age los gender insurance': ['GaussianNB', 0.65577641137101106, 'GaussianNB', 0.65462050423552998], 'age los insurance gender religion ethnicity marital_status': ['AdaBoostClassifier', 0.65043942683406464]}, 'df_religion': {'age los gender': ['GaussianNB', 0.68827304990711569], 'age los insurance gender religion': ['GaussianNB', 0.69327556161510151], 'age los': ['GaussianNB', 0.68898929166608325], 'age los insurance': ['GaussianNB', 0.69920928118020764], 'age los gender insurance': ['GaussianNB', 0.69711434883606971]}, 'df_rl': {'age los gender': ['GaussianNB', 0.6272028993827552, 'GaussianNB', 0.62737839779008453], 'age los insurance gender religion language': ['AdaBoostClassifier', 0.61071332991638183], 'age los': ['GaussianNB', 0.62422095827725332, 'GaussianNB', 0.62380819241340923], 'age los insurance': ['GaussianNB', 0.65381826499813145, 'GaussianNB', 0.65070187895416454], 'age los gender insurance': ['GaussianNB', 0.65392827150829602, 'GaussianNB', 0.65305683507720613]}, 'df_el': {'age los gender': ['GaussianNB', 0.63307474010023246], 'age los insurance gender ethnicity language': ['AdaBoostClassifier', 0.61787228123012417], 'age los': ['GaussianNB', 0.63483342163790479], 'age los insurance': ['GaussianNB', 0.65392141109072033], 'age los gender insurance': ['GaussianNB', 0.65199955359076256]}, 'dfmimic': {'age los gender': ['GaussianNB', 0.69853290323476736], 'age los': ['GaussianNB', 0.69311261002135482], 'age los insurance': ['GaussianNB', 0.71375759895520674], 'age los gender insurance': ['GaussianNB', 0.71247805218304128]}, 'df_msr': {'age los gender': ['GaussianNB', 0.64520727845699422], 'age los insurance gender marital_status religion': ['GaussianNB', 0.65311078248626075], 'age los': ['RandomForestClassifier', 0.64220493623027763], 'age los insurance': ['GaussianNB', 0.66014067665530329], 'age los gender insurance': ['GaussianNB', 0.66101026664135276]}}\n",
      "[['age', 'los'], ['age', 'los', 'gender', 'insurance'], ['age', 'los', 'gender'], ['age', 'los', 'insurance'], ['age', 'los', 'insurance', 'gender', 'ethnicity'], ['age', 'los', 'insurance', 'gender', 'marital_status'], ['age', 'los', 'insurance', 'gender', 'language'], ['age', 'los', 'insurance', 'gender', 'religion'], ['age', 'los', 'insurance', 'gender', 'ethnicity', 'marital_status'], ['age', 'los', 'insurance', 'gender', 'ethnicity', 'religion'], ['age', 'los', 'insurance', 'gender', 'ethnicity', 'language'], ['age', 'los', 'insurance', 'gender', 'marital_status', 'religion'], ['age', 'los', 'insurance', 'gender', 'marital_status', 'language'], ['age', 'los', 'insurance', 'gender', 'religion', 'language'], ['age', 'los', 'insurance', 'gender', 'religion', 'ethnicity', 'marital_status'], ['age', 'los', 'insurance', 'gender', 'ethnicity', 'language', 'marital_status'], ['age', 'los', 'insurance', 'gender', 'religion', 'language', 'marital_status']]\n",
      "GaussianNB has highest AUC test score of 0.634835\n",
      "AdaBoostClassifier has highest accuracy score of 0.706667\n",
      "{'df_msrl': {'age los gender': ['GaussianNB', 0.62364048744119616], 'age los': ['GaussianNB', 0.62631286877437364], 'age los insurance': ['GaussianNB', 0.65173727032337159], 'age los gender insurance': ['GaussianNB', 0.64878731322527372], 'age los insurance gender religion language marital_status': ['AdaBoostClassifier', 0.60510148010431197]}, 'df_msl': {'age los gender': ['GaussianNB', 0.62145495374603998], 'age los': ['GaussianNB', 0.62395481882304282], 'age los insurance': ['GaussianNB', 0.6559854679987579], 'age los gender insurance': ['GaussianNB', 0.65404314060948221], 'age los insurance gender marital_status language': ['AdaBoostClassifier', 0.61169805375786357]}, 'df_er': {'age los gender': ['GaussianNB', 0.68446185148811478], 'age los': ['GaussianNB', 0.68630457774518216], 'age los insurance': ['GaussianNB', 0.6957159393066028], 'age los gender insurance': ['GaussianNB', 0.6969062866496214], 'age los insurance gender ethnicity religion': ['GaussianNB', 0.67810511613938407]}, 'df_ems': {'age los gender': ['GaussianNB', 0.65187170219060875], 'age los': ['DecisionTreeClassifier', 0.65526927292470594], 'age los insurance': ['RandomForestClassifier', 0.65896081716838117], 'age los gender insurance': ['GaussianNB', 0.66083920623453296], 'age los insurance gender ethnicity marital_status': ['AdaBoostClassifier', 0.65398278676214694]}, 'df_emsrl': {'age los insurance gender religion': ['GaussianNB', 0.63768577868436049], 'age los gender insurance': ['GaussianNB', 0.64679578919892011], 'age los insurance gender language': ['AdaBoostClassifier', 0.61333397232051678], 'age los insurance gender ethnicity': ['GaussianNB', 0.64143797224097754], 'age los gender': ['GaussianNB', 0.62546877454037886], 'age los insurance gender marital_status': ['GaussianNB', 0.63974768732652476], 'age los insurance': ['GaussianNB', 0.64710804936590305], 'age los': ['GaussianNB', 0.6212419741232903], 'age los insurance gender ethnicity marital_status': ['GaussianNB', 0.63483469467364173]}, 'df_language': {'age los gender': ['GaussianNB', 0.62745489212729932], 'age los insurance gender language': ['AdaBoostClassifier', 0.61403931196770689], 'age los': ['GaussianNB', 0.63591278647581895], 'age los insurance': ['GaussianNB', 0.6563752152360961], 'age los gender insurance': ['GaussianNB', 0.6492045397647348]}, 'df_marital_status': {'age los gender': ['GaussianNB', 0.65575191361767082], 'age los insurance gender marital_status': ['GaussianNB', 0.66233010169165329], 'age los': ['DecisionTreeClassifier', 0.65809535308067124], 'age los insurance': ['RandomForestClassifier', 0.66332018372879131], 'age los gender insurance': ['GaussianNB', 0.66422800929601422]}, 'df_ethnicity': {'age los gender': ['GaussianNB', 0.6981347594656413], 'age los insurance gender ethnicity': ['GaussianNB', 0.70360573617704403], 'age los': ['GaussianNB', 0.70039398256631213], 'age los insurance': ['GaussianNB', 0.71233467028557929], 'age los gender insurance': ['GaussianNB', 0.71292094617912949]}, 'df_elms': {'age los gender': ['GaussianNB', 0.62984731439679331], 'age los insurance gender ethnicity language marital_status': ['AdaBoostClassifier', 0.61291776991951019], 'age los': ['GaussianNB', 0.62825248925839128], 'age los insurance': ['GaussianNB', 0.6469711297860673], 'age los gender insurance': ['GaussianNB', 0.64894544596021864]}, 'df_erms': {'age los gender': ['GaussianNB', 0.64671462424902948, 'GaussianNB', 0.6459199899744783], 'age los': ['GaussianNB', 0.63985861280292489, 'GaussianNB', 0.64051712002426864], 'age los insurance': ['GaussianNB', 0.65515800712942152, 'GaussianNB', 0.65653755074236364], 'age los gender insurance': ['GaussianNB', 0.65577641137101106, 'GaussianNB', 0.65462050423552998], 'age los insurance gender religion ethnicity marital_status': ['AdaBoostClassifier', 0.65043942683406464]}, 'df_religion': {'age los gender': ['GaussianNB', 0.68827304990711569], 'age los insurance gender religion': ['GaussianNB', 0.69327556161510151], 'age los': ['GaussianNB', 0.68898929166608325], 'age los insurance': ['GaussianNB', 0.69920928118020764], 'age los gender insurance': ['GaussianNB', 0.69711434883606971]}, 'df_rl': {'age los gender': ['GaussianNB', 0.6272028993827552, 'GaussianNB', 0.62737839779008453], 'age los insurance gender religion language': ['AdaBoostClassifier', 0.61071332991638183], 'age los': ['GaussianNB', 0.62422095827725332, 'GaussianNB', 0.62380819241340923], 'age los insurance': ['GaussianNB', 0.65381826499813145, 'GaussianNB', 0.65070187895416454], 'age los gender insurance': ['GaussianNB', 0.65392827150829602, 'GaussianNB', 0.65305683507720613]}, 'df_el': {'age los gender': ['GaussianNB', 0.63307474010023246], 'age los insurance gender ethnicity language': ['AdaBoostClassifier', 0.61787228123012417], 'age los': ['GaussianNB', 0.63483342163790479], 'age los insurance': ['GaussianNB', 0.65392141109072033], 'age los gender insurance': ['GaussianNB', 0.65199955359076256]}, 'dfmimic': {'age los gender': ['GaussianNB', 0.69853290323476736], 'age los': ['GaussianNB', 0.69311261002135482], 'age los insurance': ['GaussianNB', 0.71375759895520674], 'age los gender insurance': ['GaussianNB', 0.71247805218304128]}, 'df_msr': {'age los gender': ['GaussianNB', 0.64520727845699422], 'age los insurance gender marital_status religion': ['GaussianNB', 0.65311078248626075], 'age los': ['RandomForestClassifier', 0.64220493623027763], 'age los insurance': ['GaussianNB', 0.66014067665530329], 'age los gender insurance': ['GaussianNB', 0.66101026664135276]}}\n",
      "[['age', 'los'], ['age', 'los', 'gender', 'insurance'], ['age', 'los', 'gender'], ['age', 'los', 'insurance'], ['age', 'los', 'insurance', 'gender', 'ethnicity'], ['age', 'los', 'insurance', 'gender', 'marital_status'], ['age', 'los', 'insurance', 'gender', 'language'], ['age', 'los', 'insurance', 'gender', 'religion'], ['age', 'los', 'insurance', 'gender', 'ethnicity', 'marital_status'], ['age', 'los', 'insurance', 'gender', 'ethnicity', 'religion'], ['age', 'los', 'insurance', 'gender', 'ethnicity', 'language'], ['age', 'los', 'insurance', 'gender', 'marital_status', 'religion'], ['age', 'los', 'insurance', 'gender', 'marital_status', 'language'], ['age', 'los', 'insurance', 'gender', 'religion', 'language'], ['age', 'los', 'insurance', 'gender', 'religion', 'ethnicity', 'marital_status'], ['age', 'los', 'insurance', 'gender', 'ethnicity', 'language', 'marital_status'], ['age', 'los', 'insurance', 'gender', 'religion', 'language', 'marital_status']]\n",
      "GaussianNB has highest AUC test score of 0.614517\n",
      "AdaBoostClassifier has highest accuracy score of 0.706422\n",
      "{'df_msrl': {'age los gender': ['GaussianNB', 0.62364048744119616], 'age los': ['GaussianNB', 0.62631286877437364], 'age los insurance': ['GaussianNB', 0.65173727032337159], 'age los gender insurance': ['GaussianNB', 0.64878731322527372], 'age los insurance gender religion language marital_status': ['AdaBoostClassifier', 0.60510148010431197]}, 'df_msl': {'age los gender': ['GaussianNB', 0.62145495374603998], 'age los': ['GaussianNB', 0.62395481882304282], 'age los insurance': ['GaussianNB', 0.6559854679987579], 'age los gender insurance': ['GaussianNB', 0.65404314060948221], 'age los insurance gender marital_status language': ['AdaBoostClassifier', 0.61169805375786357]}, 'df_er': {'age los gender': ['GaussianNB', 0.68446185148811478], 'age los': ['GaussianNB', 0.68630457774518216], 'age los insurance': ['GaussianNB', 0.6957159393066028], 'age los gender insurance': ['GaussianNB', 0.6969062866496214], 'age los insurance gender ethnicity religion': ['GaussianNB', 0.67810511613938407]}, 'df_ems': {'age los gender': ['GaussianNB', 0.65187170219060875], 'age los': ['DecisionTreeClassifier', 0.65526927292470594], 'age los insurance': ['RandomForestClassifier', 0.65896081716838117], 'age los gender insurance': ['GaussianNB', 0.66083920623453296], 'age los insurance gender ethnicity marital_status': ['AdaBoostClassifier', 0.65398278676214694]}, 'df_emsrl': {'age los insurance gender religion': ['GaussianNB', 0.63768577868436049], 'age los gender insurance': ['GaussianNB', 0.64679578919892011], 'age los insurance gender language': ['AdaBoostClassifier', 0.61333397232051678], 'age los insurance gender ethnicity': ['GaussianNB', 0.64143797224097754], 'age los gender': ['GaussianNB', 0.62546877454037886], 'age los insurance gender marital_status': ['GaussianNB', 0.63974768732652476], 'age los insurance gender ethnicity religion': ['GaussianNB', 0.61451718736018024], 'age los insurance': ['GaussianNB', 0.64710804936590305], 'age los': ['GaussianNB', 0.6212419741232903], 'age los insurance gender ethnicity marital_status': ['GaussianNB', 0.63483469467364173]}, 'df_language': {'age los gender': ['GaussianNB', 0.62745489212729932], 'age los insurance gender language': ['AdaBoostClassifier', 0.61403931196770689], 'age los': ['GaussianNB', 0.63591278647581895], 'age los insurance': ['GaussianNB', 0.6563752152360961], 'age los gender insurance': ['GaussianNB', 0.6492045397647348]}, 'df_marital_status': {'age los gender': ['GaussianNB', 0.65575191361767082], 'age los insurance gender marital_status': ['GaussianNB', 0.66233010169165329], 'age los': ['DecisionTreeClassifier', 0.65809535308067124], 'age los insurance': ['RandomForestClassifier', 0.66332018372879131], 'age los gender insurance': ['GaussianNB', 0.66422800929601422]}, 'df_ethnicity': {'age los gender': ['GaussianNB', 0.6981347594656413], 'age los insurance gender ethnicity': ['GaussianNB', 0.70360573617704403], 'age los': ['GaussianNB', 0.70039398256631213], 'age los insurance': ['GaussianNB', 0.71233467028557929], 'age los gender insurance': ['GaussianNB', 0.71292094617912949]}, 'df_elms': {'age los gender': ['GaussianNB', 0.62984731439679331], 'age los insurance gender ethnicity language marital_status': ['AdaBoostClassifier', 0.61291776991951019], 'age los': ['GaussianNB', 0.62825248925839128], 'age los insurance': ['GaussianNB', 0.6469711297860673], 'age los gender insurance': ['GaussianNB', 0.64894544596021864]}, 'df_erms': {'age los gender': ['GaussianNB', 0.64671462424902948, 'GaussianNB', 0.6459199899744783], 'age los': ['GaussianNB', 0.63985861280292489, 'GaussianNB', 0.64051712002426864], 'age los insurance': ['GaussianNB', 0.65515800712942152, 'GaussianNB', 0.65653755074236364], 'age los gender insurance': ['GaussianNB', 0.65577641137101106, 'GaussianNB', 0.65462050423552998], 'age los insurance gender religion ethnicity marital_status': ['AdaBoostClassifier', 0.65043942683406464]}, 'df_religion': {'age los gender': ['GaussianNB', 0.68827304990711569], 'age los insurance gender religion': ['GaussianNB', 0.69327556161510151], 'age los': ['GaussianNB', 0.68898929166608325], 'age los insurance': ['GaussianNB', 0.69920928118020764], 'age los gender insurance': ['GaussianNB', 0.69711434883606971]}, 'df_rl': {'age los gender': ['GaussianNB', 0.6272028993827552, 'GaussianNB', 0.62737839779008453], 'age los insurance gender religion language': ['AdaBoostClassifier', 0.61071332991638183], 'age los': ['GaussianNB', 0.62422095827725332, 'GaussianNB', 0.62380819241340923], 'age los insurance': ['GaussianNB', 0.65381826499813145, 'GaussianNB', 0.65070187895416454], 'age los gender insurance': ['GaussianNB', 0.65392827150829602, 'GaussianNB', 0.65305683507720613]}, 'df_el': {'age los gender': ['GaussianNB', 0.63307474010023246], 'age los insurance gender ethnicity language': ['AdaBoostClassifier', 0.61787228123012417], 'age los': ['GaussianNB', 0.63483342163790479], 'age los insurance': ['GaussianNB', 0.65392141109072033], 'age los gender insurance': ['GaussianNB', 0.65199955359076256]}, 'dfmimic': {'age los gender': ['GaussianNB', 0.69853290323476736], 'age los': ['GaussianNB', 0.69311261002135482], 'age los insurance': ['GaussianNB', 0.71375759895520674], 'age los gender insurance': ['GaussianNB', 0.71247805218304128]}, 'df_msr': {'age los gender': ['GaussianNB', 0.64520727845699422], 'age los insurance gender marital_status religion': ['GaussianNB', 0.65311078248626075], 'age los': ['RandomForestClassifier', 0.64220493623027763], 'age los insurance': ['GaussianNB', 0.66014067665530329], 'age los gender insurance': ['GaussianNB', 0.66101026664135276]}}\n",
      "[['age', 'los'], ['age', 'los', 'gender', 'insurance'], ['age', 'los', 'gender'], ['age', 'los', 'insurance'], ['age', 'los', 'insurance', 'gender', 'ethnicity'], ['age', 'los', 'insurance', 'gender', 'marital_status'], ['age', 'los', 'insurance', 'gender', 'language'], ['age', 'los', 'insurance', 'gender', 'religion'], ['age', 'los', 'insurance', 'gender', 'ethnicity', 'marital_status'], ['age', 'los', 'insurance', 'gender', 'ethnicity', 'religion'], ['age', 'los', 'insurance', 'gender', 'ethnicity', 'language'], ['age', 'los', 'insurance', 'gender', 'marital_status', 'religion'], ['age', 'los', 'insurance', 'gender', 'marital_status', 'language'], ['age', 'los', 'insurance', 'gender', 'religion', 'language'], ['age', 'los', 'insurance', 'gender', 'religion', 'ethnicity', 'marital_status'], ['age', 'los', 'insurance', 'gender', 'ethnicity', 'language', 'marital_status'], ['age', 'los', 'insurance', 'gender', 'religion', 'language', 'marital_status']]\n",
      "AdaBoostClassifier has highest AUC test score of 0.611903\n",
      "AdaBoostClassifier has highest accuracy score of 0.709501\n",
      "{'df_msrl': {'age los gender': ['GaussianNB', 0.62364048744119616], 'age los': ['GaussianNB', 0.62631286877437364], 'age los insurance': ['GaussianNB', 0.65173727032337159], 'age los gender insurance': ['GaussianNB', 0.64878731322527372], 'age los insurance gender religion language marital_status': ['AdaBoostClassifier', 0.60510148010431197]}, 'df_msl': {'age los gender': ['GaussianNB', 0.62145495374603998], 'age los': ['GaussianNB', 0.62395481882304282], 'age los insurance': ['GaussianNB', 0.6559854679987579], 'age los gender insurance': ['GaussianNB', 0.65404314060948221], 'age los insurance gender marital_status language': ['AdaBoostClassifier', 0.61169805375786357]}, 'df_er': {'age los gender': ['GaussianNB', 0.68446185148811478], 'age los': ['GaussianNB', 0.68630457774518216], 'age los insurance': ['GaussianNB', 0.6957159393066028], 'age los gender insurance': ['GaussianNB', 0.6969062866496214], 'age los insurance gender ethnicity religion': ['GaussianNB', 0.67810511613938407]}, 'df_ems': {'age los gender': ['GaussianNB', 0.65187170219060875], 'age los': ['DecisionTreeClassifier', 0.65526927292470594], 'age los insurance': ['RandomForestClassifier', 0.65896081716838117], 'age los gender insurance': ['GaussianNB', 0.66083920623453296], 'age los insurance gender ethnicity marital_status': ['AdaBoostClassifier', 0.65398278676214694]}, 'df_emsrl': {'age los insurance gender religion': ['GaussianNB', 0.63768577868436049], 'age los gender insurance': ['GaussianNB', 0.64679578919892011], 'age los insurance gender language': ['AdaBoostClassifier', 0.61333397232051678], 'age los insurance gender ethnicity': ['GaussianNB', 0.64143797224097754], 'age los insurance gender ethnicity language': ['AdaBoostClassifier', 0.6119031636265132], 'age los gender': ['GaussianNB', 0.62546877454037886], 'age los insurance gender marital_status': ['GaussianNB', 0.63974768732652476], 'age los insurance gender ethnicity religion': ['GaussianNB', 0.61451718736018024], 'age los insurance': ['GaussianNB', 0.64710804936590305], 'age los': ['GaussianNB', 0.6212419741232903], 'age los insurance gender ethnicity marital_status': ['GaussianNB', 0.63483469467364173]}, 'df_language': {'age los gender': ['GaussianNB', 0.62745489212729932], 'age los insurance gender language': ['AdaBoostClassifier', 0.61403931196770689], 'age los': ['GaussianNB', 0.63591278647581895], 'age los insurance': ['GaussianNB', 0.6563752152360961], 'age los gender insurance': ['GaussianNB', 0.6492045397647348]}, 'df_marital_status': {'age los gender': ['GaussianNB', 0.65575191361767082], 'age los insurance gender marital_status': ['GaussianNB', 0.66233010169165329], 'age los': ['DecisionTreeClassifier', 0.65809535308067124], 'age los insurance': ['RandomForestClassifier', 0.66332018372879131], 'age los gender insurance': ['GaussianNB', 0.66422800929601422]}, 'df_ethnicity': {'age los gender': ['GaussianNB', 0.6981347594656413], 'age los insurance gender ethnicity': ['GaussianNB', 0.70360573617704403], 'age los': ['GaussianNB', 0.70039398256631213], 'age los insurance': ['GaussianNB', 0.71233467028557929], 'age los gender insurance': ['GaussianNB', 0.71292094617912949]}, 'df_elms': {'age los gender': ['GaussianNB', 0.62984731439679331], 'age los insurance gender ethnicity language marital_status': ['AdaBoostClassifier', 0.61291776991951019], 'age los': ['GaussianNB', 0.62825248925839128], 'age los insurance': ['GaussianNB', 0.6469711297860673], 'age los gender insurance': ['GaussianNB', 0.64894544596021864]}, 'df_erms': {'age los gender': ['GaussianNB', 0.64671462424902948, 'GaussianNB', 0.6459199899744783], 'age los': ['GaussianNB', 0.63985861280292489, 'GaussianNB', 0.64051712002426864], 'age los insurance': ['GaussianNB', 0.65515800712942152, 'GaussianNB', 0.65653755074236364], 'age los gender insurance': ['GaussianNB', 0.65577641137101106, 'GaussianNB', 0.65462050423552998], 'age los insurance gender religion ethnicity marital_status': ['AdaBoostClassifier', 0.65043942683406464]}, 'df_religion': {'age los gender': ['GaussianNB', 0.68827304990711569], 'age los insurance gender religion': ['GaussianNB', 0.69327556161510151], 'age los': ['GaussianNB', 0.68898929166608325], 'age los insurance': ['GaussianNB', 0.69920928118020764], 'age los gender insurance': ['GaussianNB', 0.69711434883606971]}, 'df_rl': {'age los gender': ['GaussianNB', 0.6272028993827552, 'GaussianNB', 0.62737839779008453], 'age los insurance gender religion language': ['AdaBoostClassifier', 0.61071332991638183], 'age los': ['GaussianNB', 0.62422095827725332, 'GaussianNB', 0.62380819241340923], 'age los insurance': ['GaussianNB', 0.65381826499813145, 'GaussianNB', 0.65070187895416454], 'age los gender insurance': ['GaussianNB', 0.65392827150829602, 'GaussianNB', 0.65305683507720613]}, 'df_el': {'age los gender': ['GaussianNB', 0.63307474010023246], 'age los insurance gender ethnicity language': ['AdaBoostClassifier', 0.61787228123012417], 'age los': ['GaussianNB', 0.63483342163790479], 'age los insurance': ['GaussianNB', 0.65392141109072033], 'age los gender insurance': ['GaussianNB', 0.65199955359076256]}, 'dfmimic': {'age los gender': ['GaussianNB', 0.69853290323476736], 'age los': ['GaussianNB', 0.69311261002135482], 'age los insurance': ['GaussianNB', 0.71375759895520674], 'age los gender insurance': ['GaussianNB', 0.71247805218304128]}, 'df_msr': {'age los gender': ['GaussianNB', 0.64520727845699422], 'age los insurance gender marital_status religion': ['GaussianNB', 0.65311078248626075], 'age los': ['RandomForestClassifier', 0.64220493623027763], 'age los insurance': ['GaussianNB', 0.66014067665530329], 'age los gender insurance': ['GaussianNB', 0.66101026664135276]}}\n",
      "[['age', 'los'], ['age', 'los', 'gender', 'insurance'], ['age', 'los', 'gender'], ['age', 'los', 'insurance'], ['age', 'los', 'insurance', 'gender', 'ethnicity'], ['age', 'los', 'insurance', 'gender', 'marital_status'], ['age', 'los', 'insurance', 'gender', 'language'], ['age', 'los', 'insurance', 'gender', 'religion'], ['age', 'los', 'insurance', 'gender', 'ethnicity', 'marital_status'], ['age', 'los', 'insurance', 'gender', 'ethnicity', 'religion'], ['age', 'los', 'insurance', 'gender', 'ethnicity', 'language'], ['age', 'los', 'insurance', 'gender', 'marital_status', 'religion'], ['age', 'los', 'insurance', 'gender', 'marital_status', 'language'], ['age', 'los', 'insurance', 'gender', 'religion', 'language'], ['age', 'los', 'insurance', 'gender', 'religion', 'ethnicity', 'marital_status'], ['age', 'los', 'insurance', 'gender', 'ethnicity', 'language', 'marital_status'], ['age', 'los', 'insurance', 'gender', 'religion', 'language', 'marital_status']]\n",
      "GaussianNB has highest AUC test score of 0.610912\n",
      "AdaBoostClassifier has highest accuracy score of 0.708073\n",
      "{'df_msrl': {'age los gender': ['GaussianNB', 0.62364048744119616], 'age los': ['GaussianNB', 0.62631286877437364], 'age los insurance': ['GaussianNB', 0.65173727032337159], 'age los gender insurance': ['GaussianNB', 0.64878731322527372], 'age los insurance gender religion language marital_status': ['AdaBoostClassifier', 0.60510148010431197]}, 'df_msl': {'age los gender': ['GaussianNB', 0.62145495374603998], 'age los': ['GaussianNB', 0.62395481882304282], 'age los insurance': ['GaussianNB', 0.6559854679987579], 'age los gender insurance': ['GaussianNB', 0.65404314060948221], 'age los insurance gender marital_status language': ['AdaBoostClassifier', 0.61169805375786357]}, 'df_er': {'age los gender': ['GaussianNB', 0.68446185148811478], 'age los': ['GaussianNB', 0.68630457774518216], 'age los insurance': ['GaussianNB', 0.6957159393066028], 'age los gender insurance': ['GaussianNB', 0.6969062866496214], 'age los insurance gender ethnicity religion': ['GaussianNB', 0.67810511613938407]}, 'df_ems': {'age los gender': ['GaussianNB', 0.65187170219060875], 'age los': ['DecisionTreeClassifier', 0.65526927292470594], 'age los insurance': ['RandomForestClassifier', 0.65896081716838117], 'age los gender insurance': ['GaussianNB', 0.66083920623453296], 'age los insurance gender ethnicity marital_status': ['AdaBoostClassifier', 0.65398278676214694]}, 'df_emsrl': {'age los insurance gender religion': ['GaussianNB', 0.63768577868436049], 'age los gender insurance': ['GaussianNB', 0.64679578919892011], 'age los insurance gender language': ['AdaBoostClassifier', 0.61333397232051678], 'age los insurance gender ethnicity': ['GaussianNB', 0.64143797224097754], 'age los insurance gender ethnicity language': ['AdaBoostClassifier', 0.6119031636265132], 'age los gender': ['GaussianNB', 0.62546877454037886], 'age los insurance gender marital_status': ['GaussianNB', 0.63974768732652476], 'age los insurance gender ethnicity religion': ['GaussianNB', 0.61451718736018024], 'age los insurance': ['GaussianNB', 0.64710804936590305], 'age los insurance gender marital_status religion': ['GaussianNB', 0.61091195206617255], 'age los': ['GaussianNB', 0.6212419741232903], 'age los insurance gender ethnicity marital_status': ['GaussianNB', 0.63483469467364173]}, 'df_language': {'age los gender': ['GaussianNB', 0.62745489212729932], 'age los insurance gender language': ['AdaBoostClassifier', 0.61403931196770689], 'age los': ['GaussianNB', 0.63591278647581895], 'age los insurance': ['GaussianNB', 0.6563752152360961], 'age los gender insurance': ['GaussianNB', 0.6492045397647348]}, 'df_marital_status': {'age los gender': ['GaussianNB', 0.65575191361767082], 'age los insurance gender marital_status': ['GaussianNB', 0.66233010169165329], 'age los': ['DecisionTreeClassifier', 0.65809535308067124], 'age los insurance': ['RandomForestClassifier', 0.66332018372879131], 'age los gender insurance': ['GaussianNB', 0.66422800929601422]}, 'df_ethnicity': {'age los gender': ['GaussianNB', 0.6981347594656413], 'age los insurance gender ethnicity': ['GaussianNB', 0.70360573617704403], 'age los': ['GaussianNB', 0.70039398256631213], 'age los insurance': ['GaussianNB', 0.71233467028557929], 'age los gender insurance': ['GaussianNB', 0.71292094617912949]}, 'df_elms': {'age los gender': ['GaussianNB', 0.62984731439679331], 'age los insurance gender ethnicity language marital_status': ['AdaBoostClassifier', 0.61291776991951019], 'age los': ['GaussianNB', 0.62825248925839128], 'age los insurance': ['GaussianNB', 0.6469711297860673], 'age los gender insurance': ['GaussianNB', 0.64894544596021864]}, 'df_erms': {'age los gender': ['GaussianNB', 0.64671462424902948, 'GaussianNB', 0.6459199899744783], 'age los': ['GaussianNB', 0.63985861280292489, 'GaussianNB', 0.64051712002426864], 'age los insurance': ['GaussianNB', 0.65515800712942152, 'GaussianNB', 0.65653755074236364], 'age los gender insurance': ['GaussianNB', 0.65577641137101106, 'GaussianNB', 0.65462050423552998], 'age los insurance gender religion ethnicity marital_status': ['AdaBoostClassifier', 0.65043942683406464]}, 'df_religion': {'age los gender': ['GaussianNB', 0.68827304990711569], 'age los insurance gender religion': ['GaussianNB', 0.69327556161510151], 'age los': ['GaussianNB', 0.68898929166608325], 'age los insurance': ['GaussianNB', 0.69920928118020764], 'age los gender insurance': ['GaussianNB', 0.69711434883606971]}, 'df_rl': {'age los gender': ['GaussianNB', 0.6272028993827552, 'GaussianNB', 0.62737839779008453], 'age los insurance gender religion language': ['AdaBoostClassifier', 0.61071332991638183], 'age los': ['GaussianNB', 0.62422095827725332, 'GaussianNB', 0.62380819241340923], 'age los insurance': ['GaussianNB', 0.65381826499813145, 'GaussianNB', 0.65070187895416454], 'age los gender insurance': ['GaussianNB', 0.65392827150829602, 'GaussianNB', 0.65305683507720613]}, 'df_el': {'age los gender': ['GaussianNB', 0.63307474010023246], 'age los insurance gender ethnicity language': ['AdaBoostClassifier', 0.61787228123012417], 'age los': ['GaussianNB', 0.63483342163790479], 'age los insurance': ['GaussianNB', 0.65392141109072033], 'age los gender insurance': ['GaussianNB', 0.65199955359076256]}, 'dfmimic': {'age los gender': ['GaussianNB', 0.69853290323476736], 'age los': ['GaussianNB', 0.69311261002135482], 'age los insurance': ['GaussianNB', 0.71375759895520674], 'age los gender insurance': ['GaussianNB', 0.71247805218304128]}, 'df_msr': {'age los gender': ['GaussianNB', 0.64520727845699422], 'age los insurance gender marital_status religion': ['GaussianNB', 0.65311078248626075], 'age los': ['RandomForestClassifier', 0.64220493623027763], 'age los insurance': ['GaussianNB', 0.66014067665530329], 'age los gender insurance': ['GaussianNB', 0.66101026664135276]}}\n",
      "[['age', 'los'], ['age', 'los', 'gender', 'insurance'], ['age', 'los', 'gender'], ['age', 'los', 'insurance'], ['age', 'los', 'insurance', 'gender', 'ethnicity'], ['age', 'los', 'insurance', 'gender', 'marital_status'], ['age', 'los', 'insurance', 'gender', 'language'], ['age', 'los', 'insurance', 'gender', 'religion'], ['age', 'los', 'insurance', 'gender', 'ethnicity', 'marital_status'], ['age', 'los', 'insurance', 'gender', 'ethnicity', 'religion'], ['age', 'los', 'insurance', 'gender', 'ethnicity', 'language'], ['age', 'los', 'insurance', 'gender', 'marital_status', 'religion'], ['age', 'los', 'insurance', 'gender', 'marital_status', 'language'], ['age', 'los', 'insurance', 'gender', 'religion', 'language'], ['age', 'los', 'insurance', 'gender', 'religion', 'ethnicity', 'marital_status'], ['age', 'los', 'insurance', 'gender', 'ethnicity', 'language', 'marital_status'], ['age', 'los', 'insurance', 'gender', 'religion', 'language', 'marital_status']]\n",
      "AdaBoostClassifier has highest AUC test score of 0.614125\n",
      "AdaBoostClassifier has highest accuracy score of 0.712375\n",
      "{'df_msrl': {'age los gender': ['GaussianNB', 0.62364048744119616], 'age los': ['GaussianNB', 0.62631286877437364], 'age los insurance': ['GaussianNB', 0.65173727032337159], 'age los gender insurance': ['GaussianNB', 0.64878731322527372], 'age los insurance gender religion language marital_status': ['AdaBoostClassifier', 0.60510148010431197]}, 'df_msl': {'age los gender': ['GaussianNB', 0.62145495374603998], 'age los': ['GaussianNB', 0.62395481882304282], 'age los insurance': ['GaussianNB', 0.6559854679987579], 'age los gender insurance': ['GaussianNB', 0.65404314060948221], 'age los insurance gender marital_status language': ['AdaBoostClassifier', 0.61169805375786357]}, 'df_er': {'age los gender': ['GaussianNB', 0.68446185148811478], 'age los': ['GaussianNB', 0.68630457774518216], 'age los insurance': ['GaussianNB', 0.6957159393066028], 'age los gender insurance': ['GaussianNB', 0.6969062866496214], 'age los insurance gender ethnicity religion': ['GaussianNB', 0.67810511613938407]}, 'df_ems': {'age los gender': ['GaussianNB', 0.65187170219060875], 'age los': ['DecisionTreeClassifier', 0.65526927292470594], 'age los insurance': ['RandomForestClassifier', 0.65896081716838117], 'age los gender insurance': ['GaussianNB', 0.66083920623453296], 'age los insurance gender ethnicity marital_status': ['AdaBoostClassifier', 0.65398278676214694]}, 'df_emsrl': {'age los insurance gender religion': ['GaussianNB', 0.63768577868436049], 'age los gender insurance': ['GaussianNB', 0.64679578919892011], 'age los insurance gender language': ['AdaBoostClassifier', 0.61333397232051678], 'age los insurance gender ethnicity': ['GaussianNB', 0.64143797224097754], 'age los insurance gender ethnicity language': ['AdaBoostClassifier', 0.6119031636265132], 'age los insurance gender marital_status language': ['AdaBoostClassifier', 0.61412476638207969], 'age los gender': ['GaussianNB', 0.62546877454037886], 'age los insurance gender marital_status': ['GaussianNB', 0.63974768732652476], 'age los insurance gender ethnicity religion': ['GaussianNB', 0.61451718736018024], 'age los insurance': ['GaussianNB', 0.64710804936590305], 'age los insurance gender marital_status religion': ['GaussianNB', 0.61091195206617255], 'age los': ['GaussianNB', 0.6212419741232903], 'age los insurance gender ethnicity marital_status': ['GaussianNB', 0.63483469467364173]}, 'df_language': {'age los gender': ['GaussianNB', 0.62745489212729932], 'age los insurance gender language': ['AdaBoostClassifier', 0.61403931196770689], 'age los': ['GaussianNB', 0.63591278647581895], 'age los insurance': ['GaussianNB', 0.6563752152360961], 'age los gender insurance': ['GaussianNB', 0.6492045397647348]}, 'df_marital_status': {'age los gender': ['GaussianNB', 0.65575191361767082], 'age los insurance gender marital_status': ['GaussianNB', 0.66233010169165329], 'age los': ['DecisionTreeClassifier', 0.65809535308067124], 'age los insurance': ['RandomForestClassifier', 0.66332018372879131], 'age los gender insurance': ['GaussianNB', 0.66422800929601422]}, 'df_ethnicity': {'age los gender': ['GaussianNB', 0.6981347594656413], 'age los insurance gender ethnicity': ['GaussianNB', 0.70360573617704403], 'age los': ['GaussianNB', 0.70039398256631213], 'age los insurance': ['GaussianNB', 0.71233467028557929], 'age los gender insurance': ['GaussianNB', 0.71292094617912949]}, 'df_elms': {'age los gender': ['GaussianNB', 0.62984731439679331], 'age los insurance gender ethnicity language marital_status': ['AdaBoostClassifier', 0.61291776991951019], 'age los': ['GaussianNB', 0.62825248925839128], 'age los insurance': ['GaussianNB', 0.6469711297860673], 'age los gender insurance': ['GaussianNB', 0.64894544596021864]}, 'df_erms': {'age los gender': ['GaussianNB', 0.64671462424902948, 'GaussianNB', 0.6459199899744783], 'age los': ['GaussianNB', 0.63985861280292489, 'GaussianNB', 0.64051712002426864], 'age los insurance': ['GaussianNB', 0.65515800712942152, 'GaussianNB', 0.65653755074236364], 'age los gender insurance': ['GaussianNB', 0.65577641137101106, 'GaussianNB', 0.65462050423552998], 'age los insurance gender religion ethnicity marital_status': ['AdaBoostClassifier', 0.65043942683406464]}, 'df_religion': {'age los gender': ['GaussianNB', 0.68827304990711569], 'age los insurance gender religion': ['GaussianNB', 0.69327556161510151], 'age los': ['GaussianNB', 0.68898929166608325], 'age los insurance': ['GaussianNB', 0.69920928118020764], 'age los gender insurance': ['GaussianNB', 0.69711434883606971]}, 'df_rl': {'age los gender': ['GaussianNB', 0.6272028993827552, 'GaussianNB', 0.62737839779008453], 'age los insurance gender religion language': ['AdaBoostClassifier', 0.61071332991638183], 'age los': ['GaussianNB', 0.62422095827725332, 'GaussianNB', 0.62380819241340923], 'age los insurance': ['GaussianNB', 0.65381826499813145, 'GaussianNB', 0.65070187895416454], 'age los gender insurance': ['GaussianNB', 0.65392827150829602, 'GaussianNB', 0.65305683507720613]}, 'df_el': {'age los gender': ['GaussianNB', 0.63307474010023246], 'age los insurance gender ethnicity language': ['AdaBoostClassifier', 0.61787228123012417], 'age los': ['GaussianNB', 0.63483342163790479], 'age los insurance': ['GaussianNB', 0.65392141109072033], 'age los gender insurance': ['GaussianNB', 0.65199955359076256]}, 'dfmimic': {'age los gender': ['GaussianNB', 0.69853290323476736], 'age los': ['GaussianNB', 0.69311261002135482], 'age los insurance': ['GaussianNB', 0.71375759895520674], 'age los gender insurance': ['GaussianNB', 0.71247805218304128]}, 'df_msr': {'age los gender': ['GaussianNB', 0.64520727845699422], 'age los insurance gender marital_status religion': ['GaussianNB', 0.65311078248626075], 'age los': ['RandomForestClassifier', 0.64220493623027763], 'age los insurance': ['GaussianNB', 0.66014067665530329], 'age los gender insurance': ['GaussianNB', 0.66101026664135276]}}\n",
      "[['age', 'los'], ['age', 'los', 'gender', 'insurance'], ['age', 'los', 'gender'], ['age', 'los', 'insurance'], ['age', 'los', 'insurance', 'gender', 'ethnicity'], ['age', 'los', 'insurance', 'gender', 'marital_status'], ['age', 'los', 'insurance', 'gender', 'language'], ['age', 'los', 'insurance', 'gender', 'religion'], ['age', 'los', 'insurance', 'gender', 'ethnicity', 'marital_status'], ['age', 'los', 'insurance', 'gender', 'ethnicity', 'religion'], ['age', 'los', 'insurance', 'gender', 'ethnicity', 'language'], ['age', 'los', 'insurance', 'gender', 'marital_status', 'religion'], ['age', 'los', 'insurance', 'gender', 'marital_status', 'language'], ['age', 'los', 'insurance', 'gender', 'religion', 'language'], ['age', 'los', 'insurance', 'gender', 'religion', 'ethnicity', 'marital_status'], ['age', 'los', 'insurance', 'gender', 'ethnicity', 'language', 'marital_status'], ['age', 'los', 'insurance', 'gender', 'religion', 'language', 'marital_status']]\n",
      "AdaBoostClassifier has highest AUC test score of 0.607250\n",
      "AdaBoostClassifier has highest accuracy score of 0.707074\n",
      "{'df_msrl': {'age los gender': ['GaussianNB', 0.62364048744119616], 'age los': ['GaussianNB', 0.62631286877437364], 'age los insurance': ['GaussianNB', 0.65173727032337159], 'age los gender insurance': ['GaussianNB', 0.64878731322527372], 'age los insurance gender religion language marital_status': ['AdaBoostClassifier', 0.60510148010431197]}, 'df_msl': {'age los gender': ['GaussianNB', 0.62145495374603998], 'age los': ['GaussianNB', 0.62395481882304282], 'age los insurance': ['GaussianNB', 0.6559854679987579], 'age los gender insurance': ['GaussianNB', 0.65404314060948221], 'age los insurance gender marital_status language': ['AdaBoostClassifier', 0.61169805375786357]}, 'df_er': {'age los gender': ['GaussianNB', 0.68446185148811478], 'age los': ['GaussianNB', 0.68630457774518216], 'age los insurance': ['GaussianNB', 0.6957159393066028], 'age los gender insurance': ['GaussianNB', 0.6969062866496214], 'age los insurance gender ethnicity religion': ['GaussianNB', 0.67810511613938407]}, 'df_ems': {'age los gender': ['GaussianNB', 0.65187170219060875], 'age los': ['DecisionTreeClassifier', 0.65526927292470594], 'age los insurance': ['RandomForestClassifier', 0.65896081716838117], 'age los gender insurance': ['GaussianNB', 0.66083920623453296], 'age los insurance gender ethnicity marital_status': ['AdaBoostClassifier', 0.65398278676214694]}, 'df_emsrl': {'age los insurance gender religion': ['GaussianNB', 0.63768577868436049], 'age los gender insurance': ['GaussianNB', 0.64679578919892011], 'age los insurance gender language': ['AdaBoostClassifier', 0.61333397232051678], 'age los insurance gender ethnicity': ['GaussianNB', 0.64143797224097754], 'age los insurance gender ethnicity language': ['AdaBoostClassifier', 0.6119031636265132], 'age los insurance gender marital_status language': ['AdaBoostClassifier', 0.61412476638207969], 'age los gender': ['GaussianNB', 0.62546877454037886], 'age los insurance gender religion language': ['AdaBoostClassifier', 0.60724991138445472], 'age los insurance gender marital_status': ['GaussianNB', 0.63974768732652476], 'age los insurance gender ethnicity religion': ['GaussianNB', 0.61451718736018024], 'age los insurance': ['GaussianNB', 0.64710804936590305], 'age los insurance gender marital_status religion': ['GaussianNB', 0.61091195206617255], 'age los': ['GaussianNB', 0.6212419741232903], 'age los insurance gender ethnicity marital_status': ['GaussianNB', 0.63483469467364173]}, 'df_language': {'age los gender': ['GaussianNB', 0.62745489212729932], 'age los insurance gender language': ['AdaBoostClassifier', 0.61403931196770689], 'age los': ['GaussianNB', 0.63591278647581895], 'age los insurance': ['GaussianNB', 0.6563752152360961], 'age los gender insurance': ['GaussianNB', 0.6492045397647348]}, 'df_marital_status': {'age los gender': ['GaussianNB', 0.65575191361767082], 'age los insurance gender marital_status': ['GaussianNB', 0.66233010169165329], 'age los': ['DecisionTreeClassifier', 0.65809535308067124], 'age los insurance': ['RandomForestClassifier', 0.66332018372879131], 'age los gender insurance': ['GaussianNB', 0.66422800929601422]}, 'df_ethnicity': {'age los gender': ['GaussianNB', 0.6981347594656413], 'age los insurance gender ethnicity': ['GaussianNB', 0.70360573617704403], 'age los': ['GaussianNB', 0.70039398256631213], 'age los insurance': ['GaussianNB', 0.71233467028557929], 'age los gender insurance': ['GaussianNB', 0.71292094617912949]}, 'df_elms': {'age los gender': ['GaussianNB', 0.62984731439679331], 'age los insurance gender ethnicity language marital_status': ['AdaBoostClassifier', 0.61291776991951019], 'age los': ['GaussianNB', 0.62825248925839128], 'age los insurance': ['GaussianNB', 0.6469711297860673], 'age los gender insurance': ['GaussianNB', 0.64894544596021864]}, 'df_erms': {'age los gender': ['GaussianNB', 0.64671462424902948, 'GaussianNB', 0.6459199899744783], 'age los': ['GaussianNB', 0.63985861280292489, 'GaussianNB', 0.64051712002426864], 'age los insurance': ['GaussianNB', 0.65515800712942152, 'GaussianNB', 0.65653755074236364], 'age los gender insurance': ['GaussianNB', 0.65577641137101106, 'GaussianNB', 0.65462050423552998], 'age los insurance gender religion ethnicity marital_status': ['AdaBoostClassifier', 0.65043942683406464]}, 'df_religion': {'age los gender': ['GaussianNB', 0.68827304990711569], 'age los insurance gender religion': ['GaussianNB', 0.69327556161510151], 'age los': ['GaussianNB', 0.68898929166608325], 'age los insurance': ['GaussianNB', 0.69920928118020764], 'age los gender insurance': ['GaussianNB', 0.69711434883606971]}, 'df_rl': {'age los gender': ['GaussianNB', 0.6272028993827552, 'GaussianNB', 0.62737839779008453], 'age los insurance gender religion language': ['AdaBoostClassifier', 0.61071332991638183], 'age los': ['GaussianNB', 0.62422095827725332, 'GaussianNB', 0.62380819241340923], 'age los insurance': ['GaussianNB', 0.65381826499813145, 'GaussianNB', 0.65070187895416454], 'age los gender insurance': ['GaussianNB', 0.65392827150829602, 'GaussianNB', 0.65305683507720613]}, 'df_el': {'age los gender': ['GaussianNB', 0.63307474010023246], 'age los insurance gender ethnicity language': ['AdaBoostClassifier', 0.61787228123012417], 'age los': ['GaussianNB', 0.63483342163790479], 'age los insurance': ['GaussianNB', 0.65392141109072033], 'age los gender insurance': ['GaussianNB', 0.65199955359076256]}, 'dfmimic': {'age los gender': ['GaussianNB', 0.69853290323476736], 'age los': ['GaussianNB', 0.69311261002135482], 'age los insurance': ['GaussianNB', 0.71375759895520674], 'age los gender insurance': ['GaussianNB', 0.71247805218304128]}, 'df_msr': {'age los gender': ['GaussianNB', 0.64520727845699422], 'age los insurance gender marital_status religion': ['GaussianNB', 0.65311078248626075], 'age los': ['RandomForestClassifier', 0.64220493623027763], 'age los insurance': ['GaussianNB', 0.66014067665530329], 'age los gender insurance': ['GaussianNB', 0.66101026664135276]}}\n",
      "[['age', 'los'], ['age', 'los', 'gender', 'insurance'], ['age', 'los', 'gender'], ['age', 'los', 'insurance'], ['age', 'los', 'insurance', 'gender', 'ethnicity'], ['age', 'los', 'insurance', 'gender', 'marital_status'], ['age', 'los', 'insurance', 'gender', 'language'], ['age', 'los', 'insurance', 'gender', 'religion'], ['age', 'los', 'insurance', 'gender', 'ethnicity', 'marital_status'], ['age', 'los', 'insurance', 'gender', 'ethnicity', 'religion'], ['age', 'los', 'insurance', 'gender', 'ethnicity', 'language'], ['age', 'los', 'insurance', 'gender', 'marital_status', 'religion'], ['age', 'los', 'insurance', 'gender', 'marital_status', 'language'], ['age', 'los', 'insurance', 'gender', 'religion', 'language'], ['age', 'los', 'insurance', 'gender', 'religion', 'ethnicity', 'marital_status'], ['age', 'los', 'insurance', 'gender', 'ethnicity', 'language', 'marital_status'], ['age', 'los', 'insurance', 'gender', 'religion', 'language', 'marital_status']]\n",
      "AdaBoostClassifier has highest AUC test score of 0.605134\n",
      "AdaBoostClassifier has highest accuracy score of 0.710275\n",
      "{'df_msrl': {'age los gender': ['GaussianNB', 0.62364048744119616], 'age los': ['GaussianNB', 0.62631286877437364], 'age los insurance': ['GaussianNB', 0.65173727032337159], 'age los gender insurance': ['GaussianNB', 0.64878731322527372], 'age los insurance gender religion language marital_status': ['AdaBoostClassifier', 0.60510148010431197]}, 'df_msl': {'age los gender': ['GaussianNB', 0.62145495374603998], 'age los': ['GaussianNB', 0.62395481882304282], 'age los insurance': ['GaussianNB', 0.6559854679987579], 'age los gender insurance': ['GaussianNB', 0.65404314060948221], 'age los insurance gender marital_status language': ['AdaBoostClassifier', 0.61169805375786357]}, 'df_er': {'age los gender': ['GaussianNB', 0.68446185148811478], 'age los': ['GaussianNB', 0.68630457774518216], 'age los insurance': ['GaussianNB', 0.6957159393066028], 'age los gender insurance': ['GaussianNB', 0.6969062866496214], 'age los insurance gender ethnicity religion': ['GaussianNB', 0.67810511613938407]}, 'df_ems': {'age los gender': ['GaussianNB', 0.65187170219060875], 'age los': ['DecisionTreeClassifier', 0.65526927292470594], 'age los insurance': ['RandomForestClassifier', 0.65896081716838117], 'age los gender insurance': ['GaussianNB', 0.66083920623453296], 'age los insurance gender ethnicity marital_status': ['AdaBoostClassifier', 0.65398278676214694]}, 'df_emsrl': {'age los insurance gender religion': ['GaussianNB', 0.63768577868436049], 'age los gender insurance': ['GaussianNB', 0.64679578919892011], 'age los insurance gender religion ethnicity marital_status': ['AdaBoostClassifier', 0.60513389394351136], 'age los insurance gender language': ['AdaBoostClassifier', 0.61333397232051678], 'age los insurance gender ethnicity': ['GaussianNB', 0.64143797224097754], 'age los insurance gender ethnicity language': ['AdaBoostClassifier', 0.6119031636265132], 'age los insurance gender marital_status language': ['AdaBoostClassifier', 0.61412476638207969], 'age los gender': ['GaussianNB', 0.62546877454037886], 'age los insurance gender religion language': ['AdaBoostClassifier', 0.60724991138445472], 'age los insurance gender marital_status': ['GaussianNB', 0.63974768732652476], 'age los insurance gender ethnicity religion': ['GaussianNB', 0.61451718736018024], 'age los insurance': ['GaussianNB', 0.64710804936590305], 'age los insurance gender marital_status religion': ['GaussianNB', 0.61091195206617255], 'age los': ['GaussianNB', 0.6212419741232903], 'age los insurance gender ethnicity marital_status': ['GaussianNB', 0.63483469467364173]}, 'df_language': {'age los gender': ['GaussianNB', 0.62745489212729932], 'age los insurance gender language': ['AdaBoostClassifier', 0.61403931196770689], 'age los': ['GaussianNB', 0.63591278647581895], 'age los insurance': ['GaussianNB', 0.6563752152360961], 'age los gender insurance': ['GaussianNB', 0.6492045397647348]}, 'df_marital_status': {'age los gender': ['GaussianNB', 0.65575191361767082], 'age los insurance gender marital_status': ['GaussianNB', 0.66233010169165329], 'age los': ['DecisionTreeClassifier', 0.65809535308067124], 'age los insurance': ['RandomForestClassifier', 0.66332018372879131], 'age los gender insurance': ['GaussianNB', 0.66422800929601422]}, 'df_ethnicity': {'age los gender': ['GaussianNB', 0.6981347594656413], 'age los insurance gender ethnicity': ['GaussianNB', 0.70360573617704403], 'age los': ['GaussianNB', 0.70039398256631213], 'age los insurance': ['GaussianNB', 0.71233467028557929], 'age los gender insurance': ['GaussianNB', 0.71292094617912949]}, 'df_elms': {'age los gender': ['GaussianNB', 0.62984731439679331], 'age los insurance gender ethnicity language marital_status': ['AdaBoostClassifier', 0.61291776991951019], 'age los': ['GaussianNB', 0.62825248925839128], 'age los insurance': ['GaussianNB', 0.6469711297860673], 'age los gender insurance': ['GaussianNB', 0.64894544596021864]}, 'df_erms': {'age los gender': ['GaussianNB', 0.64671462424902948, 'GaussianNB', 0.6459199899744783], 'age los': ['GaussianNB', 0.63985861280292489, 'GaussianNB', 0.64051712002426864], 'age los insurance': ['GaussianNB', 0.65515800712942152, 'GaussianNB', 0.65653755074236364], 'age los gender insurance': ['GaussianNB', 0.65577641137101106, 'GaussianNB', 0.65462050423552998], 'age los insurance gender religion ethnicity marital_status': ['AdaBoostClassifier', 0.65043942683406464]}, 'df_religion': {'age los gender': ['GaussianNB', 0.68827304990711569], 'age los insurance gender religion': ['GaussianNB', 0.69327556161510151], 'age los': ['GaussianNB', 0.68898929166608325], 'age los insurance': ['GaussianNB', 0.69920928118020764], 'age los gender insurance': ['GaussianNB', 0.69711434883606971]}, 'df_rl': {'age los gender': ['GaussianNB', 0.6272028993827552, 'GaussianNB', 0.62737839779008453], 'age los insurance gender religion language': ['AdaBoostClassifier', 0.61071332991638183], 'age los': ['GaussianNB', 0.62422095827725332, 'GaussianNB', 0.62380819241340923], 'age los insurance': ['GaussianNB', 0.65381826499813145, 'GaussianNB', 0.65070187895416454], 'age los gender insurance': ['GaussianNB', 0.65392827150829602, 'GaussianNB', 0.65305683507720613]}, 'df_el': {'age los gender': ['GaussianNB', 0.63307474010023246], 'age los insurance gender ethnicity language': ['AdaBoostClassifier', 0.61787228123012417], 'age los': ['GaussianNB', 0.63483342163790479], 'age los insurance': ['GaussianNB', 0.65392141109072033], 'age los gender insurance': ['GaussianNB', 0.65199955359076256]}, 'dfmimic': {'age los gender': ['GaussianNB', 0.69853290323476736], 'age los': ['GaussianNB', 0.69311261002135482], 'age los insurance': ['GaussianNB', 0.71375759895520674], 'age los gender insurance': ['GaussianNB', 0.71247805218304128]}, 'df_msr': {'age los gender': ['GaussianNB', 0.64520727845699422], 'age los insurance gender marital_status religion': ['GaussianNB', 0.65311078248626075], 'age los': ['RandomForestClassifier', 0.64220493623027763], 'age los insurance': ['GaussianNB', 0.66014067665530329], 'age los gender insurance': ['GaussianNB', 0.66101026664135276]}}\n",
      "[['age', 'los'], ['age', 'los', 'gender', 'insurance'], ['age', 'los', 'gender'], ['age', 'los', 'insurance'], ['age', 'los', 'insurance', 'gender', 'ethnicity'], ['age', 'los', 'insurance', 'gender', 'marital_status'], ['age', 'los', 'insurance', 'gender', 'language'], ['age', 'los', 'insurance', 'gender', 'religion'], ['age', 'los', 'insurance', 'gender', 'ethnicity', 'marital_status'], ['age', 'los', 'insurance', 'gender', 'ethnicity', 'religion'], ['age', 'los', 'insurance', 'gender', 'ethnicity', 'language'], ['age', 'los', 'insurance', 'gender', 'marital_status', 'religion'], ['age', 'los', 'insurance', 'gender', 'marital_status', 'language'], ['age', 'los', 'insurance', 'gender', 'religion', 'language'], ['age', 'los', 'insurance', 'gender', 'religion', 'ethnicity', 'marital_status'], ['age', 'los', 'insurance', 'gender', 'ethnicity', 'language', 'marital_status'], ['age', 'los', 'insurance', 'gender', 'religion', 'language', 'marital_status']]\n",
      "AdaBoostClassifier has highest AUC test score of 0.611643\n",
      "AdaBoostClassifier has highest accuracy score of 0.709745\n",
      "{'df_msrl': {'age los gender': ['GaussianNB', 0.62364048744119616], 'age los': ['GaussianNB', 0.62631286877437364], 'age los insurance': ['GaussianNB', 0.65173727032337159], 'age los gender insurance': ['GaussianNB', 0.64878731322527372], 'age los insurance gender religion language marital_status': ['AdaBoostClassifier', 0.60510148010431197]}, 'df_msl': {'age los gender': ['GaussianNB', 0.62145495374603998], 'age los': ['GaussianNB', 0.62395481882304282], 'age los insurance': ['GaussianNB', 0.6559854679987579], 'age los gender insurance': ['GaussianNB', 0.65404314060948221], 'age los insurance gender marital_status language': ['AdaBoostClassifier', 0.61169805375786357]}, 'df_er': {'age los gender': ['GaussianNB', 0.68446185148811478], 'age los': ['GaussianNB', 0.68630457774518216], 'age los insurance': ['GaussianNB', 0.6957159393066028], 'age los gender insurance': ['GaussianNB', 0.6969062866496214], 'age los insurance gender ethnicity religion': ['GaussianNB', 0.67810511613938407]}, 'df_ems': {'age los gender': ['GaussianNB', 0.65187170219060875], 'age los': ['DecisionTreeClassifier', 0.65526927292470594], 'age los insurance': ['RandomForestClassifier', 0.65896081716838117], 'age los gender insurance': ['GaussianNB', 0.66083920623453296], 'age los insurance gender ethnicity marital_status': ['AdaBoostClassifier', 0.65398278676214694]}, 'df_emsrl': {'age los insurance gender religion': ['GaussianNB', 0.63768577868436049], 'age los gender insurance': ['GaussianNB', 0.64679578919892011], 'age los insurance gender religion ethnicity marital_status': ['AdaBoostClassifier', 0.60513389394351136], 'age los insurance gender ethnicity language marital_status': ['AdaBoostClassifier', 0.61164274074122771], 'age los insurance gender language': ['AdaBoostClassifier', 0.61333397232051678], 'age los insurance gender ethnicity': ['GaussianNB', 0.64143797224097754], 'age los insurance gender ethnicity language': ['AdaBoostClassifier', 0.6119031636265132], 'age los insurance gender marital_status language': ['AdaBoostClassifier', 0.61412476638207969], 'age los gender': ['GaussianNB', 0.62546877454037886], 'age los insurance gender religion language': ['AdaBoostClassifier', 0.60724991138445472], 'age los insurance gender marital_status': ['GaussianNB', 0.63974768732652476], 'age los insurance gender ethnicity religion': ['GaussianNB', 0.61451718736018024], 'age los insurance': ['GaussianNB', 0.64710804936590305], 'age los insurance gender marital_status religion': ['GaussianNB', 0.61091195206617255], 'age los': ['GaussianNB', 0.6212419741232903], 'age los insurance gender ethnicity marital_status': ['GaussianNB', 0.63483469467364173]}, 'df_language': {'age los gender': ['GaussianNB', 0.62745489212729932], 'age los insurance gender language': ['AdaBoostClassifier', 0.61403931196770689], 'age los': ['GaussianNB', 0.63591278647581895], 'age los insurance': ['GaussianNB', 0.6563752152360961], 'age los gender insurance': ['GaussianNB', 0.6492045397647348]}, 'df_marital_status': {'age los gender': ['GaussianNB', 0.65575191361767082], 'age los insurance gender marital_status': ['GaussianNB', 0.66233010169165329], 'age los': ['DecisionTreeClassifier', 0.65809535308067124], 'age los insurance': ['RandomForestClassifier', 0.66332018372879131], 'age los gender insurance': ['GaussianNB', 0.66422800929601422]}, 'df_ethnicity': {'age los gender': ['GaussianNB', 0.6981347594656413], 'age los insurance gender ethnicity': ['GaussianNB', 0.70360573617704403], 'age los': ['GaussianNB', 0.70039398256631213], 'age los insurance': ['GaussianNB', 0.71233467028557929], 'age los gender insurance': ['GaussianNB', 0.71292094617912949]}, 'df_elms': {'age los gender': ['GaussianNB', 0.62984731439679331], 'age los insurance gender ethnicity language marital_status': ['AdaBoostClassifier', 0.61291776991951019], 'age los': ['GaussianNB', 0.62825248925839128], 'age los insurance': ['GaussianNB', 0.6469711297860673], 'age los gender insurance': ['GaussianNB', 0.64894544596021864]}, 'df_erms': {'age los gender': ['GaussianNB', 0.64671462424902948, 'GaussianNB', 0.6459199899744783], 'age los': ['GaussianNB', 0.63985861280292489, 'GaussianNB', 0.64051712002426864], 'age los insurance': ['GaussianNB', 0.65515800712942152, 'GaussianNB', 0.65653755074236364], 'age los gender insurance': ['GaussianNB', 0.65577641137101106, 'GaussianNB', 0.65462050423552998], 'age los insurance gender religion ethnicity marital_status': ['AdaBoostClassifier', 0.65043942683406464]}, 'df_religion': {'age los gender': ['GaussianNB', 0.68827304990711569], 'age los insurance gender religion': ['GaussianNB', 0.69327556161510151], 'age los': ['GaussianNB', 0.68898929166608325], 'age los insurance': ['GaussianNB', 0.69920928118020764], 'age los gender insurance': ['GaussianNB', 0.69711434883606971]}, 'df_rl': {'age los gender': ['GaussianNB', 0.6272028993827552, 'GaussianNB', 0.62737839779008453], 'age los insurance gender religion language': ['AdaBoostClassifier', 0.61071332991638183], 'age los': ['GaussianNB', 0.62422095827725332, 'GaussianNB', 0.62380819241340923], 'age los insurance': ['GaussianNB', 0.65381826499813145, 'GaussianNB', 0.65070187895416454], 'age los gender insurance': ['GaussianNB', 0.65392827150829602, 'GaussianNB', 0.65305683507720613]}, 'df_el': {'age los gender': ['GaussianNB', 0.63307474010023246], 'age los insurance gender ethnicity language': ['AdaBoostClassifier', 0.61787228123012417], 'age los': ['GaussianNB', 0.63483342163790479], 'age los insurance': ['GaussianNB', 0.65392141109072033], 'age los gender insurance': ['GaussianNB', 0.65199955359076256]}, 'dfmimic': {'age los gender': ['GaussianNB', 0.69853290323476736], 'age los': ['GaussianNB', 0.69311261002135482], 'age los insurance': ['GaussianNB', 0.71375759895520674], 'age los gender insurance': ['GaussianNB', 0.71247805218304128]}, 'df_msr': {'age los gender': ['GaussianNB', 0.64520727845699422], 'age los insurance gender marital_status religion': ['GaussianNB', 0.65311078248626075], 'age los': ['RandomForestClassifier', 0.64220493623027763], 'age los insurance': ['GaussianNB', 0.66014067665530329], 'age los gender insurance': ['GaussianNB', 0.66101026664135276]}}\n",
      "[['age', 'los'], ['age', 'los', 'gender', 'insurance'], ['age', 'los', 'gender'], ['age', 'los', 'insurance'], ['age', 'los', 'insurance', 'gender', 'ethnicity'], ['age', 'los', 'insurance', 'gender', 'marital_status'], ['age', 'los', 'insurance', 'gender', 'language'], ['age', 'los', 'insurance', 'gender', 'religion'], ['age', 'los', 'insurance', 'gender', 'ethnicity', 'marital_status'], ['age', 'los', 'insurance', 'gender', 'ethnicity', 'religion'], ['age', 'los', 'insurance', 'gender', 'ethnicity', 'language'], ['age', 'los', 'insurance', 'gender', 'marital_status', 'religion'], ['age', 'los', 'insurance', 'gender', 'marital_status', 'language'], ['age', 'los', 'insurance', 'gender', 'religion', 'language'], ['age', 'los', 'insurance', 'gender', 'religion', 'ethnicity', 'marital_status'], ['age', 'los', 'insurance', 'gender', 'ethnicity', 'language', 'marital_status'], ['age', 'los', 'insurance', 'gender', 'religion', 'language', 'marital_status']]\n",
      "AdaBoostClassifier has highest AUC test score of 0.607509\n",
      "AdaBoostClassifier has highest accuracy score of 0.708767\n",
      "{'df_msrl': {'age los gender': ['GaussianNB', 0.62364048744119616], 'age los': ['GaussianNB', 0.62631286877437364], 'age los insurance': ['GaussianNB', 0.65173727032337159], 'age los gender insurance': ['GaussianNB', 0.64878731322527372], 'age los insurance gender religion language marital_status': ['AdaBoostClassifier', 0.60510148010431197]}, 'df_msl': {'age los gender': ['GaussianNB', 0.62145495374603998], 'age los': ['GaussianNB', 0.62395481882304282], 'age los insurance': ['GaussianNB', 0.6559854679987579], 'age los gender insurance': ['GaussianNB', 0.65404314060948221], 'age los insurance gender marital_status language': ['AdaBoostClassifier', 0.61169805375786357]}, 'df_er': {'age los gender': ['GaussianNB', 0.68446185148811478], 'age los': ['GaussianNB', 0.68630457774518216], 'age los insurance': ['GaussianNB', 0.6957159393066028], 'age los gender insurance': ['GaussianNB', 0.6969062866496214], 'age los insurance gender ethnicity religion': ['GaussianNB', 0.67810511613938407]}, 'df_ems': {'age los gender': ['GaussianNB', 0.65187170219060875], 'age los': ['DecisionTreeClassifier', 0.65526927292470594], 'age los insurance': ['RandomForestClassifier', 0.65896081716838117], 'age los gender insurance': ['GaussianNB', 0.66083920623453296], 'age los insurance gender ethnicity marital_status': ['AdaBoostClassifier', 0.65398278676214694]}, 'df_emsrl': {'age los insurance gender religion': ['GaussianNB', 0.63768577868436049], 'age los gender insurance': ['GaussianNB', 0.64679578919892011], 'age los insurance gender religion ethnicity marital_status': ['AdaBoostClassifier', 0.60513389394351136], 'age los insurance gender ethnicity language marital_status': ['AdaBoostClassifier', 0.61164274074122771], 'age los insurance gender language': ['AdaBoostClassifier', 0.61333397232051678], 'age los insurance gender religion language marital_status': ['AdaBoostClassifier', 0.60750906781274505], 'age los insurance gender ethnicity': ['GaussianNB', 0.64143797224097754], 'age los insurance gender ethnicity language': ['AdaBoostClassifier', 0.6119031636265132], 'age los insurance gender marital_status language': ['AdaBoostClassifier', 0.61412476638207969], 'age los gender': ['GaussianNB', 0.62546877454037886], 'age los insurance gender religion language': ['AdaBoostClassifier', 0.60724991138445472], 'age los insurance gender marital_status': ['GaussianNB', 0.63974768732652476], 'age los insurance gender ethnicity religion': ['GaussianNB', 0.61451718736018024], 'age los insurance': ['GaussianNB', 0.64710804936590305], 'age los insurance gender marital_status religion': ['GaussianNB', 0.61091195206617255], 'age los': ['GaussianNB', 0.6212419741232903], 'age los insurance gender ethnicity marital_status': ['GaussianNB', 0.63483469467364173]}, 'df_language': {'age los gender': ['GaussianNB', 0.62745489212729932], 'age los insurance gender language': ['AdaBoostClassifier', 0.61403931196770689], 'age los': ['GaussianNB', 0.63591278647581895], 'age los insurance': ['GaussianNB', 0.6563752152360961], 'age los gender insurance': ['GaussianNB', 0.6492045397647348]}, 'df_marital_status': {'age los gender': ['GaussianNB', 0.65575191361767082], 'age los insurance gender marital_status': ['GaussianNB', 0.66233010169165329], 'age los': ['DecisionTreeClassifier', 0.65809535308067124], 'age los insurance': ['RandomForestClassifier', 0.66332018372879131], 'age los gender insurance': ['GaussianNB', 0.66422800929601422]}, 'df_ethnicity': {'age los gender': ['GaussianNB', 0.6981347594656413], 'age los insurance gender ethnicity': ['GaussianNB', 0.70360573617704403], 'age los': ['GaussianNB', 0.70039398256631213], 'age los insurance': ['GaussianNB', 0.71233467028557929], 'age los gender insurance': ['GaussianNB', 0.71292094617912949]}, 'df_elms': {'age los gender': ['GaussianNB', 0.62984731439679331], 'age los insurance gender ethnicity language marital_status': ['AdaBoostClassifier', 0.61291776991951019], 'age los': ['GaussianNB', 0.62825248925839128], 'age los insurance': ['GaussianNB', 0.6469711297860673], 'age los gender insurance': ['GaussianNB', 0.64894544596021864]}, 'df_erms': {'age los gender': ['GaussianNB', 0.64671462424902948, 'GaussianNB', 0.6459199899744783], 'age los': ['GaussianNB', 0.63985861280292489, 'GaussianNB', 0.64051712002426864], 'age los insurance': ['GaussianNB', 0.65515800712942152, 'GaussianNB', 0.65653755074236364], 'age los gender insurance': ['GaussianNB', 0.65577641137101106, 'GaussianNB', 0.65462050423552998], 'age los insurance gender religion ethnicity marital_status': ['AdaBoostClassifier', 0.65043942683406464]}, 'df_religion': {'age los gender': ['GaussianNB', 0.68827304990711569], 'age los insurance gender religion': ['GaussianNB', 0.69327556161510151], 'age los': ['GaussianNB', 0.68898929166608325], 'age los insurance': ['GaussianNB', 0.69920928118020764], 'age los gender insurance': ['GaussianNB', 0.69711434883606971]}, 'df_rl': {'age los gender': ['GaussianNB', 0.6272028993827552, 'GaussianNB', 0.62737839779008453], 'age los insurance gender religion language': ['AdaBoostClassifier', 0.61071332991638183], 'age los': ['GaussianNB', 0.62422095827725332, 'GaussianNB', 0.62380819241340923], 'age los insurance': ['GaussianNB', 0.65381826499813145, 'GaussianNB', 0.65070187895416454], 'age los gender insurance': ['GaussianNB', 0.65392827150829602, 'GaussianNB', 0.65305683507720613]}, 'df_el': {'age los gender': ['GaussianNB', 0.63307474010023246], 'age los insurance gender ethnicity language': ['AdaBoostClassifier', 0.61787228123012417], 'age los': ['GaussianNB', 0.63483342163790479], 'age los insurance': ['GaussianNB', 0.65392141109072033], 'age los gender insurance': ['GaussianNB', 0.65199955359076256]}, 'dfmimic': {'age los gender': ['GaussianNB', 0.69853290323476736], 'age los': ['GaussianNB', 0.69311261002135482], 'age los insurance': ['GaussianNB', 0.71375759895520674], 'age los gender insurance': ['GaussianNB', 0.71247805218304128]}, 'df_msr': {'age los gender': ['GaussianNB', 0.64520727845699422], 'age los insurance gender marital_status religion': ['GaussianNB', 0.65311078248626075], 'age los': ['RandomForestClassifier', 0.64220493623027763], 'age los insurance': ['GaussianNB', 0.66014067665530329], 'age los gender insurance': ['GaussianNB', 0.66101026664135276]}}\n",
      "[['age', 'los'], ['age', 'los', 'gender', 'insurance'], ['age', 'los', 'gender'], ['age', 'los', 'insurance'], ['age', 'los', 'insurance', 'gender', 'ethnicity'], ['age', 'los', 'insurance', 'gender', 'marital_status'], ['age', 'los', 'insurance', 'gender', 'language'], ['age', 'los', 'insurance', 'gender', 'religion'], ['age', 'los', 'insurance', 'gender', 'ethnicity', 'marital_status'], ['age', 'los', 'insurance', 'gender', 'ethnicity', 'religion'], ['age', 'los', 'insurance', 'gender', 'ethnicity', 'language'], ['age', 'los', 'insurance', 'gender', 'marital_status', 'religion'], ['age', 'los', 'insurance', 'gender', 'marital_status', 'language'], ['age', 'los', 'insurance', 'gender', 'religion', 'language'], ['age', 'los', 'insurance', 'gender', 'religion', 'ethnicity', 'marital_status'], ['age', 'los', 'insurance', 'gender', 'ethnicity', 'language', 'marital_status'], ['age', 'los', 'insurance', 'gender', 'religion', 'language', 'marital_status']]\n",
      "AdaBoostClassifier has highest AUC test score of 0.608232\n",
      "AdaBoostClassifier has highest accuracy score of 0.708420\n",
      "{'df_msrl': {'age los gender': ['GaussianNB', 0.62364048744119616], 'age los': ['GaussianNB', 0.62631286877437364], 'age los insurance': ['GaussianNB', 0.65173727032337159], 'age los gender insurance': ['GaussianNB', 0.64878731322527372], 'age los insurance gender religion language marital_status': ['AdaBoostClassifier', 0.60510148010431197]}, 'df_msl': {'age los gender': ['GaussianNB', 0.62145495374603998], 'age los': ['GaussianNB', 0.62395481882304282], 'age los insurance': ['GaussianNB', 0.6559854679987579], 'age los gender insurance': ['GaussianNB', 0.65404314060948221], 'age los insurance gender marital_status language': ['AdaBoostClassifier', 0.61169805375786357]}, 'df_er': {'age los gender': ['GaussianNB', 0.68446185148811478], 'age los': ['GaussianNB', 0.68630457774518216], 'age los insurance': ['GaussianNB', 0.6957159393066028], 'age los gender insurance': ['GaussianNB', 0.6969062866496214], 'age los insurance gender ethnicity religion': ['GaussianNB', 0.67810511613938407]}, 'df_ems': {'age los gender': ['GaussianNB', 0.65187170219060875], 'age los': ['DecisionTreeClassifier', 0.65526927292470594], 'age los insurance': ['RandomForestClassifier', 0.65896081716838117], 'age los gender insurance': ['GaussianNB', 0.66083920623453296], 'age los insurance gender ethnicity marital_status': ['AdaBoostClassifier', 0.65398278676214694]}, 'df_emsrl': {'age los insurance gender religion': ['GaussianNB', 0.63768577868436049], 'age los gender insurance': ['GaussianNB', 0.64679578919892011], 'age los insurance gender religion ethnicity marital_status': ['AdaBoostClassifier', 0.60513389394351136], 'age los insurance gender ethnicity language marital_status': ['AdaBoostClassifier', 0.61164274074122771], 'age los insurance gender language': ['AdaBoostClassifier', 0.61333397232051678], 'age los insurance gender religion language marital_status': ['AdaBoostClassifier', 0.60750906781274505, 'AdaBoostClassifier', 0.60823184426259158], 'age los insurance gender ethnicity': ['GaussianNB', 0.64143797224097754], 'age los insurance gender ethnicity language': ['AdaBoostClassifier', 0.6119031636265132], 'age los insurance gender marital_status language': ['AdaBoostClassifier', 0.61412476638207969], 'age los gender': ['GaussianNB', 0.62546877454037886], 'age los insurance gender religion language': ['AdaBoostClassifier', 0.60724991138445472], 'age los insurance gender marital_status': ['GaussianNB', 0.63974768732652476], 'age los insurance gender ethnicity religion': ['GaussianNB', 0.61451718736018024], 'age los insurance': ['GaussianNB', 0.64710804936590305], 'age los insurance gender marital_status religion': ['GaussianNB', 0.61091195206617255], 'age los': ['GaussianNB', 0.6212419741232903], 'age los insurance gender ethnicity marital_status': ['GaussianNB', 0.63483469467364173]}, 'df_language': {'age los gender': ['GaussianNB', 0.62745489212729932], 'age los insurance gender language': ['AdaBoostClassifier', 0.61403931196770689], 'age los': ['GaussianNB', 0.63591278647581895], 'age los insurance': ['GaussianNB', 0.6563752152360961], 'age los gender insurance': ['GaussianNB', 0.6492045397647348]}, 'df_marital_status': {'age los gender': ['GaussianNB', 0.65575191361767082], 'age los insurance gender marital_status': ['GaussianNB', 0.66233010169165329], 'age los': ['DecisionTreeClassifier', 0.65809535308067124], 'age los insurance': ['RandomForestClassifier', 0.66332018372879131], 'age los gender insurance': ['GaussianNB', 0.66422800929601422]}, 'df_ethnicity': {'age los gender': ['GaussianNB', 0.6981347594656413], 'age los insurance gender ethnicity': ['GaussianNB', 0.70360573617704403], 'age los': ['GaussianNB', 0.70039398256631213], 'age los insurance': ['GaussianNB', 0.71233467028557929], 'age los gender insurance': ['GaussianNB', 0.71292094617912949]}, 'df_elms': {'age los gender': ['GaussianNB', 0.62984731439679331], 'age los insurance gender ethnicity language marital_status': ['AdaBoostClassifier', 0.61291776991951019], 'age los': ['GaussianNB', 0.62825248925839128], 'age los insurance': ['GaussianNB', 0.6469711297860673], 'age los gender insurance': ['GaussianNB', 0.64894544596021864]}, 'df_erms': {'age los gender': ['GaussianNB', 0.64671462424902948, 'GaussianNB', 0.6459199899744783], 'age los': ['GaussianNB', 0.63985861280292489, 'GaussianNB', 0.64051712002426864], 'age los insurance': ['GaussianNB', 0.65515800712942152, 'GaussianNB', 0.65653755074236364], 'age los gender insurance': ['GaussianNB', 0.65577641137101106, 'GaussianNB', 0.65462050423552998], 'age los insurance gender religion ethnicity marital_status': ['AdaBoostClassifier', 0.65043942683406464]}, 'df_religion': {'age los gender': ['GaussianNB', 0.68827304990711569], 'age los insurance gender religion': ['GaussianNB', 0.69327556161510151], 'age los': ['GaussianNB', 0.68898929166608325], 'age los insurance': ['GaussianNB', 0.69920928118020764], 'age los gender insurance': ['GaussianNB', 0.69711434883606971]}, 'df_rl': {'age los gender': ['GaussianNB', 0.6272028993827552, 'GaussianNB', 0.62737839779008453], 'age los insurance gender religion language': ['AdaBoostClassifier', 0.61071332991638183], 'age los': ['GaussianNB', 0.62422095827725332, 'GaussianNB', 0.62380819241340923], 'age los insurance': ['GaussianNB', 0.65381826499813145, 'GaussianNB', 0.65070187895416454], 'age los gender insurance': ['GaussianNB', 0.65392827150829602, 'GaussianNB', 0.65305683507720613]}, 'df_el': {'age los gender': ['GaussianNB', 0.63307474010023246], 'age los insurance gender ethnicity language': ['AdaBoostClassifier', 0.61787228123012417], 'age los': ['GaussianNB', 0.63483342163790479], 'age los insurance': ['GaussianNB', 0.65392141109072033], 'age los gender insurance': ['GaussianNB', 0.65199955359076256]}, 'dfmimic': {'age los gender': ['GaussianNB', 0.69853290323476736], 'age los': ['GaussianNB', 0.69311261002135482], 'age los insurance': ['GaussianNB', 0.71375759895520674], 'age los gender insurance': ['GaussianNB', 0.71247805218304128]}, 'df_msr': {'age los gender': ['GaussianNB', 0.64520727845699422], 'age los insurance gender marital_status religion': ['GaussianNB', 0.65311078248626075], 'age los': ['RandomForestClassifier', 0.64220493623027763], 'age los insurance': ['GaussianNB', 0.66014067665530329], 'age los gender insurance': ['GaussianNB', 0.66101026664135276]}}\n",
      "[['age', 'los'], ['age', 'los', 'gender', 'insurance'], ['age', 'los', 'gender'], ['age', 'los', 'insurance'], ['age', 'los', 'insurance', 'gender', 'ethnicity'], ['age', 'los', 'insurance', 'gender', 'marital_status'], ['age', 'los', 'insurance', 'gender', 'language'], ['age', 'los', 'insurance', 'gender', 'religion'], ['age', 'los', 'insurance', 'gender', 'ethnicity', 'marital_status'], ['age', 'los', 'insurance', 'gender', 'ethnicity', 'religion'], ['age', 'los', 'insurance', 'gender', 'ethnicity', 'language'], ['age', 'los', 'insurance', 'gender', 'marital_status', 'religion'], ['age', 'los', 'insurance', 'gender', 'marital_status', 'language'], ['age', 'los', 'insurance', 'gender', 'religion', 'language'], ['age', 'los', 'insurance', 'gender', 'religion', 'ethnicity', 'marital_status'], ['age', 'los', 'insurance', 'gender', 'ethnicity', 'language', 'marital_status'], ['age', 'los', 'insurance', 'gender', 'religion', 'language', 'marital_status']]\n"
     ]
    }
   ],
   "source": [
    "#Merge religion, language, ethnicity, and marital status\n",
    "df_emsrl = df_msrl.merge(df_elms, how='inner',\n",
    "                        on = ['age', 'gender', 'los', 'insurance', 'expire_flag', 'marital_status', 'language', 'subject_id'])\n",
    "df_emsrl.name = 'df_emsrl'\n",
    "\n",
    "#Get AUC scores for all previous feature combinations with fully merged data frame\n",
    "for feature_set in previous_features:\n",
    "    classifier_for_features(df_emsrl, feature_set, 10)\n",
    "\n",
    "#Get AUC score using all features\n",
    "# 'age', 'los', 'insurance', 'gender', 'religion', 'language', 'marital_status', and 'ethnicity'\n",
    "emsrl_features = ['age', 'los', 'insurance', 'gender', 'religion', 'language', 'marital_status']\n",
    "classifier_for_features(df_emsrl, emsrl_features, 10)"
   ]
  },
  {
   "cell_type": "markdown",
   "metadata": {},
   "source": [
    "### Part 6: Comparing Best Classifiers"
   ]
  },
  {
   "cell_type": "code",
   "execution_count": 56,
   "metadata": {
    "collapsed": false
   },
   "outputs": [
    {
     "name": "stdout",
     "output_type": "stream",
     "text": [
      "age los insurance : df_msrl \n",
      "GaussianNB : AUC score 0.651737\n",
      "age los insurance : df_msl \n",
      "GaussianNB : AUC score 0.655985\n",
      "age los gender insurance : df_er \n",
      "GaussianNB : AUC score 0.696906\n",
      "age los gender insurance : df_ems \n",
      "GaussianNB : AUC score 0.660839\n",
      "age los insurance : df_emsrl \n",
      "GaussianNB : AUC score 0.647108\n",
      "age los insurance : df_language \n",
      "GaussianNB : AUC score 0.656375\n",
      "age los gender insurance : df_marital_status \n",
      "GaussianNB : AUC score 0.664228\n",
      "age los gender insurance : df_ethnicity \n",
      "GaussianNB : AUC score 0.712921\n",
      "age los gender insurance : df_elms \n",
      "GaussianNB : AUC score 0.648945\n",
      "age los gender insurance : df_erms \n",
      "GaussianNB : AUC score 0.655776\n",
      "age los insurance : df_religion \n",
      "GaussianNB : AUC score 0.699209\n",
      "age los gender insurance : df_rl \n",
      "GaussianNB : AUC score 0.653928\n",
      "age los insurance : df_el \n",
      "GaussianNB : AUC score 0.653921\n",
      "age los insurance : dfmimic \n",
      "GaussianNB : AUC score 0.713758\n",
      "age los gender insurance : df_msr \n",
      "GaussianNB : AUC score 0.661010\n"
     ]
    }
   ],
   "source": [
    "#Find best classifier for each DataFrame\n",
    "for df in best_classifiers:\n",
    "    best_features = max(best_classifiers[df].iterkeys(), key=(lambda key: best_classifiers[df][key][1]))\n",
    "    best_learner, learner_auc_score = best_classifiers[df][best_features][0], best_classifiers[df][best_features][1]\n",
    "    print \"{} : {} \".format(best_features, df)\n",
    "    print \"{} : AUC score {:.6f}\".format(best_learner, learner_auc_score)"
   ]
  },
  {
   "cell_type": "code",
   "execution_count": null,
   "metadata": {
    "collapsed": true
   },
   "outputs": [],
   "source": []
  }
 ],
 "metadata": {
  "kernelspec": {
   "display_name": "Python 2",
   "language": "python",
   "name": "python2"
  },
  "language_info": {
   "codemirror_mode": {
    "name": "ipython",
    "version": 2
   },
   "file_extension": ".py",
   "mimetype": "text/x-python",
   "name": "python",
   "nbconvert_exporter": "python",
   "pygments_lexer": "ipython2",
   "version": "2.7.13"
  }
 },
 "nbformat": 4,
 "nbformat_minor": 2
}
