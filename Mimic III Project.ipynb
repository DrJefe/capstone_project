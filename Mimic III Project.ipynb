{
 "cells": [
  {
   "cell_type": "markdown",
   "metadata": {},
   "source": [
    "<header> Mimic III v1.4 Investigation </header> "
   ]
  },
  {
   "cell_type": "markdown",
   "metadata": {},
   "source": [
    "### Part 1: Import the data\n",
    "\n",
    "All data has been downloaded from the Mimic-III website:\n",
    "\n",
    "MIMIC-III, a freely accessible critical care database. Johnson AEW, Pollard TJ, Shen L, Lehman L, Feng M, Ghassemi M, Moody B, Szolovits P, Celi LA, and Mark RG. Scientific Data (2016). DOI: 10.1038/sdata.2016.35. Available from: http://www.nature.com/articles/sdata201635\n",
    "\n",
    "Access can be granted via PhysioNetWorks:\n",
    "\n",
    "Goldberger AL, Amaral LAN, Glass L, Hausdorff JM, Ivanov PCh, Mark RG, Mietus JE, Moody GB, Peng C-K, Stanley HE. PhysioBank, PhysioToolkit, and PhysioNet: Components of a New Research Resource for Complex Physiologic Signals. Circulation 101(23):e215-e220 [Circulation Electronic Pages; http://circ.ahajournals.org/content/101/23/e215.full]; 2000 (June 13)."
   ]
  },
  {
   "cell_type": "markdown",
   "metadata": {
    "collapsed": true
   },
   "source": [
    "First we need to import the needed modules.  Let us test psycopg2 which will allow us to access our PSQL database using Python."
   ]
  },
  {
   "cell_type": "code",
   "execution_count": 1,
   "metadata": {
    "collapsed": false
   },
   "outputs": [
    {
     "name": "stdout",
     "output_type": "stream",
     "text": [
      "(3.2788,)\n",
      "Length is  61532\n",
      "\n",
      "Rows: \n",
      "\n",
      "Number of rows with no LOS data 10\n",
      "Average Length of Stay is  4.9179715809\n",
      "{'10+ days': 6771, '2-3 days': 9644, '<1 day': 12311, '3-5 days': 8801, '1-2 days': 16901, '5-10 days': 7094}\n"
     ]
    }
   ],
   "source": [
    "#Import necessary modules\n",
    "\n",
    "import psycopg2\n",
    "import psycopg2.extras\n",
    "import pandas as pd\n",
    "import matplotlib.pyplot as plt\n",
    "import numpy as np\n",
    "import seaborn as sns\n",
    "from sklearn.metrics import roc_auc_score, accuracy_score\n",
    "\n",
    "\n",
    "#Connect to PSQL database\n",
    "try:\n",
    "    conn = psycopg2.connect(dbname=\"mimic\", user=\"postgres\", password=\"Postgres89\")\n",
    "except:\n",
    "    print \"I am unable to connect to the database\"\n",
    "\n",
    "#Create cursor to access tables from database    \n",
    "curr = conn.cursor()\n",
    "try:\n",
    "    curr.execute(\"SELECT LOS from ICUSTAYS\")\n",
    "except:\n",
    "    print \"I cannot SELECT from ADMISSIONS\"\n",
    "\n",
    "#Fetch all rows from table    \n",
    "rows = curr.fetchall()\n",
    "print rows[1]\n",
    "rowcount = curr.rowcount\n",
    "print \"Length is \", rowcount\n",
    "print \"\\nRows: \\n\"\n",
    "\n",
    "#Example creating groups of patients based on length of stay (LOS)\n",
    "none_count =0\n",
    "los_sum = 0.\n",
    "los_groups = {\"<1 day\": 0, \"1-2 days\": 0, \"2-3 days\": 0, \"3-5 days\": 0, \"5-10 days\":0, \"10+ days\": 0}\n",
    "for record in rows:\n",
    "    if record[0] is not None:\n",
    "        los_sum = los_sum + record[0]\n",
    "        if record[0] <= 1.0:\n",
    "            los_groups[\"<1 day\"] = los_groups[\"<1 day\"]+1\n",
    "        elif record[0]<=2.0:\n",
    "            los_groups[\"1-2 days\"] = los_groups[\"1-2 days\"]+1\n",
    "        elif record[0]<=3.0:\n",
    "            los_groups[\"2-3 days\"] = los_groups[\"2-3 days\"]+1\n",
    "        elif record[0]<=5.0:\n",
    "            los_groups[\"3-5 days\"] = los_groups[\"3-5 days\"]+1\n",
    "        elif record[0]<=10.0:\n",
    "            los_groups[\"5-10 days\"] = los_groups[\"5-10 days\"]+1\n",
    "        else:\n",
    "            los_groups[\"10+ days\"] = los_groups[\"10+ days\"]+1\n",
    "        \n",
    "    else:\n",
    "        none_count += 1\n",
    "        \n",
    "        \n",
    "los_average = los_sum/(rowcount-none_count)\n",
    "print \"Number of rows with no LOS data\", none_count\n",
    "print \"Average Length of Stay is \", los_average\n",
    "print los_groups\n",
    "\n",
    "#Close cursor after finished accessing table\n",
    "curr.close()"
   ]
  },
  {
   "cell_type": "code",
   "execution_count": 2,
   "metadata": {
    "collapsed": false
   },
   "outputs": [
    {
     "name": "stdout",
     "output_type": "stream",
     "text": [
      "   subject_id  hadm_id           admittime           dischtime deathtime  \\\n",
      "0          22   165315 2196-04-09 12:26:00 2196-04-10 15:54:00      None   \n",
      "1          23   152223 2153-09-03 07:15:00 2153-09-08 19:10:00      None   \n",
      "2          23   124321 2157-10-18 19:34:00 2157-10-25 14:00:00      None   \n",
      "3          24   161859 2139-06-06 16:14:00 2139-06-09 12:48:00      None   \n",
      "4          25   129635 2160-11-02 02:06:00 2160-11-05 14:55:00      None   \n",
      "\n",
      "  insurance language           religion marital_status ethnicity  \n",
      "0   Private     None       UNOBTAINABLE        MARRIED     WHITE  \n",
      "1  Medicare     None           CATHOLIC        MARRIED     WHITE  \n",
      "2  Medicare     ENGL           CATHOLIC        MARRIED     WHITE  \n",
      "3   Private     None  PROTESTANT QUAKER         SINGLE     WHITE  \n",
      "4   Private     None       UNOBTAINABLE        MARRIED     WHITE  \n",
      "58976\n"
     ]
    }
   ],
   "source": [
    "#Access relevant fields from ADMISSIONS table\n",
    "curr2 = conn.cursor()\n",
    "try:\n",
    "    curr2.execute(\"SELECT SUBJECT_ID, HADM_ID, ADMITTIME, DISCHTIME, DEATHTIME, INSURANCE, LANGUAGE, RELIGION, MARITAL_STATUS, ETHNICITY from ADMISSIONS\")\n",
    "except:\n",
    "    print \"I cannot SELECT from ADMISSIONS\"\n",
    "\n",
    "#Get column names for Pandas DataFrame\n",
    "admcolnames = [desc[0] for desc in curr2.description]    \n",
    "#Create Pandas DataFrame\n",
    "dfadm = pd.DataFrame(curr2.fetchall(), columns=admcolnames)\n",
    "#print admcolnames\n",
    "print dfadm.head()\n",
    "print len(dfadm.index)\n",
    "curr2.close()"
   ]
  },
  {
   "cell_type": "code",
   "execution_count": 3,
   "metadata": {
    "collapsed": false
   },
   "outputs": [
    {
     "name": "stdout",
     "output_type": "stream",
     "text": [
      "   subject_id gender        dob        dod  expire_flag\n",
      "0         249      F 2075-03-13        NaT            0\n",
      "1         250      F 2164-12-27 2188-11-22            1\n",
      "2         251      M 2090-03-15        NaT            0\n",
      "3         252      M 2078-03-06        NaT            0\n",
      "4         253      F 2089-11-26        NaT            0\n",
      "46520\n"
     ]
    }
   ],
   "source": [
    "#Access relevant fields from PATIENTS table\n",
    "curr3 = conn.cursor()\n",
    "try:\n",
    "    curr3.execute(\"SELECT SUBJECT_ID, GENDER, DOB, DOD, EXPIRE_FLAG from PATIENTS\")\n",
    "except:\n",
    "    print \"I cannot SELECT from PATIENTS\"\n",
    "\n",
    "#Create PATIENTS DataFrame\n",
    "patcolnames = [desc[0] for desc in curr3.description]\n",
    "dfpat = pd.DataFrame(curr3.fetchall(), columns=patcolnames)\n",
    "print dfpat.head()\n",
    "print len(dfpat.index)\n",
    "curr3.close()"
   ]
  },
  {
   "cell_type": "code",
   "execution_count": 4,
   "metadata": {
    "collapsed": false
   },
   "outputs": [
    {
     "name": "stdout",
     "output_type": "stream",
     "text": [
      "   subject_id gender        dob        dod  expire_flag  hadm_id  \\\n",
      "0         249      F 2075-03-13        NaT            0   116935   \n",
      "1         249      F 2075-03-13        NaT            0   149546   \n",
      "2         249      F 2075-03-13        NaT            0   158975   \n",
      "3         250      F 2164-12-27 2188-11-22            1   124271   \n",
      "4         251      M 2090-03-15        NaT            0   117937   \n",
      "\n",
      "            admittime           dischtime            deathtime insurance  \\\n",
      "0 2149-12-17 20:41:00 2149-12-31 14:55:00                 None  Medicare   \n",
      "1 2155-02-03 20:16:00 2155-02-14 11:15:00                 None  Medicare   \n",
      "2 2156-04-27 15:33:00 2156-05-14 15:30:00                 None  Medicare   \n",
      "3 2188-11-12 09:22:00 2188-11-22 12:00:00  2188-11-22 12:00:00  Self Pay   \n",
      "4 2110-07-27 06:46:00 2110-07-29 15:23:00                 None   Private   \n",
      "\n",
      "  language       religion marital_status               ethnicity  \n",
      "0     None       CATHOLIC       DIVORCED                   WHITE  \n",
      "1     ENGL       CATHOLIC       DIVORCED                   WHITE  \n",
      "2     ENGL       CATHOLIC       DIVORCED                   WHITE  \n",
      "3     HAIT  NOT SPECIFIED         SINGLE  BLACK/AFRICAN AMERICAN  \n",
      "4     None          OTHER           None   UNKNOWN/NOT SPECIFIED  \n",
      "58976\n"
     ]
    }
   ],
   "source": [
    "#Merge ADMISSIONS and PATIENTS table\n",
    "dfadmpat = dfpat.merge(dfadm, how='inner', on=\"subject_id\")\n",
    "print dfadmpat.head(n=5)\n",
    "print len(dfadmpat.index)"
   ]
  },
  {
   "cell_type": "code",
   "execution_count": 5,
   "metadata": {
    "collapsed": false
   },
   "outputs": [
    {
     "name": "stdout",
     "output_type": "stream",
     "text": [
      "61532\n",
      "   subject_id  hadm_id     los\n",
      "0         268   110404  3.2490\n",
      "1         269   106296  3.2788\n",
      "2         270   188028  2.8939\n",
      "3         271   173727  2.0600\n",
      "4         272   164716  1.6202\n",
      "61532\n",
      "57786\n",
      "46476\n"
     ]
    }
   ],
   "source": [
    "#Access relevant fields from ICUSTAYS table\n",
    "curr4 = conn.cursor()\n",
    "try:\n",
    "    curr4.execute(\"SELECT SUBJECT_ID, HADM_ID, LOS from ICUSTAYS\")\n",
    "except:\n",
    "    print \"I cannot SELECT from ICUSTAYS\"\n",
    "\n",
    "#Create ICUSTAYS DataFrame    \n",
    "icucolnames = [desc[0] for desc in curr4.description]\n",
    "dficu = pd.DataFrame(curr4.fetchall(), columns=icucolnames)\n",
    "print len(dficu.index)\n",
    "print dficu.head()\n",
    "\n",
    "#Merge \n",
    "dfmimic = dfadmpat.merge(dficu, how=\"inner\", on=['hadm_id', 'subject_id'])\n",
    "print len(dfmimic.index)\n",
    "#Drop duplicate data, it can be assumed if there are multiple admissions\n",
    "#of the same patient, they will have survived the earlier admissions.\n",
    "dfmimic.drop_duplicates('hadm_id', inplace=True) #Drop duplicate hospital admission data\n",
    "print len(dfmimic.index)\n",
    "dfmimic.drop_duplicates('subject_id', keep='last', inplace=True) #Drop duplicate subject data\n",
    "print len(dfmimic.index)\n",
    "\n",
    "\n",
    "\n",
    "curr4.close()"
   ]
  },
  {
   "cell_type": "markdown",
   "metadata": {},
   "source": [
    "Let's get counts by gender ('M' or 'F') and whether they lived or died."
   ]
  },
  {
   "cell_type": "code",
   "execution_count": 6,
   "metadata": {
    "collapsed": false,
    "scrolled": true
   },
   "outputs": [
    {
     "name": "stdout",
     "output_type": "stream",
     "text": [
      "46476\n",
      "    subject_id gender        dob        dod  expire_flag  hadm_id  \\\n",
      "3          249      F 2075-03-13        NaT            0   158975   \n",
      "5          250      F 2164-12-27 2188-11-22            1   124271   \n",
      "6          251      M 2090-03-15        NaT            0   117937   \n",
      "8          252      M 2078-03-06        NaT            0   193470   \n",
      "9          253      F 2089-11-26        NaT            0   176189   \n",
      "10         255      M 2109-08-05        NaT            0   112013   \n",
      "14         256      M 2086-07-31        NaT            0   108811   \n",
      "16         257      F 2031-04-03 2121-07-08            1   179006   \n",
      "17         258      F 2124-09-19        NaT            0   189406   \n",
      "20         261      M 2025-08-04 2102-06-29            1   118523   \n",
      "\n",
      "             admittime           dischtime            deathtime insurance  \\\n",
      "3  2156-04-27 15:33:00 2156-05-14 15:30:00                 None  Medicare   \n",
      "5  2188-11-12 09:22:00 2188-11-22 12:00:00  2188-11-22 12:00:00  Self Pay   \n",
      "6  2110-07-27 06:46:00 2110-07-29 15:23:00                 None   Private   \n",
      "8  2133-08-15 04:23:00 2133-08-19 17:30:00                 None   Private   \n",
      "9  2174-01-21 20:58:00 2174-01-26 16:15:00                 None  Medicare   \n",
      "10 2187-02-12 10:30:00 2187-02-15 10:30:00                 None  Medicare   \n",
      "14 2170-08-16 13:55:00 2170-08-22 18:00:00                 None  Medicare   \n",
      "16 2112-12-20 20:45:00 2112-12-23 17:00:00                 None  Medicare   \n",
      "17 2124-09-19 03:59:00 2124-09-22 15:52:00                 None   Private   \n",
      "20 2101-12-27 01:50:00 2102-01-12 13:39:00                 None  Medicare   \n",
      "\n",
      "   language       religion marital_status               ethnicity      los  \n",
      "3      ENGL       CATHOLIC       DIVORCED                   WHITE   2.0233  \n",
      "5      HAIT  NOT SPECIFIED         SINGLE  BLACK/AFRICAN AMERICAN  10.6659  \n",
      "6      None          OTHER           None   UNKNOWN/NOT SPECIFIED   1.6671  \n",
      "8      None   UNOBTAINABLE         SINGLE                   WHITE   2.5708  \n",
      "9      None       CATHOLIC        WIDOWED                   WHITE   1.6861  \n",
      "10     ENGL  NOT SPECIFIED        MARRIED                   WHITE   1.8769  \n",
      "14     ENGL  NOT SPECIFIED        MARRIED                   WHITE   0.0044  \n",
      "16     None       CATHOLIC        WIDOWED                   WHITE   0.8646  \n",
      "17     None  NOT SPECIFIED           None                   ASIAN   1.5231  \n",
      "20     None          OTHER        MARRIED                   WHITE   3.7868  \n",
      "gender\n",
      "F    7224\n",
      "M    8513\n",
      "Name: expire_flag, dtype: int64\n",
      "gender  expire_flag\n",
      "F       0              13156\n",
      "        1               7224\n",
      "M       0              17583\n",
      "        1               8513\n",
      "Name: expire_flag, dtype: int64\n",
      "15737\n",
      "0    30739\n",
      "1    15737\n",
      "Name: expire_flag, dtype: int64\n"
     ]
    }
   ],
   "source": [
    "print len(dfmimic.index)\n",
    "\n",
    "#Group by gender\n",
    "mimic_by_gender = dfmimic.groupby('gender') #DataFrame grouped by gender\n",
    "print mimic_by_gender.head()\n",
    "print mimic_by_gender['expire_flag'].sum() #Sum of deaths\n",
    "print mimic_by_gender['expire_flag'].value_counts() #Counts of deaths vs no deaths by gender\n",
    "print dfmimic['expire_flag'].sum()\n",
    "print dfmimic['expire_flag'].value_counts(dropna = False)"
   ]
  },
  {
   "cell_type": "markdown",
   "metadata": {},
   "source": [
    "We can see that our table contains data for 30739 patients that survived their stay in the ICU and 15737 patients who died in the ICU.\n",
    "Let's create a benchmark model for the data that will guess all patients survived.  We will use scikit-learn's AUC function to compute the area under the curve.  "
   ]
  },
  {
   "cell_type": "code",
   "execution_count": 7,
   "metadata": {
    "collapsed": false
   },
   "outputs": [
    {
     "name": "stdout",
     "output_type": "stream",
     "text": [
      "0.5\n",
      "1.0\n"
     ]
    }
   ],
   "source": [
    "#Create NumPy array predicted all '1's for patient survival\n",
    "mimic_length = len(dfmimic.index)\n",
    "y_scores = np.ones(mimic_length, dtype=np.int)\n",
    "y_true = dfmimic['expire_flag']\n",
    "print roc_auc_score(y_true, y_scores)\n",
    "print roc_auc_score(y_true, y_true)\n",
    "\n",
    " \n"
   ]
  },
  {
   "cell_type": "markdown",
   "metadata": {},
   "source": [
    "Now we can find the patient's age on admission by subtracting the patient's date of birth ('dob') from the hospital's admission date ('admittime').  Patient's will be grouped by aging similarly to how the CDC grouped patient's in the National Hospital Discharge Survey 2000-2010: https://www.cdc.gov/nchs/data/databriefs/db118.htm#x2013;2010%3C/a%3E%20"
   ]
  },
  {
   "cell_type": "code",
   "execution_count": 8,
   "metadata": {
    "collapsed": false
   },
   "outputs": [
    {
     "name": "stdout",
     "output_type": "stream",
     "text": [
      "Under 45 years       13620\n",
      "45-64 years          12833\n",
      "75-84 years           8080\n",
      "65-74 years           7678\n",
      "85 years and over     4265\n",
      "Name: age, dtype: int64\n",
      "   subject_id gender        dob        dod  expire_flag  hadm_id  \\\n",
      "3         249      F 2075-03-13        NaT            0   158975   \n",
      "5         250      F 2164-12-27 2188-11-22            1   124271   \n",
      "6         251      M 2090-03-15        NaT            0   117937   \n",
      "8         252      M 2078-03-06        NaT            0   193470   \n",
      "9         253      F 2089-11-26        NaT            0   176189   \n",
      "\n",
      "            admittime           dischtime            deathtime insurance  \\\n",
      "3 2156-04-27 15:33:00 2156-05-14 15:30:00                 None  Medicare   \n",
      "5 2188-11-12 09:22:00 2188-11-22 12:00:00  2188-11-22 12:00:00  Self Pay   \n",
      "6 2110-07-27 06:46:00 2110-07-29 15:23:00                 None   Private   \n",
      "8 2133-08-15 04:23:00 2133-08-19 17:30:00                 None   Private   \n",
      "9 2174-01-21 20:58:00 2174-01-26 16:15:00                 None  Medicare   \n",
      "\n",
      "  language       religion marital_status               ethnicity      los  \\\n",
      "3     ENGL       CATHOLIC       DIVORCED                   WHITE   2.0233   \n",
      "5     HAIT  NOT SPECIFIED         SINGLE  BLACK/AFRICAN AMERICAN  10.6659   \n",
      "6     None          OTHER           None   UNKNOWN/NOT SPECIFIED   1.6671   \n",
      "8     None   UNOBTAINABLE         SINGLE                   WHITE   2.5708   \n",
      "9     None       CATHOLIC        WIDOWED                   WHITE   1.6861   \n",
      "\n",
      "              age  \n",
      "3     75-84 years  \n",
      "5  Under 45 years  \n",
      "6  Under 45 years  \n",
      "8     45-64 years  \n",
      "9     75-84 years  \n"
     ]
    }
   ],
   "source": [
    "from datetime import timedelta\n",
    "\n",
    "def groupage(admittime, dob):\n",
    "    '''\n",
    "    inputs:\n",
    "        -admittime: A datetime value of when the patient was admitted to the ICU\n",
    "        -dob: A datetime value of the patient's Date of Birth\n",
    "    output:\n",
    "        The group a patient belongs to based on the difference between admittime and dob\n",
    "    '''\n",
    "    age_in_years = (admittime-dob)\n",
    "    #Group ages based on CDC grouping\n",
    "    if age_in_years >= timedelta(85*365.242):\n",
    "        return '85 years and over'\n",
    "    elif age_in_years >= timedelta(75*365.242):\n",
    "        return '75-84 years'\n",
    "    elif age_in_years >= timedelta(65*365.242):\n",
    "        return '65-74 years'\n",
    "    elif age_in_years >= timedelta(45*365.242):\n",
    "        return '45-64 years'\n",
    "    else:\n",
    "        return 'Under 45 years'\n",
    "    \n",
    "\n",
    "dfmimic['age'] = dfmimic.apply(lambda row: groupage(row['admittime'], row['dob']), axis=1)\n",
    "print dfmimic['age'].value_counts()\n",
    "print dfmimic.head()    \n",
    "    \n",
    "    "
   ]
  },
  {
   "cell_type": "markdown",
   "metadata": {},
   "source": [
    "Just as patient's were grouped into different age groups, patients will now be grouped by length of ICU stay based the CDC's National Hospital Discharge Survey 2000-2010: https://www.cdc.gov/nchs/data/databriefs/db118.htm#x2013;2010%3C/a%3E%20"
   ]
  },
  {
   "cell_type": "code",
   "execution_count": 9,
   "metadata": {
    "collapsed": false
   },
   "outputs": [
    {
     "name": "stdout",
     "output_type": "stream",
     "text": [
      "1 day              23078\n",
      "2-3 days           10733\n",
      "10 or more days     5171\n",
      "4-5 days            4039\n",
      "6-7 days            2127\n",
      "8-9 days            1328\n",
      "Name: los, dtype: int64\n"
     ]
    }
   ],
   "source": [
    "def grouplos(los):\n",
    "    '''\n",
    "    inputs:\n",
    "        -los: patient length of stay in ICU\n",
    "    outputs: \n",
    "        Group based on patient length of stay\n",
    "    '''\n",
    "    if los >= 10:\n",
    "        return '10 or more days'\n",
    "    elif los >= 8:\n",
    "        return '8-9 days'\n",
    "    elif los >= 6:\n",
    "        return '6-7 days'\n",
    "    elif los >= 4:\n",
    "        return '4-5 days'\n",
    "    elif los >= 2:\n",
    "        return '2-3 days'\n",
    "    else:\n",
    "        return '1 day'\n",
    "\n",
    "dfmimic['los'] = dfmimic.apply(lambda row: grouplos(row['los']), axis=1)\n",
    "print dfmimic['los'].value_counts()\n",
    "    "
   ]
  },
  {
   "cell_type": "markdown",
   "metadata": {},
   "source": [
    "Let's visualize the data using matplotlib"
   ]
  },
  {
   "cell_type": "code",
   "execution_count": 10,
   "metadata": {
    "collapsed": false
   },
   "outputs": [
    {
     "data": {
      "text/plain": [
       "'\\nN=2\\ndiemw = (mendie, womdie)\\nlivemw = (menlive, womlive)\\n\\nind = np.arange(N) #x locations for bars\\nwidth = 0.35 #width of bars\\n\\nfig, ax = plt.subplots()\\nrects1 = ax.bar(ind, diemw, width, color=\\'r\\')\\nrects2 = ax.bar(ind+width, livemw, width, color=\\'g\\')\\n\\n#Label axes and graph\\nax.set_ylabel(\\'Number of Patients\\')\\nax.set_title(\\'Patient deaths by Gender\\')\\nax.set_xticks(ind + width / 2)\\nax.set_xticklabels((\\'Men\\', \\'Women\\'))\\n\\nax.legend((rects1[0], rects2[0]), (\\'Deaths\\', \\'Lives\\'))\\n\\ndef autolabel(rects):\\n    \"\"\"\\n    Attach a text label above each bar displaying its height\\n    \"\"\"\\n    for rect in rects:\\n        height = rect.get_height()\\n        ax.text(rect.get_x() + rect.get_width()/2., 1.05*height,\\n                \\'%d\\' % int(height),\\n                ha=\\'center\\', va=\\'bottom\\')\\n        \\nautolabel(rects1)\\nautolabel(rects2)\\n\\nplt.show()\\n'"
      ]
     },
     "execution_count": 10,
     "metadata": {},
     "output_type": "execute_result"
    }
   ],
   "source": [
    "\n",
    "'''\n",
    "N=2\n",
    "diemw = (mendie, womdie)\n",
    "livemw = (menlive, womlive)\n",
    "\n",
    "ind = np.arange(N) #x locations for bars\n",
    "width = 0.35 #width of bars\n",
    "\n",
    "fig, ax = plt.subplots()\n",
    "rects1 = ax.bar(ind, diemw, width, color='r')\n",
    "rects2 = ax.bar(ind+width, livemw, width, color='g')\n",
    "\n",
    "#Label axes and graph\n",
    "ax.set_ylabel('Number of Patients')\n",
    "ax.set_title('Patient deaths by Gender')\n",
    "ax.set_xticks(ind + width / 2)\n",
    "ax.set_xticklabels(('Men', 'Women'))\n",
    "\n",
    "ax.legend((rects1[0], rects2[0]), ('Deaths', 'Lives'))\n",
    "\n",
    "def autolabel(rects):\n",
    "    \"\"\"\n",
    "    Attach a text label above each bar displaying its height\n",
    "    \"\"\"\n",
    "    for rect in rects:\n",
    "        height = rect.get_height()\n",
    "        ax.text(rect.get_x() + rect.get_width()/2., 1.05*height,\n",
    "                '%d' % int(height),\n",
    "                ha='center', va='bottom')\n",
    "        \n",
    "autolabel(rects1)\n",
    "autolabel(rects2)\n",
    "\n",
    "plt.show()\n",
    "'''"
   ]
  },
  {
   "cell_type": "markdown",
   "metadata": {},
   "source": [
    "Now let us create a dataframe with the feature we will want to train our model on"
   ]
  },
  {
   "cell_type": "code",
   "execution_count": 11,
   "metadata": {
    "collapsed": false
   },
   "outputs": [
    {
     "name": "stdout",
     "output_type": "stream",
     "text": [
      "  gender               ethnicity marital_status insurance language  \\\n",
      "3      F                   WHITE       DIVORCED  Medicare     ENGL   \n",
      "5      F  BLACK/AFRICAN AMERICAN         SINGLE  Self Pay     HAIT   \n",
      "6      M   UNKNOWN/NOT SPECIFIED           None   Private     None   \n",
      "8      M                   WHITE         SINGLE   Private     None   \n",
      "9      F                   WHITE        WIDOWED  Medicare     None   \n",
      "\n",
      "        religion  expire_flag              los             age  \n",
      "3       CATHOLIC            0         2-3 days     75-84 years  \n",
      "5  NOT SPECIFIED            1  10 or more days  Under 45 years  \n",
      "6          OTHER            0            1 day  Under 45 years  \n",
      "8   UNOBTAINABLE            0         2-3 days     45-64 years  \n",
      "9       CATHOLIC            0            1 day     75-84 years  \n"
     ]
    }
   ],
   "source": [
    "dffeatures = dfmimic[['gender', 'ethnicity', 'marital_status', 'insurance', 'language', 'religion', 'expire_flag', 'los', 'age']]\n",
    "expire = dfmimic['expire_flag']\n",
    "print dffeatures.head()"
   ]
  },
  {
   "cell_type": "code",
   "execution_count": 12,
   "metadata": {
    "collapsed": false
   },
   "outputs": [],
   "source": [
    "#CDC reports average LOS for patients who died was 7.9 days\n",
    "#Control for LOS greater than inpatient death average\n",
    "#print dffeatures['expire_flag'].value_counts(dropna=False)\n",
    "#dffeatures = dffeatures[dffeatures.los >= 10]\n",
    "#print dffeatures['expire_flag'].value_counts(dropna=False)"
   ]
  },
  {
   "cell_type": "code",
   "execution_count": 13,
   "metadata": {
    "collapsed": false
   },
   "outputs": [
    {
     "name": "stdout",
     "output_type": "stream",
     "text": [
      "M    26096\n",
      "F    20380\n",
      "Name: gender, dtype: int64\n",
      "WHITE                                                       32080\n",
      "UNKNOWN/NOT SPECIFIED                                        4132\n",
      "BLACK/AFRICAN AMERICAN                                       3585\n",
      "HISPANIC OR LATINO                                           1336\n",
      "ASIAN                                                        1297\n",
      "OTHER                                                        1288\n",
      "UNABLE TO OBTAIN                                              787\n",
      "PATIENT DECLINED TO ANSWER                                    488\n",
      "ASIAN - CHINESE                                               230\n",
      "BLACK/CAPE VERDEAN                                            167\n",
      "HISPANIC/LATINO - PUERTO RICAN                                153\n",
      "WHITE - RUSSIAN                                               118\n",
      "MULTI RACE ETHNICITY                                          109\n",
      "BLACK/HAITIAN                                                  75\n",
      "WHITE - OTHER EUROPEAN                                         71\n",
      "HISPANIC/LATINO - DOMINICAN                                    64\n",
      "ASIAN - ASIAN INDIAN                                           58\n",
      "WHITE - BRAZILIAN                                              45\n",
      "AMERICAN INDIAN/ALASKA NATIVE                                  44\n",
      "ASIAN - VIETNAMESE                                             41\n",
      "PORTUGUESE                                                     40\n",
      "BLACK/AFRICAN                                                  33\n",
      "MIDDLE EASTERN                                                 28\n",
      "HISPANIC/LATINO - GUATEMALAN                                   26\n",
      "WHITE - EASTERN EUROPEAN                                       22\n",
      "HISPANIC/LATINO - CUBAN                                        16\n",
      "HISPANIC/LATINO - SALVADORAN                                   15\n",
      "ASIAN - FILIPINO                                               15\n",
      "ASIAN - OTHER                                                  15\n",
      "NATIVE HAWAIIAN OR OTHER PACIFIC ISLANDER                      15\n",
      "ASIAN - KOREAN                                                 12\n",
      "ASIAN - CAMBODIAN                                              11\n",
      "HISPANIC/LATINO - MEXICAN                                      11\n",
      "HISPANIC/LATINO - CENTRAL AMERICAN (OTHER)                      9\n",
      "SOUTH AMERICAN                                                  8\n",
      "CARIBBEAN ISLAND                                                8\n",
      "HISPANIC/LATINO - COLOMBIAN                                     8\n",
      "ASIAN - JAPANESE                                                7\n",
      "HISPANIC/LATINO - HONDURAN                                      4\n",
      "ASIAN - THAI                                                    3\n",
      "AMERICAN INDIAN/ALASKA NATIVE FEDERALLY RECOGNIZED TRIBE        2\n",
      "Name: ethnicity, dtype: int64\n",
      "MARRIED              18475\n",
      "NaN                   9757\n",
      "SINGLE                9756\n",
      "WIDOWED               5456\n",
      "DIVORCED              2329\n",
      "SEPARATED              383\n",
      "UNKNOWN (DEFAULT)      307\n",
      "LIFE PARTNER            13\n",
      "Name: marital_status, dtype: int64\n",
      "Medicare      20874\n",
      "Private       19165\n",
      "Medicaid       4373\n",
      "Government     1497\n",
      "Self Pay        567\n",
      "Name: insurance, dtype: int64\n",
      "ENGL    21733\n",
      "NaN     21341\n",
      "SPAN      800\n",
      "RUSS      531\n",
      "PTUN      522\n",
      "CANT      320\n",
      "PORT      274\n",
      "CAPE      201\n",
      "MAND      135\n",
      "HAIT      106\n",
      "ITAL       80\n",
      "VIET       69\n",
      "GREE       55\n",
      "ARAB       28\n",
      "PERS       24\n",
      "HIND       23\n",
      "POLI       23\n",
      "CAMB       22\n",
      "AMER       22\n",
      "KORE       20\n",
      "ALBA       15\n",
      "FREN       13\n",
      "THAI        9\n",
      "*ARM        8\n",
      "*BEN        7\n",
      "LAOT        6\n",
      "ETHI        6\n",
      "SOMA        6\n",
      "*CDI        4\n",
      "*URD        4\n",
      "        ...  \n",
      "*AMH        2\n",
      "*TOY        1\n",
      "*LIT        1\n",
      "*FAR        1\n",
      "*BOS        1\n",
      "*MOR        1\n",
      "*PER        1\n",
      "*PHI        1\n",
      "*TAM        1\n",
      "** T        1\n",
      "*NEP        1\n",
      "* FU        1\n",
      "*KHM        1\n",
      "* BE        1\n",
      "*SPA        1\n",
      "**SH        1\n",
      "*RUS        1\n",
      "SERB        1\n",
      "*YOR        1\n",
      "*DEA        1\n",
      "BENG        1\n",
      "*PUN        1\n",
      "*CAN        1\n",
      "*FIL        1\n",
      "*FUL        1\n",
      "*ROM        1\n",
      "GERM        1\n",
      "*CRE        1\n",
      "*MAN        1\n",
      "*ARA        1\n",
      "Name: language, dtype: int64\n",
      "CATHOLIC                  15701\n",
      "NOT SPECIFIED              9538\n",
      "UNOBTAINABLE               7647\n",
      "PROTESTANT QUAKER          5127\n",
      "JEWISH                     3835\n",
      "OTHER                      2089\n",
      "EPISCOPALIAN                593\n",
      "NaN                         434\n",
      "CHRISTIAN SCIENTIST         361\n",
      "GREEK ORTHODOX              325\n",
      "BUDDHIST                    196\n",
      "MUSLIM                      157\n",
      "UNITARIAN-UNIVERSALIST      104\n",
      "JEHOVAH'S WITNESS           104\n",
      "HINDU                       101\n",
      "ROMANIAN EAST. ORTH          68\n",
      "7TH DAY ADVENTIST            55\n",
      "BAPTIST                      20\n",
      "HEBREW                       14\n",
      "METHODIST                     6\n",
      "LUTHERAN                      1\n",
      "Name: religion, dtype: int64\n",
      "0    30739\n",
      "1    15737\n",
      "Name: expire_flag, dtype: int64\n",
      "1 day              23078\n",
      "2-3 days           10733\n",
      "10 or more days     5171\n",
      "4-5 days            4039\n",
      "6-7 days            2127\n",
      "8-9 days            1328\n",
      "Name: los, dtype: int64\n",
      "Under 45 years       13620\n",
      "45-64 years          12833\n",
      "75-84 years           8080\n",
      "65-74 years           7678\n",
      "85 years and over     4265\n",
      "Name: age, dtype: int64\n"
     ]
    }
   ],
   "source": [
    "for column in dffeatures:\n",
    "    print dffeatures[column].value_counts(dropna=False)\n",
    "\n"
   ]
  },
  {
   "cell_type": "markdown",
   "metadata": {},
   "source": [
    "Since we will only be looking at rows containing known values, we will clean up our dataframe by removing any rows missing data."
   ]
  },
  {
   "cell_type": "code",
   "execution_count": 14,
   "metadata": {
    "collapsed": false
   },
   "outputs": [
    {
     "name": "stdout",
     "output_type": "stream",
     "text": [
      "M    13463\n",
      "F    10521\n",
      "Name: gender, dtype: int64\n",
      "WHITE                                                       17643\n",
      "BLACK/AFRICAN AMERICAN                                       1977\n",
      "HISPANIC OR LATINO                                            799\n",
      "OTHER                                                         584\n",
      "UNKNOWN/NOT SPECIFIED                                         516\n",
      "UNABLE TO OBTAIN                                              469\n",
      "ASIAN                                                         459\n",
      "PATIENT DECLINED TO ANSWER                                    243\n",
      "ASIAN - CHINESE                                               195\n",
      "BLACK/CAPE VERDEAN                                            161\n",
      "HISPANIC/LATINO - PUERTO RICAN                                142\n",
      "WHITE - RUSSIAN                                               115\n",
      "MULTI RACE ETHNICITY                                           75\n",
      "BLACK/HAITIAN                                                  70\n",
      "HISPANIC/LATINO - DOMINICAN                                    63\n",
      "WHITE - OTHER EUROPEAN                                         63\n",
      "ASIAN - ASIAN INDIAN                                           51\n",
      "WHITE - BRAZILIAN                                              42\n",
      "PORTUGUESE                                                     37\n",
      "ASIAN - VIETNAMESE                                             37\n",
      "BLACK/AFRICAN                                                  28\n",
      "HISPANIC/LATINO - GUATEMALAN                                   25\n",
      "MIDDLE EASTERN                                                 25\n",
      "WHITE - EASTERN EUROPEAN                                       20\n",
      "HISPANIC/LATINO - CUBAN                                        16\n",
      "HISPANIC/LATINO - SALVADORAN                                   14\n",
      "ASIAN - FILIPINO                                               13\n",
      "AMERICAN INDIAN/ALASKA NATIVE                                  12\n",
      "ASIAN - CAMBODIAN                                              11\n",
      "ASIAN - KOREAN                                                 11\n",
      "ASIAN - OTHER                                                  10\n",
      "HISPANIC/LATINO - MEXICAN                                       9\n",
      "CARIBBEAN ISLAND                                                8\n",
      "HISPANIC/LATINO - COLOMBIAN                                     8\n",
      "HISPANIC/LATINO - CENTRAL AMERICAN (OTHER)                      7\n",
      "SOUTH AMERICAN                                                  7\n",
      "ASIAN - JAPANESE                                                6\n",
      "NATIVE HAWAIIAN OR OTHER PACIFIC ISLANDER                       4\n",
      "HISPANIC/LATINO - HONDURAN                                      4\n",
      "ASIAN - THAI                                                    3\n",
      "AMERICAN INDIAN/ALASKA NATIVE FEDERALLY RECOGNIZED TRIBE        2\n",
      "Name: ethnicity, dtype: int64\n",
      "MARRIED              11832\n",
      "SINGLE                6777\n",
      "WIDOWED               3405\n",
      "DIVORCED              1570\n",
      "SEPARATED              251\n",
      "UNKNOWN (DEFAULT)      136\n",
      "LIFE PARTNER            13\n",
      "Name: marital_status, dtype: int64\n",
      "Medicare      12793\n",
      "Private        7857\n",
      "Medicaid       2303\n",
      "Government      790\n",
      "Self Pay        241\n",
      "Name: insurance, dtype: int64\n",
      "ENGL    20905\n",
      "SPAN      734\n",
      "RUSS      515\n",
      "PTUN      468\n",
      "CANT      283\n",
      "PORT      219\n",
      "CAPE      179\n",
      "MAND      106\n",
      "HAIT       96\n",
      "ITAL       76\n",
      "VIET       64\n",
      "GREE       52\n",
      "ARAB       26\n",
      "PERS       23\n",
      "POLI       23\n",
      "CAMB       22\n",
      "HIND       20\n",
      "KORE       19\n",
      "AMER       19\n",
      "ALBA       14\n",
      "FREN        9\n",
      "THAI        9\n",
      "*ARM        7\n",
      "*BEN        6\n",
      "LAOT        6\n",
      "SOMA        6\n",
      "ETHI        5\n",
      "*CDI        4\n",
      "*URD        4\n",
      "*GUJ        4\n",
      "        ...  \n",
      "*BUL        2\n",
      "*LEB        2\n",
      "*DUT        2\n",
      "*PER        1\n",
      "*TAM        1\n",
      "BENG        1\n",
      "*MOR        1\n",
      "*DEA        1\n",
      "*LIT        1\n",
      "*KHM        1\n",
      "** T        1\n",
      "*TOY        1\n",
      "*CAN        1\n",
      "*YOR        1\n",
      "**SH        1\n",
      "*FIL        1\n",
      "*FUL        1\n",
      "*NEP        1\n",
      "* BE        1\n",
      "*ARA        1\n",
      "GERM        1\n",
      "*RUS        1\n",
      "*BOS        1\n",
      "*TEL        1\n",
      "*CRE        1\n",
      "*MAN        1\n",
      "*PUN        1\n",
      "* FU        1\n",
      "*PHI        1\n",
      "*FAR        1\n",
      "Name: language, dtype: int64\n",
      "CATHOLIC                  8801\n",
      "NOT SPECIFIED             6287\n",
      "PROTESTANT QUAKER         2955\n",
      "JEWISH                    2130\n",
      "UNOBTAINABLE              1735\n",
      "OTHER                      898\n",
      "EPISCOPALIAN               331\n",
      "GREEK ORTHODOX             194\n",
      "CHRISTIAN SCIENTIST        192\n",
      "BUDDHIST                   127\n",
      "MUSLIM                      85\n",
      "JEHOVAH'S WITNESS           63\n",
      "UNITARIAN-UNIVERSALIST      59\n",
      "HINDU                       49\n",
      "ROMANIAN EAST. ORTH         42\n",
      "7TH DAY ADVENTIST           34\n",
      "BAPTIST                      1\n",
      "HEBREW                       1\n",
      "Name: religion, dtype: int64\n",
      "0    16420\n",
      "1     7564\n",
      "Name: expire_flag, dtype: int64\n",
      "1 day              12161\n",
      "2-3 days            6348\n",
      "4-5 days            2218\n",
      "10 or more days     1650\n",
      "6-7 days            1002\n",
      "8-9 days             605\n",
      "Name: los, dtype: int64\n",
      "45-64 years          8233\n",
      "65-74 years          4804\n",
      "75-84 years          4723\n",
      "Under 45 years       3564\n",
      "85 years and over    2660\n",
      "Name: age, dtype: int64\n"
     ]
    }
   ],
   "source": [
    "#Drop rows containing NaN values\n",
    "dffeatures_clean = dffeatures.dropna()\n",
    "for column in dffeatures_clean:\n",
    "    print dffeatures_clean[column].value_counts(dropna=False)\n",
    "\n"
   ]
  },
  {
   "cell_type": "code",
   "execution_count": 15,
   "metadata": {
    "collapsed": false
   },
   "outputs": [
    {
     "name": "stdout",
     "output_type": "stream",
     "text": [
      "M    11897\n",
      "F     9448\n",
      "Name: gender, dtype: int64\n",
      "WHITE                                                       16655\n",
      "BLACK/AFRICAN AMERICAN                                       1857\n",
      "HISPANIC OR LATINO                                            729\n",
      "OTHER                                                         521\n",
      "ASIAN                                                         376\n",
      "ASIAN - CHINESE                                               173\n",
      "BLACK/CAPE VERDEAN                                            154\n",
      "HISPANIC/LATINO - PUERTO RICAN                                136\n",
      "WHITE - RUSSIAN                                               109\n",
      "MULTI RACE ETHNICITY                                           71\n",
      "BLACK/HAITIAN                                                  64\n",
      "WHITE - OTHER EUROPEAN                                         59\n",
      "HISPANIC/LATINO - DOMINICAN                                    58\n",
      "ASIAN - ASIAN INDIAN                                           48\n",
      "WHITE - BRAZILIAN                                              39\n",
      "PORTUGUESE                                                     37\n",
      "ASIAN - VIETNAMESE                                             34\n",
      "BLACK/AFRICAN                                                  28\n",
      "MIDDLE EASTERN                                                 22\n",
      "HISPANIC/LATINO - GUATEMALAN                                   21\n",
      "WHITE - EASTERN EUROPEAN                                       18\n",
      "HISPANIC/LATINO - SALVADORAN                                   14\n",
      "HISPANIC/LATINO - CUBAN                                        13\n",
      "ASIAN - FILIPINO                                               13\n",
      "ASIAN - CAMBODIAN                                              11\n",
      "ASIAN - KOREAN                                                 11\n",
      "AMERICAN INDIAN/ALASKA NATIVE                                  10\n",
      "HISPANIC/LATINO - MEXICAN                                       9\n",
      "ASIAN - OTHER                                                   9\n",
      "CARIBBEAN ISLAND                                                8\n",
      "HISPANIC/LATINO - COLOMBIAN                                     8\n",
      "HISPANIC/LATINO - CENTRAL AMERICAN (OTHER)                      7\n",
      "SOUTH AMERICAN                                                  7\n",
      "ASIAN - JAPANESE                                                5\n",
      "HISPANIC/LATINO - HONDURAN                                      4\n",
      "ASIAN - THAI                                                    3\n",
      "AMERICAN INDIAN/ALASKA NATIVE FEDERALLY RECOGNIZED TRIBE        2\n",
      "NATIVE HAWAIIAN OR OTHER PACIFIC ISLANDER                       2\n",
      "Name: ethnicity, dtype: int64\n",
      "MARRIED         10594\n",
      "SINGLE           6005\n",
      "WIDOWED          3081\n",
      "DIVORCED         1414\n",
      "SEPARATED         240\n",
      "LIFE PARTNER       11\n",
      "Name: marital_status, dtype: int64\n",
      "Medicare      11490\n",
      "Private        6982\n",
      "Medicaid       2005\n",
      "Government      683\n",
      "Self Pay        185\n",
      "Name: insurance, dtype: int64\n",
      "ENGL    18884\n",
      "SPAN      606\n",
      "RUSS      450\n",
      "PTUN      282\n",
      "CANT      215\n",
      "PORT      172\n",
      "CAPE      164\n",
      "MAND       87\n",
      "HAIT       81\n",
      "ITAL       71\n",
      "VIET       55\n",
      "GREE       45\n",
      "PERS       21\n",
      "POLI       20\n",
      "ARAB       19\n",
      "AMER       17\n",
      "CAMB       16\n",
      "KORE       14\n",
      "HIND       14\n",
      "ALBA       10\n",
      "THAI        9\n",
      "FREN        7\n",
      "*ARM        6\n",
      "SOMA        5\n",
      "ETHI        4\n",
      "*CDI        4\n",
      "LAOT        4\n",
      "*BEN        4\n",
      "JAPA        3\n",
      "*GUJ        3\n",
      "        ...  \n",
      "TAGA        2\n",
      "*BUR        2\n",
      "*BUL        2\n",
      "URDU        2\n",
      "*YID        2\n",
      "*LEB        2\n",
      "*TAM        1\n",
      "*LIT        1\n",
      "* BE        1\n",
      "*TOY        1\n",
      "*NEP        1\n",
      "*FUL        1\n",
      "*MOR        1\n",
      "** T        1\n",
      "*KHM        1\n",
      "*PER        1\n",
      "*PUN        1\n",
      "*ARA        1\n",
      "*DEA        1\n",
      "*FIL        1\n",
      "*YOR        1\n",
      "**SH        1\n",
      "*TEL        1\n",
      "*CRE        1\n",
      "*BOS        1\n",
      "*PHI        1\n",
      "*MAN        1\n",
      "* FU        1\n",
      "TURK        1\n",
      "*FAR        1\n",
      "Name: language, dtype: int64\n",
      "CATHOLIC                  8484\n",
      "NOT SPECIFIED             5932\n",
      "PROTESTANT QUAKER         2838\n",
      "JEWISH                    2089\n",
      "OTHER                      862\n",
      "EPISCOPALIAN               323\n",
      "CHRISTIAN SCIENTIST        187\n",
      "GREEK ORTHODOX             185\n",
      "BUDDHIST                   124\n",
      "MUSLIM                      82\n",
      "JEHOVAH'S WITNESS           60\n",
      "UNITARIAN-UNIVERSALIST      58\n",
      "HINDU                       46\n",
      "ROMANIAN EAST. ORTH         41\n",
      "7TH DAY ADVENTIST           32\n",
      "BAPTIST                      1\n",
      "HEBREW                       1\n",
      "Name: religion, dtype: int64\n",
      "0    14676\n",
      "1     6669\n",
      "Name: expire_flag, dtype: int64\n",
      "1 day              10905\n",
      "2-3 days            5677\n",
      "4-5 days            1959\n",
      "10 or more days     1412\n",
      "6-7 days             868\n",
      "8-9 days             524\n",
      "Name: los, dtype: int64\n",
      "45-64 years          7349\n",
      "65-74 years          4290\n",
      "75-84 years          4223\n",
      "Under 45 years       3122\n",
      "85 years and over    2361\n",
      "Name: age, dtype: int64\n"
     ]
    }
   ],
   "source": [
    "#Drop rows with unknown marital status    \n",
    "df_clean_marital = dffeatures_clean[dffeatures_clean.marital_status != 'UNKNOWN (DEFAULT)']\n",
    "\n",
    "#Drop rows with not obtained ethnicity\n",
    "df_clean_marital_ethnicity = df_clean_marital[df_clean_marital.ethnicity != 'UNABLE TO OBTAIN']\n",
    "df_clean_marital_ethnicity = df_clean_marital_ethnicity[df_clean_marital_ethnicity.ethnicity != 'PATIENT DECLINED TO ANSWER']\n",
    "df_clean_marital_ethnicity = df_clean_marital_ethnicity[df_clean_marital_ethnicity.ethnicity != 'UNKNOWN/NOT SPECIFIED']\n",
    "df_clean_marital_ethnicity = df_clean_marital_ethnicity[df_clean_marital_ethnicity.religion != 'UNOBTAINABLE']\n",
    "#print df_clean_marital['marital_status'].value_counts(dropna=False)\n",
    "for column in df_clean_marital_ethnicity:\n",
    "    print df_clean_marital_ethnicity[column].value_counts(dropna=False)\n"
   ]
  },
  {
   "cell_type": "code",
   "execution_count": 16,
   "metadata": {
    "collapsed": false
   },
   "outputs": [
    {
     "name": "stdout",
     "output_type": "stream",
     "text": [
      "ENGL    18882\n",
      "SPAN      606\n",
      "RUSS      450\n",
      "PTUN      282\n",
      "CANT      215\n",
      "PORT      172\n",
      "CAPE      164\n",
      "MAND       87\n",
      "HAIT       81\n",
      "ITAL       71\n",
      "VIET       55\n",
      "GREE       45\n",
      "PERS       21\n",
      "POLI       20\n",
      "ARAB       19\n",
      "AMER       17\n",
      "CAMB       16\n",
      "HIND       14\n",
      "KORE       14\n",
      "ALBA       10\n",
      "Name: language, dtype: int64\n",
      "CATHOLIC                  8473\n",
      "NOT SPECIFIED             5908\n",
      "PROTESTANT QUAKER         2828\n",
      "JEWISH                    2086\n",
      "OTHER                      856\n",
      "EPISCOPALIAN               323\n",
      "CHRISTIAN SCIENTIST        185\n",
      "GREEK ORTHODOX             183\n",
      "BUDDHIST                   108\n",
      "MUSLIM                      64\n",
      "JEHOVAH'S WITNESS           60\n",
      "UNITARIAN-UNIVERSALIST      58\n",
      "HINDU                       39\n",
      "ROMANIAN EAST. ORTH         38\n",
      "7TH DAY ADVENTIST           32\n",
      "Name: religion, dtype: int64\n"
     ]
    }
   ],
   "source": [
    "#Ensure there is  a high enough population (>10) for language and religion groups\n",
    "\n",
    "language_counts = df_clean_marital_ethnicity['language'].value_counts()\n",
    "religion_counts = df_clean_marital_ethnicity['religion'].value_counts()\n",
    "#List of groups with <10 members\n",
    "df_clean_language = df_clean_marital_ethnicity[df_clean_marital_ethnicity['language'].isin(language_counts[language_counts >= 10].index)]\n",
    "df_clean_groups = df_clean_language[df_clean_language['religion'].isin(religion_counts[religion_counts >= 10].index)]\n",
    "print df_clean_groups['language'].value_counts()\n",
    "print df_clean_groups['religion'].value_counts()"
   ]
  },
  {
   "cell_type": "code",
   "execution_count": 17,
   "metadata": {
    "collapsed": false
   },
   "outputs": [
    {
     "name": "stdout",
     "output_type": "stream",
     "text": [
      "M    11847\n",
      "F     9394\n",
      "Name: gender, dtype: int64\n",
      "WHITE                                                       16628\n",
      "BLACK/AFRICAN AMERICAN                                       1836\n",
      "HISPANIC OR LATINO                                            729\n",
      "OTHER                                                         518\n",
      "ASIAN                                                         352\n",
      "ASIAN - CHINESE                                               166\n",
      "BLACK/CAPE VERDEAN                                            154\n",
      "HISPANIC/LATINO - PUERTO RICAN                                136\n",
      "WHITE - RUSSIAN                                               109\n",
      "MULTI RACE ETHNICITY                                           69\n",
      "BLACK/HAITIAN                                                  63\n",
      "WHITE - OTHER EUROPEAN                                         59\n",
      "HISPANIC/LATINO - DOMINICAN                                    58\n",
      "ASIAN - ASIAN INDIAN                                           42\n",
      "WHITE - BRAZILIAN                                              39\n",
      "PORTUGUESE                                                     37\n",
      "ASIAN - VIETNAMESE                                             34\n",
      "BLACK/AFRICAN                                                  26\n",
      "HISPANIC/LATINO - GUATEMALAN                                   21\n",
      "MIDDLE EASTERN                                                 20\n",
      "WHITE - EASTERN EUROPEAN                                       17\n",
      "HISPANIC/LATINO - SALVADORAN                                   14\n",
      "HISPANIC/LATINO - CUBAN                                        13\n",
      "ASIAN - KOREAN                                                 11\n",
      "ASIAN - CAMBODIAN                                              11\n",
      "ASIAN - FILIPINO                                               11\n",
      "AMERICAN INDIAN/ALASKA NATIVE                                   9\n",
      "HISPANIC/LATINO - MEXICAN                                       9\n",
      "ASIAN - OTHER                                                   8\n",
      "CARIBBEAN ISLAND                                                8\n",
      "HISPANIC/LATINO - COLOMBIAN                                     8\n",
      "HISPANIC/LATINO - CENTRAL AMERICAN (OTHER)                      7\n",
      "SOUTH AMERICAN                                                  7\n",
      "HISPANIC/LATINO - HONDURAN                                      4\n",
      "ASIAN - JAPANESE                                                4\n",
      "AMERICAN INDIAN/ALASKA NATIVE FEDERALLY RECOGNIZED TRIBE        2\n",
      "NATIVE HAWAIIAN OR OTHER PACIFIC ISLANDER                       2\n",
      "Name: ethnicity, dtype: int64\n",
      "MARRIED         10538\n",
      "SINGLE           5984\n",
      "WIDOWED          3057\n",
      "DIVORCED         1413\n",
      "SEPARATED         238\n",
      "LIFE PARTNER       11\n",
      "Name: marital_status, dtype: int64\n",
      "Medicare      11436\n",
      "Private        6965\n",
      "Medicaid       1986\n",
      "Government      670\n",
      "Self Pay        184\n",
      "Name: insurance, dtype: int64\n",
      "ENGL    18882\n",
      "SPAN      606\n",
      "RUSS      450\n",
      "PTUN      282\n",
      "CANT      215\n",
      "PORT      172\n",
      "CAPE      164\n",
      "MAND       87\n",
      "HAIT       81\n",
      "ITAL       71\n",
      "VIET       55\n",
      "GREE       45\n",
      "PERS       21\n",
      "POLI       20\n",
      "ARAB       19\n",
      "AMER       17\n",
      "CAMB       16\n",
      "HIND       14\n",
      "KORE       14\n",
      "ALBA       10\n",
      "Name: language, dtype: int64\n",
      "CATHOLIC                  8473\n",
      "NOT SPECIFIED             5908\n",
      "PROTESTANT QUAKER         2828\n",
      "JEWISH                    2086\n",
      "OTHER                      856\n",
      "EPISCOPALIAN               323\n",
      "CHRISTIAN SCIENTIST        185\n",
      "GREEK ORTHODOX             183\n",
      "BUDDHIST                   108\n",
      "MUSLIM                      64\n",
      "JEHOVAH'S WITNESS           60\n",
      "UNITARIAN-UNIVERSALIST      58\n",
      "HINDU                       39\n",
      "ROMANIAN EAST. ORTH         38\n",
      "7TH DAY ADVENTIST           32\n",
      "Name: religion, dtype: int64\n",
      "0    14619\n",
      "1     6622\n",
      "Name: expire_flag, dtype: int64\n",
      "1 day              10857\n",
      "2-3 days            5650\n",
      "4-5 days            1944\n",
      "10 or more days     1401\n",
      "6-7 days             866\n",
      "8-9 days             523\n",
      "Name: los, dtype: int64\n",
      "45-64 years          7322\n",
      "65-74 years          4272\n",
      "75-84 years          4197\n",
      "Under 45 years       3111\n",
      "85 years and over    2339\n",
      "Name: age, dtype: int64\n",
      "9\n"
     ]
    }
   ],
   "source": [
    "for column in df_clean_groups:\n",
    "    print df_clean_groups[column].value_counts(dropna=False)\n",
    "print len(df_clean_groups.columns)"
   ]
  },
  {
   "cell_type": "code",
   "execution_count": 18,
   "metadata": {
    "collapsed": false
   },
   "outputs": [
    {
     "name": "stdout",
     "output_type": "stream",
     "text": [
      "   row_id  subject_id  hadm_id  seq_num icd9_code\n",
      "0    1297         109   172335      1.0     40301\n",
      "1    1298         109   172335      2.0       486\n",
      "2    1299         109   172335      3.0     58281\n",
      "3    1300         109   172335      4.0      5855\n",
      "4    1301         109   172335      5.0      4254\n",
      "4019     20703\n",
      "4280     13111\n",
      "42731    12891\n",
      "41401    12429\n",
      "5849      9119\n",
      "25000     9058\n",
      "2724      8690\n",
      "51881     7497\n",
      "5990      6555\n",
      "53081     6326\n",
      "2720      5930\n",
      "V053      5779\n",
      "V290      5519\n",
      "2859      5406\n",
      "2449      4917\n",
      "486       4839\n",
      "2851      4552\n",
      "2762      4528\n",
      "496       4431\n",
      "99592     3912\n",
      "V5861     3806\n",
      "0389      3725\n",
      "5070      3680\n",
      "V3000     3566\n",
      "5859      3435\n",
      "311       3431\n",
      "40390     3421\n",
      "3051      3358\n",
      "412       3278\n",
      "2875      3065\n",
      "         ...  \n",
      "9595         1\n",
      "67401        1\n",
      "61800        1\n",
      "75435        1\n",
      "61804        1\n",
      "29625        1\n",
      "8281         1\n",
      "0338         1\n",
      "20011        1\n",
      "20018        1\n",
      "V1869        1\n",
      "66131        1\n",
      "83503        1\n",
      "28244        1\n",
      "44620        1\n",
      "28243        1\n",
      "43831        1\n",
      "8783         1\n",
      "V111         1\n",
      "V110         1\n",
      "8787         1\n",
      "8786         1\n",
      "8785         1\n",
      "28241        1\n",
      "2533         1\n",
      "5293         1\n",
      "2588         1\n",
      "81012        1\n",
      "81013        1\n",
      "74682        1\n",
      "Name: icd9_code, dtype: int64\n",
      "651047\n",
      "0    40301\n",
      "1      486\n",
      "2    58281\n",
      "3     5855\n",
      "4     4254\n",
      "Name: icd9_code, dtype: object\n"
     ]
    }
   ],
   "source": [
    "curr5 = conn.cursor()\n",
    "try:\n",
    "    curr5.execute(\"SELECT * from DIAGNOSES_ICD\")\n",
    "except:\n",
    "    print \"I cannot SELECT from DIAGNOSES_ICD\"\n",
    "    \n",
    "diagcolnames = [desc[0] for desc in curr5.description]\n",
    "df = pd.DataFrame(curr5.fetchall(), columns=diagcolnames)\n",
    "print df.head()\n",
    "print df['icd9_code'].value_counts()\n",
    "print len(df.index)\n",
    "\n",
    "print df['icd9_code'].head()\n"
   ]
  },
  {
   "cell_type": "code",
   "execution_count": 19,
   "metadata": {
    "collapsed": false
   },
   "outputs": [
    {
     "name": "stdout",
     "output_type": "stream",
     "text": [
      "         religion language\n",
      "3        CATHOLIC     ENGL\n",
      "5   NOT SPECIFIED     HAIT\n",
      "10  NOT SPECIFIED     ENGL\n",
      "14  NOT SPECIFIED     ENGL\n",
      "24          OTHER     ENGL\n"
     ]
    }
   ],
   "source": [
    "df_rel_lan = df_clean_groups[['religion', 'language']]\n",
    "print df_rel_lan.head()"
   ]
  },
  {
   "cell_type": "markdown",
   "metadata": {
    "collapsed": false
   },
   "source": [
    "### Part 2: Building Benchmark Model.\n",
    "First we will start by building a benchmark model using only patient age and length of stay.  We will use only these two features as higher patient age and length of stay are consistently shown to have higher mortality rates."
   ]
  },
  {
   "cell_type": "code",
   "execution_count": 20,
   "metadata": {
    "collapsed": false
   },
   "outputs": [
    {
     "name": "stdout",
     "output_type": "stream",
     "text": [
      "['age_45-64 years', 'age_65-74 years', 'age_75-84 years', 'age_85 years and over', 'age_Under 45 years', 'los_1 day', 'los_10 or more days', 'los_2-3 days', 'los_4-5 days', 'los_6-7 days', 'los_8-9 days']\n"
     ]
    }
   ],
   "source": [
    "#Select raw features\n",
    "benchmark_features_raw = dfmimic[['age', 'los']]\n",
    "#Select target (patient death)\n",
    "expiry = dfmimic['expire_flag']\n",
    "\n",
    "#Use one hot encoding to convert age and LOS groups to dummy variables\n",
    "benchmark_features = pd.get_dummies(benchmark_features_raw)\n",
    "print list(benchmark_features.columns)\n",
    "\n"
   ]
  },
  {
   "cell_type": "markdown",
   "metadata": {},
   "source": [
    "Use sklearn to split the data into test and train data."
   ]
  },
  {
   "cell_type": "code",
   "execution_count": 21,
   "metadata": {
    "collapsed": false
   },
   "outputs": [
    {
     "name": "stdout",
     "output_type": "stream",
     "text": [
      "Training set has 34857 samples.\n",
      "Testing set has 11619 samples.\n"
     ]
    }
   ],
   "source": [
    "from sklearn.model_selection import train_test_split\n",
    "\n",
    "bench_train, bench_test, exp_train, exp_test = train_test_split(benchmark_features, expiry, random_state=42)\n",
    "\n",
    "#Check for correct splitting\n",
    "print \"Training set has {} samples.\".format(bench_train.shape[0])\n",
    "print \"Testing set has {} samples.\".format(bench_test.shape[0])"
   ]
  },
  {
   "cell_type": "markdown",
   "metadata": {},
   "source": [
    "Create a training and predicting function to test different machine learning algorithms"
   ]
  },
  {
   "cell_type": "code",
   "execution_count": 22,
   "metadata": {
    "collapsed": true
   },
   "outputs": [],
   "source": [
    "def train_results(learner, sample_size, X_train, y_train, X_test, y_test):\n",
    "    '''\n",
    "    inputs:\n",
    "        -learner: type of learning algorithm to be compared\n",
    "        -sample_size: percent of data being trained\n",
    "        -X_train: features training set\n",
    "        -y_train: expiry training set\n",
    "        -X_test: features test set\n",
    "        -y_test: expiry training set\n",
    "    '''\n",
    "    \n",
    "    results = {}\n",
    "    \n",
    "    #Fit the learner to the training data using slicing with 'sample_size'\n",
    "    start = time() # Get start time\n",
    "    learner = learner.fit(X_train[:sample_size], y_train[:sample_size])\n",
    "    end = time() # Get end time\n",
    "    \n",
    "    #Calculate the training time\n",
    "    results['train_time'] = end-start\n",
    "        \n",
    "    #Get the predictions on the test set,\n",
    "    #then get predictions on the first 300 training samples\n",
    "    start = time() # Get start time\n",
    "    predictions_test = learner.predict(X_test)\n",
    "    predictions_train = learner.predict(X_train[:300])\n",
    "    end = time() # Get end time\n",
    "    \n",
    "    #Calculate the total prediction time\n",
    "    results['pred_time'] = end-start\n",
    "            \n",
    "    #Compute accuracy on the first 300 training samples\n",
    "    results['acc_train'] = accuracy_score(y_train[:300], predictions_train)\n",
    "        \n",
    "    #Compute accuracy on test set\n",
    "    results['acc_test'] = accuracy_score(y_test, predictions_test)\n",
    "    \n",
    "    #Compute AUC score on the first 300 training samples\n",
    "    results['auc_train'] = roc_auc_score(y_train[:300], predictions_train)\n",
    "        \n",
    "    #Compute AUC score on the test set\n",
    "    results['auc_test'] = roc_auc_score(y_test, predictions_test)\n",
    "       \n",
    "    #Success\n",
    "    #print \"{} trained on {} samples.\".format(learner.__class__.__name__, sample_size)\n",
    "        \n",
    "    # Return the results\n",
    "    return results"
   ]
  },
  {
   "cell_type": "markdown",
   "metadata": {},
   "source": [
    "Evaluate classifiers:"
   ]
  },
  {
   "cell_type": "code",
   "execution_count": 23,
   "metadata": {
    "collapsed": false
   },
   "outputs": [
    {
     "name": "stdout",
     "output_type": "stream",
     "text": [
      "RandomForestClassifier has an average AUC test score of 0.688192\n",
      "RandomForestClassifier has an average accuracy test score of 0.733867\n",
      "GaussianNB has an average AUC test score of 0.696541\n",
      "GaussianNB has an average accuracy test score of 0.716981\n",
      "AdaBoostClassifier has an average AUC test score of 0.690509\n",
      "AdaBoostClassifier has an average accuracy test score of 0.733910\n",
      "DecisionTreeClassifier has an average AUC test score of 0.686808\n",
      "DecisionTreeClassifier has an average accuracy test score of 0.734461\n"
     ]
    }
   ],
   "source": [
    "#Import supervised learning models from sklearn\n",
    "import random\n",
    "import mimic_visuals as vs\n",
    "from time import time\n",
    "from sklearn.naive_bayes import GaussianNB\n",
    "from sklearn import tree\n",
    "from sklearn.svm import SVC\n",
    "from sklearn.ensemble import RandomForestClassifier, AdaBoostClassifier\n",
    "from sklearn.model_selection import train_test_split\n",
    "\n",
    "#Set up results dictionary for classifiers\n",
    "clf_A = GaussianNB()\n",
    "clf_B = tree.DecisionTreeClassifier(random_state=42)\n",
    "clf_C = RandomForestClassifier(random_state =42)\n",
    "clf_D = AdaBoostClassifier(random_state = 42)\n",
    "#clf_E = SVC(random_state = 42)\n",
    "\n",
    "clf_name_list = []\n",
    "for clf in [clf_A, clf_B, clf_C, clf_D]:\n",
    "    clf_name = clf.__class__.__name__\n",
    "    clf_name_list.append(clf_name)\n",
    "\n",
    "\n",
    "\n",
    "\n",
    "\n",
    "\n",
    "\n",
    "def best_classifier(features, expiry, trials, classifiers):\n",
    "    #Run through multiple times using random states\n",
    "    num_trials = trials\n",
    "    results = {}\n",
    "    for clf_name in classifiers:\n",
    "        results[clf_name] = {}\n",
    "    for trial in range(num_trials):\n",
    "        state = random.randint(0,100)\n",
    "        #print \"Trial {}: Random State is {}\".format(trial+1, state)\n",
    "    \n",
    "        #Create test and train samples\n",
    "        X_train, X_test, y_train, y_test = train_test_split(features, expiry,\n",
    "                                                                   random_state=random.randint(0,100))\n",
    "        #Check for correct splitting\n",
    "        #print \"Training set has {} samples.\".format(X_train.shape[0])\n",
    "        #print \"Testing set has {} samples.\".format(X_test.shape[0])\n",
    "\n",
    "        #  Initialize the models\n",
    "        clf_A = GaussianNB()\n",
    "        clf_B = tree.DecisionTreeClassifier(random_state=state)\n",
    "        clf_C = RandomForestClassifier(random_state =state)\n",
    "        clf_D = AdaBoostClassifier(random_state = state)\n",
    "        #clf_E = SVC(random_state = state)\n",
    "        \n",
    "        \n",
    "    \n",
    "        samples_100 = int(bench_train.shape[0])\n",
    "\n",
    "        # Collect results on the learners\n",
    "        for clf in [clf_A, clf_B, clf_C, clf_D]:\n",
    "            clf_name = clf.__class__.__name__\n",
    "            results[clf_name][trial] = \\\n",
    "            train_results(clf, samples_100, X_train, y_train, X_test, y_test)\n",
    "\n",
    "    # Run metrics visualization for the three supervised learning models chosen\n",
    "    #vs.evaluate(results, 0.6614, 0.5)\n",
    "\n",
    "    #Find average AUC scores\n",
    "    average_scores = {'accuracy': {}, 'auc': {}}\n",
    "    #print results\n",
    "    for clf in results:\n",
    "        auc_scores = 0\n",
    "        accuracy_scores = 0\n",
    "        for trial in results[clf]:\n",
    "            auc_scores+= results[clf][trial]['auc_test']\n",
    "            accuracy_scores += results[clf][trial]['acc_test']\n",
    "        average_scores['auc'][clf] = auc_scores/num_trials\n",
    "        average_scores['accuracy'][clf] = accuracy_scores/num_trials\n",
    "    \n",
    "\n",
    "    # Print final AUC scores\n",
    "    for clf in results:\n",
    "        print \"{} has an average AUC test score of {:.6f}\".format(clf, average_scores['auc'][clf])\n",
    "        print \"{} has an average accuracy test score of {:.6f}\".format(clf, average_scores['accuracy'][clf])\n",
    "\n",
    "best_classifier(benchmark_features, expiry, 10, clf_name_list)"
   ]
  },
  {
   "cell_type": "markdown",
   "metadata": {},
   "source": [
    "From the benchmark model testing, we find that the GaussianNB has the highest AUC score with 0.6980.  With this as the chosen classification model, we can see whether we can improve this score. "
   ]
  },
  {
   "cell_type": "code",
   "execution_count": 24,
   "metadata": {
    "collapsed": false
   },
   "outputs": [
    {
     "name": "stdout",
     "output_type": "stream",
     "text": [
      "{'presort': False, 'splitter': 'best', 'max_leaf_nodes': None, 'min_samples_leaf': 1, 'min_samples_split': 2, 'min_weight_fraction_leaf': 0.0, 'criterion': 'gini', 'random_state': 42, 'min_impurity_split': 1e-07, 'max_features': None, 'max_depth': 2, 'class_weight': None}\n",
      "Unoptimized model\n",
      "------\n",
      "Accuracy score on testing data: 0.7343\n",
      "AUC score on testing data: 0.6855\n",
      "\n",
      "Optimized Model\n",
      "------\n",
      "Final accuracy score on the testing data: 0.7022\n",
      "Final AUC score on the testing data: 0.6989\n"
     ]
    }
   ],
   "source": [
    "#Import 'GridSearchCV', 'make_scorer', and any other necessary libraries\n",
    "from sklearn.model_selection import GridSearchCV\n",
    "from sklearn.metrics import make_scorer\n",
    "\n",
    "#Initialize the classifier\n",
    "clf = tree.DecisionTreeClassifier(random_state=42)\n",
    "\n",
    "#Split data\n",
    "X_train, X_test, y_train, y_test = train_test_split(benchmark_features, expiry, random_state=random.randint(0,100))\n",
    "\n",
    "#Create the parameters list you wish to tune\n",
    "parameters = {'min_samples_split' : [2,5,8,10], 'max_depth' : [2, 4, 6, 10],\n",
    "              'min_samples_leaf' : [1,2,3,4]}\n",
    "\n",
    "#Make an auc_score scoring object\n",
    "scorer = make_scorer(roc_auc_score)\n",
    "\n",
    "#Perform grid search on the classifier using 'scorer' as the scoring method\n",
    "grid_obj = GridSearchCV(clf, parameters, scoring=scorer)\n",
    "\n",
    "#Fit the grid search object to the training data and find the optimal parameters\n",
    "grid_fit = grid_obj.fit(X_train, y_train)\n",
    "\n",
    "#Get the estimator\n",
    "best_clf = grid_fit.best_estimator_\n",
    "print best_clf.get_params()\n",
    "\n",
    "# Make predictions using the unoptimized and model\n",
    "predictions = (clf.fit(X_train, y_train)).predict(X_test)\n",
    "best_predictions = best_clf.predict(X_test)\n",
    "\n",
    "# Report the before-and-afterscores\n",
    "print \"Unoptimized model\\n------\"\n",
    "print \"Accuracy score on testing data: {:.4f}\".format(accuracy_score(y_test, predictions))\n",
    "print \"AUC score on testing data: {:.4f}\".format(roc_auc_score(y_test, predictions))\n",
    "print \"\\nOptimized Model\\n------\"\n",
    "print \"Final accuracy score on the testing data: {:.4f}\".format(accuracy_score(y_test, best_predictions))\n",
    "print \"Final AUC score on the testing data: {:.4f}\".format(roc_auc_score(y_test, best_predictions))"
   ]
  },
  {
   "cell_type": "markdown",
   "metadata": {},
   "source": [
    "### Part 3: Building model including gender and type of insurance\n",
    "Create models using features that are included in each ICU admission (gender, insurance).  Add these features to age and LOS."
   ]
  },
  {
   "cell_type": "code",
   "execution_count": 25,
   "metadata": {
    "collapsed": false
   },
   "outputs": [
    {
     "name": "stdout",
     "output_type": "stream",
     "text": [
      "['age_45-64 years', 'age_65-74 years', 'age_75-84 years', 'age_85 years and over', 'age_Under 45 years', 'los_1 day', 'los_10 or more days', 'los_2-3 days', 'los_4-5 days', 'los_6-7 days', 'los_8-9 days', 'gender_F', 'gender_M', 'insurance_Government', 'insurance_Medicaid', 'insurance_Medicare', 'insurance_Private', 'insurance_Self Pay']\n"
     ]
    }
   ],
   "source": [
    "#Select raw features\n",
    "all_rows_features_raw = dfmimic[['age', 'los', 'gender', 'insurance']]\n",
    "\n",
    "all_rows_features = pd.get_dummies(all_rows_features_raw)\n",
    "print list(all_rows_features.columns)"
   ]
  },
  {
   "cell_type": "code",
   "execution_count": 26,
   "metadata": {
    "collapsed": false
   },
   "outputs": [
    {
     "name": "stdout",
     "output_type": "stream",
     "text": [
      "RandomForestClassifier has an average AUC test score of 0.694743\n",
      "RandomForestClassifier has an average accuracy test score of 0.734487\n",
      "GaussianNB has an average AUC test score of 0.714523\n",
      "GaussianNB has an average accuracy test score of 0.705000\n",
      "AdaBoostClassifier has an average AUC test score of 0.691953\n",
      "AdaBoostClassifier has an average accuracy test score of 0.734555\n",
      "DecisionTreeClassifier has an average AUC test score of 0.695021\n",
      "DecisionTreeClassifier has an average accuracy test score of 0.734702\n"
     ]
    }
   ],
   "source": [
    "#Compare all rows features\n",
    "\n",
    "best_classifier(all_rows_features, expiry, 10, clf_name_list)"
   ]
  },
  {
   "cell_type": "markdown",
   "metadata": {},
   "source": [
    "We can see that adding 'gender' and 'insurance' features has improved the AUC score of the model from 0.6990 to 0.7119.  Let us further look into this to see whether adding one feature or the other changes the AUC score."
   ]
  },
  {
   "cell_type": "code",
   "execution_count": 27,
   "metadata": {
    "collapsed": false
   },
   "outputs": [
    {
     "name": "stdout",
     "output_type": "stream",
     "text": [
      "['age_45-64 years', 'age_65-74 years', 'age_75-84 years', 'age_85 years and over', 'age_Under 45 years', 'los_1 day', 'los_10 or more days', 'los_2-3 days', 'los_4-5 days', 'los_6-7 days', 'los_8-9 days', 'gender_F', 'gender_M']\n",
      "RandomForestClassifier has an average AUC test score of 0.684667\n",
      "RandomForestClassifier has an average accuracy test score of 0.731595\n",
      "GaussianNB has an average AUC test score of 0.696768\n",
      "GaussianNB has an average accuracy test score of 0.719640\n",
      "AdaBoostClassifier has an average AUC test score of 0.686767\n",
      "AdaBoostClassifier has an average accuracy test score of 0.731827\n",
      "DecisionTreeClassifier has an average AUC test score of 0.684236\n",
      "DecisionTreeClassifier has an average accuracy test score of 0.731362\n"
     ]
    }
   ],
   "source": [
    "#Select raw features\n",
    "all_rows_gender_raw = dfmimic[['age', 'los', 'gender']]\n",
    "\n",
    "all_rows_gender = pd.get_dummies(all_rows_gender_raw)\n",
    "print list(all_rows_gender.columns)\n",
    "\n",
    "#Find best classifier with 'age' 'los' and 'gender' features\n",
    "best_classifier(all_rows_gender, expiry, 10, clf_name_list)"
   ]
  },
  {
   "cell_type": "markdown",
   "metadata": {},
   "source": [
    "Best AUC score is GaussianNB classifier with AUC score of 0.6964"
   ]
  },
  {
   "cell_type": "code",
   "execution_count": 28,
   "metadata": {
    "collapsed": false
   },
   "outputs": [
    {
     "name": "stdout",
     "output_type": "stream",
     "text": [
      "['age_45-64 years', 'age_65-74 years', 'age_75-84 years', 'age_85 years and over', 'age_Under 45 years', 'los_1 day', 'los_10 or more days', 'los_2-3 days', 'los_4-5 days', 'los_6-7 days', 'los_8-9 days', 'insurance_Government', 'insurance_Medicaid', 'insurance_Medicare', 'insurance_Private', 'insurance_Self Pay']\n",
      "RandomForestClassifier has an average AUC test score of 0.696328\n",
      "RandomForestClassifier has an average accuracy test score of 0.735046\n",
      "GaussianNB has an average AUC test score of 0.712258\n",
      "GaussianNB has an average accuracy test score of 0.702109\n",
      "AdaBoostClassifier has an average AUC test score of 0.692204\n",
      "AdaBoostClassifier has an average accuracy test score of 0.734719\n",
      "DecisionTreeClassifier has an average AUC test score of 0.696850\n",
      "DecisionTreeClassifier has an average accuracy test score of 0.735192\n"
     ]
    }
   ],
   "source": [
    "#Select raw features\n",
    "all_rows_insurance_raw = dfmimic[['age', 'los', 'insurance']]\n",
    "\n",
    "all_rows_insurance = pd.get_dummies(all_rows_insurance_raw)\n",
    "print list(all_rows_insurance.columns)\n",
    "\n",
    "#Find best classifier with 'age' 'los' and 'gender' features\n",
    "best_classifier(all_rows_insurance, expiry, 10, clf_name_list)"
   ]
  },
  {
   "cell_type": "markdown",
   "metadata": {},
   "source": [
    "Best AUC score is GaussianNB with 0.7128.  This is slightly better than both 'insurance' and 'gender' features added.  "
   ]
  },
  {
   "cell_type": "markdown",
   "metadata": {},
   "source": [
    "Let us now look at the data with the optional features ('ethnicity', 'marital_status', 'religion', and 'language' added.  For these optional features we will be using the cleaned groups dataframe with rows containing 'NaN', 'UNKOWN', and 'UNABLE TO OBTAIN' values removed."
   ]
  },
  {
   "cell_type": "code",
   "execution_count": 29,
   "metadata": {
    "collapsed": false
   },
   "outputs": [
    {
     "name": "stdout",
     "output_type": "stream",
     "text": [
      "['age_45-64 years', 'age_65-74 years', 'age_75-84 years', 'age_85 years and over', 'age_Under 45 years', 'gender_F', 'gender_M', 'los_1 day', 'los_10 or more days', 'los_2-3 days', 'los_4-5 days', 'los_6-7 days', 'los_8-9 days', 'insurance_Government', 'insurance_Medicaid', 'insurance_Medicare', 'insurance_Private', 'insurance_Self Pay', 'ethnicity_AMERICAN INDIAN/ALASKA NATIVE', 'ethnicity_AMERICAN INDIAN/ALASKA NATIVE FEDERALLY RECOGNIZED TRIBE', 'ethnicity_ASIAN', 'ethnicity_ASIAN - ASIAN INDIAN', 'ethnicity_ASIAN - CAMBODIAN', 'ethnicity_ASIAN - CHINESE', 'ethnicity_ASIAN - FILIPINO', 'ethnicity_ASIAN - JAPANESE', 'ethnicity_ASIAN - KOREAN', 'ethnicity_ASIAN - OTHER', 'ethnicity_ASIAN - VIETNAMESE', 'ethnicity_BLACK/AFRICAN', 'ethnicity_BLACK/AFRICAN AMERICAN', 'ethnicity_BLACK/CAPE VERDEAN', 'ethnicity_BLACK/HAITIAN', 'ethnicity_CARIBBEAN ISLAND', 'ethnicity_HISPANIC OR LATINO', 'ethnicity_HISPANIC/LATINO - CENTRAL AMERICAN (OTHER)', 'ethnicity_HISPANIC/LATINO - COLOMBIAN', 'ethnicity_HISPANIC/LATINO - CUBAN', 'ethnicity_HISPANIC/LATINO - DOMINICAN', 'ethnicity_HISPANIC/LATINO - GUATEMALAN', 'ethnicity_HISPANIC/LATINO - HONDURAN', 'ethnicity_HISPANIC/LATINO - MEXICAN', 'ethnicity_HISPANIC/LATINO - PUERTO RICAN', 'ethnicity_HISPANIC/LATINO - SALVADORAN', 'ethnicity_MIDDLE EASTERN', 'ethnicity_MULTI RACE ETHNICITY', 'ethnicity_NATIVE HAWAIIAN OR OTHER PACIFIC ISLANDER', 'ethnicity_OTHER', 'ethnicity_PORTUGUESE', 'ethnicity_SOUTH AMERICAN', 'ethnicity_WHITE', 'ethnicity_WHITE - BRAZILIAN', 'ethnicity_WHITE - EASTERN EUROPEAN', 'ethnicity_WHITE - OTHER EUROPEAN', 'ethnicity_WHITE - RUSSIAN']\n"
     ]
    },
    {
     "name": "stderr",
     "output_type": "stream",
     "text": [
      "G:\\ProgramData\\Anaconda3\\envs\\spyder27\\lib\\site-packages\\sklearn\\utils\\validation.py:526: DataConversionWarning: A column-vector y was passed when a 1d array was expected. Please change the shape of y to (n_samples, ), for example using ravel().\n",
      "  y = column_or_1d(y, warn=True)\n",
      "G:\\ProgramData\\Anaconda3\\envs\\spyder27\\lib\\site-packages\\ipykernel\\__main__.py:16: DataConversionWarning: A column-vector y was passed when a 1d array was expected. Please change the shape of y to (n_samples,), for example using ravel().\n"
     ]
    },
    {
     "name": "stdout",
     "output_type": "stream",
     "text": [
      "RandomForestClassifier has an average AUC test score of 0.595882\n",
      "RandomForestClassifier has an average accuracy test score of 0.703465\n",
      "GaussianNB has an average AUC test score of 0.511212\n",
      "GaussianNB has an average accuracy test score of 0.336264\n",
      "AdaBoostClassifier has an average AUC test score of 0.601474\n",
      "AdaBoostClassifier has an average accuracy test score of 0.714027\n",
      "DecisionTreeClassifier has an average AUC test score of 0.595286\n",
      "DecisionTreeClassifier has an average accuracy test score of 0.704387\n"
     ]
    }
   ],
   "source": [
    "\n",
    "\n",
    "#Use 'ethnicity' with 'age', 'los', 'gender', and 'insurance'\n",
    "clean_rows_ethnicity_raw = df_clean_groups[['age', 'gender', 'los', 'insurance', 'ethnicity']]\n",
    "expiry_clean = df_clean_groups[['expire_flag']]\n",
    "\n",
    "clean_rows_ethnicity = pd.get_dummies(clean_rows_ethnicity_raw)\n",
    "print list(clean_rows_ethnicity.columns)\n",
    "\n",
    "#Find best classifier with 'age' 'los' and 'gender' features\n",
    "best_classifier(clean_rows_ethnicity, expiry_clean, 10, clf_name_list)"
   ]
  },
  {
   "cell_type": "code",
   "execution_count": 30,
   "metadata": {
    "collapsed": false
   },
   "outputs": [
    {
     "name": "stdout",
     "output_type": "stream",
     "text": [
      "['age_45-64 years', 'age_65-74 years', 'age_75-84 years', 'age_85 years and over', 'age_Under 45 years', 'gender_F', 'gender_M', 'los_1 day', 'los_10 or more days', 'los_2-3 days', 'los_4-5 days', 'los_6-7 days', 'los_8-9 days', 'insurance_Government', 'insurance_Medicaid', 'insurance_Medicare', 'insurance_Private', 'insurance_Self Pay', 'marital_status_DIVORCED', 'marital_status_LIFE PARTNER', 'marital_status_MARRIED', 'marital_status_SEPARATED', 'marital_status_SINGLE', 'marital_status_WIDOWED']\n"
     ]
    },
    {
     "name": "stderr",
     "output_type": "stream",
     "text": [
      "G:\\ProgramData\\Anaconda3\\envs\\spyder27\\lib\\site-packages\\ipykernel\\__main__.py:16: DataConversionWarning: A column-vector y was passed when a 1d array was expected. Please change the shape of y to (n_samples,), for example using ravel().\n"
     ]
    },
    {
     "name": "stdout",
     "output_type": "stream",
     "text": [
      "RandomForestClassifier has an average AUC test score of 0.593842\n",
      "RandomForestClassifier has an average accuracy test score of 0.704952\n",
      "GaussianNB has an average AUC test score of 0.645313\n",
      "GaussianNB has an average accuracy test score of 0.614818\n",
      "AdaBoostClassifier has an average AUC test score of 0.602018\n",
      "AdaBoostClassifier has an average accuracy test score of 0.713820\n",
      "DecisionTreeClassifier has an average AUC test score of 0.589566\n",
      "DecisionTreeClassifier has an average accuracy test score of 0.705404\n"
     ]
    }
   ],
   "source": [
    "#Use 'marital_status' with 'age', 'los', 'gender', and 'insurance'\n",
    "clean_rows_marital_status_raw = df_clean_groups[['age', 'gender', 'los', 'insurance', 'marital_status']]\n",
    "expiry_clean = df_clean_groups[['expire_flag']]\n",
    "\n",
    "clean_rows_marital_status = pd.get_dummies(clean_rows_marital_status_raw)\n",
    "print list(clean_rows_marital_status.columns)\n",
    "\n",
    "#Find best classifier with 'age' 'los' and 'gender' features\n",
    "best_classifier(clean_rows_marital_status, expiry_clean, 10, clf_name_list)"
   ]
  },
  {
   "cell_type": "code",
   "execution_count": 31,
   "metadata": {
    "collapsed": false
   },
   "outputs": [
    {
     "name": "stdout",
     "output_type": "stream",
     "text": [
      "['age_45-64 years', 'age_65-74 years', 'age_75-84 years', 'age_85 years and over', 'age_Under 45 years', 'gender_F', 'gender_M', 'los_1 day', 'los_10 or more days', 'los_2-3 days', 'los_4-5 days', 'los_6-7 days', 'los_8-9 days', 'insurance_Government', 'insurance_Medicaid', 'insurance_Medicare', 'insurance_Private', 'insurance_Self Pay', 'language_ALBA', 'language_AMER', 'language_ARAB', 'language_CAMB', 'language_CANT', 'language_CAPE', 'language_ENGL', 'language_GREE', 'language_HAIT', 'language_HIND', 'language_ITAL', 'language_KORE', 'language_MAND', 'language_PERS', 'language_POLI', 'language_PORT', 'language_PTUN', 'language_RUSS', 'language_SPAN', 'language_VIET']\n"
     ]
    },
    {
     "name": "stderr",
     "output_type": "stream",
     "text": [
      "G:\\ProgramData\\Anaconda3\\envs\\spyder27\\lib\\site-packages\\ipykernel\\__main__.py:16: DataConversionWarning: A column-vector y was passed when a 1d array was expected. Please change the shape of y to (n_samples,), for example using ravel().\n"
     ]
    },
    {
     "name": "stdout",
     "output_type": "stream",
     "text": [
      "RandomForestClassifier has an average AUC test score of 0.599875\n",
      "RandomForestClassifier has an average accuracy test score of 0.705103\n",
      "GaussianNB has an average AUC test score of 0.621243\n",
      "GaussianNB has an average accuracy test score of 0.668688\n",
      "AdaBoostClassifier has an average AUC test score of 0.605712\n",
      "AdaBoostClassifier has an average accuracy test score of 0.713124\n",
      "DecisionTreeClassifier has an average AUC test score of 0.595268\n",
      "DecisionTreeClassifier has an average accuracy test score of 0.704726\n"
     ]
    }
   ],
   "source": [
    "#Use 'language' with 'age', 'los', 'gender', and 'insurance'\n",
    "clean_rows_language_raw = df_clean_groups[['age', 'gender', 'los', 'insurance', 'language']]\n",
    "expiry_clean = df_clean_groups[['expire_flag']]\n",
    "\n",
    "clean_rows_language = pd.get_dummies(clean_rows_language_raw)\n",
    "print list(clean_rows_language.columns)\n",
    "\n",
    "#Find best classifier with 'age' 'los' and 'gender' features\n",
    "best_classifier(clean_rows_language, expiry_clean, 10, clf_name_list)"
   ]
  },
  {
   "cell_type": "code",
   "execution_count": 32,
   "metadata": {
    "collapsed": false
   },
   "outputs": [
    {
     "name": "stdout",
     "output_type": "stream",
     "text": [
      "['age_45-64 years', 'age_65-74 years', 'age_75-84 years', 'age_85 years and over', 'age_Under 45 years', 'gender_F', 'gender_M', 'los_1 day', 'los_10 or more days', 'los_2-3 days', 'los_4-5 days', 'los_6-7 days', 'los_8-9 days', 'insurance_Government', 'insurance_Medicaid', 'insurance_Medicare', 'insurance_Private', 'insurance_Self Pay', 'language_ALBA', 'language_AMER', 'language_ARAB', 'language_CAMB', 'language_CANT', 'language_CAPE', 'language_ENGL', 'language_GREE', 'language_HAIT', 'language_HIND', 'language_ITAL', 'language_KORE', 'language_MAND', 'language_PERS', 'language_POLI', 'language_PORT', 'language_PTUN', 'language_RUSS', 'language_SPAN', 'language_VIET']\n"
     ]
    },
    {
     "name": "stderr",
     "output_type": "stream",
     "text": [
      "G:\\ProgramData\\Anaconda3\\envs\\spyder27\\lib\\site-packages\\ipykernel\\__main__.py:16: DataConversionWarning: A column-vector y was passed when a 1d array was expected. Please change the shape of y to (n_samples,), for example using ravel().\n"
     ]
    },
    {
     "name": "stdout",
     "output_type": "stream",
     "text": [
      "RandomForestClassifier has an average AUC test score of 0.599606\n",
      "RandomForestClassifier has an average accuracy test score of 0.706326\n",
      "GaussianNB has an average AUC test score of 0.618362\n",
      "GaussianNB has an average accuracy test score of 0.677104\n",
      "AdaBoostClassifier has an average AUC test score of 0.607302\n",
      "AdaBoostClassifier has an average accuracy test score of 0.716230\n",
      "DecisionTreeClassifier has an average AUC test score of 0.594722\n",
      "DecisionTreeClassifier has an average accuracy test score of 0.705743\n"
     ]
    }
   ],
   "source": [
    "#Use 'language' with 'age', 'los', 'gender', and 'insurance'\n",
    "clean_rows_language_raw = df_clean_groups[['age', 'gender', 'los', 'insurance', 'language']]\n",
    "expiry_clean = df_clean_groups[['expire_flag']]\n",
    "\n",
    "clean_rows_language = pd.get_dummies(clean_rows_language_raw)\n",
    "print list(clean_rows_language.columns)\n",
    "\n",
    "#Find best classifier with 'age' 'los' and 'gender' features\n",
    "best_classifier(clean_rows_language, expiry_clean, 10, clf_name_list)"
   ]
  }
 ],
 "metadata": {
  "kernelspec": {
   "display_name": "Python 2",
   "language": "python",
   "name": "python2"
  },
  "language_info": {
   "codemirror_mode": {
    "name": "ipython",
    "version": 2
   },
   "file_extension": ".py",
   "mimetype": "text/x-python",
   "name": "python",
   "nbconvert_exporter": "python",
   "pygments_lexer": "ipython2",
   "version": "2.7.13"
  }
 },
 "nbformat": 4,
 "nbformat_minor": 2
}
